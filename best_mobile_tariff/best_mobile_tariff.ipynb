{
 "cells": [
  {
   "cell_type": "markdown",
   "metadata": {},
   "source": [
    "# Определение перспективного тарифа для телеком компании"
   ]
  },
  {
   "cell_type": "markdown",
   "metadata": {},
   "source": [
    "Федеральный оператор сотовой связи «Мегалайн» предлагает клиентам два тарифных плана: «Смарт» и «Ультра». Чтобы скорректировать рекламный бюджет, коммерческий департамент хочет понять, какой тариф приносит больше денег. Необходимо сделать предварительный анализ тарифов на небольшой выборке клиентов. В нашем распоряжении данные 500 пользователей «Мегалайна»: кто они, откуда, каким тарифом пользуются, сколько звонков и сообщений каждый отправил за 2018 год. Нужно проанализировать поведение клиентов и сделать вывод — какой тариф лучше."
   ]
  },
  {
   "cell_type": "markdown",
   "metadata": {},
   "source": [
    "## Постановка задачи"
   ]
  },
  {
   "cell_type": "markdown",
   "metadata": {},
   "source": [
    "**Цель проекта** - определить, какой тариф выгоднее для \"Мегалайна\", на основе выборки из 500 пользователей.\n",
    "\n",
    "Для этого необходимо:\n",
    "1. Загрузить и проанализировать таблицы. Сформулировать перечень найденных ошибок в данных.\n",
    "2. Провести предобработку данных: исправить ошибки, проанализировать пропуски, изменить типы данных. Добавить расчёты:\n",
    "    - количество сделанных звонков и израсходованных минут разговора по месяцам;\n",
    "    - количество отправленных сообщений по месяцам;\n",
    "    - объем израсходованного интернет-трафика по месяцам;\n",
    "    - помесячную выручку с каждого пользователя.\n",
    "3. Описать поведение клиентов оператора, исходя из выборки. Определить, сколько минут разговора, сколько сообщений и какой объём интернет-трафика требуется пользователям каждого тарифа в месяц:\n",
    "    - посчитать среднее количество, дисперсию и стандартное отклонение;\n",
    "    - построить гистограммы;\n",
    "    - описать распределения.\n",
    "4. Проверить гипотезы:\n",
    "    - средняя выручка пользователей тарифов \"Ультра\" и \"Смарт\" различается;\n",
    "    - средняя выручка пользователей из Москвы отличается от выручки пользователей из других регионов.\n",
    "5. Сформулировать общий вывод."
   ]
  },
  {
   "cell_type": "markdown",
   "metadata": {},
   "source": [
    "**Описание данных**"
   ]
  },
  {
   "cell_type": "markdown",
   "metadata": {},
   "source": [
    "Таблица `users` (информация о пользователях):\n",
    "- *user_id* — уникальный идентификатор пользователя\n",
    "- *first_name* — имя пользователя\n",
    "- *last_name* — фамилия пользователя\n",
    "- *age* — возраст пользователя (годы)\n",
    "- *reg_date* — дата подключения тарифа (день, месяц, год)\n",
    "- *churn_date* — дата прекращения пользования тарифом (если значение пропущено, то тариф ещё действовал на момент выгрузки данных)\n",
    "- *city* — город проживания пользователя\n",
    "- *tariff* — название тарифного плана"
   ]
  },
  {
   "cell_type": "markdown",
   "metadata": {},
   "source": [
    "Таблица `calls` (информация о звонках):\n",
    "- *id* — уникальный номер звонка\n",
    "- *call_date* — дата звонка\n",
    "- *duration* — длительность звонка в минутах\n",
    "- *user_id* — идентификатор пользователя, сделавшего звонок"
   ]
  },
  {
   "cell_type": "markdown",
   "metadata": {},
   "source": [
    "Таблица `messages` (информация о сообщениях):\n",
    "- *id* — уникальный номер сообщения\n",
    "- *message_date* — дата сообщения\n",
    "- *user_id* — идентификатор пользователя, отправившего сообщение"
   ]
  },
  {
   "cell_type": "markdown",
   "metadata": {},
   "source": [
    "Таблица `internet` (информация об интернет-сессиях):\n",
    "- *id* — уникальный номер сессии\n",
    "- *mb_used* — объём потраченного за сессию интернет-трафика (в мегабайтах)\n",
    "- *session_date* — дата интернет-сессии\n",
    "- *user_id* — идентификатор пользователя"
   ]
  },
  {
   "cell_type": "markdown",
   "metadata": {},
   "source": [
    "Таблица `tariffs` (информация о тарифах):\n",
    "- *tariff_name* — название тарифа\n",
    "- *rub_monthly_fee* — ежемесячная абонентская плата в рублях\n",
    "- *minutes_included* — количество минут разговора в месяц, включённых в абонентскую плату\n",
    "- *messages_included* — количество сообщений в месяц, включённых в абонентскую плату\n",
    "- *mb_per_month_included* — объём интернет-трафика, включённого в абонентскую плату (в мегабайтах)\n",
    "- *rub_per_minute* — стоимость минуты разговора сверх тарифного пакета (например, если в тарифе 100 минут разговора в месяц, то со 101 минуты будет взиматься плата)\n",
    "- *rub_per_message* — стоимость отправки сообщения сверх тарифного пакета\n",
    "- *rub_per_gb* — стоимость дополнительного гигабайта интернет-трафика сверх тарифного пакета (1 гигабайт = 1024 мегабайта)"
   ]
  },
  {
   "cell_type": "markdown",
   "metadata": {},
   "source": [
    "## Изучение данных из файлов"
   ]
  },
  {
   "cell_type": "code",
   "execution_count": 1,
   "metadata": {},
   "outputs": [],
   "source": [
    "import pandas as pd\n",
    "import numpy as np\n",
    "import matplotlib.pyplot as plt\n",
    "from scipy import stats as st"
   ]
  },
  {
   "cell_type": "markdown",
   "metadata": {},
   "source": [
    "Загрузим все пять таблиц и посмотрим на несколько строк каждой."
   ]
  },
  {
   "cell_type": "code",
   "execution_count": 2,
   "metadata": {},
   "outputs": [
    {
     "data": {
      "text/html": [
       "<div>\n",
       "<style scoped>\n",
       "    .dataframe tbody tr th:only-of-type {\n",
       "        vertical-align: middle;\n",
       "    }\n",
       "\n",
       "    .dataframe tbody tr th {\n",
       "        vertical-align: top;\n",
       "    }\n",
       "\n",
       "    .dataframe thead th {\n",
       "        text-align: right;\n",
       "    }\n",
       "</style>\n",
       "<table border=\"1\" class=\"dataframe\">\n",
       "  <thead>\n",
       "    <tr style=\"text-align: right;\">\n",
       "      <th></th>\n",
       "      <th>user_id</th>\n",
       "      <th>age</th>\n",
       "      <th>churn_date</th>\n",
       "      <th>city</th>\n",
       "      <th>first_name</th>\n",
       "      <th>last_name</th>\n",
       "      <th>reg_date</th>\n",
       "      <th>tariff</th>\n",
       "    </tr>\n",
       "  </thead>\n",
       "  <tbody>\n",
       "    <tr>\n",
       "      <th>236</th>\n",
       "      <td>1236</td>\n",
       "      <td>30</td>\n",
       "      <td>NaN</td>\n",
       "      <td>Москва</td>\n",
       "      <td>Леон</td>\n",
       "      <td>Демидов</td>\n",
       "      <td>2018-12-22</td>\n",
       "      <td>smart</td>\n",
       "    </tr>\n",
       "    <tr>\n",
       "      <th>234</th>\n",
       "      <td>1234</td>\n",
       "      <td>54</td>\n",
       "      <td>NaN</td>\n",
       "      <td>Магнитогорск</td>\n",
       "      <td>Роксана</td>\n",
       "      <td>Алексеева</td>\n",
       "      <td>2018-12-19</td>\n",
       "      <td>ultra</td>\n",
       "    </tr>\n",
       "    <tr>\n",
       "      <th>7</th>\n",
       "      <td>1007</td>\n",
       "      <td>65</td>\n",
       "      <td>NaN</td>\n",
       "      <td>Москва</td>\n",
       "      <td>Юна</td>\n",
       "      <td>Березина</td>\n",
       "      <td>2018-04-19</td>\n",
       "      <td>smart</td>\n",
       "    </tr>\n",
       "    <tr>\n",
       "      <th>116</th>\n",
       "      <td>1116</td>\n",
       "      <td>65</td>\n",
       "      <td>NaN</td>\n",
       "      <td>Петрозаводск</td>\n",
       "      <td>Альберта</td>\n",
       "      <td>Шевцова</td>\n",
       "      <td>2018-04-17</td>\n",
       "      <td>smart</td>\n",
       "    </tr>\n",
       "    <tr>\n",
       "      <th>106</th>\n",
       "      <td>1106</td>\n",
       "      <td>67</td>\n",
       "      <td>NaN</td>\n",
       "      <td>Калуга</td>\n",
       "      <td>Исаак</td>\n",
       "      <td>Костин</td>\n",
       "      <td>2018-04-26</td>\n",
       "      <td>ultra</td>\n",
       "    </tr>\n",
       "    <tr>\n",
       "      <th>468</th>\n",
       "      <td>1468</td>\n",
       "      <td>29</td>\n",
       "      <td>NaN</td>\n",
       "      <td>Тамбов</td>\n",
       "      <td>Иван</td>\n",
       "      <td>Авдышев</td>\n",
       "      <td>2018-02-11</td>\n",
       "      <td>smart</td>\n",
       "    </tr>\n",
       "    <tr>\n",
       "      <th>448</th>\n",
       "      <td>1448</td>\n",
       "      <td>42</td>\n",
       "      <td>NaN</td>\n",
       "      <td>Кострома</td>\n",
       "      <td>Ростислав</td>\n",
       "      <td>Дроздов</td>\n",
       "      <td>2018-09-16</td>\n",
       "      <td>smart</td>\n",
       "    </tr>\n",
       "    <tr>\n",
       "      <th>281</th>\n",
       "      <td>1281</td>\n",
       "      <td>62</td>\n",
       "      <td>NaN</td>\n",
       "      <td>Нижний Новгород</td>\n",
       "      <td>Сара</td>\n",
       "      <td>Зимина</td>\n",
       "      <td>2018-06-09</td>\n",
       "      <td>ultra</td>\n",
       "    </tr>\n",
       "    <tr>\n",
       "      <th>134</th>\n",
       "      <td>1134</td>\n",
       "      <td>65</td>\n",
       "      <td>NaN</td>\n",
       "      <td>Красноярск</td>\n",
       "      <td>Марьяна</td>\n",
       "      <td>Авросимова</td>\n",
       "      <td>2018-01-16</td>\n",
       "      <td>smart</td>\n",
       "    </tr>\n",
       "    <tr>\n",
       "      <th>466</th>\n",
       "      <td>1466</td>\n",
       "      <td>37</td>\n",
       "      <td>NaN</td>\n",
       "      <td>Новосибирск</td>\n",
       "      <td>Рубен</td>\n",
       "      <td>Шевцов</td>\n",
       "      <td>2018-02-28</td>\n",
       "      <td>ultra</td>\n",
       "    </tr>\n",
       "  </tbody>\n",
       "</table>\n",
       "</div>"
      ],
      "text/plain": [
       "     user_id  age churn_date             city first_name   last_name  \\\n",
       "236     1236   30        NaN           Москва       Леон     Демидов   \n",
       "234     1234   54        NaN     Магнитогорск    Роксана   Алексеева   \n",
       "7       1007   65        NaN           Москва        Юна    Березина   \n",
       "116     1116   65        NaN     Петрозаводск   Альберта     Шевцова   \n",
       "106     1106   67        NaN           Калуга      Исаак      Костин   \n",
       "468     1468   29        NaN           Тамбов       Иван     Авдышев   \n",
       "448     1448   42        NaN         Кострома  Ростислав     Дроздов   \n",
       "281     1281   62        NaN  Нижний Новгород       Сара      Зимина   \n",
       "134     1134   65        NaN       Красноярск    Марьяна  Авросимова   \n",
       "466     1466   37        NaN      Новосибирск      Рубен      Шевцов   \n",
       "\n",
       "       reg_date tariff  \n",
       "236  2018-12-22  smart  \n",
       "234  2018-12-19  ultra  \n",
       "7    2018-04-19  smart  \n",
       "116  2018-04-17  smart  \n",
       "106  2018-04-26  ultra  \n",
       "468  2018-02-11  smart  \n",
       "448  2018-09-16  smart  \n",
       "281  2018-06-09  ultra  \n",
       "134  2018-01-16  smart  \n",
       "466  2018-02-28  ultra  "
      ]
     },
     "execution_count": 2,
     "metadata": {},
     "output_type": "execute_result"
    }
   ],
   "source": [
    "users = pd.read_csv('datasets/users.csv')\n",
    "users.sample(n=10)"
   ]
  },
  {
   "cell_type": "code",
   "execution_count": 3,
   "metadata": {},
   "outputs": [
    {
     "data": {
      "text/html": [
       "<div>\n",
       "<style scoped>\n",
       "    .dataframe tbody tr th:only-of-type {\n",
       "        vertical-align: middle;\n",
       "    }\n",
       "\n",
       "    .dataframe tbody tr th {\n",
       "        vertical-align: top;\n",
       "    }\n",
       "\n",
       "    .dataframe thead th {\n",
       "        text-align: right;\n",
       "    }\n",
       "</style>\n",
       "<table border=\"1\" class=\"dataframe\">\n",
       "  <thead>\n",
       "    <tr style=\"text-align: right;\">\n",
       "      <th></th>\n",
       "      <th>id</th>\n",
       "      <th>call_date</th>\n",
       "      <th>duration</th>\n",
       "      <th>user_id</th>\n",
       "    </tr>\n",
       "  </thead>\n",
       "  <tbody>\n",
       "    <tr>\n",
       "      <th>132040</th>\n",
       "      <td>1340_14</td>\n",
       "      <td>2018-11-08</td>\n",
       "      <td>4.16</td>\n",
       "      <td>1340</td>\n",
       "    </tr>\n",
       "    <tr>\n",
       "      <th>101681</th>\n",
       "      <td>1262_38</td>\n",
       "      <td>2018-06-21</td>\n",
       "      <td>6.18</td>\n",
       "      <td>1262</td>\n",
       "    </tr>\n",
       "    <tr>\n",
       "      <th>1575</th>\n",
       "      <td>1005_172</td>\n",
       "      <td>2018-10-12</td>\n",
       "      <td>7.56</td>\n",
       "      <td>1005</td>\n",
       "    </tr>\n",
       "    <tr>\n",
       "      <th>121828</th>\n",
       "      <td>1314_501</td>\n",
       "      <td>2018-05-09</td>\n",
       "      <td>17.17</td>\n",
       "      <td>1314</td>\n",
       "    </tr>\n",
       "    <tr>\n",
       "      <th>135737</th>\n",
       "      <td>1346_287</td>\n",
       "      <td>2018-11-22</td>\n",
       "      <td>0.00</td>\n",
       "      <td>1346</td>\n",
       "    </tr>\n",
       "    <tr>\n",
       "      <th>199493</th>\n",
       "      <td>1491_452</td>\n",
       "      <td>2018-06-12</td>\n",
       "      <td>6.97</td>\n",
       "      <td>1491</td>\n",
       "    </tr>\n",
       "    <tr>\n",
       "      <th>186676</th>\n",
       "      <td>1460_594</td>\n",
       "      <td>2018-05-28</td>\n",
       "      <td>0.55</td>\n",
       "      <td>1460</td>\n",
       "    </tr>\n",
       "    <tr>\n",
       "      <th>89556</th>\n",
       "      <td>1224_473</td>\n",
       "      <td>2018-09-10</td>\n",
       "      <td>4.68</td>\n",
       "      <td>1224</td>\n",
       "    </tr>\n",
       "    <tr>\n",
       "      <th>63619</th>\n",
       "      <td>1161_135</td>\n",
       "      <td>2018-08-29</td>\n",
       "      <td>14.22</td>\n",
       "      <td>1161</td>\n",
       "    </tr>\n",
       "    <tr>\n",
       "      <th>189729</th>\n",
       "      <td>1466_744</td>\n",
       "      <td>2018-05-28</td>\n",
       "      <td>1.06</td>\n",
       "      <td>1466</td>\n",
       "    </tr>\n",
       "  </tbody>\n",
       "</table>\n",
       "</div>"
      ],
      "text/plain": [
       "              id   call_date  duration  user_id\n",
       "132040   1340_14  2018-11-08      4.16     1340\n",
       "101681   1262_38  2018-06-21      6.18     1262\n",
       "1575    1005_172  2018-10-12      7.56     1005\n",
       "121828  1314_501  2018-05-09     17.17     1314\n",
       "135737  1346_287  2018-11-22      0.00     1346\n",
       "199493  1491_452  2018-06-12      6.97     1491\n",
       "186676  1460_594  2018-05-28      0.55     1460\n",
       "89556   1224_473  2018-09-10      4.68     1224\n",
       "63619   1161_135  2018-08-29     14.22     1161\n",
       "189729  1466_744  2018-05-28      1.06     1466"
      ]
     },
     "execution_count": 3,
     "metadata": {},
     "output_type": "execute_result"
    }
   ],
   "source": [
    "calls = pd.read_csv('datasets/calls.csv')\n",
    "calls.sample(n=10)"
   ]
  },
  {
   "cell_type": "code",
   "execution_count": 4,
   "metadata": {},
   "outputs": [
    {
     "data": {
      "text/html": [
       "<div>\n",
       "<style scoped>\n",
       "    .dataframe tbody tr th:only-of-type {\n",
       "        vertical-align: middle;\n",
       "    }\n",
       "\n",
       "    .dataframe tbody tr th {\n",
       "        vertical-align: top;\n",
       "    }\n",
       "\n",
       "    .dataframe thead th {\n",
       "        text-align: right;\n",
       "    }\n",
       "</style>\n",
       "<table border=\"1\" class=\"dataframe\">\n",
       "  <thead>\n",
       "    <tr style=\"text-align: right;\">\n",
       "      <th></th>\n",
       "      <th>id</th>\n",
       "      <th>message_date</th>\n",
       "      <th>user_id</th>\n",
       "    </tr>\n",
       "  </thead>\n",
       "  <tbody>\n",
       "    <tr>\n",
       "      <th>1440</th>\n",
       "      <td>1004_494</td>\n",
       "      <td>2018-08-27</td>\n",
       "      <td>1004</td>\n",
       "    </tr>\n",
       "    <tr>\n",
       "      <th>53389</th>\n",
       "      <td>1236_45</td>\n",
       "      <td>2018-12-24</td>\n",
       "      <td>1236</td>\n",
       "    </tr>\n",
       "    <tr>\n",
       "      <th>99160</th>\n",
       "      <td>1404_300</td>\n",
       "      <td>2018-12-10</td>\n",
       "      <td>1404</td>\n",
       "    </tr>\n",
       "    <tr>\n",
       "      <th>33625</th>\n",
       "      <td>1146_423</td>\n",
       "      <td>2018-11-15</td>\n",
       "      <td>1146</td>\n",
       "    </tr>\n",
       "    <tr>\n",
       "      <th>23993</th>\n",
       "      <td>1099_200</td>\n",
       "      <td>2018-04-13</td>\n",
       "      <td>1099</td>\n",
       "    </tr>\n",
       "    <tr>\n",
       "      <th>45244</th>\n",
       "      <td>1196_694</td>\n",
       "      <td>2018-07-11</td>\n",
       "      <td>1196</td>\n",
       "    </tr>\n",
       "    <tr>\n",
       "      <th>409</th>\n",
       "      <td>1000_409</td>\n",
       "      <td>2018-12-17</td>\n",
       "      <td>1000</td>\n",
       "    </tr>\n",
       "    <tr>\n",
       "      <th>114153</th>\n",
       "      <td>1465_45</td>\n",
       "      <td>2018-06-09</td>\n",
       "      <td>1465</td>\n",
       "    </tr>\n",
       "    <tr>\n",
       "      <th>5564</th>\n",
       "      <td>1021_720</td>\n",
       "      <td>2018-05-08</td>\n",
       "      <td>1021</td>\n",
       "    </tr>\n",
       "    <tr>\n",
       "      <th>101334</th>\n",
       "      <td>1414_278</td>\n",
       "      <td>2018-07-26</td>\n",
       "      <td>1414</td>\n",
       "    </tr>\n",
       "  </tbody>\n",
       "</table>\n",
       "</div>"
      ],
      "text/plain": [
       "              id message_date  user_id\n",
       "1440    1004_494   2018-08-27     1004\n",
       "53389    1236_45   2018-12-24     1236\n",
       "99160   1404_300   2018-12-10     1404\n",
       "33625   1146_423   2018-11-15     1146\n",
       "23993   1099_200   2018-04-13     1099\n",
       "45244   1196_694   2018-07-11     1196\n",
       "409     1000_409   2018-12-17     1000\n",
       "114153   1465_45   2018-06-09     1465\n",
       "5564    1021_720   2018-05-08     1021\n",
       "101334  1414_278   2018-07-26     1414"
      ]
     },
     "execution_count": 4,
     "metadata": {},
     "output_type": "execute_result"
    }
   ],
   "source": [
    "messages = pd.read_csv('datasets/messages.csv')\n",
    "messages.sample(n=10)"
   ]
  },
  {
   "cell_type": "code",
   "execution_count": 5,
   "metadata": {},
   "outputs": [
    {
     "data": {
      "text/html": [
       "<div>\n",
       "<style scoped>\n",
       "    .dataframe tbody tr th:only-of-type {\n",
       "        vertical-align: middle;\n",
       "    }\n",
       "\n",
       "    .dataframe tbody tr th {\n",
       "        vertical-align: top;\n",
       "    }\n",
       "\n",
       "    .dataframe thead th {\n",
       "        text-align: right;\n",
       "    }\n",
       "</style>\n",
       "<table border=\"1\" class=\"dataframe\">\n",
       "  <thead>\n",
       "    <tr style=\"text-align: right;\">\n",
       "      <th></th>\n",
       "      <th>id</th>\n",
       "      <th>mb_used</th>\n",
       "      <th>session_date</th>\n",
       "      <th>user_id</th>\n",
       "    </tr>\n",
       "  </thead>\n",
       "  <tbody>\n",
       "    <tr>\n",
       "      <th>109335</th>\n",
       "      <td>1373_257</td>\n",
       "      <td>325.18</td>\n",
       "      <td>2018-04-09</td>\n",
       "      <td>1373</td>\n",
       "    </tr>\n",
       "    <tr>\n",
       "      <th>94556</th>\n",
       "      <td>1319_256</td>\n",
       "      <td>373.96</td>\n",
       "      <td>2018-11-25</td>\n",
       "      <td>1319</td>\n",
       "    </tr>\n",
       "    <tr>\n",
       "      <th>146750</th>\n",
       "      <td>1491_22</td>\n",
       "      <td>199.90</td>\n",
       "      <td>2018-08-18</td>\n",
       "      <td>1491</td>\n",
       "    </tr>\n",
       "    <tr>\n",
       "      <th>65010</th>\n",
       "      <td>1221_123</td>\n",
       "      <td>1.82</td>\n",
       "      <td>2018-11-29</td>\n",
       "      <td>1221</td>\n",
       "    </tr>\n",
       "    <tr>\n",
       "      <th>76276</th>\n",
       "      <td>1255_472</td>\n",
       "      <td>172.28</td>\n",
       "      <td>2018-08-24</td>\n",
       "      <td>1255</td>\n",
       "    </tr>\n",
       "    <tr>\n",
       "      <th>130516</th>\n",
       "      <td>1435_124</td>\n",
       "      <td>152.22</td>\n",
       "      <td>2018-04-27</td>\n",
       "      <td>1435</td>\n",
       "    </tr>\n",
       "    <tr>\n",
       "      <th>48892</th>\n",
       "      <td>1169_7</td>\n",
       "      <td>85.79</td>\n",
       "      <td>2018-07-02</td>\n",
       "      <td>1169</td>\n",
       "    </tr>\n",
       "    <tr>\n",
       "      <th>88534</th>\n",
       "      <td>1299_451</td>\n",
       "      <td>858.41</td>\n",
       "      <td>2018-05-10</td>\n",
       "      <td>1299</td>\n",
       "    </tr>\n",
       "    <tr>\n",
       "      <th>14279</th>\n",
       "      <td>1050_106</td>\n",
       "      <td>891.98</td>\n",
       "      <td>2018-08-17</td>\n",
       "      <td>1050</td>\n",
       "    </tr>\n",
       "    <tr>\n",
       "      <th>49639</th>\n",
       "      <td>1171_341</td>\n",
       "      <td>0.00</td>\n",
       "      <td>2018-08-29</td>\n",
       "      <td>1171</td>\n",
       "    </tr>\n",
       "  </tbody>\n",
       "</table>\n",
       "</div>"
      ],
      "text/plain": [
       "              id  mb_used session_date  user_id\n",
       "109335  1373_257   325.18   2018-04-09     1373\n",
       "94556   1319_256   373.96   2018-11-25     1319\n",
       "146750   1491_22   199.90   2018-08-18     1491\n",
       "65010   1221_123     1.82   2018-11-29     1221\n",
       "76276   1255_472   172.28   2018-08-24     1255\n",
       "130516  1435_124   152.22   2018-04-27     1435\n",
       "48892     1169_7    85.79   2018-07-02     1169\n",
       "88534   1299_451   858.41   2018-05-10     1299\n",
       "14279   1050_106   891.98   2018-08-17     1050\n",
       "49639   1171_341     0.00   2018-08-29     1171"
      ]
     },
     "execution_count": 5,
     "metadata": {},
     "output_type": "execute_result"
    }
   ],
   "source": [
    "internet = pd.read_csv('datasets/internet.csv', index_col=0)\n",
    "internet.sample(n=10)"
   ]
  },
  {
   "cell_type": "code",
   "execution_count": 6,
   "metadata": {},
   "outputs": [
    {
     "data": {
      "text/html": [
       "<div>\n",
       "<style scoped>\n",
       "    .dataframe tbody tr th:only-of-type {\n",
       "        vertical-align: middle;\n",
       "    }\n",
       "\n",
       "    .dataframe tbody tr th {\n",
       "        vertical-align: top;\n",
       "    }\n",
       "\n",
       "    .dataframe thead th {\n",
       "        text-align: right;\n",
       "    }\n",
       "</style>\n",
       "<table border=\"1\" class=\"dataframe\">\n",
       "  <thead>\n",
       "    <tr style=\"text-align: right;\">\n",
       "      <th></th>\n",
       "      <th>messages_included</th>\n",
       "      <th>mb_per_month_included</th>\n",
       "      <th>minutes_included</th>\n",
       "      <th>rub_monthly_fee</th>\n",
       "      <th>rub_per_gb</th>\n",
       "      <th>rub_per_message</th>\n",
       "      <th>rub_per_minute</th>\n",
       "      <th>tariff_name</th>\n",
       "    </tr>\n",
       "  </thead>\n",
       "  <tbody>\n",
       "    <tr>\n",
       "      <th>0</th>\n",
       "      <td>50</td>\n",
       "      <td>15360</td>\n",
       "      <td>500</td>\n",
       "      <td>550</td>\n",
       "      <td>200</td>\n",
       "      <td>3</td>\n",
       "      <td>3</td>\n",
       "      <td>smart</td>\n",
       "    </tr>\n",
       "    <tr>\n",
       "      <th>1</th>\n",
       "      <td>1000</td>\n",
       "      <td>30720</td>\n",
       "      <td>3000</td>\n",
       "      <td>1950</td>\n",
       "      <td>150</td>\n",
       "      <td>1</td>\n",
       "      <td>1</td>\n",
       "      <td>ultra</td>\n",
       "    </tr>\n",
       "  </tbody>\n",
       "</table>\n",
       "</div>"
      ],
      "text/plain": [
       "   messages_included  mb_per_month_included  minutes_included  \\\n",
       "0                 50                  15360               500   \n",
       "1               1000                  30720              3000   \n",
       "\n",
       "   rub_monthly_fee  rub_per_gb  rub_per_message  rub_per_minute tariff_name  \n",
       "0              550         200                3               3       smart  \n",
       "1             1950         150                1               1       ultra  "
      ]
     },
     "execution_count": 6,
     "metadata": {},
     "output_type": "execute_result"
    }
   ],
   "source": [
    "tariffs = pd.read_csv('datasets/tariffs.csv')\n",
    "tariffs"
   ]
  },
  {
   "cell_type": "markdown",
   "metadata": {},
   "source": [
    "1. В таблицах calls и internet есть нулевые значения потраченных минут и мегабайт соответственно. На общие суммы трафика и расходов эти нули не повлияют, но само наличие таких строк увеличивает количество сделанных звонков и интернет-сессий пользователями. Звонок продолжительностью 0 минут может означать, что пользователь звонил, но не дозвонился. Т.е. было намерение и попытка воспользоваться услугой. Эти нули всё равно показывают активность пользователей, поэтому их нужно оставить. Тогда при необходимости вычислить среднюю продолжительность звонка или средний объём интернет-сессии, нужно учитывать, что из общего количества звонков/сессий требуется вычесть количество их нулевых значений, чтобы не занижать среднее.\n",
    "2. «Мегалайн» всегда округляет вверх значения минут и мегабайт, но в таблицах calls и internet приведены неокруглённые значения, что неудобно для дальнейших расчётов. Нужно округлить значения вверх и заменить тип данных на int.\n",
    "3. В таблицах calls, messages и internet значения id содержат символ \"_\" среди чисел. Перед знаком подчёркивания находится уникальный id пользователя. Нижнее подчёркивание можно удалить, а тип столбцов преобразовать в int. При этом мы потеряем возможность по значению id однозначно видеть user_id, но связка этих значений сохранится в таблицах."
   ]
  },
  {
   "cell_type": "code",
   "execution_count": 7,
   "metadata": {},
   "outputs": [
    {
     "name": "stdout",
     "output_type": "stream",
     "text": [
      "<class 'pandas.core.frame.DataFrame'>\n",
      "RangeIndex: 500 entries, 0 to 499\n",
      "Data columns (total 8 columns):\n",
      " #   Column      Non-Null Count  Dtype \n",
      "---  ------      --------------  ----- \n",
      " 0   user_id     500 non-null    int64 \n",
      " 1   age         500 non-null    int64 \n",
      " 2   churn_date  38 non-null     object\n",
      " 3   city        500 non-null    object\n",
      " 4   first_name  500 non-null    object\n",
      " 5   last_name   500 non-null    object\n",
      " 6   reg_date    500 non-null    object\n",
      " 7   tariff      500 non-null    object\n",
      "dtypes: int64(2), object(6)\n",
      "memory usage: 31.4+ KB\n"
     ]
    }
   ],
   "source": [
    "users.info()"
   ]
  },
  {
   "cell_type": "markdown",
   "metadata": {},
   "source": [
    "1. В столбце churn_date есть много незаполненных строк - это значит, что большая часть пользователей в выборке продолжает пользоваться выбранным тарифом. Необходимости заполнять такие пропуски нет.\n",
    "2. Столбцы churn_date и reg_date содержат даты - нужно преобразовать тип данных.\n",
    "3. У столбца tariff должно быть только два возможных значения на 500 пользователей: \"smart\" и \"ultra\" - это категориальный тип данных."
   ]
  },
  {
   "cell_type": "code",
   "execution_count": 8,
   "metadata": {},
   "outputs": [
    {
     "name": "stdout",
     "output_type": "stream",
     "text": [
      "Варианты значений столбца tariff: ['ultra' 'smart']\n"
     ]
    }
   ],
   "source": [
    "print('Варианты значений столбца tariff:', users['tariff'].unique())"
   ]
  },
  {
   "cell_type": "markdown",
   "metadata": {},
   "source": [
    "Неожиданных значений в столбце tariff нет."
   ]
  },
  {
   "cell_type": "code",
   "execution_count": 9,
   "metadata": {},
   "outputs": [
    {
     "name": "stdout",
     "output_type": "stream",
     "text": [
      "<class 'pandas.core.frame.DataFrame'>\n",
      "RangeIndex: 202607 entries, 0 to 202606\n",
      "Data columns (total 4 columns):\n",
      " #   Column     Non-Null Count   Dtype  \n",
      "---  ------     --------------   -----  \n",
      " 0   id         202607 non-null  object \n",
      " 1   call_date  202607 non-null  object \n",
      " 2   duration   202607 non-null  float64\n",
      " 3   user_id    202607 non-null  int64  \n",
      "dtypes: float64(1), int64(1), object(2)\n",
      "memory usage: 6.2+ MB\n"
     ]
    }
   ],
   "source": [
    "calls.info()"
   ]
  },
  {
   "cell_type": "code",
   "execution_count": 10,
   "metadata": {},
   "outputs": [
    {
     "name": "stdout",
     "output_type": "stream",
     "text": [
      "<class 'pandas.core.frame.DataFrame'>\n",
      "RangeIndex: 123036 entries, 0 to 123035\n",
      "Data columns (total 3 columns):\n",
      " #   Column        Non-Null Count   Dtype \n",
      "---  ------        --------------   ----- \n",
      " 0   id            123036 non-null  object\n",
      " 1   message_date  123036 non-null  object\n",
      " 2   user_id       123036 non-null  int64 \n",
      "dtypes: int64(1), object(2)\n",
      "memory usage: 2.8+ MB\n"
     ]
    }
   ],
   "source": [
    "messages.info()"
   ]
  },
  {
   "cell_type": "code",
   "execution_count": 11,
   "metadata": {},
   "outputs": [
    {
     "name": "stdout",
     "output_type": "stream",
     "text": [
      "<class 'pandas.core.frame.DataFrame'>\n",
      "Int64Index: 149396 entries, 0 to 149395\n",
      "Data columns (total 4 columns):\n",
      " #   Column        Non-Null Count   Dtype  \n",
      "---  ------        --------------   -----  \n",
      " 0   id            149396 non-null  object \n",
      " 1   mb_used       149396 non-null  float64\n",
      " 2   session_date  149396 non-null  object \n",
      " 3   user_id       149396 non-null  int64  \n",
      "dtypes: float64(1), int64(1), object(2)\n",
      "memory usage: 5.7+ MB\n"
     ]
    }
   ],
   "source": [
    "internet.info()"
   ]
  },
  {
   "cell_type": "markdown",
   "metadata": {},
   "source": [
    "В таблицах calls, messages и internet пропущенных значений нет. Столбцы с датами в этих таблицах имеют тип object - нужно преобразовать в datetime."
   ]
  },
  {
   "cell_type": "code",
   "execution_count": 12,
   "metadata": {},
   "outputs": [
    {
     "name": "stdout",
     "output_type": "stream",
     "text": [
      "<class 'pandas.core.frame.DataFrame'>\n",
      "RangeIndex: 2 entries, 0 to 1\n",
      "Data columns (total 8 columns):\n",
      " #   Column                 Non-Null Count  Dtype \n",
      "---  ------                 --------------  ----- \n",
      " 0   messages_included      2 non-null      int64 \n",
      " 1   mb_per_month_included  2 non-null      int64 \n",
      " 2   minutes_included       2 non-null      int64 \n",
      " 3   rub_monthly_fee        2 non-null      int64 \n",
      " 4   rub_per_gb             2 non-null      int64 \n",
      " 5   rub_per_message        2 non-null      int64 \n",
      " 6   rub_per_minute         2 non-null      int64 \n",
      " 7   tariff_name            2 non-null      object\n",
      "dtypes: int64(7), object(1)\n",
      "memory usage: 256.0+ bytes\n"
     ]
    }
   ],
   "source": [
    "tariffs.info()"
   ]
  },
  {
   "cell_type": "markdown",
   "metadata": {},
   "source": [
    "У таблицы tariffs нет проблем с типами данных и пропусками."
   ]
  },
  {
   "cell_type": "markdown",
   "metadata": {},
   "source": [
    "В столбце city таблицы users содержатся названия городов. Если это значение попадало в таблицу из заполненной пользователем анкеты, то где-то может оказаться, что город написан с маленькой буквы, или найдётся другая проблема с регистром. Это нужно проверить."
   ]
  },
  {
   "cell_type": "code",
   "execution_count": 13,
   "metadata": {},
   "outputs": [
    {
     "name": "stdout",
     "output_type": "stream",
     "text": [
      "Количество городов в таблице: 76\n",
      "Количество городов, если записать всё в одном регистре: 76\n"
     ]
    }
   ],
   "source": [
    "print('Количество городов в таблице:', len(users['city'].unique()))\n",
    "print('Количество городов, если записать всё в одном регистре:', len(users['city'].str.lower().unique()))"
   ]
  },
  {
   "cell_type": "markdown",
   "metadata": {},
   "source": [
    "Проблем со значениями столбца city нет. Уникальных значений всего 76 - это значит, тип можно преобразовать в category."
   ]
  },
  {
   "cell_type": "markdown",
   "metadata": {},
   "source": [
    "Нужно проверить минимальные значения числовых столбцов таблиц, чтобы убедиться, что в них нет отрицательных, - это была бы явная ошибка."
   ]
  },
  {
   "cell_type": "code",
   "execution_count": 14,
   "metadata": {},
   "outputs": [
    {
     "name": "stdout",
     "output_type": "stream",
     "text": [
      "Минимальный возраст в таблице: 18 лет.\n",
      "Минимальная продолжительность звонка: 0.0 минут.\n",
      "Минимальный интернет-трафик: 0.0 мегабайт\n"
     ]
    }
   ],
   "source": [
    "print('Минимальный возраст в таблице: {} лет.'.format(users['age'].min()))\n",
    "print('Минимальная продолжительность звонка: {} минут.'.format(calls['duration'].min()))\n",
    "print('Минимальный интернет-трафик: {} мегабайт'.format(internet['mb_used'].min()))"
   ]
  },
  {
   "cell_type": "markdown",
   "metadata": {},
   "source": [
    "Отрицательных значений нет.\n",
    "\n",
    "Нужно убедиться, что в таблицах нет повторяющихся строк."
   ]
  },
  {
   "cell_type": "code",
   "execution_count": 15,
   "metadata": {},
   "outputs": [
    {
     "name": "stdout",
     "output_type": "stream",
     "text": [
      "Количество повторяющихся строк в users: 0\n",
      "Количество повторяющихся строк в calls: 0\n",
      "Количество повторяющихся строк в messages: 0\n",
      "Количество повторяющихся строк в internet: 0\n"
     ]
    }
   ],
   "source": [
    "print('Количество повторяющихся строк в users:', users.duplicated().sum())\n",
    "print('Количество повторяющихся строк в calls:', calls.duplicated().sum())\n",
    "print('Количество повторяющихся строк в messages:', messages.duplicated().sum())\n",
    "print('Количество повторяющихся строк в internet:', internet.duplicated().sum())"
   ]
  },
  {
   "cell_type": "markdown",
   "metadata": {},
   "source": [
    "Дубликатов нет."
   ]
  },
  {
   "cell_type": "markdown",
   "metadata": {},
   "source": [
    "### Вывод"
   ]
  },
  {
   "cell_type": "markdown",
   "metadata": {},
   "source": [
    "В данных есть следующие проблемы, которые нужно решить:\n",
    "1. В таблицах calls и internet необходимо округлить значения столбцов duration и mb_used вверх.\n",
    "2. В таблицах calls, messages и internet столбцы id содержат символ \"_\" среди чисел.\n",
    "3. Необходимо преобразовать типы данных:\n",
    "    - object в datetime:\n",
    "        - users: churn_date, reg_date\n",
    "        - calls: call_date\n",
    "        - messages: message_date\n",
    "        - internet: session_date\n",
    "    - object в category:\n",
    "        - users: tariff, city\n",
    "    - obgect в int:\n",
    "        - calls: id\n",
    "        - messages: id\n",
    "        - internet: id\n",
    "    - float в int:\n",
    "        - calls: duration\n",
    "        - internet: mb_used\n"
   ]
  },
  {
   "cell_type": "markdown",
   "metadata": {},
   "source": [
    "## Предобработка данных"
   ]
  },
  {
   "cell_type": "markdown",
   "metadata": {},
   "source": [
    "### Исправление ошибок"
   ]
  },
  {
   "cell_type": "markdown",
   "metadata": {},
   "source": [
    "Округлим значения столбцов duration и mb_used в большую сторону."
   ]
  },
  {
   "cell_type": "code",
   "execution_count": 16,
   "metadata": {},
   "outputs": [],
   "source": [
    "calls['duration'] = np.ceil(calls['duration'])\n",
    "internet['mb_used'] = np.ceil(internet['mb_used'])"
   ]
  },
  {
   "cell_type": "markdown",
   "metadata": {},
   "source": [
    "Для удаления \"_\" из значений id создадим функцию."
   ]
  },
  {
   "cell_type": "code",
   "execution_count": 17,
   "metadata": {},
   "outputs": [],
   "source": [
    "def impruvment_id (str_id):\n",
    "    partitioned_id = str_id.partition('_')\n",
    "    return partitioned_id[0] + partitioned_id[2]"
   ]
  },
  {
   "cell_type": "markdown",
   "metadata": {},
   "source": [
    "В таблицах calls, messages и internet уберём \"_\" в id. Если количество уникальных значений id после этого уменьшится, то вернём старые id."
   ]
  },
  {
   "cell_type": "code",
   "execution_count": 18,
   "metadata": {},
   "outputs": [
    {
     "data": {
      "text/html": [
       "<div>\n",
       "<style scoped>\n",
       "    .dataframe tbody tr th:only-of-type {\n",
       "        vertical-align: middle;\n",
       "    }\n",
       "\n",
       "    .dataframe tbody tr th {\n",
       "        vertical-align: top;\n",
       "    }\n",
       "\n",
       "    .dataframe thead th {\n",
       "        text-align: right;\n",
       "    }\n",
       "</style>\n",
       "<table border=\"1\" class=\"dataframe\">\n",
       "  <thead>\n",
       "    <tr style=\"text-align: right;\">\n",
       "      <th></th>\n",
       "      <th>id</th>\n",
       "      <th>call_date</th>\n",
       "      <th>duration</th>\n",
       "      <th>user_id</th>\n",
       "    </tr>\n",
       "  </thead>\n",
       "  <tbody>\n",
       "    <tr>\n",
       "      <th>0</th>\n",
       "      <td>10000</td>\n",
       "      <td>2018-07-25</td>\n",
       "      <td>0.0</td>\n",
       "      <td>1000</td>\n",
       "    </tr>\n",
       "    <tr>\n",
       "      <th>1</th>\n",
       "      <td>10001</td>\n",
       "      <td>2018-08-17</td>\n",
       "      <td>0.0</td>\n",
       "      <td>1000</td>\n",
       "    </tr>\n",
       "    <tr>\n",
       "      <th>2</th>\n",
       "      <td>10002</td>\n",
       "      <td>2018-06-11</td>\n",
       "      <td>3.0</td>\n",
       "      <td>1000</td>\n",
       "    </tr>\n",
       "    <tr>\n",
       "      <th>3</th>\n",
       "      <td>10003</td>\n",
       "      <td>2018-09-21</td>\n",
       "      <td>14.0</td>\n",
       "      <td>1000</td>\n",
       "    </tr>\n",
       "    <tr>\n",
       "      <th>4</th>\n",
       "      <td>10004</td>\n",
       "      <td>2018-12-15</td>\n",
       "      <td>6.0</td>\n",
       "      <td>1000</td>\n",
       "    </tr>\n",
       "  </tbody>\n",
       "</table>\n",
       "</div>"
      ],
      "text/plain": [
       "      id   call_date  duration  user_id\n",
       "0  10000  2018-07-25       0.0     1000\n",
       "1  10001  2018-08-17       0.0     1000\n",
       "2  10002  2018-06-11       3.0     1000\n",
       "3  10003  2018-09-21      14.0     1000\n",
       "4  10004  2018-12-15       6.0     1000"
      ]
     },
     "execution_count": 18,
     "metadata": {},
     "output_type": "execute_result"
    }
   ],
   "source": [
    "reserved_values_id = calls['id']\n",
    "calls['id'] = calls['id'].apply(impruvment_id)\n",
    "\n",
    "if len(reserved_values_id.unique()) != len(calls['id'].unique()):\n",
    "    calls['id'] = reserved_values_id\n",
    "    \n",
    "calls.head()"
   ]
  },
  {
   "cell_type": "code",
   "execution_count": 19,
   "metadata": {},
   "outputs": [
    {
     "data": {
      "text/html": [
       "<div>\n",
       "<style scoped>\n",
       "    .dataframe tbody tr th:only-of-type {\n",
       "        vertical-align: middle;\n",
       "    }\n",
       "\n",
       "    .dataframe tbody tr th {\n",
       "        vertical-align: top;\n",
       "    }\n",
       "\n",
       "    .dataframe thead th {\n",
       "        text-align: right;\n",
       "    }\n",
       "</style>\n",
       "<table border=\"1\" class=\"dataframe\">\n",
       "  <thead>\n",
       "    <tr style=\"text-align: right;\">\n",
       "      <th></th>\n",
       "      <th>id</th>\n",
       "      <th>message_date</th>\n",
       "      <th>user_id</th>\n",
       "    </tr>\n",
       "  </thead>\n",
       "  <tbody>\n",
       "    <tr>\n",
       "      <th>0</th>\n",
       "      <td>10000</td>\n",
       "      <td>2018-06-27</td>\n",
       "      <td>1000</td>\n",
       "    </tr>\n",
       "    <tr>\n",
       "      <th>1</th>\n",
       "      <td>10001</td>\n",
       "      <td>2018-10-08</td>\n",
       "      <td>1000</td>\n",
       "    </tr>\n",
       "    <tr>\n",
       "      <th>2</th>\n",
       "      <td>10002</td>\n",
       "      <td>2018-08-04</td>\n",
       "      <td>1000</td>\n",
       "    </tr>\n",
       "    <tr>\n",
       "      <th>3</th>\n",
       "      <td>10003</td>\n",
       "      <td>2018-06-16</td>\n",
       "      <td>1000</td>\n",
       "    </tr>\n",
       "    <tr>\n",
       "      <th>4</th>\n",
       "      <td>10004</td>\n",
       "      <td>2018-12-05</td>\n",
       "      <td>1000</td>\n",
       "    </tr>\n",
       "  </tbody>\n",
       "</table>\n",
       "</div>"
      ],
      "text/plain": [
       "      id message_date  user_id\n",
       "0  10000   2018-06-27     1000\n",
       "1  10001   2018-10-08     1000\n",
       "2  10002   2018-08-04     1000\n",
       "3  10003   2018-06-16     1000\n",
       "4  10004   2018-12-05     1000"
      ]
     },
     "execution_count": 19,
     "metadata": {},
     "output_type": "execute_result"
    }
   ],
   "source": [
    "reserved_values_id = messages['id']\n",
    "messages['id'] = messages['id'].apply(impruvment_id)\n",
    "\n",
    "if len(reserved_values_id.unique()) != len(messages['id'].unique()):\n",
    "    messages['id'] = reserved_values_id\n",
    "    \n",
    "messages.head()"
   ]
  },
  {
   "cell_type": "code",
   "execution_count": 20,
   "metadata": {},
   "outputs": [
    {
     "data": {
      "text/html": [
       "<div>\n",
       "<style scoped>\n",
       "    .dataframe tbody tr th:only-of-type {\n",
       "        vertical-align: middle;\n",
       "    }\n",
       "\n",
       "    .dataframe tbody tr th {\n",
       "        vertical-align: top;\n",
       "    }\n",
       "\n",
       "    .dataframe thead th {\n",
       "        text-align: right;\n",
       "    }\n",
       "</style>\n",
       "<table border=\"1\" class=\"dataframe\">\n",
       "  <thead>\n",
       "    <tr style=\"text-align: right;\">\n",
       "      <th></th>\n",
       "      <th>id</th>\n",
       "      <th>message_date</th>\n",
       "      <th>user_id</th>\n",
       "    </tr>\n",
       "  </thead>\n",
       "  <tbody>\n",
       "    <tr>\n",
       "      <th>0</th>\n",
       "      <td>10000</td>\n",
       "      <td>2018-06-27</td>\n",
       "      <td>1000</td>\n",
       "    </tr>\n",
       "    <tr>\n",
       "      <th>1</th>\n",
       "      <td>10001</td>\n",
       "      <td>2018-10-08</td>\n",
       "      <td>1000</td>\n",
       "    </tr>\n",
       "    <tr>\n",
       "      <th>2</th>\n",
       "      <td>10002</td>\n",
       "      <td>2018-08-04</td>\n",
       "      <td>1000</td>\n",
       "    </tr>\n",
       "    <tr>\n",
       "      <th>3</th>\n",
       "      <td>10003</td>\n",
       "      <td>2018-06-16</td>\n",
       "      <td>1000</td>\n",
       "    </tr>\n",
       "    <tr>\n",
       "      <th>4</th>\n",
       "      <td>10004</td>\n",
       "      <td>2018-12-05</td>\n",
       "      <td>1000</td>\n",
       "    </tr>\n",
       "  </tbody>\n",
       "</table>\n",
       "</div>"
      ],
      "text/plain": [
       "      id message_date  user_id\n",
       "0  10000   2018-06-27     1000\n",
       "1  10001   2018-10-08     1000\n",
       "2  10002   2018-08-04     1000\n",
       "3  10003   2018-06-16     1000\n",
       "4  10004   2018-12-05     1000"
      ]
     },
     "execution_count": 20,
     "metadata": {},
     "output_type": "execute_result"
    }
   ],
   "source": [
    "reserved_values_id = internet['id']\n",
    "internet['id'] = internet['id'].apply(impruvment_id)\n",
    "\n",
    "if len(reserved_values_id.unique()) != len(internet['id'].unique()):\n",
    "    internet['id'] = reserved_values_id\n",
    "    \n",
    "messages.head()"
   ]
  },
  {
   "cell_type": "markdown",
   "metadata": {},
   "source": [
    "Во всех трёх таблицах удалось привести id к числовым значениям."
   ]
  },
  {
   "cell_type": "markdown",
   "metadata": {},
   "source": [
    "**Вывод**"
   ]
  },
  {
   "cell_type": "markdown",
   "metadata": {},
   "source": [
    "1. Количество потраченных минут и гигабайт округлено в большую сторону.\n",
    "2. В таблицах calls, messages и internet значения id преобразованы в числа."
   ]
  },
  {
   "cell_type": "markdown",
   "metadata": {},
   "source": [
    "### Замена типа данных"
   ]
  },
  {
   "cell_type": "markdown",
   "metadata": {},
   "source": [
    "Преобразуем даты в тип datetime во всех таблицах."
   ]
  },
  {
   "cell_type": "code",
   "execution_count": 21,
   "metadata": {},
   "outputs": [],
   "source": [
    "users['churn_date'] = pd.to_datetime(users['churn_date'], format='%Y-%m-%d')\n",
    "users['reg_date'] = pd.to_datetime(users['reg_date'], format='%Y-%m-%d')\n",
    "calls['call_date'] = pd.to_datetime(calls['call_date'], format='%Y-%m-%d')\n",
    "messages['message_date'] = pd.to_datetime(messages['message_date'], format='%Y-%m-%d')\n",
    "internet['session_date'] = pd.to_datetime(internet['session_date'], format='%Y-%m-%d')"
   ]
  },
  {
   "cell_type": "markdown",
   "metadata": {},
   "source": [
    "В таблице users тип данных столбцов tariff и city можно преобразовать в category."
   ]
  },
  {
   "cell_type": "code",
   "execution_count": 22,
   "metadata": {},
   "outputs": [
    {
     "name": "stdout",
     "output_type": "stream",
     "text": [
      "<class 'pandas.core.frame.DataFrame'>\n",
      "RangeIndex: 500 entries, 0 to 499\n",
      "Data columns (total 8 columns):\n",
      " #   Column      Non-Null Count  Dtype         \n",
      "---  ------      --------------  -----         \n",
      " 0   user_id     500 non-null    int64         \n",
      " 1   age         500 non-null    int64         \n",
      " 2   churn_date  38 non-null     datetime64[ns]\n",
      " 3   city        500 non-null    category      \n",
      " 4   first_name  500 non-null    object        \n",
      " 5   last_name   500 non-null    object        \n",
      " 6   reg_date    500 non-null    datetime64[ns]\n",
      " 7   tariff      500 non-null    category      \n",
      "dtypes: category(2), datetime64[ns](2), int64(2), object(2)\n",
      "memory usage: 27.3+ KB\n"
     ]
    }
   ],
   "source": [
    "users['tariff'] = users['tariff'].astype('category')\n",
    "users['city'] = users['city'].astype('category')\n",
    "\n",
    "users.info()"
   ]
  },
  {
   "cell_type": "markdown",
   "metadata": {},
   "source": [
    "В таблицах calls, messages и internet преобразуем id в int. Также в int преобразуем столбцы duration и mb_used."
   ]
  },
  {
   "cell_type": "code",
   "execution_count": 23,
   "metadata": {},
   "outputs": [
    {
     "name": "stdout",
     "output_type": "stream",
     "text": [
      "<class 'pandas.core.frame.DataFrame'>\n",
      "RangeIndex: 202607 entries, 0 to 202606\n",
      "Data columns (total 4 columns):\n",
      " #   Column     Non-Null Count   Dtype         \n",
      "---  ------     --------------   -----         \n",
      " 0   id         202607 non-null  int64         \n",
      " 1   call_date  202607 non-null  datetime64[ns]\n",
      " 2   duration   202607 non-null  int64         \n",
      " 3   user_id    202607 non-null  int64         \n",
      "dtypes: datetime64[ns](1), int64(3)\n",
      "memory usage: 6.2 MB\n"
     ]
    }
   ],
   "source": [
    "calls['id'] = calls['id'].astype('int')\n",
    "calls['duration'] = calls['duration'].astype('int')\n",
    "calls.info()"
   ]
  },
  {
   "cell_type": "code",
   "execution_count": 24,
   "metadata": {},
   "outputs": [
    {
     "name": "stdout",
     "output_type": "stream",
     "text": [
      "<class 'pandas.core.frame.DataFrame'>\n",
      "RangeIndex: 123036 entries, 0 to 123035\n",
      "Data columns (total 3 columns):\n",
      " #   Column        Non-Null Count   Dtype         \n",
      "---  ------        --------------   -----         \n",
      " 0   id            123036 non-null  int64         \n",
      " 1   message_date  123036 non-null  datetime64[ns]\n",
      " 2   user_id       123036 non-null  int64         \n",
      "dtypes: datetime64[ns](1), int64(2)\n",
      "memory usage: 2.8 MB\n"
     ]
    }
   ],
   "source": [
    "messages['id'] = messages['id'].astype('int')\n",
    "messages.info()"
   ]
  },
  {
   "cell_type": "code",
   "execution_count": 25,
   "metadata": {},
   "outputs": [
    {
     "name": "stdout",
     "output_type": "stream",
     "text": [
      "<class 'pandas.core.frame.DataFrame'>\n",
      "Int64Index: 149396 entries, 0 to 149395\n",
      "Data columns (total 4 columns):\n",
      " #   Column        Non-Null Count   Dtype         \n",
      "---  ------        --------------   -----         \n",
      " 0   id            149396 non-null  int64         \n",
      " 1   mb_used       149396 non-null  int64         \n",
      " 2   session_date  149396 non-null  datetime64[ns]\n",
      " 3   user_id       149396 non-null  int64         \n",
      "dtypes: datetime64[ns](1), int64(3)\n",
      "memory usage: 5.7 MB\n"
     ]
    }
   ],
   "source": [
    "internet['id'] = internet['id'].astype('int')\n",
    "internet['mb_used'] = internet['mb_used'].astype('int')\n",
    "internet.info()"
   ]
  },
  {
   "cell_type": "markdown",
   "metadata": {},
   "source": [
    "**Вывод**"
   ]
  },
  {
   "cell_type": "markdown",
   "metadata": {},
   "source": [
    "Все необходимые замены типов данных, описанные в разделе 2.1, проведены успешно. Тип object остался только для имени и фамилии пользователей. Тип float заменён полностью на int."
   ]
  },
  {
   "cell_type": "markdown",
   "metadata": {},
   "source": [
    "### Вывод"
   ]
  },
  {
   "cell_type": "markdown",
   "metadata": {},
   "source": [
    "В таблицах исправлены ошибки и преобразованы типы данных: \n",
    "1. Удалён лишний столбец в таблице internet.\n",
    "2. Количество потраченных минут и мегабайт округлены в большую сторону в соответствии с правилами оператора связи. Тип данных установлен int.\n",
    "3. Даты преобразованы в тип данных datetime.\n",
    "4. В таблицах calls, messages и internet id переведены в числовые значения.\n",
    "5. Тип данных столбцов tariff и city таблицы users переопределён как category."
   ]
  },
  {
   "cell_type": "markdown",
   "metadata": {},
   "source": [
    "## Добавление результатов расчётов"
   ]
  },
  {
   "cell_type": "markdown",
   "metadata": {},
   "source": [
    "Создадим таблицу `per_month_data` со следующими столбцами:\n",
    "- *user_id* - уникальный идентификатор пользователя\n",
    "- *month* - месяц от 1 до 12\n",
    "- *calls_quantity* - количество сделанных звонков за месяц\n",
    "- *calls_duration* - количество израсходованных минут разговора за месяц\n",
    "- *messages_quantity* - количество отправленных сообщений за месяц\n",
    "- *internet_used* - объем израсходованного интернет-трафика за месяц (в мегабайтах)\n",
    "- *total_fee* - количество потраченных денег за месяц"
   ]
  },
  {
   "cell_type": "markdown",
   "metadata": {},
   "source": [
    "Для удобства расчётов в таблицы calls, messages и internet добавим столбец month с номером месяца, соответствующим дате."
   ]
  },
  {
   "cell_type": "code",
   "execution_count": 26,
   "metadata": {},
   "outputs": [],
   "source": [
    "def month_from_date (date):\n",
    "    return date.month\n",
    "\n",
    "calls['month'] = calls['call_date'].apply(month_from_date)\n",
    "messages['month'] = messages['message_date'].apply(month_from_date)\n",
    "internet['month'] = internet['session_date'].apply(month_from_date)"
   ]
  },
  {
   "cell_type": "markdown",
   "metadata": {},
   "source": [
    "Начнём создавать таблицу per_month_data: внесём в неё данные о звонках."
   ]
  },
  {
   "cell_type": "code",
   "execution_count": 27,
   "metadata": {},
   "outputs": [
    {
     "data": {
      "text/html": [
       "<div>\n",
       "<style scoped>\n",
       "    .dataframe tbody tr th:only-of-type {\n",
       "        vertical-align: middle;\n",
       "    }\n",
       "\n",
       "    .dataframe tbody tr th {\n",
       "        vertical-align: top;\n",
       "    }\n",
       "\n",
       "    .dataframe thead th {\n",
       "        text-align: right;\n",
       "    }\n",
       "</style>\n",
       "<table border=\"1\" class=\"dataframe\">\n",
       "  <thead>\n",
       "    <tr style=\"text-align: right;\">\n",
       "      <th></th>\n",
       "      <th></th>\n",
       "      <th>calls_quantity</th>\n",
       "      <th>calls_duration</th>\n",
       "    </tr>\n",
       "    <tr>\n",
       "      <th>user_id</th>\n",
       "      <th>month</th>\n",
       "      <th></th>\n",
       "      <th></th>\n",
       "    </tr>\n",
       "  </thead>\n",
       "  <tbody>\n",
       "    <tr>\n",
       "      <th rowspan=\"8\" valign=\"top\">1000</th>\n",
       "      <th>5</th>\n",
       "      <td>22</td>\n",
       "      <td>159</td>\n",
       "    </tr>\n",
       "    <tr>\n",
       "      <th>6</th>\n",
       "      <td>43</td>\n",
       "      <td>172</td>\n",
       "    </tr>\n",
       "    <tr>\n",
       "      <th>7</th>\n",
       "      <td>47</td>\n",
       "      <td>340</td>\n",
       "    </tr>\n",
       "    <tr>\n",
       "      <th>8</th>\n",
       "      <td>52</td>\n",
       "      <td>408</td>\n",
       "    </tr>\n",
       "    <tr>\n",
       "      <th>9</th>\n",
       "      <td>58</td>\n",
       "      <td>466</td>\n",
       "    </tr>\n",
       "    <tr>\n",
       "      <th>10</th>\n",
       "      <td>57</td>\n",
       "      <td>350</td>\n",
       "    </tr>\n",
       "    <tr>\n",
       "      <th>11</th>\n",
       "      <td>43</td>\n",
       "      <td>338</td>\n",
       "    </tr>\n",
       "    <tr>\n",
       "      <th>12</th>\n",
       "      <td>46</td>\n",
       "      <td>333</td>\n",
       "    </tr>\n",
       "    <tr>\n",
       "      <th rowspan=\"2\" valign=\"top\">1001</th>\n",
       "      <th>11</th>\n",
       "      <td>59</td>\n",
       "      <td>430</td>\n",
       "    </tr>\n",
       "    <tr>\n",
       "      <th>12</th>\n",
       "      <td>63</td>\n",
       "      <td>414</td>\n",
       "    </tr>\n",
       "  </tbody>\n",
       "</table>\n",
       "</div>"
      ],
      "text/plain": [
       "               calls_quantity  calls_duration\n",
       "user_id month                                \n",
       "1000    5                  22             159\n",
       "        6                  43             172\n",
       "        7                  47             340\n",
       "        8                  52             408\n",
       "        9                  58             466\n",
       "        10                 57             350\n",
       "        11                 43             338\n",
       "        12                 46             333\n",
       "1001    11                 59             430\n",
       "        12                 63             414"
      ]
     },
     "execution_count": 27,
     "metadata": {},
     "output_type": "execute_result"
    }
   ],
   "source": [
    "per_month_data = calls.pivot_table(index=['user_id','month'], values='duration', aggfunc=['count','sum'])\n",
    "per_month_data.columns = ['calls_quantity','calls_duration']\n",
    "per_month_data.head(10)"
   ]
  },
  {
   "cell_type": "markdown",
   "metadata": {},
   "source": [
    "Добавим данные о сообщениях."
   ]
  },
  {
   "cell_type": "code",
   "execution_count": 28,
   "metadata": {},
   "outputs": [
    {
     "data": {
      "text/html": [
       "<div>\n",
       "<style scoped>\n",
       "    .dataframe tbody tr th:only-of-type {\n",
       "        vertical-align: middle;\n",
       "    }\n",
       "\n",
       "    .dataframe tbody tr th {\n",
       "        vertical-align: top;\n",
       "    }\n",
       "\n",
       "    .dataframe thead th {\n",
       "        text-align: right;\n",
       "    }\n",
       "</style>\n",
       "<table border=\"1\" class=\"dataframe\">\n",
       "  <thead>\n",
       "    <tr style=\"text-align: right;\">\n",
       "      <th></th>\n",
       "      <th></th>\n",
       "      <th>calls_quantity</th>\n",
       "      <th>calls_duration</th>\n",
       "      <th>messages_quantity</th>\n",
       "    </tr>\n",
       "    <tr>\n",
       "      <th>user_id</th>\n",
       "      <th>month</th>\n",
       "      <th></th>\n",
       "      <th></th>\n",
       "      <th></th>\n",
       "    </tr>\n",
       "  </thead>\n",
       "  <tbody>\n",
       "    <tr>\n",
       "      <th rowspan=\"8\" valign=\"top\">1000</th>\n",
       "      <th>5</th>\n",
       "      <td>22.0</td>\n",
       "      <td>159.0</td>\n",
       "      <td>22.0</td>\n",
       "    </tr>\n",
       "    <tr>\n",
       "      <th>6</th>\n",
       "      <td>43.0</td>\n",
       "      <td>172.0</td>\n",
       "      <td>60.0</td>\n",
       "    </tr>\n",
       "    <tr>\n",
       "      <th>7</th>\n",
       "      <td>47.0</td>\n",
       "      <td>340.0</td>\n",
       "      <td>75.0</td>\n",
       "    </tr>\n",
       "    <tr>\n",
       "      <th>8</th>\n",
       "      <td>52.0</td>\n",
       "      <td>408.0</td>\n",
       "      <td>81.0</td>\n",
       "    </tr>\n",
       "    <tr>\n",
       "      <th>9</th>\n",
       "      <td>58.0</td>\n",
       "      <td>466.0</td>\n",
       "      <td>57.0</td>\n",
       "    </tr>\n",
       "    <tr>\n",
       "      <th>10</th>\n",
       "      <td>57.0</td>\n",
       "      <td>350.0</td>\n",
       "      <td>73.0</td>\n",
       "    </tr>\n",
       "    <tr>\n",
       "      <th>11</th>\n",
       "      <td>43.0</td>\n",
       "      <td>338.0</td>\n",
       "      <td>58.0</td>\n",
       "    </tr>\n",
       "    <tr>\n",
       "      <th>12</th>\n",
       "      <td>46.0</td>\n",
       "      <td>333.0</td>\n",
       "      <td>70.0</td>\n",
       "    </tr>\n",
       "    <tr>\n",
       "      <th rowspan=\"2\" valign=\"top\">1001</th>\n",
       "      <th>11</th>\n",
       "      <td>59.0</td>\n",
       "      <td>430.0</td>\n",
       "      <td>NaN</td>\n",
       "    </tr>\n",
       "    <tr>\n",
       "      <th>12</th>\n",
       "      <td>63.0</td>\n",
       "      <td>414.0</td>\n",
       "      <td>NaN</td>\n",
       "    </tr>\n",
       "  </tbody>\n",
       "</table>\n",
       "</div>"
      ],
      "text/plain": [
       "               calls_quantity  calls_duration  messages_quantity\n",
       "user_id month                                                   \n",
       "1000    5                22.0           159.0               22.0\n",
       "        6                43.0           172.0               60.0\n",
       "        7                47.0           340.0               75.0\n",
       "        8                52.0           408.0               81.0\n",
       "        9                58.0           466.0               57.0\n",
       "        10               57.0           350.0               73.0\n",
       "        11               43.0           338.0               58.0\n",
       "        12               46.0           333.0               70.0\n",
       "1001    11               59.0           430.0                NaN\n",
       "        12               63.0           414.0                NaN"
      ]
     },
     "execution_count": 28,
     "metadata": {},
     "output_type": "execute_result"
    }
   ],
   "source": [
    "per_month_data = per_month_data.join(messages.pivot_table(index=['user_id','month'], \n",
    "                                                          values='id', \n",
    "                                                          aggfunc='count'\n",
    "                                                         ),\n",
    "                                     how='outer'\n",
    "                                    )\n",
    "per_month_data.columns = ['calls_quantity','calls_duration','messages_quantity']\n",
    "per_month_data.head(10)"
   ]
  },
  {
   "cell_type": "markdown",
   "metadata": {},
   "source": [
    "Добавим информацию об израсходованном интернет-трафике."
   ]
  },
  {
   "cell_type": "code",
   "execution_count": 29,
   "metadata": {},
   "outputs": [
    {
     "data": {
      "text/html": [
       "<div>\n",
       "<style scoped>\n",
       "    .dataframe tbody tr th:only-of-type {\n",
       "        vertical-align: middle;\n",
       "    }\n",
       "\n",
       "    .dataframe tbody tr th {\n",
       "        vertical-align: top;\n",
       "    }\n",
       "\n",
       "    .dataframe thead th {\n",
       "        text-align: right;\n",
       "    }\n",
       "</style>\n",
       "<table border=\"1\" class=\"dataframe\">\n",
       "  <thead>\n",
       "    <tr style=\"text-align: right;\">\n",
       "      <th></th>\n",
       "      <th></th>\n",
       "      <th>calls_quantity</th>\n",
       "      <th>calls_duration</th>\n",
       "      <th>messages_quantity</th>\n",
       "      <th>internet_used</th>\n",
       "    </tr>\n",
       "    <tr>\n",
       "      <th>user_id</th>\n",
       "      <th>month</th>\n",
       "      <th></th>\n",
       "      <th></th>\n",
       "      <th></th>\n",
       "      <th></th>\n",
       "    </tr>\n",
       "  </thead>\n",
       "  <tbody>\n",
       "    <tr>\n",
       "      <th rowspan=\"8\" valign=\"top\">1000</th>\n",
       "      <th>5</th>\n",
       "      <td>22.0</td>\n",
       "      <td>159.0</td>\n",
       "      <td>22.0</td>\n",
       "      <td>2256.0</td>\n",
       "    </tr>\n",
       "    <tr>\n",
       "      <th>6</th>\n",
       "      <td>43.0</td>\n",
       "      <td>172.0</td>\n",
       "      <td>60.0</td>\n",
       "      <td>23257.0</td>\n",
       "    </tr>\n",
       "    <tr>\n",
       "      <th>7</th>\n",
       "      <td>47.0</td>\n",
       "      <td>340.0</td>\n",
       "      <td>75.0</td>\n",
       "      <td>14016.0</td>\n",
       "    </tr>\n",
       "    <tr>\n",
       "      <th>8</th>\n",
       "      <td>52.0</td>\n",
       "      <td>408.0</td>\n",
       "      <td>81.0</td>\n",
       "      <td>14070.0</td>\n",
       "    </tr>\n",
       "    <tr>\n",
       "      <th>9</th>\n",
       "      <td>58.0</td>\n",
       "      <td>466.0</td>\n",
       "      <td>57.0</td>\n",
       "      <td>14581.0</td>\n",
       "    </tr>\n",
       "    <tr>\n",
       "      <th>10</th>\n",
       "      <td>57.0</td>\n",
       "      <td>350.0</td>\n",
       "      <td>73.0</td>\n",
       "      <td>14717.0</td>\n",
       "    </tr>\n",
       "    <tr>\n",
       "      <th>11</th>\n",
       "      <td>43.0</td>\n",
       "      <td>338.0</td>\n",
       "      <td>58.0</td>\n",
       "      <td>14768.0</td>\n",
       "    </tr>\n",
       "    <tr>\n",
       "      <th>12</th>\n",
       "      <td>46.0</td>\n",
       "      <td>333.0</td>\n",
       "      <td>70.0</td>\n",
       "      <td>9827.0</td>\n",
       "    </tr>\n",
       "    <tr>\n",
       "      <th rowspan=\"2\" valign=\"top\">1001</th>\n",
       "      <th>11</th>\n",
       "      <td>59.0</td>\n",
       "      <td>430.0</td>\n",
       "      <td>NaN</td>\n",
       "      <td>18452.0</td>\n",
       "    </tr>\n",
       "    <tr>\n",
       "      <th>12</th>\n",
       "      <td>63.0</td>\n",
       "      <td>414.0</td>\n",
       "      <td>NaN</td>\n",
       "      <td>14053.0</td>\n",
       "    </tr>\n",
       "  </tbody>\n",
       "</table>\n",
       "</div>"
      ],
      "text/plain": [
       "               calls_quantity  calls_duration  messages_quantity  \\\n",
       "user_id month                                                      \n",
       "1000    5                22.0           159.0               22.0   \n",
       "        6                43.0           172.0               60.0   \n",
       "        7                47.0           340.0               75.0   \n",
       "        8                52.0           408.0               81.0   \n",
       "        9                58.0           466.0               57.0   \n",
       "        10               57.0           350.0               73.0   \n",
       "        11               43.0           338.0               58.0   \n",
       "        12               46.0           333.0               70.0   \n",
       "1001    11               59.0           430.0                NaN   \n",
       "        12               63.0           414.0                NaN   \n",
       "\n",
       "               internet_used  \n",
       "user_id month                 \n",
       "1000    5             2256.0  \n",
       "        6            23257.0  \n",
       "        7            14016.0  \n",
       "        8            14070.0  \n",
       "        9            14581.0  \n",
       "        10           14717.0  \n",
       "        11           14768.0  \n",
       "        12            9827.0  \n",
       "1001    11           18452.0  \n",
       "        12           14053.0  "
      ]
     },
     "execution_count": 29,
     "metadata": {},
     "output_type": "execute_result"
    }
   ],
   "source": [
    "per_month_data = per_month_data.join(internet.pivot_table(index=['user_id','month'], \n",
    "                                                          values='mb_used', \n",
    "                                                          aggfunc='sum'\n",
    "                                                         ),\n",
    "                                     how='outer'\n",
    "                                    )\n",
    "per_month_data.columns = ['calls_quantity','calls_duration','messages_quantity','internet_used']\n",
    "per_month_data.head(10)"
   ]
  },
  {
   "cell_type": "markdown",
   "metadata": {},
   "source": [
    "Теперь значения индексов можно перенести в соответствующие столбцы."
   ]
  },
  {
   "cell_type": "code",
   "execution_count": 30,
   "metadata": {},
   "outputs": [
    {
     "data": {
      "text/html": [
       "<div>\n",
       "<style scoped>\n",
       "    .dataframe tbody tr th:only-of-type {\n",
       "        vertical-align: middle;\n",
       "    }\n",
       "\n",
       "    .dataframe tbody tr th {\n",
       "        vertical-align: top;\n",
       "    }\n",
       "\n",
       "    .dataframe thead th {\n",
       "        text-align: right;\n",
       "    }\n",
       "</style>\n",
       "<table border=\"1\" class=\"dataframe\">\n",
       "  <thead>\n",
       "    <tr style=\"text-align: right;\">\n",
       "      <th></th>\n",
       "      <th>user_id</th>\n",
       "      <th>month</th>\n",
       "      <th>calls_quantity</th>\n",
       "      <th>calls_duration</th>\n",
       "      <th>messages_quantity</th>\n",
       "      <th>internet_used</th>\n",
       "    </tr>\n",
       "  </thead>\n",
       "  <tbody>\n",
       "    <tr>\n",
       "      <th>0</th>\n",
       "      <td>1000</td>\n",
       "      <td>5</td>\n",
       "      <td>22.0</td>\n",
       "      <td>159.0</td>\n",
       "      <td>22.0</td>\n",
       "      <td>2256.0</td>\n",
       "    </tr>\n",
       "    <tr>\n",
       "      <th>1</th>\n",
       "      <td>1000</td>\n",
       "      <td>6</td>\n",
       "      <td>43.0</td>\n",
       "      <td>172.0</td>\n",
       "      <td>60.0</td>\n",
       "      <td>23257.0</td>\n",
       "    </tr>\n",
       "    <tr>\n",
       "      <th>2</th>\n",
       "      <td>1000</td>\n",
       "      <td>7</td>\n",
       "      <td>47.0</td>\n",
       "      <td>340.0</td>\n",
       "      <td>75.0</td>\n",
       "      <td>14016.0</td>\n",
       "    </tr>\n",
       "    <tr>\n",
       "      <th>3</th>\n",
       "      <td>1000</td>\n",
       "      <td>8</td>\n",
       "      <td>52.0</td>\n",
       "      <td>408.0</td>\n",
       "      <td>81.0</td>\n",
       "      <td>14070.0</td>\n",
       "    </tr>\n",
       "    <tr>\n",
       "      <th>4</th>\n",
       "      <td>1000</td>\n",
       "      <td>9</td>\n",
       "      <td>58.0</td>\n",
       "      <td>466.0</td>\n",
       "      <td>57.0</td>\n",
       "      <td>14581.0</td>\n",
       "    </tr>\n",
       "    <tr>\n",
       "      <th>5</th>\n",
       "      <td>1000</td>\n",
       "      <td>10</td>\n",
       "      <td>57.0</td>\n",
       "      <td>350.0</td>\n",
       "      <td>73.0</td>\n",
       "      <td>14717.0</td>\n",
       "    </tr>\n",
       "    <tr>\n",
       "      <th>6</th>\n",
       "      <td>1000</td>\n",
       "      <td>11</td>\n",
       "      <td>43.0</td>\n",
       "      <td>338.0</td>\n",
       "      <td>58.0</td>\n",
       "      <td>14768.0</td>\n",
       "    </tr>\n",
       "    <tr>\n",
       "      <th>7</th>\n",
       "      <td>1000</td>\n",
       "      <td>12</td>\n",
       "      <td>46.0</td>\n",
       "      <td>333.0</td>\n",
       "      <td>70.0</td>\n",
       "      <td>9827.0</td>\n",
       "    </tr>\n",
       "    <tr>\n",
       "      <th>8</th>\n",
       "      <td>1001</td>\n",
       "      <td>11</td>\n",
       "      <td>59.0</td>\n",
       "      <td>430.0</td>\n",
       "      <td>NaN</td>\n",
       "      <td>18452.0</td>\n",
       "    </tr>\n",
       "    <tr>\n",
       "      <th>9</th>\n",
       "      <td>1001</td>\n",
       "      <td>12</td>\n",
       "      <td>63.0</td>\n",
       "      <td>414.0</td>\n",
       "      <td>NaN</td>\n",
       "      <td>14053.0</td>\n",
       "    </tr>\n",
       "  </tbody>\n",
       "</table>\n",
       "</div>"
      ],
      "text/plain": [
       "   user_id  month  calls_quantity  calls_duration  messages_quantity  \\\n",
       "0     1000      5            22.0           159.0               22.0   \n",
       "1     1000      6            43.0           172.0               60.0   \n",
       "2     1000      7            47.0           340.0               75.0   \n",
       "3     1000      8            52.0           408.0               81.0   \n",
       "4     1000      9            58.0           466.0               57.0   \n",
       "5     1000     10            57.0           350.0               73.0   \n",
       "6     1000     11            43.0           338.0               58.0   \n",
       "7     1000     12            46.0           333.0               70.0   \n",
       "8     1001     11            59.0           430.0                NaN   \n",
       "9     1001     12            63.0           414.0                NaN   \n",
       "\n",
       "   internet_used  \n",
       "0         2256.0  \n",
       "1        23257.0  \n",
       "2        14016.0  \n",
       "3        14070.0  \n",
       "4        14581.0  \n",
       "5        14717.0  \n",
       "6        14768.0  \n",
       "7         9827.0  \n",
       "8        18452.0  \n",
       "9        14053.0  "
      ]
     },
     "execution_count": 30,
     "metadata": {},
     "output_type": "execute_result"
    }
   ],
   "source": [
    "per_month_data.reset_index(inplace=True)\n",
    "per_month_data.head(10)"
   ]
  },
  {
   "cell_type": "markdown",
   "metadata": {},
   "source": [
    "В получившейся таблице могут быть незаполненные значения столбцов calls_quantity, calls_duration, messages_quantity и internet_used. Это означает, что конкретный пользователь в определённом месяце соответствующей услугой не пользовался. Значит, пропуски означают 0: 0 звонков, 0 минут, 0 сообщений, 0 мегабайт соответственно."
   ]
  },
  {
   "cell_type": "code",
   "execution_count": 31,
   "metadata": {},
   "outputs": [
    {
     "name": "stdout",
     "output_type": "stream",
     "text": [
      "<class 'pandas.core.frame.DataFrame'>\n",
      "RangeIndex: 3214 entries, 0 to 3213\n",
      "Data columns (total 6 columns):\n",
      " #   Column             Non-Null Count  Dtype  \n",
      "---  ------             --------------  -----  \n",
      " 0   user_id            3214 non-null   int64  \n",
      " 1   month              3214 non-null   int64  \n",
      " 2   calls_quantity     3214 non-null   float64\n",
      " 3   calls_duration     3214 non-null   float64\n",
      " 4   messages_quantity  3214 non-null   float64\n",
      " 5   internet_used      3214 non-null   float64\n",
      "dtypes: float64(4), int64(2)\n",
      "memory usage: 150.8 KB\n"
     ]
    }
   ],
   "source": [
    "per_month_data = per_month_data.fillna(0)\n",
    "per_month_data.info()"
   ]
  },
  {
   "cell_type": "markdown",
   "metadata": {},
   "source": [
    "Тип данных столбцов calls_quantity, calls_duration, messages_quantity и internet_used должен быть int."
   ]
  },
  {
   "cell_type": "code",
   "execution_count": 32,
   "metadata": {},
   "outputs": [],
   "source": [
    "per_month_data['calls_quantity'] = per_month_data['calls_quantity'].astype('int')\n",
    "per_month_data['calls_duration'] = per_month_data['calls_duration'].astype('int')\n",
    "per_month_data['messages_quantity'] = per_month_data['messages_quantity'].astype('int')\n",
    "per_month_data['internet_used'] = per_month_data['internet_used'].astype('int')"
   ]
  },
  {
   "cell_type": "markdown",
   "metadata": {},
   "source": [
    "Теперь посчитаем, сколько каждый пользователь тратил денег в месяц, исходя из информации о тарифах. Для удобства расчётов добавим в таблицу per_month_data столбец tariff, а для дальнейшего анализа - столбец city."
   ]
  },
  {
   "cell_type": "code",
   "execution_count": 33,
   "metadata": {},
   "outputs": [],
   "source": [
    "per_month_data = per_month_data.join(users.set_index('user_id')[['tariff','city']], on='user_id')"
   ]
  },
  {
   "cell_type": "markdown",
   "metadata": {},
   "source": [
    "Потраченные деньги складываются из следующих величин:\n",
    "- Ежемесячная абонентская плата.\n",
    "- Стоимость дополнительных звоков по формуле: (\"количество минут разговора в месяц\" - \"количество минут в тарифном пакете\") * \"стоимость одной минуты\"\n",
    "- Стоимость дополнительных сообщений по аналогичной формуле.\n",
    "- Стоимость дополнительного интернета, который продаётся гигабайтами. Т.е. если основной пакет израсходован, то пользователь покупает сразу 1024 мегабайт, а не по одному, как с минутами или сообщениями. Поэтому формула здесь будет другая: ceil((\"израсходованный трафик в месяц\" - \"количество мегабайт в тарифном пакете\") / 1024) * \"стоимость одного гигабайта\""
   ]
  },
  {
   "cell_type": "code",
   "execution_count": 34,
   "metadata": {},
   "outputs": [
    {
     "data": {
      "text/html": [
       "<div>\n",
       "<style scoped>\n",
       "    .dataframe tbody tr th:only-of-type {\n",
       "        vertical-align: middle;\n",
       "    }\n",
       "\n",
       "    .dataframe tbody tr th {\n",
       "        vertical-align: top;\n",
       "    }\n",
       "\n",
       "    .dataframe thead th {\n",
       "        text-align: right;\n",
       "    }\n",
       "</style>\n",
       "<table border=\"1\" class=\"dataframe\">\n",
       "  <thead>\n",
       "    <tr style=\"text-align: right;\">\n",
       "      <th></th>\n",
       "      <th>user_id</th>\n",
       "      <th>month</th>\n",
       "      <th>calls_quantity</th>\n",
       "      <th>calls_duration</th>\n",
       "      <th>messages_quantity</th>\n",
       "      <th>internet_used</th>\n",
       "      <th>tariff</th>\n",
       "      <th>city</th>\n",
       "      <th>total_fee</th>\n",
       "    </tr>\n",
       "  </thead>\n",
       "  <tbody>\n",
       "    <tr>\n",
       "      <th>1239</th>\n",
       "      <td>1193</td>\n",
       "      <td>3</td>\n",
       "      <td>78</td>\n",
       "      <td>612</td>\n",
       "      <td>8</td>\n",
       "      <td>11569</td>\n",
       "      <td>smart</td>\n",
       "      <td>Тамбов</td>\n",
       "      <td>886.0</td>\n",
       "    </tr>\n",
       "    <tr>\n",
       "      <th>3096</th>\n",
       "      <td>1480</td>\n",
       "      <td>4</td>\n",
       "      <td>79</td>\n",
       "      <td>550</td>\n",
       "      <td>20</td>\n",
       "      <td>15424</td>\n",
       "      <td>smart</td>\n",
       "      <td>Новокузнецк</td>\n",
       "      <td>900.0</td>\n",
       "    </tr>\n",
       "    <tr>\n",
       "      <th>2541</th>\n",
       "      <td>1395</td>\n",
       "      <td>11</td>\n",
       "      <td>91</td>\n",
       "      <td>637</td>\n",
       "      <td>26</td>\n",
       "      <td>19206</td>\n",
       "      <td>smart</td>\n",
       "      <td>Москва</td>\n",
       "      <td>1761.0</td>\n",
       "    </tr>\n",
       "    <tr>\n",
       "      <th>3010</th>\n",
       "      <td>1468</td>\n",
       "      <td>10</td>\n",
       "      <td>26</td>\n",
       "      <td>195</td>\n",
       "      <td>14</td>\n",
       "      <td>13964</td>\n",
       "      <td>smart</td>\n",
       "      <td>Тамбов</td>\n",
       "      <td>550.0</td>\n",
       "    </tr>\n",
       "    <tr>\n",
       "      <th>2437</th>\n",
       "      <td>1382</td>\n",
       "      <td>5</td>\n",
       "      <td>95</td>\n",
       "      <td>625</td>\n",
       "      <td>88</td>\n",
       "      <td>14213</td>\n",
       "      <td>ultra</td>\n",
       "      <td>Самара</td>\n",
       "      <td>1950.0</td>\n",
       "    </tr>\n",
       "    <tr>\n",
       "      <th>1310</th>\n",
       "      <td>1204</td>\n",
       "      <td>6</td>\n",
       "      <td>45</td>\n",
       "      <td>325</td>\n",
       "      <td>0</td>\n",
       "      <td>19822</td>\n",
       "      <td>smart</td>\n",
       "      <td>Москва</td>\n",
       "      <td>1550.0</td>\n",
       "    </tr>\n",
       "    <tr>\n",
       "      <th>1409</th>\n",
       "      <td>1221</td>\n",
       "      <td>7</td>\n",
       "      <td>20</td>\n",
       "      <td>114</td>\n",
       "      <td>32</td>\n",
       "      <td>8981</td>\n",
       "      <td>smart</td>\n",
       "      <td>Белгород</td>\n",
       "      <td>550.0</td>\n",
       "    </tr>\n",
       "    <tr>\n",
       "      <th>150</th>\n",
       "      <td>1021</td>\n",
       "      <td>9</td>\n",
       "      <td>150</td>\n",
       "      <td>1115</td>\n",
       "      <td>113</td>\n",
       "      <td>18321</td>\n",
       "      <td>ultra</td>\n",
       "      <td>Краснодар</td>\n",
       "      <td>1950.0</td>\n",
       "    </tr>\n",
       "    <tr>\n",
       "      <th>2597</th>\n",
       "      <td>1404</td>\n",
       "      <td>7</td>\n",
       "      <td>27</td>\n",
       "      <td>142</td>\n",
       "      <td>48</td>\n",
       "      <td>19509</td>\n",
       "      <td>smart</td>\n",
       "      <td>Иркутск</td>\n",
       "      <td>1550.0</td>\n",
       "    </tr>\n",
       "    <tr>\n",
       "      <th>1387</th>\n",
       "      <td>1217</td>\n",
       "      <td>12</td>\n",
       "      <td>85</td>\n",
       "      <td>607</td>\n",
       "      <td>78</td>\n",
       "      <td>13174</td>\n",
       "      <td>smart</td>\n",
       "      <td>Ульяновск</td>\n",
       "      <td>955.0</td>\n",
       "    </tr>\n",
       "  </tbody>\n",
       "</table>\n",
       "</div>"
      ],
      "text/plain": [
       "      user_id  month  calls_quantity  calls_duration  messages_quantity  \\\n",
       "1239     1193      3              78             612                  8   \n",
       "3096     1480      4              79             550                 20   \n",
       "2541     1395     11              91             637                 26   \n",
       "3010     1468     10              26             195                 14   \n",
       "2437     1382      5              95             625                 88   \n",
       "1310     1204      6              45             325                  0   \n",
       "1409     1221      7              20             114                 32   \n",
       "150      1021      9             150            1115                113   \n",
       "2597     1404      7              27             142                 48   \n",
       "1387     1217     12              85             607                 78   \n",
       "\n",
       "      internet_used tariff         city  total_fee  \n",
       "1239          11569  smart       Тамбов      886.0  \n",
       "3096          15424  smart  Новокузнецк      900.0  \n",
       "2541          19206  smart       Москва     1761.0  \n",
       "3010          13964  smart       Тамбов      550.0  \n",
       "2437          14213  ultra       Самара     1950.0  \n",
       "1310          19822  smart       Москва     1550.0  \n",
       "1409           8981  smart     Белгород      550.0  \n",
       "150           18321  ultra    Краснодар     1950.0  \n",
       "2597          19509  smart      Иркутск     1550.0  \n",
       "1387          13174  smart    Ульяновск      955.0  "
      ]
     },
     "execution_count": 34,
     "metadata": {},
     "output_type": "execute_result"
    }
   ],
   "source": [
    "tariffs = tariffs.set_index('tariff_name')\n",
    "\n",
    "def calc_total_fee (row):\n",
    "    tariff = row['tariff']\n",
    "    total_fee = tariffs.loc[tariff,'rub_monthly_fee']\n",
    "    \n",
    "    total_fee += np.where(row['calls_duration'] > tariffs.loc[tariff,'minutes_included'],\n",
    "                          (row['calls_duration'] - tariffs.loc[tariff,'minutes_included']) * tariffs.loc[tariff,'rub_per_minute'],\n",
    "                          0\n",
    "                         )\n",
    "    total_fee += np.where(row['messages_quantity'] > tariffs.loc[tariff,'messages_included'],\n",
    "                          (row['messages_quantity'] - tariffs.loc[tariff,'messages_included']) * tariffs.loc[tariff,'rub_per_message'],\n",
    "                          0\n",
    "                         )\n",
    "    total_fee += np.where(row['internet_used'] > tariffs.loc[tariff,'mb_per_month_included'],\n",
    "                          np.ceil((row['internet_used'] - tariffs.loc[tariff,'mb_per_month_included']) / 1024) * tariffs.loc[tariff,'rub_per_gb'],\n",
    "                          0\n",
    "                         )    \n",
    "    return total_fee\n",
    "    \n",
    "per_month_data['total_fee'] = per_month_data.apply(calc_total_fee, axis=1)\n",
    "per_month_data.sample(n=10)"
   ]
  },
  {
   "cell_type": "code",
   "execution_count": 35,
   "metadata": {},
   "outputs": [
    {
     "name": "stdout",
     "output_type": "stream",
     "text": [
      "<class 'pandas.core.frame.DataFrame'>\n",
      "RangeIndex: 3214 entries, 0 to 3213\n",
      "Data columns (total 9 columns):\n",
      " #   Column             Non-Null Count  Dtype   \n",
      "---  ------             --------------  -----   \n",
      " 0   user_id            3214 non-null   int64   \n",
      " 1   month              3214 non-null   int64   \n",
      " 2   calls_quantity     3214 non-null   int64   \n",
      " 3   calls_duration     3214 non-null   int64   \n",
      " 4   messages_quantity  3214 non-null   int64   \n",
      " 5   internet_used      3214 non-null   int64   \n",
      " 6   tariff             3214 non-null   category\n",
      " 7   city               3214 non-null   category\n",
      " 8   total_fee          3214 non-null   float64 \n",
      "dtypes: category(2), float64(1), int64(6)\n",
      "memory usage: 184.9 KB\n"
     ]
    }
   ],
   "source": [
    "per_month_data.info()"
   ]
  },
  {
   "cell_type": "markdown",
   "metadata": {},
   "source": [
    "Все расчёты добавлены в таблицу. Пропусков и проблем с типами данных нет."
   ]
  },
  {
   "cell_type": "markdown",
   "metadata": {},
   "source": [
    "### Вывод"
   ]
  },
  {
   "cell_type": "markdown",
   "metadata": {},
   "source": [
    "Создана таблица per_month_data с информацией по ежемесячному расходованию минут, сообщений и интернета для каждого пользователя. Кроме того, в таблице есть информация о тарифе, городе и о фактически потраченных деньгах в месяц."
   ]
  },
  {
   "cell_type": "markdown",
   "metadata": {},
   "source": [
    "## Анализ данных"
   ]
  },
  {
   "cell_type": "markdown",
   "metadata": {},
   "source": [
    "В таблице per_month_data содержится информация по месяцам для разных пользователей разных тарифов. Но нам нужно проанализировать данные по 500 пользователям, а не по множеству человекомесяцев. Посчитаем среднее ежемесячное потребление услуг для каждого пользователя отдельно."
   ]
  },
  {
   "cell_type": "code",
   "execution_count": 36,
   "metadata": {},
   "outputs": [
    {
     "name": "stdout",
     "output_type": "stream",
     "text": [
      "<class 'pandas.core.frame.DataFrame'>\n",
      "RangeIndex: 498 entries, 0 to 497\n",
      "Data columns (total 7 columns):\n",
      " #   Column             Non-Null Count  Dtype  \n",
      "---  ------             --------------  -----  \n",
      " 0   user_id            498 non-null    int64  \n",
      " 1   calls_duration     498 non-null    float64\n",
      " 2   city               498 non-null    object \n",
      " 3   internet_used      498 non-null    float64\n",
      " 4   messages_quantity  498 non-null    float64\n",
      " 5   tariff             498 non-null    object \n",
      " 6   total_fee          498 non-null    float64\n",
      "dtypes: float64(4), int64(1), object(2)\n",
      "memory usage: 27.4+ KB\n"
     ]
    }
   ],
   "source": [
    "mean_month_data = per_month_data.pivot_table(index='user_id',\n",
    "                                             aggfunc={'tariff': 'first',\n",
    "                                                      'city': 'first',\n",
    "                                                      'calls_duration': 'mean',\n",
    "                                                      'messages_quantity': 'mean',\n",
    "                                                      'internet_used': 'mean',\n",
    "                                                      'total_fee': 'mean'\n",
    "                                                     }\n",
    "                                            ).reset_index()\n",
    "mean_month_data.info()"
   ]
  },
  {
   "cell_type": "markdown",
   "metadata": {},
   "source": [
    "Получилась таблица с 498-ю строками. Похоже, из выборки в 500 человек двое не пользуются услугами связи. Нужно добавить их в таблицу, потому что нулевые значения потребления повлияют на среднее, к тому же они могли платить абонентскую плату. Посмотрим на этих пользователей."
   ]
  },
  {
   "cell_type": "code",
   "execution_count": 37,
   "metadata": {},
   "outputs": [
    {
     "data": {
      "text/html": [
       "<div>\n",
       "<style scoped>\n",
       "    .dataframe tbody tr th:only-of-type {\n",
       "        vertical-align: middle;\n",
       "    }\n",
       "\n",
       "    .dataframe tbody tr th {\n",
       "        vertical-align: top;\n",
       "    }\n",
       "\n",
       "    .dataframe thead th {\n",
       "        text-align: right;\n",
       "    }\n",
       "</style>\n",
       "<table border=\"1\" class=\"dataframe\">\n",
       "  <thead>\n",
       "    <tr style=\"text-align: right;\">\n",
       "      <th></th>\n",
       "      <th>index</th>\n",
       "      <th>user_id</th>\n",
       "      <th>age</th>\n",
       "      <th>churn_date</th>\n",
       "      <th>city</th>\n",
       "      <th>first_name</th>\n",
       "      <th>last_name</th>\n",
       "      <th>reg_date</th>\n",
       "      <th>tariff</th>\n",
       "    </tr>\n",
       "  </thead>\n",
       "  <tbody>\n",
       "    <tr>\n",
       "      <th>0</th>\n",
       "      <td>128</td>\n",
       "      <td>1128</td>\n",
       "      <td>51</td>\n",
       "      <td>2018-12-23</td>\n",
       "      <td>Волжский</td>\n",
       "      <td>Ксения</td>\n",
       "      <td>Агаева</td>\n",
       "      <td>2018-12-15</td>\n",
       "      <td>ultra</td>\n",
       "    </tr>\n",
       "    <tr>\n",
       "      <th>1</th>\n",
       "      <td>371</td>\n",
       "      <td>1371</td>\n",
       "      <td>50</td>\n",
       "      <td>2018-12-30</td>\n",
       "      <td>Омск</td>\n",
       "      <td>Ириней</td>\n",
       "      <td>Трофимов</td>\n",
       "      <td>2018-12-25</td>\n",
       "      <td>smart</td>\n",
       "    </tr>\n",
       "  </tbody>\n",
       "</table>\n",
       "</div>"
      ],
      "text/plain": [
       "   index  user_id  age churn_date      city first_name last_name   reg_date  \\\n",
       "0    128     1128   51 2018-12-23  Волжский     Ксения    Агаева 2018-12-15   \n",
       "1    371     1371   50 2018-12-30      Омск     Ириней  Трофимов 2018-12-25   \n",
       "\n",
       "  tariff  \n",
       "0  ultra  \n",
       "1  smart  "
      ]
     },
     "execution_count": 37,
     "metadata": {},
     "output_type": "execute_result"
    }
   ],
   "source": [
    "two_users = users[~users['user_id'].isin(mean_month_data['user_id'])].reset_index()\n",
    "two_users"
   ]
  },
  {
   "cell_type": "markdown",
   "metadata": {},
   "source": [
    "Видно, что эти пользователи подключали тариф всего на несколько дней. Обычно первый месяц после подключения тарифа абонентская плата делится на количество дней и снимается ежедневно, поэтому будем считать, что эти пользователи не платили полную стоимость за месяц."
   ]
  },
  {
   "cell_type": "code",
   "execution_count": 38,
   "metadata": {},
   "outputs": [
    {
     "data": {
      "text/plain": [
       "Index(['user_id', 'month', 'calls_quantity', 'calls_duration',\n",
       "       'messages_quantity', 'internet_used', 'tariff', 'city', 'total_fee'],\n",
       "      dtype='object')"
      ]
     },
     "execution_count": 38,
     "metadata": {},
     "output_type": "execute_result"
    }
   ],
   "source": [
    "per_month_data.columns"
   ]
  },
  {
   "cell_type": "code",
   "execution_count": 39,
   "metadata": {},
   "outputs": [
    {
     "data": {
      "text/html": [
       "<div>\n",
       "<style scoped>\n",
       "    .dataframe tbody tr th:only-of-type {\n",
       "        vertical-align: middle;\n",
       "    }\n",
       "\n",
       "    .dataframe tbody tr th {\n",
       "        vertical-align: top;\n",
       "    }\n",
       "\n",
       "    .dataframe thead th {\n",
       "        text-align: right;\n",
       "    }\n",
       "</style>\n",
       "<table border=\"1\" class=\"dataframe\">\n",
       "  <thead>\n",
       "    <tr style=\"text-align: right;\">\n",
       "      <th></th>\n",
       "      <th>user_id</th>\n",
       "      <th>month</th>\n",
       "      <th>calls_quantity</th>\n",
       "      <th>calls_duration</th>\n",
       "      <th>messages_quantity</th>\n",
       "      <th>internet_used</th>\n",
       "      <th>tariff</th>\n",
       "      <th>city</th>\n",
       "      <th>total_fee</th>\n",
       "    </tr>\n",
       "  </thead>\n",
       "  <tbody>\n",
       "    <tr>\n",
       "      <th>3211</th>\n",
       "      <td>1499</td>\n",
       "      <td>10</td>\n",
       "      <td>68</td>\n",
       "      <td>449</td>\n",
       "      <td>48</td>\n",
       "      <td>17809</td>\n",
       "      <td>smart</td>\n",
       "      <td>Пермь</td>\n",
       "      <td>1150.0</td>\n",
       "    </tr>\n",
       "    <tr>\n",
       "      <th>3212</th>\n",
       "      <td>1499</td>\n",
       "      <td>11</td>\n",
       "      <td>74</td>\n",
       "      <td>612</td>\n",
       "      <td>59</td>\n",
       "      <td>17984</td>\n",
       "      <td>smart</td>\n",
       "      <td>Пермь</td>\n",
       "      <td>1513.0</td>\n",
       "    </tr>\n",
       "    <tr>\n",
       "      <th>3213</th>\n",
       "      <td>1499</td>\n",
       "      <td>12</td>\n",
       "      <td>69</td>\n",
       "      <td>492</td>\n",
       "      <td>66</td>\n",
       "      <td>13077</td>\n",
       "      <td>smart</td>\n",
       "      <td>Пермь</td>\n",
       "      <td>598.0</td>\n",
       "    </tr>\n",
       "    <tr>\n",
       "      <th>3214</th>\n",
       "      <td>1128</td>\n",
       "      <td>12</td>\n",
       "      <td>0</td>\n",
       "      <td>0</td>\n",
       "      <td>0</td>\n",
       "      <td>0</td>\n",
       "      <td>ultra</td>\n",
       "      <td>Волжский</td>\n",
       "      <td>567.0</td>\n",
       "    </tr>\n",
       "    <tr>\n",
       "      <th>3215</th>\n",
       "      <td>1371</td>\n",
       "      <td>12</td>\n",
       "      <td>0</td>\n",
       "      <td>0</td>\n",
       "      <td>0</td>\n",
       "      <td>0</td>\n",
       "      <td>smart</td>\n",
       "      <td>Омск</td>\n",
       "      <td>107.0</td>\n",
       "    </tr>\n",
       "  </tbody>\n",
       "</table>\n",
       "</div>"
      ],
      "text/plain": [
       "      user_id  month  calls_quantity  calls_duration  messages_quantity  \\\n",
       "3211     1499     10              68             449                 48   \n",
       "3212     1499     11              74             612                 59   \n",
       "3213     1499     12              69             492                 66   \n",
       "3214     1128     12               0               0                  0   \n",
       "3215     1371     12               0               0                  0   \n",
       "\n",
       "      internet_used tariff      city  total_fee  \n",
       "3211          17809  smart     Пермь     1150.0  \n",
       "3212          17984  smart     Пермь     1513.0  \n",
       "3213          13077  smart     Пермь      598.0  \n",
       "3214              0  ultra  Волжский      567.0  \n",
       "3215              0  smart      Омск      107.0  "
      ]
     },
     "execution_count": 39,
     "metadata": {},
     "output_type": "execute_result"
    }
   ],
   "source": [
    "per_month_data.loc[len(per_month_data)] = [two_users.loc[0,'user_id'],\n",
    "                                           two_users.loc[0,'churn_date'].month,\n",
    "                                           0,0,0,0,\n",
    "                                           two_users.loc[0,'tariff'],\n",
    "                                           two_users.loc[0,'city'],\n",
    "                                           np.ceil(tariffs.loc[two_users.loc[0,'tariff'],'rub_monthly_fee'] * ((two_users.loc[0,'churn_date'] - two_users.loc[0,'reg_date']).days + 1) / 31)\n",
    "                                          ]\n",
    "per_month_data.loc[len(per_month_data)] = [two_users.loc[1,'user_id'],\n",
    "                                           two_users.loc[1,'churn_date'].month,\n",
    "                                           0,0,0,0,\n",
    "                                           two_users.loc[1,'tariff'],\n",
    "                                           two_users.loc[1,'city'],\n",
    "                                           np.ceil(tariffs.loc[two_users.loc[1,'tariff'],'rub_monthly_fee'] * ((two_users.loc[1,'churn_date'] - two_users.loc[1,'reg_date']).days + 1) / 31)\n",
    "                                          ]\n",
    "per_month_data.tail()"
   ]
  },
  {
   "cell_type": "markdown",
   "metadata": {},
   "source": [
    "Пересчитаем mean_month_data."
   ]
  },
  {
   "cell_type": "code",
   "execution_count": 40,
   "metadata": {},
   "outputs": [
    {
     "name": "stdout",
     "output_type": "stream",
     "text": [
      "<class 'pandas.core.frame.DataFrame'>\n",
      "RangeIndex: 500 entries, 0 to 499\n",
      "Data columns (total 7 columns):\n",
      " #   Column             Non-Null Count  Dtype  \n",
      "---  ------             --------------  -----  \n",
      " 0   user_id            500 non-null    int64  \n",
      " 1   calls_duration     500 non-null    float64\n",
      " 2   city               500 non-null    object \n",
      " 3   internet_used      500 non-null    float64\n",
      " 4   messages_quantity  500 non-null    float64\n",
      " 5   tariff             500 non-null    object \n",
      " 6   total_fee          500 non-null    float64\n",
      "dtypes: float64(4), int64(1), object(2)\n",
      "memory usage: 27.5+ KB\n"
     ]
    }
   ],
   "source": [
    "mean_month_data = per_month_data.pivot_table(index='user_id',\n",
    "                                             aggfunc={'tariff': 'first',\n",
    "                                                      'city': 'first',\n",
    "                                                      'calls_duration': 'mean',\n",
    "                                                      'messages_quantity': 'mean',\n",
    "                                                      'internet_used': 'mean',\n",
    "                                                      'total_fee': 'mean'\n",
    "                                                     }\n",
    "                                            ).reset_index()\n",
    "mean_month_data.info()"
   ]
  },
  {
   "cell_type": "markdown",
   "metadata": {},
   "source": [
    "Посчитаем среднее значение, дисперсию и стандартное отклонение для потребляемых минут, сообщений и интернета."
   ]
  },
  {
   "cell_type": "code",
   "execution_count": 41,
   "metadata": {},
   "outputs": [
    {
     "data": {
      "text/html": [
       "<div>\n",
       "<style scoped>\n",
       "    .dataframe tbody tr th:only-of-type {\n",
       "        vertical-align: middle;\n",
       "    }\n",
       "\n",
       "    .dataframe tbody tr th {\n",
       "        vertical-align: top;\n",
       "    }\n",
       "\n",
       "    .dataframe thead tr th {\n",
       "        text-align: left;\n",
       "    }\n",
       "\n",
       "    .dataframe thead tr:last-of-type th {\n",
       "        text-align: right;\n",
       "    }\n",
       "</style>\n",
       "<table border=\"1\" class=\"dataframe\">\n",
       "  <thead>\n",
       "    <tr>\n",
       "      <th></th>\n",
       "      <th>mean</th>\n",
       "      <th>var</th>\n",
       "      <th>std</th>\n",
       "    </tr>\n",
       "    <tr>\n",
       "      <th></th>\n",
       "      <th>calls_duration</th>\n",
       "      <th>calls_duration</th>\n",
       "      <th>calls_duration</th>\n",
       "    </tr>\n",
       "    <tr>\n",
       "      <th>tariff</th>\n",
       "      <th></th>\n",
       "      <th></th>\n",
       "      <th></th>\n",
       "    </tr>\n",
       "  </thead>\n",
       "  <tbody>\n",
       "    <tr>\n",
       "      <th>smart</th>\n",
       "      <td>418.439262</td>\n",
       "      <td>21475.741546</td>\n",
       "      <td>146.546039</td>\n",
       "    </tr>\n",
       "    <tr>\n",
       "      <th>ultra</th>\n",
       "      <td>524.279391</td>\n",
       "      <td>80736.812324</td>\n",
       "      <td>284.142240</td>\n",
       "    </tr>\n",
       "  </tbody>\n",
       "</table>\n",
       "</div>"
      ],
      "text/plain": [
       "                 mean            var            std\n",
       "       calls_duration calls_duration calls_duration\n",
       "tariff                                             \n",
       "smart      418.439262   21475.741546     146.546039\n",
       "ultra      524.279391   80736.812324     284.142240"
      ]
     },
     "execution_count": 41,
     "metadata": {},
     "output_type": "execute_result"
    }
   ],
   "source": [
    "mean_calls_data = mean_month_data.pivot_table(index='tariff',\n",
    "                           values='calls_duration',\n",
    "                           aggfunc=[np.mean,\n",
    "                                    np.var, #Здесь ddof=1 по умолчанию\n",
    "                                    np.std]\n",
    "                          )\n",
    "mean_calls_data"
   ]
  },
  {
   "cell_type": "code",
   "execution_count": 42,
   "metadata": {},
   "outputs": [
    {
     "data": {
      "text/html": [
       "<div>\n",
       "<style scoped>\n",
       "    .dataframe tbody tr th:only-of-type {\n",
       "        vertical-align: middle;\n",
       "    }\n",
       "\n",
       "    .dataframe tbody tr th {\n",
       "        vertical-align: top;\n",
       "    }\n",
       "\n",
       "    .dataframe thead tr th {\n",
       "        text-align: left;\n",
       "    }\n",
       "\n",
       "    .dataframe thead tr:last-of-type th {\n",
       "        text-align: right;\n",
       "    }\n",
       "</style>\n",
       "<table border=\"1\" class=\"dataframe\">\n",
       "  <thead>\n",
       "    <tr>\n",
       "      <th></th>\n",
       "      <th>mean</th>\n",
       "      <th>var</th>\n",
       "      <th>std</th>\n",
       "    </tr>\n",
       "    <tr>\n",
       "      <th></th>\n",
       "      <th>messages_quantity</th>\n",
       "      <th>messages_quantity</th>\n",
       "      <th>messages_quantity</th>\n",
       "    </tr>\n",
       "    <tr>\n",
       "      <th>tariff</th>\n",
       "      <th></th>\n",
       "      <th></th>\n",
       "      <th></th>\n",
       "    </tr>\n",
       "  </thead>\n",
       "  <tbody>\n",
       "    <tr>\n",
       "      <th>smart</th>\n",
       "      <td>32.259907</td>\n",
       "      <td>703.883524</td>\n",
       "      <td>26.530803</td>\n",
       "    </tr>\n",
       "    <tr>\n",
       "      <th>ultra</th>\n",
       "      <td>53.668121</td>\n",
       "      <td>2154.895683</td>\n",
       "      <td>46.420854</td>\n",
       "    </tr>\n",
       "  </tbody>\n",
       "</table>\n",
       "</div>"
      ],
      "text/plain": [
       "                    mean               var               std\n",
       "       messages_quantity messages_quantity messages_quantity\n",
       "tariff                                                      \n",
       "smart          32.259907        703.883524         26.530803\n",
       "ultra          53.668121       2154.895683         46.420854"
      ]
     },
     "execution_count": 42,
     "metadata": {},
     "output_type": "execute_result"
    }
   ],
   "source": [
    "mean_messages_data = mean_month_data.pivot_table(index='tariff',\n",
    "                           values='messages_quantity',\n",
    "                           aggfunc=[np.mean,\n",
    "                                    np.var,\n",
    "                                    np.std]\n",
    "                          )\n",
    "mean_messages_data"
   ]
  },
  {
   "cell_type": "code",
   "execution_count": 43,
   "metadata": {},
   "outputs": [
    {
     "data": {
      "text/html": [
       "<div>\n",
       "<style scoped>\n",
       "    .dataframe tbody tr th:only-of-type {\n",
       "        vertical-align: middle;\n",
       "    }\n",
       "\n",
       "    .dataframe tbody tr th {\n",
       "        vertical-align: top;\n",
       "    }\n",
       "\n",
       "    .dataframe thead tr th {\n",
       "        text-align: left;\n",
       "    }\n",
       "\n",
       "    .dataframe thead tr:last-of-type th {\n",
       "        text-align: right;\n",
       "    }\n",
       "</style>\n",
       "<table border=\"1\" class=\"dataframe\">\n",
       "  <thead>\n",
       "    <tr>\n",
       "      <th></th>\n",
       "      <th>mean</th>\n",
       "      <th>var</th>\n",
       "      <th>std</th>\n",
       "    </tr>\n",
       "    <tr>\n",
       "      <th></th>\n",
       "      <th>internet_used</th>\n",
       "      <th>internet_used</th>\n",
       "      <th>internet_used</th>\n",
       "    </tr>\n",
       "    <tr>\n",
       "      <th>tariff</th>\n",
       "      <th></th>\n",
       "      <th></th>\n",
       "      <th></th>\n",
       "    </tr>\n",
       "  </thead>\n",
       "  <tbody>\n",
       "    <tr>\n",
       "      <th>smart</th>\n",
       "      <td>16155.230119</td>\n",
       "      <td>1.355361e+07</td>\n",
       "      <td>3681.522658</td>\n",
       "    </tr>\n",
       "    <tr>\n",
       "      <th>ultra</th>\n",
       "      <td>19461.343437</td>\n",
       "      <td>7.131046e+07</td>\n",
       "      <td>8444.552074</td>\n",
       "    </tr>\n",
       "  </tbody>\n",
       "</table>\n",
       "</div>"
      ],
      "text/plain": [
       "                mean           var           std\n",
       "       internet_used internet_used internet_used\n",
       "tariff                                          \n",
       "smart   16155.230119  1.355361e+07   3681.522658\n",
       "ultra   19461.343437  7.131046e+07   8444.552074"
      ]
     },
     "execution_count": 43,
     "metadata": {},
     "output_type": "execute_result"
    }
   ],
   "source": [
    "mean_internet_data = mean_month_data.pivot_table(index='tariff',\n",
    "                           values='internet_used',\n",
    "                           aggfunc=[np.mean,\n",
    "                                    np.var,\n",
    "                                    np.std]\n",
    "                          )\n",
    "mean_internet_data"
   ]
  },
  {
   "cell_type": "markdown",
   "metadata": {},
   "source": [
    "Посмотрим, что входит в предоплаченные пакеты услуг."
   ]
  },
  {
   "cell_type": "code",
   "execution_count": 44,
   "metadata": {},
   "outputs": [
    {
     "data": {
      "text/html": [
       "<div>\n",
       "<style scoped>\n",
       "    .dataframe tbody tr th:only-of-type {\n",
       "        vertical-align: middle;\n",
       "    }\n",
       "\n",
       "    .dataframe tbody tr th {\n",
       "        vertical-align: top;\n",
       "    }\n",
       "\n",
       "    .dataframe thead th {\n",
       "        text-align: right;\n",
       "    }\n",
       "</style>\n",
       "<table border=\"1\" class=\"dataframe\">\n",
       "  <thead>\n",
       "    <tr style=\"text-align: right;\">\n",
       "      <th></th>\n",
       "      <th>messages_included</th>\n",
       "      <th>mb_per_month_included</th>\n",
       "      <th>minutes_included</th>\n",
       "    </tr>\n",
       "    <tr>\n",
       "      <th>tariff_name</th>\n",
       "      <th></th>\n",
       "      <th></th>\n",
       "      <th></th>\n",
       "    </tr>\n",
       "  </thead>\n",
       "  <tbody>\n",
       "    <tr>\n",
       "      <th>smart</th>\n",
       "      <td>50</td>\n",
       "      <td>15360</td>\n",
       "      <td>500</td>\n",
       "    </tr>\n",
       "    <tr>\n",
       "      <th>ultra</th>\n",
       "      <td>1000</td>\n",
       "      <td>30720</td>\n",
       "      <td>3000</td>\n",
       "    </tr>\n",
       "  </tbody>\n",
       "</table>\n",
       "</div>"
      ],
      "text/plain": [
       "             messages_included  mb_per_month_included  minutes_included\n",
       "tariff_name                                                            \n",
       "smart                       50                  15360               500\n",
       "ultra                     1000                  30720              3000"
      ]
     },
     "execution_count": 44,
     "metadata": {},
     "output_type": "execute_result"
    }
   ],
   "source": [
    "tariffs[['messages_included', 'mb_per_month_included', 'minutes_included']]"
   ]
  },
  {
   "cell_type": "markdown",
   "metadata": {},
   "source": [
    "Видно, что пользователи тарифа \"Ультра\" потребляют в среднем больше услуг, но и стандартное отклонение у значений этого тарифа выше, чем у \"Смарт\". При этом средние значения отличаются друг от друга не так сильно, как значения в описании тарифов. Т.е. в среднем пользователи \"Ультры\" превосходят по потреблению услуг пользователей \"Смарт\" не так значительно, как это предусмотрено тарифом. Но из-за большой дисперсии нельзя делать какие-то выводы по средним значениям.\n",
    "\n",
    "Посмотрим гистограммы. Будем использовать плотностные гистограммы, т.к. средние значения минут, сообщений и мегабайт могут принимать любые, не повторяющиеся значения. Согласно центральной предельной теореме распределения должны быть нормальными. Для ориентира, чтобы было с чем сравнивать, изобразим в осях координат графики нормальных распределений с высчитанными выше параметрами."
   ]
  },
  {
   "cell_type": "code",
   "execution_count": 45,
   "metadata": {},
   "outputs": [
    {
     "data": {
      "image/png": "[encoded data removed]",
      "text/plain": [
       "<Figure size 864x648 with 1 Axes>"
      ]
     },
     "metadata": {
      "needs_background": "light"
     },
     "output_type": "display_data"
    }
   ],
   "source": [
    "def multiplot (parameter, plot_title, mean_smart, std_smart, mean_ultra, std_ultra):\n",
    "    ax = mean_month_data[mean_month_data['tariff'] == 'smart'].plot(\n",
    "        y=parameter,\n",
    "        kind='hist',\n",
    "        density=True,\n",
    "        bins=15,\n",
    "        alpha=0.5,\n",
    "        color='green',\n",
    "        figsize=(12, 9),\n",
    "        grid=True,\n",
    "        legend=True,\n",
    "        title=plot_title,\n",
    "        label='\"Смарт\"'\n",
    "    )\n",
    "    mean_month_data[mean_month_data['tariff'] == 'ultra'].plot(\n",
    "        y=parameter,\n",
    "        kind='hist',\n",
    "        density=True,\n",
    "        bins=15,\n",
    "        alpha=0.5,\n",
    "        color='orange',\n",
    "        figsize=(12, 9),\n",
    "        grid=True,\n",
    "        legend=True,\n",
    "        title=plot_title,\n",
    "        label='\"Ультра\"',\n",
    "        ax=ax\n",
    "    )\n",
    "\n",
    "    x_smart = range(int(np.floor(mean_month_data[mean_month_data['tariff'] == 'smart'][parameter].min())),\n",
    "                    int(np.ceil(mean_month_data[mean_month_data['tariff'] == 'smart'][parameter].max()))\n",
    "                   )\n",
    "    norm_smart = st.norm.pdf(x_smart, mean_smart, std_smart)\n",
    "\n",
    "    x_ultra = range(int(np.floor(mean_month_data[mean_month_data['tariff'] == 'ultra'][parameter].min())),\n",
    "                    int(np.ceil(mean_month_data[mean_month_data['tariff'] == 'ultra'][parameter].max()))\n",
    "                   )\n",
    "    norm_ultra = st.norm.pdf(x_ultra, mean_ultra, std_ultra)\n",
    "\n",
    "    plt.plot(norm_smart, 'g-', color='green')\n",
    "    plt.plot(norm_ultra, 'g-', color='orange')\n",
    "    plt.ylabel('Плотность частоты')\n",
    "    plt.show()\n",
    "\n",
    "multiplot (parameter='calls_duration',\n",
    "           plot_title='Минуты разговора в месяц',\n",
    "           mean_smart = mean_calls_data.loc['smart',('mean','calls_duration')],\n",
    "           std_smart = mean_calls_data.loc['smart',('std','calls_duration')],\n",
    "           mean_ultra = mean_calls_data.loc['ultra',('mean','calls_duration')],\n",
    "           std_ultra = mean_calls_data.loc['ultra',('std','calls_duration')]\n",
    "          )"
   ]
  },
  {
   "cell_type": "markdown",
   "metadata": {},
   "source": [
    "Распределения нормальные. У пользователей тарифа \"Ультра\" разброс среднего значения количества использованных минут в месяц больше, чем у пользователей тарифа \"Смарт\". Нужно отметить, что при этом пользователи \"Ультры\" укладываются в предоставленные в тарифе 3000 минут и дополнительные минуты не докупают, тогда как почти половина пользователей \"Смарта\" превышают предоплаченный лимит в 500 минут и дальше переходят на поминутную тарификацию."
   ]
  },
  {
   "cell_type": "code",
   "execution_count": 46,
   "metadata": {},
   "outputs": [
    {
     "data": {
      "image/png": "[encoded data removed]",
      "text/plain": [
       "<Figure size 864x648 with 1 Axes>"
      ]
     },
     "metadata": {
      "needs_background": "light"
     },
     "output_type": "display_data"
    }
   ],
   "source": [
    "multiplot (parameter='messages_quantity',\n",
    "           plot_title='Количество сообщений в месяц',\n",
    "           mean_smart = mean_messages_data.loc['smart',('mean','messages_quantity')],\n",
    "           std_smart = mean_messages_data.loc['smart',('std','messages_quantity')],\n",
    "           mean_ultra = mean_messages_data.loc['ultra',('mean','messages_quantity')],\n",
    "           std_ultra = mean_messages_data.loc['ultra',('std','messages_quantity')]\n",
    "          )"
   ]
  },
  {
   "cell_type": "markdown",
   "metadata": {},
   "source": [
    "На графике видно, как гистограммы слева отклоняются от нормальных значений, правые половины - нормальные. Это показывает, что среди пользователей есть тенденция отказываться от использования смс-сообщений. Количество людей, которые отправляют близкое к нулю число сообений, сопоставимо с количеством людей, отправляющих больше ста смс в месяц. Пользователям \"Ультры\" хватает пакетных 1000 сообщений на месяц, а часть пользователей \"Смарта\" покупает дополнительные смс, превысив выделенные 50."
   ]
  },
  {
   "cell_type": "code",
   "execution_count": 47,
   "metadata": {},
   "outputs": [
    {
     "data": {
      "image/png": "[encoded data removed]",
      "text/plain": [
       "<Figure size 864x648 with 1 Axes>"
      ]
     },
     "metadata": {
      "needs_background": "light"
     },
     "output_type": "display_data"
    }
   ],
   "source": [
    "multiplot (parameter='internet_used',\n",
    "           plot_title='Количество мегабайт интернета в месяц',\n",
    "           mean_smart = mean_internet_data.loc['smart',('mean','internet_used')],\n",
    "           std_smart = mean_internet_data.loc['smart',('std','internet_used')],\n",
    "           mean_ultra = mean_internet_data.loc['ultra',('mean','internet_used')],\n",
    "           std_ultra = mean_internet_data.loc['ultra',('std','internet_used')]\n",
    "          )"
   ]
  },
  {
   "cell_type": "markdown",
   "metadata": {},
   "source": [
    "Потребление интернета распределяется нормально. Как и в других случаях, у пользователей \"Ультры\" больше разброс значений. Половине пользователей тарифа \"Смарт\" недостаточно предоставляемых 15 гигабайт в месяц. Части пользователей \"Ультры\" тоже приходится докупать интернет сверх предоплаченных 30 гигабайт."
   ]
  },
  {
   "cell_type": "markdown",
   "metadata": {},
   "source": [
    "### Вывод"
   ]
  },
  {
   "cell_type": "markdown",
   "metadata": {},
   "source": [
    "Пользователям тарифа \"Смарт\" недостаточно минут и гигабайт в пакете: половине приходится докупать ещё. Части пользователей не хватает и предоставленных 50-и смс в месяц. Пользователи же тарифа \"Ультра\" в основном укладываются в предоплаченный пакет, но некоторым приходится дополнительно докупать трафик сверх 30-и гигабайт. Кроме того, среди пользователей обоих тарифов есть необычно много людей, которые почти не пользуются смс. \n",
    "\n",
    "Средние значения минут разговора, количества сообщений и мегабайт интернет-трафика в месяц приведены в таблице ниже. В ней же и значение среднемесячных расходов."
   ]
  },
  {
   "cell_type": "code",
   "execution_count": 48,
   "metadata": {},
   "outputs": [
    {
     "data": {
      "text/html": [
       "<div>\n",
       "<style scoped>\n",
       "    .dataframe tbody tr th:only-of-type {\n",
       "        vertical-align: middle;\n",
       "    }\n",
       "\n",
       "    .dataframe tbody tr th {\n",
       "        vertical-align: top;\n",
       "    }\n",
       "\n",
       "    .dataframe thead th {\n",
       "        text-align: right;\n",
       "    }\n",
       "</style>\n",
       "<table border=\"1\" class=\"dataframe\">\n",
       "  <thead>\n",
       "    <tr style=\"text-align: right;\">\n",
       "      <th></th>\n",
       "      <th>calls_duration</th>\n",
       "      <th>messages_quantity</th>\n",
       "      <th>internet_used</th>\n",
       "      <th>total_fee</th>\n",
       "    </tr>\n",
       "    <tr>\n",
       "      <th>tariff</th>\n",
       "      <th></th>\n",
       "      <th></th>\n",
       "      <th></th>\n",
       "      <th></th>\n",
       "    </tr>\n",
       "  </thead>\n",
       "  <tbody>\n",
       "    <tr>\n",
       "      <th>smart</th>\n",
       "      <td>418.44</td>\n",
       "      <td>32.26</td>\n",
       "      <td>16155.23</td>\n",
       "      <td>1326.24</td>\n",
       "    </tr>\n",
       "    <tr>\n",
       "      <th>ultra</th>\n",
       "      <td>524.28</td>\n",
       "      <td>53.67</td>\n",
       "      <td>19461.34</td>\n",
       "      <td>2077.21</td>\n",
       "    </tr>\n",
       "  </tbody>\n",
       "</table>\n",
       "</div>"
      ],
      "text/plain": [
       "        calls_duration  messages_quantity  internet_used  total_fee\n",
       "tariff                                                             \n",
       "smart           418.44              32.26       16155.23    1326.24\n",
       "ultra           524.28              53.67       19461.34    2077.21"
      ]
     },
     "execution_count": 48,
     "metadata": {},
     "output_type": "execute_result"
    }
   ],
   "source": [
    "np.round((mean_month_data.groupby('tariff')[['calls_duration',\n",
    "                                   'messages_quantity',\n",
    "                                   'internet_used',\n",
    "                                   'total_fee'\n",
    "                                  ]]).apply(np.mean), 2)"
   ]
  },
  {
   "cell_type": "markdown",
   "metadata": {},
   "source": [
    "## Проверка гипотез"
   ]
  },
  {
   "cell_type": "markdown",
   "metadata": {},
   "source": [
    "### Сравнение пользователей тарифов «Ультра» и «Смарт»"
   ]
  },
  {
   "cell_type": "markdown",
   "metadata": {},
   "source": [
    "Пользователи тарифов \"Ультра\" и \"Смарт\" по-разному оплачивают услуги: большинству пользователей \"Ультры\" достаточно предоставляемых на месяц пакетов услуг, а среди пользователей \"Смарта\" по крайней мере половине приходится докупать дополнительные услуги, поэтому их расходы выше, чем ежемесячная абонентская плата. Но разница в стоимости тарифов достаточно велика, чтобы предположить, что средние траты пользователей \"Ультры\" и \"Смарта\" различаются, не смотря на дополнительные траты вторых. \n",
    "\n",
    "Чтобы это проверить, сформулируем нулевую гипотезу H<sub>0</sub>: \"Средние ежемесячные траты пользователей тарифов \"Ультра\" и \"Смарт\" равны\". Если эта гипотеза окажется опровергнутой, то можно будет считать верной альтернативную гипотезу H<sub>1</sub>: \"Средние ежемесячные траты пользователей тарифов \"Ультра\" и \"Смарт\" отличаются\".\n",
    "\n",
    "Чтобы проверить H<sub>0</sub>, посчитаем вероятность получить такую выборку из 500 пользователей, которая у нас есть, исходя из предположения, что гипотеза H<sub>0</sub> верна. Если получившаяся вероятность будет меньше порогового значения alpha, то гипотеза будет опровергнута. Это будет означать, что из генеральной совокупности нельзя было бы выделить нашу выборку. Если вероятность окажется выше alpha, то сделать какой-то вывод о гипотезе будет нельзя. Т.к. выборка достаточно большая - 500 человек, то установим пороговое значение alpha=1%. \n",
    "\n",
    "Исходя из картины трат в выборке, можно предположить, что дисперсии генеральных совокупностей пользователей разных тарифов различаются: пользователи \"Ультры\" в основном оплачивают только абонентскую плату, а пользователи \"Смарта\" докупают услуги."
   ]
  },
  {
   "cell_type": "code",
   "execution_count": 49,
   "metadata": {},
   "outputs": [
    {
     "name": "stdout",
     "output_type": "stream",
     "text": [
      "Нулевая гипотеза опровергнута.\n",
      "Средние ежемесячные траты пользователей тарифов \"Ультра\" и \"Смарт\" отличаются.\n"
     ]
    }
   ],
   "source": [
    "alpha = 0.01\n",
    "p_value = st.ttest_ind(mean_month_data[mean_month_data['tariff'] == 'ultra']['total_fee'],\n",
    "                       mean_month_data[mean_month_data['tariff'] == 'smart']['total_fee'],\n",
    "                       equal_var=False\n",
    "                      ).pvalue\n",
    "\n",
    "if p_value < alpha:\n",
    "    print('Нулевая гипотеза опровергнута.')\n",
    "    print('Средние ежемесячные траты пользователей тарифов \"Ультра\" и \"Смарт\" отличаются.')\n",
    "else:\n",
    "    print('Не получилось отвергнуть нулевую гипотезу.') \n",
    "    print('p-value = {:.2%}'.format(p_value))"
   ]
  },
  {
   "cell_type": "markdown",
   "metadata": {},
   "source": [
    "**Вывод**"
   ]
  },
  {
   "cell_type": "markdown",
   "metadata": {},
   "source": [
    "Проведённый t-тест показал, что у пользователей разных тарифов отличаются траты. Для теста мы считали дисперсии выборок различными, а пороговое значение alpha=1%."
   ]
  },
  {
   "cell_type": "markdown",
   "metadata": {},
   "source": [
    "### Сравнение пользователей из Москвы и из других регионов"
   ]
  },
  {
   "cell_type": "markdown",
   "metadata": {},
   "source": [
    "Аналогично сравним траты пользователей из Москвы и из других городов. Для выборки по-прежнему будем считать пороговое значение alpha=1%. А вот дисперсии для жителей различных городов, скорее всего, одинаковые.\n",
    "\n",
    "Нулевая гипотеза H<sub>0</sub>: \"Средние ежемесячные траты пользователей из Москвы и пользователей из других городов равны\". \n",
    "\n",
    "Альтернативная гипотеза H<sub>1</sub>: \"Средние ежемесячные траты пользователей из Москвы и пользователей из других городов отличаются\"."
   ]
  },
  {
   "cell_type": "code",
   "execution_count": 50,
   "metadata": {},
   "outputs": [
    {
     "name": "stdout",
     "output_type": "stream",
     "text": [
      "Не получилось отвергнуть нулевую гипотезу.\n",
      "p-value = 42.46%\n"
     ]
    }
   ],
   "source": [
    "p_value = st.ttest_ind(mean_month_data[mean_month_data['city'] == 'Москва']['total_fee'],\n",
    "                       mean_month_data[mean_month_data['city'] != 'Москва']['total_fee'],\n",
    "                       equal_var=True\n",
    "                      ).pvalue\n",
    "\n",
    "if p_value < alpha:\n",
    "    print('Нулевая гипотеза опровергнута.')\n",
    "    print('Средние ежемесячные траты пользователей из Москвы и пользователей из других городов отличаются.')\n",
    "else:\n",
    "    print('Не получилось отвергнуть нулевую гипотезу.') \n",
    "    print('p-value = {:.2%}'.format(p_value))"
   ]
  },
  {
   "cell_type": "markdown",
   "metadata": {},
   "source": [
    "**Вывод**"
   ]
  },
  {
   "cell_type": "markdown",
   "metadata": {},
   "source": [
    "Нельзя точно сказать что-то о различиях в тратах пользователей из Москвы и из других городов. Выборка не противоречит предположению, что траты равны."
   ]
  },
  {
   "cell_type": "markdown",
   "metadata": {},
   "source": [
    "### Вывод"
   ]
  },
  {
   "cell_type": "markdown",
   "metadata": {},
   "source": [
    "После проведённых t-тестов можно сказать:\n",
    "1. Средние ежемесячные траты пользователей тарифов \"Ультра\" и \"Смарт\" отличаются.\n",
    "2. Выборка не противоречит предположению, что средние ежемесячные траты пользователей из Москвы и пользователей из других городов равны.\n",
    "\n",
    "Пороговое значение alpha было выбрано 1%. Для проверки первой гипотезы дисперсии считались различными, а для проверки второй - одинаковыми."
   ]
  },
  {
   "cell_type": "markdown",
   "metadata": {},
   "source": [
    "## Общий вывод"
   ]
  },
  {
   "cell_type": "markdown",
   "metadata": {},
   "source": [
    "В работе была проанализирована выборка из 500 пользователей \"Мегалайна\": уровень потребления услуг и расходы за 2018 год. \n",
    "\n",
    "Установлено, что большинство пользователей тарифа \"Ультра\" не докупает дополнительные услуги, однако части из них приходится доплачивать за интернет-трафик свыше 30 гигабайт. У пользователей тарифа \"Смарт\" другая картина: около половины пользователей платит за дополнительный трафик и/или минуты разговора, части пользователей не хватает 50 смс-сообщений на месяц. При этом независимо от тарифа существует достаточное количество пользователей, почти не использующих услугу смс.\n",
    "\n",
    "Не смотря на покупку дополнительных услуг, в представленной выборке среднее значение оплаченных услуг в месяц у пользователей тарифа \"Смарт\" меньше, чем у пользователей тарифа \"Ультра\". Проведённый t-тест показывает, что в генеральной совокупности средние ежемесячные траты пользователей тарифов \"Ультра\" и \"Смарт\" отличаются. \n",
    "\n",
    "По представленной выборке нельзя определённо судить, как зависят траты от места жительства пользователя. Выборка не противоречит предположению, что средние ежемесячные траты пользователей из Москвы и пользователей из других городов равны.\n",
    "\n",
    "Тариф \"Ультра\" дороже и большинству пользователей хватает предоплаченного пакета услуг. Тариф \"Смарт\" дешевле, но по меньшей мере половине пользователей приходится дополнительно докупать услуги, значит, в перспективе они могут сменить тариф на более подходящий. Можно сказать, для \"Мегалайна\" выгоднее тариф \"Ультра\"."
   ]
  }
 ],
 "metadata": {
  "kernelspec": {
   "display_name": "Python 3",
   "language": "python",
   "name": "python3"
  },
  "language_info": {
   "codemirror_mode": {
    "name": "ipython",
    "version": 3
   },
   "file_extension": ".py",
   "mimetype": "text/x-python",
   "name": "python",
   "nbconvert_exporter": "python",
   "pygments_lexer": "ipython3",
   "version": "3.8.8"
  },
  "toc": {
   "base_numbering": 1,
   "nav_menu": {},
   "number_sections": true,
   "sideBar": true,
   "skip_h1_title": true,
   "title_cell": "Table of Contents",
   "title_sidebar": "Contents",
   "toc_cell": false,
   "toc_position": {
    "height": "calc(100% - 180px)",
    "left": "10px",
    "top": "150px",
    "width": "251px"
   },
   "toc_section_display": true,
   "toc_window_display": true
  }
 },
 "nbformat": 4,
 "nbformat_minor": 2
}

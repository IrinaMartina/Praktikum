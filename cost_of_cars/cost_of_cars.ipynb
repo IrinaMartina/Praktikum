{
 "cells": [
  {
   "cell_type": "markdown",
   "metadata": {},
   "source": [
    "# Определение стоимости автомобилей"
   ]
  },
  {
   "cell_type": "markdown",
   "metadata": {},
   "source": [
    "Сервис по продаже автомобилей с пробегом «Не бит, не крашен» разрабатывает приложение для привлечения новых клиентов. В нём можно быстро узнать рыночную стоимость своего автомобиля. В вашем распоряжении исторические данные: технические характеристики, комплектации и цены автомобилей. Вам нужно построить модель для определения стоимости. \n",
    "\n",
    "Заказчику важны:\n",
    "\n",
    "- качество предсказания;\n",
    "- скорость предсказания;\n",
    "- время обучения.\n",
    "\n",
    "**Признаки**\n",
    "\n",
    "- *DateCrawled* — дата скачивания анкеты из базы\n",
    "- *VehicleType* — тип автомобильного кузова\n",
    "- *RegistrationYear* — год регистрации автомобиля\n",
    "- *Gearbox* — тип коробки передач\n",
    "- *Power* — мощность (л. с.)\n",
    "- *Model* — модель автомобиля\n",
    "- *Kilometer* — пробег (км)\n",
    "- *RegistrationMonth* — месяц регистрации автомобиля\n",
    "- *FuelType* — тип топлива\n",
    "- *Brand* — марка автомобиля\n",
    "- *NotRepaired* — была машина в ремонте или нет\n",
    "- *DateCreated* — дата создания анкеты\n",
    "- *NumberOfPictures* — количество фотографий автомобиля\n",
    "- *PostalCode* — почтовый индекс владельца анкеты (пользователя)\n",
    "- *LastSeen* — дата последней активности пользователя\n",
    "\n",
    "**Целевой признак**\n",
    "- *Price* — цена (евро)"
   ]
  },
  {
   "cell_type": "code",
   "execution_count": 1,
   "metadata": {},
   "outputs": [
    {
     "name": "stdout",
     "output_type": "stream",
     "text": [
      "Defaulting to user installation because normal site-packages is not writeable\n",
      "Collecting category_encoders\n",
      "  Downloading category_encoders-2.2.2-py2.py3-none-any.whl (80 kB)\n",
      "\u001b[K     |████████████████████████████████| 80 kB 2.0 MB/s eta 0:00:011\n",
      "\u001b[?25hRequirement already satisfied: numpy>=1.14.0 in /opt/conda/lib/python3.7/site-packages (from category_encoders) (1.19.5)\n",
      "Requirement already satisfied: scipy>=1.0.0 in /opt/conda/lib/python3.7/site-packages (from category_encoders) (1.4.1)\n",
      "Requirement already satisfied: pandas>=0.21.1 in /opt/conda/lib/python3.7/site-packages (from category_encoders) (0.25.1)\n",
      "Requirement already satisfied: scikit-learn>=0.20.0 in /opt/conda/lib/python3.7/site-packages (from category_encoders) (0.21.2)\n",
      "Requirement already satisfied: patsy>=0.5.1 in /opt/conda/lib/python3.7/site-packages (from category_encoders) (0.5.1)\n",
      "Requirement already satisfied: statsmodels>=0.9.0 in /opt/conda/lib/python3.7/site-packages (from category_encoders) (0.10.1)\n",
      "Requirement already satisfied: python-dateutil>=2.6.1 in /opt/conda/lib/python3.7/site-packages (from pandas>=0.21.1->category_encoders) (2.8.1)\n",
      "Requirement already satisfied: pytz>=2017.2 in /opt/conda/lib/python3.7/site-packages (from pandas>=0.21.1->category_encoders) (2021.1)\n",
      "Requirement already satisfied: joblib>=0.11 in /opt/conda/lib/python3.7/site-packages (from scikit-learn>=0.20.0->category_encoders) (1.0.1)\n",
      "Requirement already satisfied: six in /opt/conda/lib/python3.7/site-packages (from patsy>=0.5.1->category_encoders) (1.15.0)\n",
      "Installing collected packages: category-encoders\n",
      "Successfully installed category-encoders-2.2.2\n",
      "Note: you may need to restart the kernel to use updated packages.\n"
     ]
    }
   ],
   "source": [
    "pip install category_encoders"
   ]
  },
  {
   "cell_type": "code",
   "execution_count": 2,
   "metadata": {},
   "outputs": [],
   "source": [
    "import pandas as pd\n",
    "\n",
    "from sklearn.dummy import DummyRegressor\n",
    "from sklearn.ensemble import RandomForestRegressor\n",
    "from sklearn.linear_model import LinearRegression\n",
    "from sklearn.model_selection import GridSearchCV, cross_val_score, KFold\n",
    "from sklearn.preprocessing import OrdinalEncoder, MinMaxScaler\n",
    "from sklearn.compose import ColumnTransformer\n",
    "from sklearn.pipeline import Pipeline\n",
    "\n",
    "from category_encoders import MEstimateEncoder\n",
    "\n",
    "from lightgbm import LGBMRegressor\n",
    "\n",
    "from time import time\n",
    "\n",
    "import matplotlib.pyplot as plt\n",
    "import seaborn as sns"
   ]
  },
  {
   "cell_type": "markdown",
   "metadata": {},
   "source": [
    "## 1 Подготовка данных"
   ]
  },
  {
   "cell_type": "markdown",
   "metadata": {},
   "source": [
    "Загрузим данные и посмотрим на них."
   ]
  },
  {
   "cell_type": "code",
   "execution_count": 3,
   "metadata": {},
   "outputs": [
    {
     "name": "stdout",
     "output_type": "stream",
     "text": [
      "<class 'pandas.core.frame.DataFrame'>\n",
      "RangeIndex: 354369 entries, 0 to 354368\n",
      "Data columns (total 16 columns):\n",
      "DateCrawled          354369 non-null object\n",
      "Price                354369 non-null int64\n",
      "VehicleType          316879 non-null object\n",
      "RegistrationYear     354369 non-null int64\n",
      "Gearbox              334536 non-null object\n",
      "Power                354369 non-null int64\n",
      "Model                334664 non-null object\n",
      "Kilometer            354369 non-null int64\n",
      "RegistrationMonth    354369 non-null int64\n",
      "FuelType             321474 non-null object\n",
      "Brand                354369 non-null object\n",
      "NotRepaired          283215 non-null object\n",
      "DateCreated          354369 non-null object\n",
      "NumberOfPictures     354369 non-null int64\n",
      "PostalCode           354369 non-null int64\n",
      "LastSeen             354369 non-null object\n",
      "dtypes: int64(7), object(9)\n",
      "memory usage: 43.3+ MB\n"
     ]
    }
   ],
   "source": [
    "df = pd.read_csv('/datasets/autos.csv')\n",
    "df.info()"
   ]
  },
  {
   "cell_type": "markdown",
   "metadata": {},
   "source": [
    "В данных есть пропущенные значения. \n",
    "\n",
    "Все числовые признаки, включая год и месяц, загрузились как int, даты и категориальные - как object."
   ]
  },
  {
   "cell_type": "code",
   "execution_count": 4,
   "metadata": {
    "scrolled": false
   },
   "outputs": [
    {
     "data": {
      "text/html": [
       "<div>\n",
       "<style scoped>\n",
       "    .dataframe tbody tr th:only-of-type {\n",
       "        vertical-align: middle;\n",
       "    }\n",
       "\n",
       "    .dataframe tbody tr th {\n",
       "        vertical-align: top;\n",
       "    }\n",
       "\n",
       "    .dataframe thead th {\n",
       "        text-align: right;\n",
       "    }\n",
       "</style>\n",
       "<table border=\"1\" class=\"dataframe\">\n",
       "  <thead>\n",
       "    <tr style=\"text-align: right;\">\n",
       "      <th></th>\n",
       "      <th>DateCrawled</th>\n",
       "      <th>Price</th>\n",
       "      <th>VehicleType</th>\n",
       "      <th>RegistrationYear</th>\n",
       "      <th>Gearbox</th>\n",
       "      <th>Power</th>\n",
       "      <th>Model</th>\n",
       "      <th>Kilometer</th>\n",
       "      <th>RegistrationMonth</th>\n",
       "      <th>FuelType</th>\n",
       "      <th>Brand</th>\n",
       "      <th>NotRepaired</th>\n",
       "      <th>DateCreated</th>\n",
       "      <th>NumberOfPictures</th>\n",
       "      <th>PostalCode</th>\n",
       "      <th>LastSeen</th>\n",
       "    </tr>\n",
       "  </thead>\n",
       "  <tbody>\n",
       "    <tr>\n",
       "      <td>294049</td>\n",
       "      <td>2016-03-20 20:54:33</td>\n",
       "      <td>19999</td>\n",
       "      <td>wagon</td>\n",
       "      <td>2014</td>\n",
       "      <td>manual</td>\n",
       "      <td>122</td>\n",
       "      <td>leon</td>\n",
       "      <td>30000</td>\n",
       "      <td>3</td>\n",
       "      <td>petrol</td>\n",
       "      <td>seat</td>\n",
       "      <td>no</td>\n",
       "      <td>2016-03-20 00:00:00</td>\n",
       "      <td>0</td>\n",
       "      <td>22089</td>\n",
       "      <td>2016-03-27 10:47:13</td>\n",
       "    </tr>\n",
       "    <tr>\n",
       "      <td>76415</td>\n",
       "      <td>2016-03-25 12:56:02</td>\n",
       "      <td>14250</td>\n",
       "      <td>wagon</td>\n",
       "      <td>2011</td>\n",
       "      <td>manual</td>\n",
       "      <td>140</td>\n",
       "      <td>a3</td>\n",
       "      <td>70000</td>\n",
       "      <td>6</td>\n",
       "      <td>gasoline</td>\n",
       "      <td>audi</td>\n",
       "      <td>NaN</td>\n",
       "      <td>2016-03-25 00:00:00</td>\n",
       "      <td>0</td>\n",
       "      <td>45770</td>\n",
       "      <td>2016-03-29 11:48:26</td>\n",
       "    </tr>\n",
       "    <tr>\n",
       "      <td>212563</td>\n",
       "      <td>2016-03-09 13:46:02</td>\n",
       "      <td>2850</td>\n",
       "      <td>wagon</td>\n",
       "      <td>2001</td>\n",
       "      <td>manual</td>\n",
       "      <td>131</td>\n",
       "      <td>passat</td>\n",
       "      <td>150000</td>\n",
       "      <td>9</td>\n",
       "      <td>gasoline</td>\n",
       "      <td>volkswagen</td>\n",
       "      <td>no</td>\n",
       "      <td>2016-03-09 00:00:00</td>\n",
       "      <td>0</td>\n",
       "      <td>38259</td>\n",
       "      <td>2016-03-12 11:16:57</td>\n",
       "    </tr>\n",
       "    <tr>\n",
       "      <td>109307</td>\n",
       "      <td>2016-03-30 11:39:47</td>\n",
       "      <td>50</td>\n",
       "      <td>small</td>\n",
       "      <td>1996</td>\n",
       "      <td>manual</td>\n",
       "      <td>60</td>\n",
       "      <td>corsa</td>\n",
       "      <td>150000</td>\n",
       "      <td>8</td>\n",
       "      <td>petrol</td>\n",
       "      <td>opel</td>\n",
       "      <td>yes</td>\n",
       "      <td>2016-03-30 00:00:00</td>\n",
       "      <td>0</td>\n",
       "      <td>7957</td>\n",
       "      <td>2016-04-03 00:46:29</td>\n",
       "    </tr>\n",
       "    <tr>\n",
       "      <td>248545</td>\n",
       "      <td>2016-03-28 23:37:54</td>\n",
       "      <td>500</td>\n",
       "      <td>NaN</td>\n",
       "      <td>2016</td>\n",
       "      <td>manual</td>\n",
       "      <td>82</td>\n",
       "      <td>a_klasse</td>\n",
       "      <td>150000</td>\n",
       "      <td>2</td>\n",
       "      <td>petrol</td>\n",
       "      <td>mercedes_benz</td>\n",
       "      <td>NaN</td>\n",
       "      <td>2016-03-28 00:00:00</td>\n",
       "      <td>0</td>\n",
       "      <td>49356</td>\n",
       "      <td>2016-03-30 23:17:28</td>\n",
       "    </tr>\n",
       "    <tr>\n",
       "      <td>318907</td>\n",
       "      <td>2016-03-31 13:51:44</td>\n",
       "      <td>3000</td>\n",
       "      <td>convertible</td>\n",
       "      <td>2005</td>\n",
       "      <td>NaN</td>\n",
       "      <td>0</td>\n",
       "      <td>3_reihe</td>\n",
       "      <td>150000</td>\n",
       "      <td>0</td>\n",
       "      <td>petrol</td>\n",
       "      <td>peugeot</td>\n",
       "      <td>no</td>\n",
       "      <td>2016-03-31 00:00:00</td>\n",
       "      <td>0</td>\n",
       "      <td>53340</td>\n",
       "      <td>2016-04-06 06:44:47</td>\n",
       "    </tr>\n",
       "    <tr>\n",
       "      <td>227367</td>\n",
       "      <td>2016-03-19 20:50:32</td>\n",
       "      <td>1099</td>\n",
       "      <td>sedan</td>\n",
       "      <td>1983</td>\n",
       "      <td>auto</td>\n",
       "      <td>122</td>\n",
       "      <td>other</td>\n",
       "      <td>150000</td>\n",
       "      <td>3</td>\n",
       "      <td>petrol</td>\n",
       "      <td>mercedes_benz</td>\n",
       "      <td>no</td>\n",
       "      <td>2016-03-19 00:00:00</td>\n",
       "      <td>0</td>\n",
       "      <td>49779</td>\n",
       "      <td>2016-04-07 09:17:08</td>\n",
       "    </tr>\n",
       "    <tr>\n",
       "      <td>47677</td>\n",
       "      <td>2016-03-10 00:36:53</td>\n",
       "      <td>850</td>\n",
       "      <td>NaN</td>\n",
       "      <td>2016</td>\n",
       "      <td>manual</td>\n",
       "      <td>55</td>\n",
       "      <td>astra</td>\n",
       "      <td>150000</td>\n",
       "      <td>12</td>\n",
       "      <td>petrol</td>\n",
       "      <td>opel</td>\n",
       "      <td>no</td>\n",
       "      <td>2016-03-10 00:00:00</td>\n",
       "      <td>0</td>\n",
       "      <td>14656</td>\n",
       "      <td>2016-03-10 08:45:41</td>\n",
       "    </tr>\n",
       "    <tr>\n",
       "      <td>337147</td>\n",
       "      <td>2016-03-20 19:48:40</td>\n",
       "      <td>7999</td>\n",
       "      <td>small</td>\n",
       "      <td>2011</td>\n",
       "      <td>manual</td>\n",
       "      <td>99</td>\n",
       "      <td>500</td>\n",
       "      <td>90000</td>\n",
       "      <td>5</td>\n",
       "      <td>petrol</td>\n",
       "      <td>fiat</td>\n",
       "      <td>no</td>\n",
       "      <td>2016-03-20 00:00:00</td>\n",
       "      <td>0</td>\n",
       "      <td>71272</td>\n",
       "      <td>2016-04-07 04:16:53</td>\n",
       "    </tr>\n",
       "    <tr>\n",
       "      <td>164456</td>\n",
       "      <td>2016-03-20 09:46:40</td>\n",
       "      <td>5900</td>\n",
       "      <td>convertible</td>\n",
       "      <td>1977</td>\n",
       "      <td>NaN</td>\n",
       "      <td>0</td>\n",
       "      <td>NaN</td>\n",
       "      <td>100000</td>\n",
       "      <td>7</td>\n",
       "      <td>NaN</td>\n",
       "      <td>sonstige_autos</td>\n",
       "      <td>no</td>\n",
       "      <td>2016-03-20 00:00:00</td>\n",
       "      <td>0</td>\n",
       "      <td>32339</td>\n",
       "      <td>2016-04-06 05:16:17</td>\n",
       "    </tr>\n",
       "  </tbody>\n",
       "</table>\n",
       "</div>"
      ],
      "text/plain": [
       "                DateCrawled  Price  VehicleType  RegistrationYear Gearbox  \\\n",
       "294049  2016-03-20 20:54:33  19999        wagon              2014  manual   \n",
       "76415   2016-03-25 12:56:02  14250        wagon              2011  manual   \n",
       "212563  2016-03-09 13:46:02   2850        wagon              2001  manual   \n",
       "109307  2016-03-30 11:39:47     50        small              1996  manual   \n",
       "248545  2016-03-28 23:37:54    500          NaN              2016  manual   \n",
       "318907  2016-03-31 13:51:44   3000  convertible              2005     NaN   \n",
       "227367  2016-03-19 20:50:32   1099        sedan              1983    auto   \n",
       "47677   2016-03-10 00:36:53    850          NaN              2016  manual   \n",
       "337147  2016-03-20 19:48:40   7999        small              2011  manual   \n",
       "164456  2016-03-20 09:46:40   5900  convertible              1977     NaN   \n",
       "\n",
       "        Power     Model  Kilometer  RegistrationMonth  FuelType  \\\n",
       "294049    122      leon      30000                  3    petrol   \n",
       "76415     140        a3      70000                  6  gasoline   \n",
       "212563    131    passat     150000                  9  gasoline   \n",
       "109307     60     corsa     150000                  8    petrol   \n",
       "248545     82  a_klasse     150000                  2    petrol   \n",
       "318907      0   3_reihe     150000                  0    petrol   \n",
       "227367    122     other     150000                  3    petrol   \n",
       "47677      55     astra     150000                 12    petrol   \n",
       "337147     99       500      90000                  5    petrol   \n",
       "164456      0       NaN     100000                  7       NaN   \n",
       "\n",
       "                 Brand NotRepaired          DateCreated  NumberOfPictures  \\\n",
       "294049            seat          no  2016-03-20 00:00:00                 0   \n",
       "76415             audi         NaN  2016-03-25 00:00:00                 0   \n",
       "212563      volkswagen          no  2016-03-09 00:00:00                 0   \n",
       "109307            opel         yes  2016-03-30 00:00:00                 0   \n",
       "248545   mercedes_benz         NaN  2016-03-28 00:00:00                 0   \n",
       "318907         peugeot          no  2016-03-31 00:00:00                 0   \n",
       "227367   mercedes_benz          no  2016-03-19 00:00:00                 0   \n",
       "47677             opel          no  2016-03-10 00:00:00                 0   \n",
       "337147            fiat          no  2016-03-20 00:00:00                 0   \n",
       "164456  sonstige_autos          no  2016-03-20 00:00:00                 0   \n",
       "\n",
       "        PostalCode             LastSeen  \n",
       "294049       22089  2016-03-27 10:47:13  \n",
       "76415        45770  2016-03-29 11:48:26  \n",
       "212563       38259  2016-03-12 11:16:57  \n",
       "109307        7957  2016-04-03 00:46:29  \n",
       "248545       49356  2016-03-30 23:17:28  \n",
       "318907       53340  2016-04-06 06:44:47  \n",
       "227367       49779  2016-04-07 09:17:08  \n",
       "47677        14656  2016-03-10 08:45:41  \n",
       "337147       71272  2016-04-07 04:16:53  \n",
       "164456       32339  2016-04-06 05:16:17  "
      ]
     },
     "execution_count": 4,
     "metadata": {},
     "output_type": "execute_result"
    }
   ],
   "source": [
    "df.sample(10, random_state=42)"
   ]
  },
  {
   "cell_type": "markdown",
   "metadata": {},
   "source": [
    "Пробег указан в виде круглых чисел. Возможно, при заполнении анкеты значения были выбраны из предложенных. Тогда вариантов значений может быть немного. Это своего рода категориальные данные, но порядок значений тоже несёт в себе смысл.\n",
    "\n",
    "Проверим, есть ли дубликаты."
   ]
  },
  {
   "cell_type": "code",
   "execution_count": 5,
   "metadata": {},
   "outputs": [
    {
     "data": {
      "text/plain": [
       "4"
      ]
     },
     "execution_count": 5,
     "metadata": {},
     "output_type": "execute_result"
    }
   ],
   "source": [
    "df.duplicated().sum()"
   ]
  },
  {
   "cell_type": "markdown",
   "metadata": {},
   "source": [
    "Удалим повторяющиеся строки."
   ]
  },
  {
   "cell_type": "code",
   "execution_count": 6,
   "metadata": {},
   "outputs": [],
   "source": [
    "df = df.drop_duplicates().reset_index(drop=True)"
   ]
  },
  {
   "cell_type": "markdown",
   "metadata": {},
   "source": [
    "Посмотрим внимательнее, в каких столбцах есть пропуски и сколь их."
   ]
  },
  {
   "cell_type": "code",
   "execution_count": 7,
   "metadata": {
    "scrolled": true
   },
   "outputs": [
    {
     "data": {
      "text/plain": [
       "NotRepaired    71154\n",
       "VehicleType    37490\n",
       "FuelType       32895\n",
       "Gearbox        19833\n",
       "Model          19705\n",
       "LastSeen           0\n",
       "dtype: int64"
      ]
     },
     "execution_count": 7,
     "metadata": {},
     "output_type": "execute_result"
    }
   ],
   "source": [
    "df.isna().sum().sort_values(ascending=False).head(6)"
   ]
  },
  {
   "cell_type": "markdown",
   "metadata": {},
   "source": [
    "Пропусков достаточно много, и всё это категориальные признаки автомобиля, которые сложно будет восстановить. Заполним эти пропуски словом 'none' - так мы сохраним информацию о том, что какие-то параметры в анкете не были указаны."
   ]
  },
  {
   "cell_type": "code",
   "execution_count": 8,
   "metadata": {},
   "outputs": [],
   "source": [
    "df = df.fillna('none')"
   ]
  },
  {
   "cell_type": "markdown",
   "metadata": {},
   "source": [
    "Посмотрим на значения категориальных признаков и на общее количество вариантов значений. В том числе рассмотрим и значения столбцов Kilometer и NumberOfPictures, которые по смыслу притендуют на категориальность, а также PostalCode, чтобы оценить количество разных регионов в данных."
   ]
  },
  {
   "cell_type": "code",
   "execution_count": 9,
   "metadata": {},
   "outputs": [
    {
     "name": "stdout",
     "output_type": "stream",
     "text": [
      "VehicleType: ['none' 'coupe' 'suv' 'small' 'sedan' 'convertible' 'bus' 'wagon' 'other']\n",
      "Уникальных значений: 9\n",
      "\n",
      "Gearbox: ['manual' 'auto' 'none']\n",
      "Уникальных значений: 3\n",
      "\n",
      "Model: ['golf' 'none' 'grand' 'fabia' '3er' '2_reihe' 'other' 'c_max' '3_reihe'\n",
      " 'passat' 'navara' 'ka' 'polo' 'twingo' 'a_klasse' 'scirocco' '5er'\n",
      " 'meriva' 'arosa' 'c4' 'civic' 'transporter' 'punto' 'e_klasse' 'clio'\n",
      " 'kadett' 'kangoo' 'corsa' 'one' 'fortwo' '1er' 'b_klasse' 'signum'\n",
      " 'astra' 'a8' 'jetta' 'fiesta' 'c_klasse' 'micra' 'vito' 'sprinter' '156'\n",
      " 'escort' 'forester' 'xc_reihe' 'scenic' 'a4' 'a1' 'insignia' 'combo'\n",
      " 'focus' 'tt' 'a6' 'jazz' 'omega' 'slk' '7er' '80' '147' '100' 'z_reihe'\n",
      " 'sportage' 'sorento' 'v40' 'ibiza' 'mustang' 'eos' 'touran' 'getz' 'a3'\n",
      " 'almera' 'megane' 'lupo' 'r19' 'zafira' 'caddy' 'mondeo' 'cordoba' 'colt'\n",
      " 'impreza' 'vectra' 'berlingo' 'tiguan' 'i_reihe' 'espace' 'sharan'\n",
      " '6_reihe' 'panda' 'up' 'seicento' 'ceed' '5_reihe' 'yeti' 'octavia' 'mii'\n",
      " 'rx_reihe' '6er' 'modus' 'fox' 'matiz' 'beetle' 'c1' 'rio' 'touareg'\n",
      " 'logan' 'spider' 'cuore' 's_max' 'a2' 'galaxy' 'c3' 'viano' 's_klasse'\n",
      " '1_reihe' 'avensis' 'roomster' 'sl' 'kaefer' 'santa' 'cooper' 'leon'\n",
      " '4_reihe' 'a5' '500' 'laguna' 'ptcruiser' 'clk' 'primera' 'x_reihe'\n",
      " 'exeo' '159' 'transit' 'juke' 'qashqai' 'carisma' 'accord' 'corolla'\n",
      " 'lanos' 'phaeton' 'verso' 'swift' 'rav' 'picanto' 'boxster' 'kalos'\n",
      " 'superb' 'stilo' 'alhambra' 'mx_reihe' 'roadster' 'ypsilon' 'cayenne'\n",
      " 'galant' 'justy' '90' 'sirion' 'crossfire' 'agila' 'duster' 'cr_reihe'\n",
      " 'v50' 'c_reihe' 'v_klasse' 'm_klasse' 'yaris' 'c5' 'aygo' 'cc' 'carnival'\n",
      " 'fusion' '911' 'bora' 'forfour' 'm_reihe' 'cl' 'tigra' '300c' 'spark'\n",
      " 'v70' 'kuga' 'x_type' 'ducato' 's_type' 'x_trail' 'toledo' 'altea'\n",
      " 'voyager' 'calibra' 'bravo' 'antara' 'tucson' 'citigo' 'jimny' 'wrangler'\n",
      " 'lybra' 'q7' 'lancer' 'captiva' 'c2' 'discovery' 'freelander' 'sandero'\n",
      " 'note' '900' 'cherokee' 'clubman' 'samara' 'defender' '601' 'cx_reihe'\n",
      " 'legacy' 'pajero' 'auris' 'niva' 's60' 'nubira' 'vivaro' 'g_klasse'\n",
      " 'lodgy' '850' 'range_rover' 'q3' 'serie_2' 'glk' 'charade' 'croma'\n",
      " 'outlander' 'doblo' 'musa' 'move' '9000' 'v60' '145' 'aveo' '200' 'b_max'\n",
      " 'range_rover_sport' 'terios' 'rangerover' 'q5' 'range_rover_evoque'\n",
      " 'materia' 'delta' 'gl' 'kalina' 'amarok' 'elefantino' 'i3' 'kappa'\n",
      " 'serie_3' 'serie_1']\n",
      "Уникальных значений: 251\n",
      "\n",
      "FuelType: ['petrol' 'gasoline' 'none' 'lpg' 'other' 'hybrid' 'cng' 'electric']\n",
      "Уникальных значений: 8\n",
      "\n",
      "Brand: ['volkswagen' 'audi' 'jeep' 'skoda' 'bmw' 'peugeot' 'ford' 'mazda'\n",
      " 'nissan' 'renault' 'mercedes_benz' 'opel' 'seat' 'citroen' 'honda' 'fiat'\n",
      " 'mini' 'smart' 'hyundai' 'sonstige_autos' 'alfa_romeo' 'subaru' 'volvo'\n",
      " 'mitsubishi' 'kia' 'suzuki' 'lancia' 'toyota' 'chevrolet' 'dacia'\n",
      " 'daihatsu' 'trabant' 'saab' 'chrysler' 'jaguar' 'daewoo' 'porsche'\n",
      " 'rover' 'land_rover' 'lada']\n",
      "Уникальных значений: 40\n",
      "\n",
      "NotRepaired: ['none' 'yes' 'no']\n",
      "Уникальных значений: 3\n",
      "\n",
      "Kilometer: [150000 125000  90000  40000  30000  70000   5000 100000  60000  20000\n",
      "  80000  50000  10000]\n",
      "Уникальных значений: 13\n",
      "\n",
      "NumberOfPictures: [0]\n",
      "Уникальных значений: 1\n",
      "\n",
      "PostalCode: [70435 66954 90480 ... 38528 38325 31096]\n",
      "Уникальных значений: 8143\n",
      "\n"
     ]
    }
   ],
   "source": [
    "cat_features = [cname for cname in df.columns \n",
    "                if df[cname].dtype == 'object' \n",
    "                and 'Date' not in cname \n",
    "                and 'Seen' not in cname]\n",
    "\n",
    "cat_features_ext = cat_features.copy()\n",
    "cat_features_ext.extend(['Kilometer', 'NumberOfPictures', 'PostalCode'])\n",
    "\n",
    "for col in cat_features_ext:\n",
    "    print('{}: {}'.format(col, df[col].unique()))\n",
    "    print('Уникальных значений: {}'.format(df[col].nunique()))\n",
    "    print()"
   ]
  },
  {
   "cell_type": "markdown",
   "metadata": {},
   "source": [
    "Количество фотографий всегда 0 - этот признак не несёт никакой ценной информации.\n",
    "\n",
    "Вариантов значений пробега всего 13. Оставим этот признак числовым, но выразим не в км, а в тыс.км. Другие категориальные признаки переведём в тип category.\n",
    "\n",
    "В данных есть 8143 различных варианта значения индекса - это не очень много для более чем 350 тыс. объектов. Скорее всего, география объявления влияет на цену. Закодируем индексы по стоимости машин. Чтобы избежать утечки данных и переобучения, кодировать будем на основе 20% обучающей выборки. Создадим класс, чтобы использовать его в дальнейшем при кросс-валидации."
   ]
  },
  {
   "cell_type": "code",
   "execution_count": 10,
   "metadata": {},
   "outputs": [],
   "source": [
    "df = df.drop('NumberOfPictures', axis=1)\n",
    "df['Kilometer'] /= 1000\n",
    "df[cat_features] = df[cat_features].astype('category')"
   ]
  },
  {
   "cell_type": "code",
   "execution_count": 11,
   "metadata": {},
   "outputs": [],
   "source": [
    "class PriceEncoder():\n",
    "    '''Кодирует почтовый индекс по значениям стоимости машин в случайной подвыборке обучающей выборки.'''\n",
    "    \n",
    "    def fit(self, X, y):\n",
    "        X_encode = X.sample(frac=0.2, random_state=42)\n",
    "        y_encode = y[X_encode.index]\n",
    "        \n",
    "        self.encoder = MEstimateEncoder(cols=['PostalCode'], m=4)\n",
    "        self.encoder.fit(X_encode, y_encode)\n",
    "        return self\n",
    "    \n",
    "    def transform(self, X):\n",
    "        return self.encoder.transform(X)"
   ]
  },
  {
   "cell_type": "markdown",
   "metadata": {},
   "source": [
    "Создадим столбец с ориентировочным возрастом машины. \n",
    "\n",
    "На первом шаге запишем год создания анкеты и посмотрим, что ошибок в значениях нет."
   ]
  },
  {
   "cell_type": "code",
   "execution_count": 12,
   "metadata": {},
   "outputs": [
    {
     "data": {
      "text/plain": [
       "array([2016, 2015, 2014])"
      ]
     },
     "execution_count": 12,
     "metadata": {},
     "output_type": "execute_result"
    }
   ],
   "source": [
    "df['YearOld'] = pd.to_datetime(df['DateCreated'], format='%Y-%m-%d')\n",
    "df['YearOld'] = df['YearOld'].apply(lambda x: x.year)\n",
    "\n",
    "df['YearOld'].unique()"
   ]
  },
  {
   "cell_type": "markdown",
   "metadata": {},
   "source": [
    "Посчитаем возраст с точностью до года."
   ]
  },
  {
   "cell_type": "code",
   "execution_count": 13,
   "metadata": {},
   "outputs": [
    {
     "data": {
      "text/plain": [
       "count    354365.000000\n",
       "mean         11.765442\n",
       "std          90.228466\n",
       "min       -7983.000000\n",
       "25%           8.000000\n",
       "50%          13.000000\n",
       "75%          17.000000\n",
       "max        1016.000000\n",
       "Name: YearOld, dtype: float64"
      ]
     },
     "execution_count": 13,
     "metadata": {},
     "output_type": "execute_result"
    }
   ],
   "source": [
    "df['YearOld'] -= df['RegistrationYear']\n",
    "df['YearOld'].describe()"
   ]
  },
  {
   "cell_type": "markdown",
   "metadata": {},
   "source": [
    "Возраст оказался в широком диапазоне от -7983 до 1016 лет. Посмотрим на значения года регистрации автомобиля."
   ]
  },
  {
   "cell_type": "code",
   "execution_count": 14,
   "metadata": {},
   "outputs": [
    {
     "data": {
      "text/plain": [
       "array([1993, 2011, 2004, 2001, 2008, 1995, 1980, 2014, 1998, 2005, 1910,\n",
       "       2016, 2007, 2009, 2002, 2018, 1997, 1990, 2017, 1981, 2003, 1994,\n",
       "       1991, 1984, 2006, 1999, 2012, 2010, 2000, 1992, 2013, 1996, 1985,\n",
       "       1989, 2015, 1982, 1976, 1983, 1973, 1111, 1969, 1971, 1987, 1986,\n",
       "       1988, 1970, 1965, 1945, 1925, 1974, 1979, 1955, 1978, 1972, 1968,\n",
       "       1977, 1961, 1960, 1966, 1975, 1963, 1964, 5000, 1954, 1958, 1967,\n",
       "       1959, 9999, 1956, 3200, 1000, 1941, 8888, 1500, 2200, 4100, 1962,\n",
       "       1929, 1957, 1940, 3000, 2066, 1949, 2019, 1937, 1951, 1800, 1953,\n",
       "       1234, 8000, 5300, 9000, 2900, 6000, 5900, 5911, 1933, 1400, 1950,\n",
       "       4000, 1948, 1952, 1200, 8500, 1932, 1255, 3700, 3800, 4800, 1942,\n",
       "       7000, 1935, 1936, 6500, 1923, 2290, 2500, 1930, 1001, 9450, 1944,\n",
       "       1943, 1934, 1938, 1688, 2800, 1253, 1928, 1919, 5555, 5600, 1600,\n",
       "       2222, 1039, 9996, 1300, 8455, 1931, 1915, 4500, 1920, 1602, 7800,\n",
       "       9229, 1947, 1927, 7100, 8200, 1946, 7500, 3500])"
      ]
     },
     "execution_count": 14,
     "metadata": {},
     "output_type": "execute_result"
    }
   ],
   "source": [
    "df['RegistrationYear'].unique()"
   ]
  },
  {
   "cell_type": "markdown",
   "metadata": {},
   "source": [
    "Среди значений много явно ошибочных. Возможно, люди вводили заведомо неправильное значение, если не знали настоящее. Будем считать, что если возраст не укладывается в рамки от 0 до 100 лет, то у нас нет данных о возрасте. Обозначим такой вариант значением -10."
   ]
  },
  {
   "cell_type": "code",
   "execution_count": 15,
   "metadata": {
    "scrolled": true
   },
   "outputs": [
    {
     "data": {
      "text/plain": [
       "count    354365.000000\n",
       "mean         12.515635\n",
       "std           8.227467\n",
       "min         -10.000000\n",
       "25%           8.000000\n",
       "50%          13.000000\n",
       "75%          17.000000\n",
       "max          97.000000\n",
       "Name: YearOld, dtype: float64"
      ]
     },
     "execution_count": 15,
     "metadata": {},
     "output_type": "execute_result"
    }
   ],
   "source": [
    "df.loc[(df['YearOld'] < 0) | (df['YearOld'] > 100),'YearOld'] = -10\n",
    "df['YearOld'].describe()"
   ]
  },
  {
   "cell_type": "markdown",
   "metadata": {},
   "source": [
    "Другая информация из дат не представляет ценности для прогнозирования стоимости."
   ]
  },
  {
   "cell_type": "code",
   "execution_count": 16,
   "metadata": {},
   "outputs": [],
   "source": [
    "df = df.drop(['DateCrawled','RegistrationYear','RegistrationMonth','DateCreated','LastSeen'], axis=1)"
   ]
  },
  {
   "cell_type": "markdown",
   "metadata": {},
   "source": [
    "Посмотрим на значения мощности."
   ]
  },
  {
   "cell_type": "code",
   "execution_count": 17,
   "metadata": {
    "scrolled": true
   },
   "outputs": [
    {
     "data": {
      "text/html": [
       "<div>\n",
       "<style scoped>\n",
       "    .dataframe tbody tr th:only-of-type {\n",
       "        vertical-align: middle;\n",
       "    }\n",
       "\n",
       "    .dataframe tbody tr th {\n",
       "        vertical-align: top;\n",
       "    }\n",
       "\n",
       "    .dataframe thead th {\n",
       "        text-align: right;\n",
       "    }\n",
       "</style>\n",
       "<table border=\"1\" class=\"dataframe\">\n",
       "  <thead>\n",
       "    <tr style=\"text-align: right;\">\n",
       "      <th></th>\n",
       "      <th>Power</th>\n",
       "    </tr>\n",
       "  </thead>\n",
       "  <tbody>\n",
       "    <tr>\n",
       "      <td>count</td>\n",
       "      <td>354365.000000</td>\n",
       "    </tr>\n",
       "    <tr>\n",
       "      <td>mean</td>\n",
       "      <td>110.093816</td>\n",
       "    </tr>\n",
       "    <tr>\n",
       "      <td>std</td>\n",
       "      <td>189.851330</td>\n",
       "    </tr>\n",
       "    <tr>\n",
       "      <td>min</td>\n",
       "      <td>0.000000</td>\n",
       "    </tr>\n",
       "    <tr>\n",
       "      <td>25%</td>\n",
       "      <td>69.000000</td>\n",
       "    </tr>\n",
       "    <tr>\n",
       "      <td>50%</td>\n",
       "      <td>105.000000</td>\n",
       "    </tr>\n",
       "    <tr>\n",
       "      <td>75%</td>\n",
       "      <td>143.000000</td>\n",
       "    </tr>\n",
       "    <tr>\n",
       "      <td>max</td>\n",
       "      <td>20000.000000</td>\n",
       "    </tr>\n",
       "  </tbody>\n",
       "</table>\n",
       "</div>"
      ],
      "text/plain": [
       "               Power\n",
       "count  354365.000000\n",
       "mean      110.093816\n",
       "std       189.851330\n",
       "min         0.000000\n",
       "25%        69.000000\n",
       "50%       105.000000\n",
       "75%       143.000000\n",
       "max     20000.000000"
      ]
     },
     "execution_count": 17,
     "metadata": {},
     "output_type": "execute_result"
    }
   ],
   "source": [
    "df[['Power']].describe()"
   ]
  },
  {
   "cell_type": "markdown",
   "metadata": {},
   "source": [
    "Среди значений есть очень большие. Посмотрим на распределение."
   ]
  },
  {
   "cell_type": "code",
   "execution_count": 18,
   "metadata": {
    "scrolled": false
   },
   "outputs": [
    {
     "data": {
      "image/png": "[encoded data removed]",
      "text/plain": [
       "<Figure size 864x648 with 1 Axes>"
      ]
     },
     "metadata": {},
     "output_type": "display_data"
    }
   ],
   "source": [
    "sns.set(context='talk', style='whitegrid', palette='muted')\n",
    "plt.figure(figsize=(12, 9))\n",
    "\n",
    "sns.distplot(\n",
    "    df['Power'],\n",
    "    kde=True,\n",
    "    hist=False,\n",
    ")\n",
    "\n",
    "plt.title('Мощности машин')\n",
    "plt.xlabel('Мощность, л. с.')\n",
    "plt.ylabel('Плотность частоты')\n",
    "plt.show()"
   ]
  },
  {
   "cell_type": "markdown",
   "metadata": {},
   "source": [
    "Существуют машины с мощными двигателями, но не 20000 л.с. Посмотрим для ориентира на несколько машин с большим, но реалистичным значением л.с."
   ]
  },
  {
   "cell_type": "code",
   "execution_count": 19,
   "metadata": {
    "scrolled": true
   },
   "outputs": [
    {
     "data": {
      "text/html": [
       "<div>\n",
       "<style scoped>\n",
       "    .dataframe tbody tr th:only-of-type {\n",
       "        vertical-align: middle;\n",
       "    }\n",
       "\n",
       "    .dataframe tbody tr th {\n",
       "        vertical-align: top;\n",
       "    }\n",
       "\n",
       "    .dataframe thead th {\n",
       "        text-align: right;\n",
       "    }\n",
       "</style>\n",
       "<table border=\"1\" class=\"dataframe\">\n",
       "  <thead>\n",
       "    <tr style=\"text-align: right;\">\n",
       "      <th></th>\n",
       "      <th>Price</th>\n",
       "      <th>VehicleType</th>\n",
       "      <th>Gearbox</th>\n",
       "      <th>Power</th>\n",
       "      <th>Model</th>\n",
       "      <th>Kilometer</th>\n",
       "      <th>FuelType</th>\n",
       "      <th>Brand</th>\n",
       "      <th>NotRepaired</th>\n",
       "      <th>PostalCode</th>\n",
       "      <th>YearOld</th>\n",
       "    </tr>\n",
       "  </thead>\n",
       "  <tbody>\n",
       "    <tr>\n",
       "      <td>34332</td>\n",
       "      <td>450</td>\n",
       "      <td>none</td>\n",
       "      <td>none</td>\n",
       "      <td>1800</td>\n",
       "      <td>none</td>\n",
       "      <td>5.0</td>\n",
       "      <td>none</td>\n",
       "      <td>mitsubishi</td>\n",
       "      <td>no</td>\n",
       "      <td>63322</td>\n",
       "      <td>-10</td>\n",
       "    </tr>\n",
       "    <tr>\n",
       "      <td>65138</td>\n",
       "      <td>1450</td>\n",
       "      <td>small</td>\n",
       "      <td>auto</td>\n",
       "      <td>1800</td>\n",
       "      <td>vectra</td>\n",
       "      <td>150.0</td>\n",
       "      <td>petrol</td>\n",
       "      <td>opel</td>\n",
       "      <td>no</td>\n",
       "      <td>6112</td>\n",
       "      <td>16</td>\n",
       "    </tr>\n",
       "    <tr>\n",
       "      <td>139360</td>\n",
       "      <td>450</td>\n",
       "      <td>none</td>\n",
       "      <td>none</td>\n",
       "      <td>1800</td>\n",
       "      <td>none</td>\n",
       "      <td>5.0</td>\n",
       "      <td>none</td>\n",
       "      <td>mitsubishi</td>\n",
       "      <td>no</td>\n",
       "      <td>63322</td>\n",
       "      <td>-10</td>\n",
       "    </tr>\n",
       "    <tr>\n",
       "      <td>191184</td>\n",
       "      <td>1450</td>\n",
       "      <td>sedan</td>\n",
       "      <td>auto</td>\n",
       "      <td>1800</td>\n",
       "      <td>vectra</td>\n",
       "      <td>5.0</td>\n",
       "      <td>petrol</td>\n",
       "      <td>opel</td>\n",
       "      <td>no</td>\n",
       "      <td>6112</td>\n",
       "      <td>16</td>\n",
       "    </tr>\n",
       "    <tr>\n",
       "      <td>234097</td>\n",
       "      <td>1290</td>\n",
       "      <td>sedan</td>\n",
       "      <td>auto</td>\n",
       "      <td>1800</td>\n",
       "      <td>toledo</td>\n",
       "      <td>150.0</td>\n",
       "      <td>petrol</td>\n",
       "      <td>seat</td>\n",
       "      <td>no</td>\n",
       "      <td>13581</td>\n",
       "      <td>16</td>\n",
       "    </tr>\n",
       "    <tr>\n",
       "      <td>241039</td>\n",
       "      <td>1450</td>\n",
       "      <td>sedan</td>\n",
       "      <td>auto</td>\n",
       "      <td>1800</td>\n",
       "      <td>vectra</td>\n",
       "      <td>150.0</td>\n",
       "      <td>petrol</td>\n",
       "      <td>opel</td>\n",
       "      <td>no</td>\n",
       "      <td>6112</td>\n",
       "      <td>16</td>\n",
       "    </tr>\n",
       "    <tr>\n",
       "      <td>247154</td>\n",
       "      <td>2500</td>\n",
       "      <td>bus</td>\n",
       "      <td>manual</td>\n",
       "      <td>1800</td>\n",
       "      <td>zafira</td>\n",
       "      <td>150.0</td>\n",
       "      <td>none</td>\n",
       "      <td>opel</td>\n",
       "      <td>none</td>\n",
       "      <td>22941</td>\n",
       "      <td>15</td>\n",
       "    </tr>\n",
       "    <tr>\n",
       "      <td>296683</td>\n",
       "      <td>3500</td>\n",
       "      <td>wagon</td>\n",
       "      <td>manual</td>\n",
       "      <td>1800</td>\n",
       "      <td>none</td>\n",
       "      <td>150.0</td>\n",
       "      <td>gasoline</td>\n",
       "      <td>audi</td>\n",
       "      <td>no</td>\n",
       "      <td>83536</td>\n",
       "      <td>14</td>\n",
       "    </tr>\n",
       "  </tbody>\n",
       "</table>\n",
       "</div>"
      ],
      "text/plain": [
       "        Price VehicleType Gearbox  Power   Model  Kilometer  FuelType  \\\n",
       "34332     450        none    none   1800    none        5.0      none   \n",
       "65138    1450       small    auto   1800  vectra      150.0    petrol   \n",
       "139360    450        none    none   1800    none        5.0      none   \n",
       "191184   1450       sedan    auto   1800  vectra        5.0    petrol   \n",
       "234097   1290       sedan    auto   1800  toledo      150.0    petrol   \n",
       "241039   1450       sedan    auto   1800  vectra      150.0    petrol   \n",
       "247154   2500         bus  manual   1800  zafira      150.0      none   \n",
       "296683   3500       wagon  manual   1800    none      150.0  gasoline   \n",
       "\n",
       "             Brand NotRepaired  PostalCode  YearOld  \n",
       "34332   mitsubishi          no       63322      -10  \n",
       "65138         opel          no        6112       16  \n",
       "139360  mitsubishi          no       63322      -10  \n",
       "191184        opel          no        6112       16  \n",
       "234097        seat          no       13581       16  \n",
       "241039        opel          no        6112       16  \n",
       "247154        opel        none       22941       15  \n",
       "296683        audi          no       83536       14  "
      ]
     },
     "execution_count": 19,
     "metadata": {},
     "output_type": "execute_result"
    }
   ],
   "source": [
    "df[df['Power'] == 1800]"
   ]
  },
  {
   "cell_type": "markdown",
   "metadata": {},
   "source": [
    "Это не Бугатти. В данных явно ошибка. Может быть, ошиблись в 10 раз? Но среди значений есть и ещё более увеличенные, и неестественно маленькие. Заменим все ошибочные данные на -10 и будем считать это поле незаполненным."
   ]
  },
  {
   "cell_type": "code",
   "execution_count": 20,
   "metadata": {},
   "outputs": [
    {
     "data": {
      "text/plain": [
       "count    354365.000000\n",
       "mean        102.001044\n",
       "std          62.229839\n",
       "min         -10.000000\n",
       "25%          66.000000\n",
       "50%         102.000000\n",
       "75%         140.000000\n",
       "max         300.000000\n",
       "Name: Power, dtype: float64"
      ]
     },
     "execution_count": 20,
     "metadata": {},
     "output_type": "execute_result"
    }
   ],
   "source": [
    "df.loc[(df['Power'] > 300) | (df['Power'] < 30),'Power'] = -10\n",
    "df['Power'].describe()"
   ]
  },
  {
   "cell_type": "code",
   "execution_count": 21,
   "metadata": {},
   "outputs": [
    {
     "data": {
      "image/png": "[encoded data removed]",
      "text/plain": [
       "<Figure size 864x648 with 1 Axes>"
      ]
     },
     "metadata": {},
     "output_type": "display_data"
    }
   ],
   "source": [
    "plt.figure(figsize=(12, 9))\n",
    "\n",
    "sns.distplot(\n",
    "    df['Power'],\n",
    "    kde=True,\n",
    "    hist=False,\n",
    ")\n",
    "\n",
    "plt.title('Мощности машин')\n",
    "plt.xlabel('Мощность, л. с.')\n",
    "plt.ylabel('Плотность частоты')\n",
    "plt.show()"
   ]
  },
  {
   "cell_type": "markdown",
   "metadata": {},
   "source": [
    "У нас есть десять признаков для прогнозирования стоимости. Если значения половины из них отсутствуют, то такой объект даёт больше шума, чем данных. Один из десяти признаков - это почтовый индекс, а не характеристика автомобиля. Удалим из таблицы объекты, у которых четыре и более признаков равно 'none' или -10."
   ]
  },
  {
   "cell_type": "code",
   "execution_count": 22,
   "metadata": {
    "scrolled": false
   },
   "outputs": [
    {
     "name": "stdout",
     "output_type": "stream",
     "text": [
      "<class 'pandas.core.frame.DataFrame'>\n",
      "RangeIndex: 338708 entries, 0 to 338707\n",
      "Data columns (total 11 columns):\n",
      "Price          338708 non-null int64\n",
      "VehicleType    338708 non-null category\n",
      "Gearbox        338708 non-null category\n",
      "Power          338708 non-null int64\n",
      "Model          338708 non-null category\n",
      "Kilometer      338708 non-null float64\n",
      "FuelType       338708 non-null category\n",
      "Brand          338708 non-null category\n",
      "NotRepaired    338708 non-null category\n",
      "PostalCode     338708 non-null int64\n",
      "YearOld        338708 non-null int64\n",
      "dtypes: category(6), float64(1), int64(4)\n",
      "memory usage: 15.2 MB\n"
     ]
    }
   ],
   "source": [
    "# Жалуется, что приходится сравнивать с 'none', но сравнивает.\n",
    "import warnings\n",
    "warnings.filterwarnings(\"ignore\")\n",
    "\n",
    "df = df.drop(df[((df == 'none') | (df == -10)).sum(axis=1) >= 4].index, axis=0).reset_index(drop=True)\n",
    "df.info()"
   ]
  },
  {
   "cell_type": "markdown",
   "metadata": {},
   "source": [
    "Создадим отдельные переменные для признаков и для целевого признака. Кроме того, сохраним список имён числовых признаков. Список имён категориальных признаков у нас уже есть - cat_features."
   ]
  },
  {
   "cell_type": "code",
   "execution_count": 23,
   "metadata": {
    "scrolled": true
   },
   "outputs": [],
   "source": [
    "X = df.drop('Price', axis=1)\n",
    "y = df['Price']\n",
    "\n",
    "num_features = [cname for cname in X.columns if X[cname].dtype in ['int','float']]\n",
    "\n",
    "del(df)"
   ]
  },
  {
   "cell_type": "markdown",
   "metadata": {},
   "source": [
    "### Вывод\n",
    "\n",
    "Данные загружены и изучены. Дубликаты удалены, пропуски заполнены, типы данных преобразованы. Создан столбец с возрастом машин. Для кодирования почтового индекса по средней стоимости машин создан класс.\n",
    "\n",
    "Неестественные значения признаков приравнены к пропущенным. Удалены объекты, у котороых пропущенно четыре и более значений признаков.\n",
    "\n",
    "Созданы таблицы X и y с признаками и целевым признаком. Сохранены списки имён категориальных и числовых признаков."
   ]
  },
  {
   "cell_type": "markdown",
   "metadata": {},
   "source": [
    "## 2 Обучение моделей"
   ]
  },
  {
   "cell_type": "markdown",
   "metadata": {},
   "source": [
    "### 2.1 Dummy-модель"
   ]
  },
  {
   "cell_type": "markdown",
   "metadata": {},
   "source": [
    "Для ориентира посмотрим значение RMSE для модели, которая всегда предсказывает среднее значение целевого признака обучающей выборки."
   ]
  },
  {
   "cell_type": "code",
   "execution_count": 24,
   "metadata": {},
   "outputs": [],
   "source": [
    "def score_dataset(model, X, y):\n",
    "    '''Считает RMSE на кросс-валидации.'''\n",
    "    \n",
    "    kf = KFold(n_splits=5, random_state=42, shuffle=True)\n",
    "    score = abs(cross_val_score(model, X, y, scoring='neg_mean_squared_error', cv=kf, n_jobs=-1)) ** 0.5\n",
    "    score = score.mean()\n",
    "    return score"
   ]
  },
  {
   "cell_type": "code",
   "execution_count": 25,
   "metadata": {},
   "outputs": [
    {
     "name": "stdout",
     "output_type": "stream",
     "text": [
      "Для dummy-модели RMSE = 4539\n"
     ]
    }
   ],
   "source": [
    "rmse_dm = score_dataset(DummyRegressor(strategy='mean'), X, y)\n",
    "time_dm = '-'\n",
    "\n",
    "print('Для dummy-модели RMSE = {:.0f}'.format(rmse_dm))"
   ]
  },
  {
   "cell_type": "markdown",
   "metadata": {},
   "source": [
    "**Вывод**\n",
    "\n",
    "Создана функция для расчёта RMSE на кросс-валидации. Получено пороговое значение метрики для определения адекватности моделей."
   ]
  },
  {
   "cell_type": "markdown",
   "metadata": {},
   "source": [
    "### 2.2 Линейная регрессия"
   ]
  },
  {
   "cell_type": "markdown",
   "metadata": {},
   "source": [
    "В поставленной задаче важна скорость обучения. Линейная регрессия работает быстрее деревянных моделей. Для успешности обучения необходимо преобразовать признаки: масштабировать численные и закодировать категориальные. \n",
    "\n",
    "Для всех моделей понадобится одинаковая цепочка действий: до обучения модели преобразовать индекс по части данных обучающей выборки. Для линейной регрессии потребуется ещё масштабирование численных признаков."
   ]
  },
  {
   "cell_type": "code",
   "execution_count": 26,
   "metadata": {},
   "outputs": [],
   "source": [
    "def get_pipline(model, num_transformer=False, num_features=num_features):\n",
    "    '''Создаёт пайплайн: преобразование почтового индекса, модель. \n",
    "    Для num_transformer=True после преобразования индекса все числовые признаки масштабируются в [0,1].'''\n",
    "    \n",
    "    if num_transformer:\n",
    "        preprocessor = ColumnTransformer(\n",
    "            transformers = [('num', MinMaxScaler(), num_features)],\n",
    "            remainder = 'passthrough',\n",
    "            n_jobs = -1\n",
    "        )\n",
    "        pipeline = Pipeline(steps=[('post_price', PriceEncoder()),\n",
    "                                   ('preprocessor', preprocessor),\n",
    "                                   ('model', model)])\n",
    "    else:\n",
    "        pipeline = Pipeline(steps=[('post_price', PriceEncoder()),\n",
    "                                   ('model', model)])\n",
    "        \n",
    "    return pipeline"
   ]
  },
  {
   "cell_type": "markdown",
   "metadata": {},
   "source": [
    "Для категориальных признаков используем прямое кодирование."
   ]
  },
  {
   "cell_type": "code",
   "execution_count": 27,
   "metadata": {},
   "outputs": [
    {
     "name": "stdout",
     "output_type": "stream",
     "text": [
      "Для линейной регрессии RMSE = 2814\n",
      "\n",
      "CPU times: user 2min 7s, sys: 47.6 s, total: 2min 55s\n",
      "Wall time: 2min 55s\n"
     ]
    }
   ],
   "source": [
    "%%time\n",
    "\n",
    "X_lr = pd.get_dummies(X, drop_first=True)\n",
    "model_lr = LinearRegression(n_jobs=-1)\n",
    "pipeline_lr = get_pipline(model_lr, num_transformer=True)\n",
    "rmse_lr = score_dataset(pipeline_lr, X_lr, y)\n",
    "\n",
    "print('Для линейной регрессии RMSE = {:.0f}'.format(rmse_lr))\n",
    "print()"
   ]
  },
  {
   "cell_type": "markdown",
   "metadata": {},
   "source": [
    "Сохраним время обучения линейной регрессии."
   ]
  },
  {
   "cell_type": "code",
   "execution_count": 28,
   "metadata": {},
   "outputs": [],
   "source": [
    "def exec_time(start, end):\n",
    "    '''Выдаёт время между start и end в виде строки \"x мин. y сек.\".'''\n",
    "    \n",
    "    diff_time = end - start\n",
    "    m, s = divmod(diff_time, 60)\n",
    "    return '{:.0f} мин. {:.0f} сек.'.format(m, s)"
   ]
  },
  {
   "cell_type": "code",
   "execution_count": 29,
   "metadata": {},
   "outputs": [],
   "source": [
    "def fitting(model, X, y):\n",
    "    '''Возвращает обученную модель и время, которое ушло на обучение.'''\n",
    "    \n",
    "    start = time()\n",
    "    model.fit(X, y)\n",
    "    end = time()\n",
    "    return model, exec_time(start, end)"
   ]
  },
  {
   "cell_type": "code",
   "execution_count": 30,
   "metadata": {},
   "outputs": [
    {
     "name": "stdout",
     "output_type": "stream",
     "text": [
      "Время на обучение линейной регрессии: 0 мин. 39 сек.\n"
     ]
    }
   ],
   "source": [
    "pipeline_lr, time_lr = fitting(pipeline_lr, X_lr, y)\n",
    "print('Время на обучение линейной регрессии:', time_lr)"
   ]
  },
  {
   "cell_type": "markdown",
   "metadata": {},
   "source": [
    "**Вывод**\n",
    "\n",
    "Создана функция для получения цепочки из преобразования почтового индекса и модели.\n",
    "\n",
    "Посчитано ориентировочное время на обучение линейной регресси с учётом преобразования признаков и RMSE на кросс-валидации."
   ]
  },
  {
   "cell_type": "markdown",
   "metadata": {},
   "source": [
    "### 2.3 Случайный лес"
   ]
  },
  {
   "cell_type": "markdown",
   "metadata": {},
   "source": [
    "Для случайного леса используем порядковое кодирование категориальных признаков, чтобы не увеличивать их количество. Найдём оптимальные параметры модели."
   ]
  },
  {
   "cell_type": "code",
   "execution_count": 31,
   "metadata": {},
   "outputs": [],
   "source": [
    "def search_params(model, params, X, y):\n",
    "    '''Ищет лучшие параметры модели с помощью GridSearch. Возвращает лучшие параметры и RMSE.'''\n",
    "    \n",
    "    kf = KFold(n_splits=5, random_state=42, shuffle=True)\n",
    "    grid_search = GridSearchCV(\n",
    "        model, params, \n",
    "        scoring = 'neg_mean_squared_error', \n",
    "        cv = kf,\n",
    "        n_jobs = -1,\n",
    "        refit = False\n",
    "    )\n",
    "    grid_search.fit(X, y)\n",
    "    return grid_search.best_params_, abs(grid_search.best_score_) ** 0.5"
   ]
  },
  {
   "cell_type": "code",
   "execution_count": 32,
   "metadata": {},
   "outputs": [],
   "source": [
    "model_rf = RandomForestRegressor(random_state=42)\n",
    "\n",
    "params_rf = {\n",
    "    'model__n_estimators': [100, 200],\n",
    "    'model__max_depth': [20, 30]\n",
    "}\n",
    "\n",
    "pipeline_rf = get_pipline(model_rf)"
   ]
  },
  {
   "cell_type": "code",
   "execution_count": 33,
   "metadata": {},
   "outputs": [
    {
     "name": "stdout",
     "output_type": "stream",
     "text": [
      "Лучшие параметры: {'model__max_depth': 20, 'model__n_estimators': 200}\n",
      "Для случайного леса RMSE = 1716\n",
      "\n",
      "CPU times: user 1h 6min 31s, sys: 21.3 s, total: 1h 6min 52s\n",
      "Wall time: 1h 7min 7s\n"
     ]
    }
   ],
   "source": [
    "%%time\n",
    "\n",
    "encoder = OrdinalEncoder()\n",
    "X_rf = X.copy()\n",
    "X_rf[cat_features] = encoder.fit_transform(X_rf[cat_features])\n",
    "\n",
    "best_params_rf, rmse_rf = search_params(pipeline_rf, params_rf, X_rf, y)\n",
    "\n",
    "print('Лучшие параметры:', best_params_rf)\n",
    "print('Для случайного леса RMSE = {:.0f}'.format(rmse_rf))\n",
    "print()"
   ]
  },
  {
   "cell_type": "markdown",
   "metadata": {},
   "source": [
    "Посмотрим, сколько времени занимает обучение лучшей модели."
   ]
  },
  {
   "cell_type": "code",
   "execution_count": 34,
   "metadata": {},
   "outputs": [
    {
     "name": "stdout",
     "output_type": "stream",
     "text": [
      "Время на обучение случайного леса: 4 мин. 52 сек.\n"
     ]
    }
   ],
   "source": [
    "model_rf = RandomForestRegressor(\n",
    "    n_estimators = 200, \n",
    "    max_depth = 20, \n",
    "    random_state = 42\n",
    ")\n",
    "\n",
    "pipeline_rf = get_pipline(model_rf)\n",
    "\n",
    "pipeline_rf, time_rf = fitting(pipeline_rf, X_rf, y)\n",
    "print('Время на обучение случайного леса:', time_rf)"
   ]
  },
  {
   "cell_type": "markdown",
   "metadata": {},
   "source": [
    "**Вывод**\n",
    "\n",
    "Для случайного леса выбраны лучшие гиперпараметры из четырёх вариантов. Посчитано значение RMSE и время обучения."
   ]
  },
  {
   "cell_type": "markdown",
   "metadata": {},
   "source": [
    "### 2.4 Градиентный бустинг"
   ]
  },
  {
   "cell_type": "markdown",
   "metadata": {},
   "source": [
    "Подберём параметры для градиентного бустинга. LightGBM умеет работать с категориальными признаками, поэтому кодирование не понадобится."
   ]
  },
  {
   "cell_type": "code",
   "execution_count": 35,
   "metadata": {},
   "outputs": [],
   "source": [
    "model_gb = LGBMRegressor(random_state = 42)\n",
    "\n",
    "params_gb = {\n",
    "    'model__n_estimators': [100, 500],\n",
    "    'model__max_depth': [10, 20]\n",
    "}\n",
    "\n",
    "pipeline_gb = get_pipline(model_gb)"
   ]
  },
  {
   "cell_type": "code",
   "execution_count": 36,
   "metadata": {
    "scrolled": false
   },
   "outputs": [
    {
     "name": "stdout",
     "output_type": "stream",
     "text": [
      "Лучшие параметры: {'model__max_depth': 20, 'model__n_estimators': 500}\n",
      "Для градиентного бустинга RMSE = 1688\n",
      "\n",
      "CPU times: user 26min 13s, sys: 10.2 s, total: 26min 23s\n",
      "Wall time: 26min 37s\n"
     ]
    }
   ],
   "source": [
    "%%time\n",
    "\n",
    "best_params_gb, rmse_gb = search_params(pipeline_gb, params_gb, X, y)\n",
    "\n",
    "print('Лучшие параметры:', best_params_gb)\n",
    "print('Для градиентного бустинга RMSE = {:.0f}'.format(rmse_gb))\n",
    "print()"
   ]
  },
  {
   "cell_type": "markdown",
   "metadata": {},
   "source": [
    "Посмотрим, сколько времени занимает обучение лучшей модели."
   ]
  },
  {
   "cell_type": "code",
   "execution_count": 38,
   "metadata": {},
   "outputs": [
    {
     "name": "stdout",
     "output_type": "stream",
     "text": [
      "Время на обучение градиентного бустинга: 2 мин. 59 сек.\n"
     ]
    }
   ],
   "source": [
    "model_gb = LGBMRegressor(\n",
    "    n_estimators = 500, \n",
    "    max_depth = 20,  \n",
    "    random_state = 42\n",
    ")\n",
    "\n",
    "pipeline_gb = get_pipline(model_gb)\n",
    "\n",
    "pipeline_gb, time_gb = fitting(pipeline_gb, X, y)\n",
    "print('Время на обучение градиентного бустинга:', time_gb)"
   ]
  },
  {
   "cell_type": "markdown",
   "metadata": {},
   "source": [
    "**Вывод**\n",
    "\n",
    "Для градиентного бустинга выбраны лучшие гиперпараметры из четырёх вариантов. Посчитано значение RMSE и время обучения."
   ]
  },
  {
   "cell_type": "markdown",
   "metadata": {},
   "source": [
    "### 2.5 Вывод\n",
    "\n",
    "Рассмотрены три модели: линейная регрессия, случайный лес и градиентный бустинг. Для двух последних подобраны лучшие гиперпараметры из нескольких вариантов. \n",
    "\n",
    "Для каждой модели посчитанано значение RMSE на кросс-валидации и зафиксировано время, необходимое на обучение. Кроме того, метрика посчитана на dummy-модели.\n",
    "\n",
    "Для линейной регрессии использовано прямое кодирование категориальных признаков и масштабирование численных. Для случайного леса - порядковое кодирование. И для всех моделей почтовый индекс был закодирован по средней стоимости машин.\n",
    "\n",
    "Быстрее всего работает линейная ререссия. Лучшее значение метрики показал градиентный бустинг."
   ]
  },
  {
   "cell_type": "markdown",
   "metadata": {},
   "source": [
    "## 3 Анализ моделей"
   ]
  },
  {
   "cell_type": "markdown",
   "metadata": {},
   "source": [
    "Рассмотрим результаты обучения моделей."
   ]
  },
  {
   "cell_type": "code",
   "execution_count": 39,
   "metadata": {},
   "outputs": [
    {
     "data": {
      "text/html": [
       "<div>\n",
       "<style scoped>\n",
       "    .dataframe tbody tr th:only-of-type {\n",
       "        vertical-align: middle;\n",
       "    }\n",
       "\n",
       "    .dataframe tbody tr th {\n",
       "        vertical-align: top;\n",
       "    }\n",
       "\n",
       "    .dataframe thead th {\n",
       "        text-align: right;\n",
       "    }\n",
       "</style>\n",
       "<table border=\"1\" class=\"dataframe\">\n",
       "  <thead>\n",
       "    <tr style=\"text-align: right;\">\n",
       "      <th></th>\n",
       "      <th>DummyRegressor</th>\n",
       "      <th>LinearRegression</th>\n",
       "      <th>RandomForestRegressor</th>\n",
       "      <th>LGBMRegressor</th>\n",
       "    </tr>\n",
       "  </thead>\n",
       "  <tbody>\n",
       "    <tr>\n",
       "      <td>RMSE</td>\n",
       "      <td>4539</td>\n",
       "      <td>2813</td>\n",
       "      <td>1715</td>\n",
       "      <td>1688</td>\n",
       "    </tr>\n",
       "    <tr>\n",
       "      <td>Fitting time</td>\n",
       "      <td>-</td>\n",
       "      <td>0 мин. 39 сек.</td>\n",
       "      <td>4 мин. 52 сек.</td>\n",
       "      <td>2 мин. 59 сек.</td>\n",
       "    </tr>\n",
       "  </tbody>\n",
       "</table>\n",
       "</div>"
      ],
      "text/plain": [
       "             DummyRegressor LinearRegression RandomForestRegressor  \\\n",
       "RMSE                   4539             2813                  1715   \n",
       "Fitting time              -   0 мин. 39 сек.        4 мин. 52 сек.   \n",
       "\n",
       "               LGBMRegressor  \n",
       "RMSE                    1688  \n",
       "Fitting time  2 мин. 59 сек.  "
      ]
     },
     "execution_count": 39,
     "metadata": {},
     "output_type": "execute_result"
    }
   ],
   "source": [
    "train_result = pd.DataFrame(\n",
    "    {\n",
    "        'DummyRegressor': [int(rmse_dm), time_dm],\n",
    "        'LinearRegression': [int(rmse_lr), time_lr],\n",
    "        'RandomForestRegressor': [int(rmse_rf), time_rf],\n",
    "        'LGBMRegressor': [int(rmse_gb), time_gb],\n",
    "    }, \n",
    "    index=['RMSE', 'Fitting time']\n",
    ")\n",
    "train_result"
   ]
  },
  {
   "cell_type": "markdown",
   "metadata": {},
   "source": [
    "Посмотрим, сколько времени займёт предсказание для каждой модели."
   ]
  },
  {
   "cell_type": "code",
   "execution_count": 40,
   "metadata": {},
   "outputs": [],
   "source": [
    "def prediction_timing(model, X):\n",
    "    '''Возвращает время, которое ушло на получение предсказаний.'''\n",
    "    \n",
    "    start = time()\n",
    "    preds = model.predict(X)\n",
    "    end = time()\n",
    "    return exec_time(start, end)"
   ]
  },
  {
   "cell_type": "code",
   "execution_count": 41,
   "metadata": {
    "scrolled": true
   },
   "outputs": [
    {
     "data": {
      "text/html": [
       "<div>\n",
       "<style scoped>\n",
       "    .dataframe tbody tr th:only-of-type {\n",
       "        vertical-align: middle;\n",
       "    }\n",
       "\n",
       "    .dataframe tbody tr th {\n",
       "        vertical-align: top;\n",
       "    }\n",
       "\n",
       "    .dataframe thead th {\n",
       "        text-align: right;\n",
       "    }\n",
       "</style>\n",
       "<table border=\"1\" class=\"dataframe\">\n",
       "  <thead>\n",
       "    <tr style=\"text-align: right;\">\n",
       "      <th></th>\n",
       "      <th>DummyRegressor</th>\n",
       "      <th>LinearRegression</th>\n",
       "      <th>RandomForestRegressor</th>\n",
       "      <th>LGBMRegressor</th>\n",
       "    </tr>\n",
       "  </thead>\n",
       "  <tbody>\n",
       "    <tr>\n",
       "      <td>RMSE</td>\n",
       "      <td>4539</td>\n",
       "      <td>2813</td>\n",
       "      <td>1715</td>\n",
       "      <td>1688</td>\n",
       "    </tr>\n",
       "    <tr>\n",
       "      <td>Fitting time</td>\n",
       "      <td>-</td>\n",
       "      <td>0 мин. 39 сек.</td>\n",
       "      <td>4 мин. 52 сек.</td>\n",
       "      <td>2 мин. 59 сек.</td>\n",
       "    </tr>\n",
       "    <tr>\n",
       "      <td>Prediction time</td>\n",
       "      <td>-</td>\n",
       "      <td>0 мин. 1 сек.</td>\n",
       "      <td>0 мин. 25 сек.</td>\n",
       "      <td>0 мин. 23 сек.</td>\n",
       "    </tr>\n",
       "  </tbody>\n",
       "</table>\n",
       "</div>"
      ],
      "text/plain": [
       "                DummyRegressor LinearRegression RandomForestRegressor  \\\n",
       "RMSE                      4539             2813                  1715   \n",
       "Fitting time                 -   0 мин. 39 сек.        4 мин. 52 сек.   \n",
       "Prediction time              -    0 мин. 1 сек.        0 мин. 25 сек.   \n",
       "\n",
       "                  LGBMRegressor  \n",
       "RMSE                       1688  \n",
       "Fitting time     2 мин. 59 сек.  \n",
       "Prediction time  0 мин. 23 сек.  "
      ]
     },
     "execution_count": 41,
     "metadata": {},
     "output_type": "execute_result"
    }
   ],
   "source": [
    "train_result.loc['Prediction time','DummyRegressor'] = time_dm\n",
    "train_result.loc['Prediction time','LinearRegression'] = prediction_timing(pipeline_lr, X_lr)\n",
    "train_result.loc['Prediction time','RandomForestRegressor'] = prediction_timing(pipeline_rf, X_rf)\n",
    "train_result.loc['Prediction time','LGBMRegressor'] = prediction_timing(pipeline_gb, X)\n",
    "\n",
    "train_result"
   ]
  },
  {
   "cell_type": "markdown",
   "metadata": {},
   "source": [
    "Показатели RMSE можно уменьшить и для случайного леса, и для градиентного бустинга, найдя оптимальные гиперпараметры. С учётом временных затрат на обучение лучше проводить такой поиск для градиентного бустинга."
   ]
  },
  {
   "cell_type": "markdown",
   "metadata": {},
   "source": [
    "### Вывод\n",
    "\n",
    "Лучшее значение RMSE даёт модель градиентного бустинга, но при этом она тратит сопоставимое со случайным лесом время на расчёт предсказаний. Время обучения и время на поиск оптимальных гиперпараметров у леса значительно хуже, чем у бустинга. Линейная регрессия работает быстро, но не даёт достаточно точный прогноз."
   ]
  },
  {
   "cell_type": "markdown",
   "metadata": {},
   "source": [
    "## 4 Вывод"
   ]
  },
  {
   "cell_type": "markdown",
   "metadata": {},
   "source": [
    "Данные загружены и подготовлены: удалены дубликаты, заполнены пропуски, преобразованы типы, сделаны расчёты. Объекты с большим количеством пропущенных значений признаков удалены из рассмотрения.\n",
    "\n",
    "Изучены модели линейной регрессии, случайного леса и градиентного бустинга. Для последних двух рассмотрено по четыре варианта значений гиперпараметров. Для каждой модели посчитаны значения RMSE и времени, потраченного на обучение и на получение предсказаний.\n",
    "\n",
    "Случайный лес по совокупности временных затрат проигрывает градиентному бустингу, значение RMSE также хуже. Линейная регрессия показала наилучшее время работы, но наименее точные предсказания. Оптимальной моделью для поставленной задачи является градиентный бустинг."
   ]
  },
  {
   "cell_type": "markdown",
   "metadata": {},
   "source": [
    "## 5 Чек-лист проверки"
   ]
  },
  {
   "cell_type": "markdown",
   "metadata": {},
   "source": [
    "Поставьте 'x' в выполненных пунктах. Далее нажмите Shift+Enter."
   ]
  },
  {
   "cell_type": "markdown",
   "metadata": {},
   "source": [
    "- [x]  Jupyter Notebook открыт\n",
    "- [x]  Весь код выполняется без ошибок\n",
    "- [x]  Ячейки с кодом расположены в порядке исполнения\n",
    "- [x]  Выполнена загрузка и подготовка данных\n",
    "- [x]  Выполнено обучение моделей\n",
    "- [x]  Есть анализ скорости работы и качества моделей"
   ]
  },
  {
   "cell_type": "code",
   "execution_count": null,
   "metadata": {},
   "outputs": [],
   "source": []
  }
 ],
 "metadata": {
  "ExecuteTimeLog": [
   {
    "duration": 759,
    "start_time": "2021-08-25T09:00:05.719Z"
   },
   {
    "duration": 1170,
    "start_time": "2021-08-25T09:00:49.919Z"
   },
   {
    "duration": 1408,
    "start_time": "2021-08-25T09:01:23.503Z"
   },
   {
    "duration": 33,
    "start_time": "2021-08-25T09:02:09.794Z"
   },
   {
    "duration": 601,
    "start_time": "2021-08-26T07:50:34.669Z"
   },
   {
    "duration": 943,
    "start_time": "2021-08-26T07:50:35.272Z"
   },
   {
    "duration": 29,
    "start_time": "2021-08-26T07:50:36.217Z"
   },
   {
    "duration": 128,
    "start_time": "2021-08-26T07:50:46.111Z"
   },
   {
    "duration": 126,
    "start_time": "2021-08-26T07:51:05.129Z"
   },
   {
    "duration": 371,
    "start_time": "2021-08-26T07:51:44.551Z"
   },
   {
    "duration": 123,
    "start_time": "2021-08-26T07:51:49.936Z"
   },
   {
    "duration": 128,
    "start_time": "2021-08-26T07:54:34.400Z"
   },
   {
    "duration": 4,
    "start_time": "2021-08-26T07:55:04.068Z"
   },
   {
    "duration": 106,
    "start_time": "2021-08-26T07:58:00.803Z"
   },
   {
    "duration": 103,
    "start_time": "2021-08-26T07:58:10.312Z"
   },
   {
    "duration": 187,
    "start_time": "2021-08-26T08:00:50.067Z"
   },
   {
    "duration": 206,
    "start_time": "2021-08-26T08:00:59.456Z"
   },
   {
    "duration": 210,
    "start_time": "2021-08-26T08:01:04.587Z"
   },
   {
    "duration": 209,
    "start_time": "2021-08-26T08:01:46.290Z"
   },
   {
    "duration": 436,
    "start_time": "2021-08-26T08:04:23.667Z"
   },
   {
    "duration": 288,
    "start_time": "2021-08-26T08:04:30.282Z"
   },
   {
    "duration": 122,
    "start_time": "2021-08-26T08:04:40.799Z"
   },
   {
    "duration": 180,
    "start_time": "2021-08-26T08:04:51.945Z"
   },
   {
    "duration": 15,
    "start_time": "2021-08-26T08:05:37.858Z"
   },
   {
    "duration": 20,
    "start_time": "2021-08-26T08:06:14.445Z"
   },
   {
    "duration": 14,
    "start_time": "2021-08-26T08:06:21.465Z"
   },
   {
    "duration": 15,
    "start_time": "2021-08-26T08:06:28.723Z"
   },
   {
    "duration": 242,
    "start_time": "2021-08-26T08:10:58.502Z"
   },
   {
    "duration": 419,
    "start_time": "2021-08-26T08:13:25.417Z"
   },
   {
    "duration": 43,
    "start_time": "2021-08-26T08:13:30.426Z"
   },
   {
    "duration": 360,
    "start_time": "2021-08-26T08:14:50.738Z"
   },
   {
    "duration": 41,
    "start_time": "2021-08-26T08:15:16.914Z"
   },
   {
    "duration": 48,
    "start_time": "2021-08-26T08:15:30.474Z"
   },
   {
    "duration": 254,
    "start_time": "2021-08-26T08:15:39.564Z"
   },
   {
    "duration": 47,
    "start_time": "2021-08-26T08:17:36.024Z"
   },
   {
    "duration": 63405,
    "start_time": "2021-08-26T08:19:48.253Z"
   },
   {
    "duration": 214,
    "start_time": "2021-08-26T08:20:56.504Z"
   },
   {
    "duration": 69,
    "start_time": "2021-08-26T08:21:22.560Z"
   },
   {
    "duration": 4318,
    "start_time": "2021-08-26T08:22:12.752Z"
   },
   {
    "duration": 4303,
    "start_time": "2021-08-26T08:22:56.252Z"
   },
   {
    "duration": 19,
    "start_time": "2021-08-26T08:23:06.435Z"
   },
   {
    "duration": 11,
    "start_time": "2021-08-26T08:23:18.046Z"
   },
   {
    "duration": 4392,
    "start_time": "2021-08-26T08:25:33.022Z"
   },
   {
    "duration": 6,
    "start_time": "2021-08-26T08:25:55.564Z"
   },
   {
    "duration": 10,
    "start_time": "2021-08-26T08:26:27.890Z"
   },
   {
    "duration": 4355,
    "start_time": "2021-08-26T08:26:58.374Z"
   },
   {
    "duration": 6,
    "start_time": "2021-08-26T08:27:09.875Z"
   },
   {
    "duration": 6,
    "start_time": "2021-08-26T08:27:22.160Z"
   },
   {
    "duration": 26,
    "start_time": "2021-08-26T08:36:11.990Z"
   },
   {
    "duration": 22,
    "start_time": "2021-08-26T08:36:54.513Z"
   },
   {
    "duration": 201,
    "start_time": "2021-08-26T08:38:00.770Z"
   },
   {
    "duration": 5,
    "start_time": "2021-08-26T08:38:06.963Z"
   },
   {
    "duration": 5,
    "start_time": "2021-08-26T08:38:13.848Z"
   },
   {
    "duration": 14,
    "start_time": "2021-08-26T08:38:22.592Z"
   },
   {
    "duration": 30,
    "start_time": "2021-08-26T08:41:48.237Z"
   },
   {
    "duration": 3976,
    "start_time": "2021-08-26T08:43:42.569Z"
   },
   {
    "duration": 47827,
    "start_time": "2021-08-26T08:46:08.693Z"
   },
   {
    "duration": 1462,
    "start_time": "2021-08-26T08:47:00.425Z"
   },
   {
    "duration": 19,
    "start_time": "2021-08-26T08:47:05.247Z"
   },
   {
    "duration": 62,
    "start_time": "2021-08-26T08:47:17.019Z"
   },
   {
    "duration": 4339,
    "start_time": "2021-08-26T08:47:32.980Z"
   },
   {
    "duration": 23,
    "start_time": "2021-08-26T08:47:40.078Z"
   },
   {
    "duration": 5,
    "start_time": "2021-08-26T08:48:46.245Z"
   },
   {
    "duration": 41,
    "start_time": "2021-08-26T08:50:53.132Z"
   },
   {
    "duration": 40,
    "start_time": "2021-08-26T08:51:04.594Z"
   },
   {
    "duration": 31,
    "start_time": "2021-08-26T08:51:16.728Z"
   },
   {
    "duration": 28,
    "start_time": "2021-08-26T08:51:43.323Z"
   },
   {
    "duration": 5,
    "start_time": "2021-08-26T10:15:37.839Z"
   },
   {
    "duration": 192,
    "start_time": "2021-08-26T10:18:44.279Z"
   },
   {
    "duration": 2742,
    "start_time": "2021-08-26T10:19:40.297Z"
   },
   {
    "duration": 527,
    "start_time": "2021-08-26T10:20:04.347Z"
   },
   {
    "duration": 881,
    "start_time": "2021-08-26T10:20:04.876Z"
   },
   {
    "duration": 37,
    "start_time": "2021-08-26T10:20:05.759Z"
   },
   {
    "duration": 128,
    "start_time": "2021-08-26T10:20:05.798Z"
   },
   {
    "duration": 202,
    "start_time": "2021-08-26T10:20:05.928Z"
   },
   {
    "duration": 283,
    "start_time": "2021-08-26T10:20:06.132Z"
   },
   {
    "duration": 1279,
    "start_time": "2021-08-26T10:20:06.417Z"
   },
   {
    "duration": 18,
    "start_time": "2021-08-26T10:20:07.698Z"
   },
   {
    "duration": 46,
    "start_time": "2021-08-26T10:20:07.718Z"
   },
   {
    "duration": 22,
    "start_time": "2021-08-26T10:20:07.765Z"
   },
   {
    "duration": 2217,
    "start_time": "2021-08-26T10:20:07.789Z"
   },
   {
    "duration": 819,
    "start_time": "2021-08-26T10:20:10.008Z"
   },
   {
    "duration": 254,
    "start_time": "2021-08-26T10:20:52.430Z"
   },
   {
    "duration": 17,
    "start_time": "2021-08-26T10:21:00.180Z"
   },
   {
    "duration": 633,
    "start_time": "2021-08-26T10:22:49.064Z"
   },
   {
    "duration": 396,
    "start_time": "2021-08-26T10:23:58.308Z"
   },
   {
    "duration": 233,
    "start_time": "2021-08-26T10:24:10.289Z"
   },
   {
    "duration": 403,
    "start_time": "2021-08-26T10:24:12.841Z"
   },
   {
    "duration": 218,
    "start_time": "2021-08-26T10:24:31.125Z"
   },
   {
    "duration": 402,
    "start_time": "2021-08-26T10:24:33.408Z"
   },
   {
    "duration": 220,
    "start_time": "2021-08-26T10:24:41.160Z"
   },
   {
    "duration": 423,
    "start_time": "2021-08-26T10:24:43.678Z"
   },
   {
    "duration": 216,
    "start_time": "2021-08-26T10:26:15.380Z"
   },
   {
    "duration": 402,
    "start_time": "2021-08-26T10:26:17.349Z"
   },
   {
    "duration": 217,
    "start_time": "2021-08-26T10:26:47.803Z"
   },
   {
    "duration": 480,
    "start_time": "2021-08-26T10:26:50.806Z"
   },
   {
    "duration": 214,
    "start_time": "2021-08-26T10:26:58.458Z"
   },
   {
    "duration": 414,
    "start_time": "2021-08-26T10:27:00.909Z"
   },
   {
    "duration": 488,
    "start_time": "2021-08-26T10:27:16.125Z"
   },
   {
    "duration": 17,
    "start_time": "2021-08-26T10:27:28.617Z"
   },
   {
    "duration": 399,
    "start_time": "2021-08-26T10:28:18.974Z"
   },
   {
    "duration": 400,
    "start_time": "2021-08-26T10:28:56.313Z"
   },
   {
    "duration": 222,
    "start_time": "2021-08-26T10:29:55.424Z"
   },
   {
    "duration": 403,
    "start_time": "2021-08-26T10:29:58.376Z"
   },
   {
    "duration": 19,
    "start_time": "2021-08-26T10:30:20.161Z"
   },
   {
    "duration": 230,
    "start_time": "2021-08-26T10:30:37.228Z"
   },
   {
    "duration": 491,
    "start_time": "2021-08-26T10:30:39.568Z"
   },
   {
    "duration": 227,
    "start_time": "2021-08-26T10:30:44.981Z"
   },
   {
    "duration": 416,
    "start_time": "2021-08-26T10:30:46.925Z"
   },
   {
    "duration": 58,
    "start_time": "2021-08-26T10:46:12.025Z"
   },
   {
    "duration": 12,
    "start_time": "2021-08-26T10:48:20.144Z"
   },
   {
    "duration": 19,
    "start_time": "2021-08-26T10:48:38.726Z"
   },
   {
    "duration": 5,
    "start_time": "2021-08-26T11:01:42.841Z"
   },
   {
    "duration": 443,
    "start_time": "2021-08-26T11:02:37.540Z"
   },
   {
    "duration": 3,
    "start_time": "2021-08-26T11:02:49.049Z"
   },
   {
    "duration": 205,
    "start_time": "2021-08-26T11:02:51.220Z"
   },
   {
    "duration": 16,
    "start_time": "2021-08-26T11:03:02.502Z"
   },
   {
    "duration": 66,
    "start_time": "2021-08-26T11:03:18.250Z"
   },
   {
    "duration": 269,
    "start_time": "2021-08-26T11:03:22.210Z"
   },
   {
    "duration": 19,
    "start_time": "2021-08-26T11:30:56.045Z"
   },
   {
    "duration": 4,
    "start_time": "2021-08-26T11:31:51.270Z"
   },
   {
    "duration": 29,
    "start_time": "2021-08-26T11:34:19.927Z"
   },
   {
    "duration": 6040,
    "start_time": "2021-08-26T11:34:44.629Z"
   },
   {
    "duration": 192,
    "start_time": "2021-08-26T11:36:26.613Z"
   },
   {
    "duration": 222,
    "start_time": "2021-08-26T11:37:03.332Z"
   },
   {
    "duration": 6060,
    "start_time": "2021-08-26T11:37:24.692Z"
   },
   {
    "duration": 216,
    "start_time": "2021-08-26T11:40:42.128Z"
   },
   {
    "duration": 225,
    "start_time": "2021-08-26T11:41:38.693Z"
   },
   {
    "duration": 1956,
    "start_time": "2021-08-26T11:42:09.700Z"
   },
   {
    "duration": 8,
    "start_time": "2021-08-26T11:42:11.658Z"
   },
   {
    "duration": 886,
    "start_time": "2021-08-26T11:42:11.668Z"
   },
   {
    "duration": 32,
    "start_time": "2021-08-26T11:42:12.556Z"
   },
   {
    "duration": 128,
    "start_time": "2021-08-26T11:42:12.590Z"
   },
   {
    "duration": 206,
    "start_time": "2021-08-26T11:42:12.721Z"
   },
   {
    "duration": 243,
    "start_time": "2021-08-26T11:42:12.929Z"
   },
   {
    "duration": 1403,
    "start_time": "2021-08-26T11:42:13.174Z"
   },
   {
    "duration": 19,
    "start_time": "2021-08-26T11:42:14.580Z"
   },
   {
    "duration": 46,
    "start_time": "2021-08-26T11:42:14.601Z"
   },
   {
    "duration": 232,
    "start_time": "2021-08-26T11:42:14.648Z"
   },
   {
    "duration": 4,
    "start_time": "2021-08-26T11:42:28.552Z"
   },
   {
    "duration": 21,
    "start_time": "2021-08-26T11:43:02.439Z"
   },
   {
    "duration": 182,
    "start_time": "2021-08-26T11:43:04.627Z"
   },
   {
    "duration": 17,
    "start_time": "2021-08-26T11:43:09.066Z"
   },
   {
    "duration": 195,
    "start_time": "2021-08-26T11:43:53.993Z"
   },
   {
    "duration": 212370,
    "start_time": "2021-08-26T11:43:59.215Z"
   },
   {
    "duration": 5930,
    "start_time": "2021-08-26T11:47:35.583Z"
   },
   {
    "duration": 16,
    "start_time": "2021-08-26T11:48:02.472Z"
   },
   {
    "duration": 18,
    "start_time": "2021-08-26T11:48:06.884Z"
   },
   {
    "duration": 16,
    "start_time": "2021-08-26T11:48:10.302Z"
   },
   {
    "duration": 181,
    "start_time": "2021-08-26T11:48:15.406Z"
   },
   {
    "duration": 4,
    "start_time": "2021-08-26T11:48:59.134Z"
   },
   {
    "duration": 19,
    "start_time": "2021-08-26T11:49:13.200Z"
   },
   {
    "duration": 177,
    "start_time": "2021-08-26T11:49:16.710Z"
   },
   {
    "duration": 5,
    "start_time": "2021-08-26T11:49:44.973Z"
   },
   {
    "duration": 18,
    "start_time": "2021-08-26T11:49:47.461Z"
   },
   {
    "duration": 175,
    "start_time": "2021-08-26T11:49:52.022Z"
   },
   {
    "duration": 4,
    "start_time": "2021-08-26T11:50:47.046Z"
   },
   {
    "duration": 24,
    "start_time": "2021-08-26T11:50:49.366Z"
   },
   {
    "duration": 6014,
    "start_time": "2021-08-26T11:50:53.298Z"
   },
   {
    "duration": 17,
    "start_time": "2021-08-26T11:51:35.236Z"
   },
   {
    "duration": 5863,
    "start_time": "2021-08-26T11:52:20.823Z"
   },
   {
    "duration": 17,
    "start_time": "2021-08-26T11:53:38.720Z"
   },
   {
    "duration": 75,
    "start_time": "2021-08-26T11:53:43.337Z"
   },
   {
    "duration": 22,
    "start_time": "2021-08-26T11:55:00.233Z"
   },
   {
    "duration": 21,
    "start_time": "2021-08-26T11:55:31.148Z"
   },
   {
    "duration": 33,
    "start_time": "2021-08-26T11:55:54.125Z"
   },
   {
    "duration": 32,
    "start_time": "2021-08-26T12:00:37.076Z"
   },
   {
    "duration": 431,
    "start_time": "2021-08-26T12:02:22.606Z"
   },
   {
    "duration": 462,
    "start_time": "2021-08-26T12:03:12.346Z"
   },
   {
    "duration": 586,
    "start_time": "2021-08-26T12:03:26.701Z"
   },
   {
    "duration": 405,
    "start_time": "2021-08-26T12:04:05.072Z"
   },
   {
    "duration": 422,
    "start_time": "2021-08-26T12:04:14.072Z"
   },
   {
    "duration": 6,
    "start_time": "2021-08-26T12:04:42.525Z"
   },
   {
    "duration": 7,
    "start_time": "2021-08-26T12:05:07.065Z"
   },
   {
    "duration": 10,
    "start_time": "2021-08-26T12:05:51.571Z"
   },
   {
    "duration": 10,
    "start_time": "2021-08-26T12:06:03.602Z"
   },
   {
    "duration": 11,
    "start_time": "2021-08-26T12:06:27.557Z"
   },
   {
    "duration": 12,
    "start_time": "2021-08-26T13:50:39.343Z"
   },
   {
    "duration": 10,
    "start_time": "2021-08-26T13:51:50.860Z"
   },
   {
    "duration": 22,
    "start_time": "2021-08-26T13:54:08.579Z"
   },
   {
    "duration": 25,
    "start_time": "2021-08-26T13:57:07.935Z"
   },
   {
    "duration": 25,
    "start_time": "2021-08-26T13:57:30.870Z"
   },
   {
    "duration": 11,
    "start_time": "2021-08-26T13:58:11.927Z"
   },
   {
    "duration": 25,
    "start_time": "2021-08-26T13:59:09.812Z"
   },
   {
    "duration": 32,
    "start_time": "2021-08-26T13:59:48.211Z"
   },
   {
    "duration": 48,
    "start_time": "2021-08-26T14:00:11.161Z"
   },
   {
    "duration": 218,
    "start_time": "2021-08-26T14:01:45.753Z"
   },
   {
    "duration": 5,
    "start_time": "2021-08-26T14:01:53.432Z"
   },
   {
    "duration": 4,
    "start_time": "2021-08-26T14:02:00.454Z"
   },
   {
    "duration": 4,
    "start_time": "2021-08-26T14:02:12.559Z"
   },
   {
    "duration": 5,
    "start_time": "2021-08-26T14:02:27.394Z"
   },
   {
    "duration": 6,
    "start_time": "2021-08-26T14:02:32.704Z"
   },
   {
    "duration": 193,
    "start_time": "2021-08-26T14:03:44.062Z"
   },
   {
    "duration": 192,
    "start_time": "2021-08-26T14:03:49.116Z"
   },
   {
    "duration": 186,
    "start_time": "2021-08-26T14:04:54.313Z"
   },
   {
    "duration": 194,
    "start_time": "2021-08-26T14:06:02.752Z"
   },
   {
    "duration": 5,
    "start_time": "2021-08-26T14:06:19.627Z"
   },
   {
    "duration": 7,
    "start_time": "2021-08-26T14:06:53.768Z"
   },
   {
    "duration": 218,
    "start_time": "2021-08-26T14:07:18.248Z"
   },
   {
    "duration": 165,
    "start_time": "2021-08-26T14:07:23.528Z"
   },
   {
    "duration": 184,
    "start_time": "2021-08-26T14:08:00.669Z"
   },
   {
    "duration": 179,
    "start_time": "2021-08-26T14:08:15.353Z"
   },
   {
    "duration": 15,
    "start_time": "2021-08-26T14:08:59.635Z"
   },
   {
    "duration": 32,
    "start_time": "2021-08-26T14:11:12.300Z"
   },
   {
    "duration": 6,
    "start_time": "2021-08-26T14:11:27.268Z"
   },
   {
    "duration": 7,
    "start_time": "2021-08-26T14:12:25.379Z"
   },
   {
    "duration": 6,
    "start_time": "2021-08-26T14:12:37.275Z"
   },
   {
    "duration": 4,
    "start_time": "2021-08-26T14:13:42.240Z"
   },
   {
    "duration": 6,
    "start_time": "2021-08-26T14:13:58.799Z"
   },
   {
    "duration": 1927,
    "start_time": "2021-08-26T14:15:17.364Z"
   },
   {
    "duration": 4,
    "start_time": "2021-08-26T14:15:19.293Z"
   },
   {
    "duration": 860,
    "start_time": "2021-08-26T14:15:19.299Z"
   },
   {
    "duration": 37,
    "start_time": "2021-08-26T14:15:20.161Z"
   },
   {
    "duration": 124,
    "start_time": "2021-08-26T14:15:20.200Z"
   },
   {
    "duration": 209,
    "start_time": "2021-08-26T14:15:20.326Z"
   },
   {
    "duration": 262,
    "start_time": "2021-08-26T14:15:20.537Z"
   },
   {
    "duration": 1437,
    "start_time": "2021-08-26T14:15:20.802Z"
   },
   {
    "duration": 33,
    "start_time": "2021-08-26T14:15:22.241Z"
   },
   {
    "duration": 40,
    "start_time": "2021-08-26T14:15:32.809Z"
   },
   {
    "duration": 6,
    "start_time": "2021-08-26T14:15:46.891Z"
   },
   {
    "duration": 186,
    "start_time": "2021-08-26T14:17:59.273Z"
   },
   {
    "duration": 10,
    "start_time": "2021-08-26T14:18:42.936Z"
   },
   {
    "duration": 18,
    "start_time": "2021-08-26T14:19:37.554Z"
   },
   {
    "duration": 39,
    "start_time": "2021-08-26T14:19:40.612Z"
   },
   {
    "duration": 23,
    "start_time": "2021-08-26T14:22:04.375Z"
   },
   {
    "duration": 18,
    "start_time": "2021-08-26T14:24:41.862Z"
   },
   {
    "duration": 6,
    "start_time": "2021-08-26T14:25:04.319Z"
   },
   {
    "duration": 24,
    "start_time": "2021-08-26T14:26:00.194Z"
   },
   {
    "duration": 792,
    "start_time": "2021-08-26T14:26:45.569Z"
   },
   {
    "duration": 22,
    "start_time": "2021-08-26T14:26:48.825Z"
   },
   {
    "duration": 176,
    "start_time": "2021-08-26T14:26:51.735Z"
   },
   {
    "duration": 359,
    "start_time": "2021-08-26T14:27:48.375Z"
   },
   {
    "duration": 349,
    "start_time": "2021-08-26T14:27:55.411Z"
   },
   {
    "duration": 432,
    "start_time": "2021-08-26T14:28:57.452Z"
   },
   {
    "duration": 117,
    "start_time": "2021-08-26T14:29:02.281Z"
   },
   {
    "duration": 338,
    "start_time": "2021-08-26T14:39:43.769Z"
   },
   {
    "duration": 439,
    "start_time": "2021-08-26T14:40:07.994Z"
   },
   {
    "duration": 1885,
    "start_time": "2021-08-26T14:40:42.125Z"
   },
   {
    "duration": 4,
    "start_time": "2021-08-26T14:40:44.012Z"
   },
   {
    "duration": 839,
    "start_time": "2021-08-26T14:40:44.018Z"
   },
   {
    "duration": 30,
    "start_time": "2021-08-26T14:40:44.859Z"
   },
   {
    "duration": 375,
    "start_time": "2021-08-26T14:40:44.891Z"
   },
   {
    "duration": 429,
    "start_time": "2021-08-26T14:40:45.267Z"
   },
   {
    "duration": 116,
    "start_time": "2021-08-26T14:40:53.954Z"
   },
   {
    "duration": 247,
    "start_time": "2021-08-26T14:43:18.511Z"
   },
   {
    "duration": 174,
    "start_time": "2021-08-26T14:44:25.596Z"
   },
   {
    "duration": 188,
    "start_time": "2021-08-26T14:50:53.757Z"
   },
   {
    "duration": 9,
    "start_time": "2021-08-26T15:06:11.131Z"
   },
   {
    "duration": 4,
    "start_time": "2021-08-26T15:07:44.341Z"
   },
   {
    "duration": 5,
    "start_time": "2021-08-26T15:07:50.386Z"
   },
   {
    "duration": 186,
    "start_time": "2021-08-26T15:11:38.111Z"
   },
   {
    "duration": 340,
    "start_time": "2021-08-26T15:12:01.794Z"
   },
   {
    "duration": 202,
    "start_time": "2021-08-26T15:13:30.866Z"
   },
   {
    "duration": 187,
    "start_time": "2021-08-26T15:14:37.411Z"
   },
   {
    "duration": 181,
    "start_time": "2021-08-26T15:14:52.105Z"
   },
   {
    "duration": 175,
    "start_time": "2021-08-26T15:15:53.443Z"
   },
   {
    "duration": 4,
    "start_time": "2021-08-26T15:16:01.854Z"
   },
   {
    "duration": 4,
    "start_time": "2021-08-26T15:16:08.079Z"
   },
   {
    "duration": 294,
    "start_time": "2021-08-26T15:16:37.765Z"
   },
   {
    "duration": 263,
    "start_time": "2021-08-26T15:16:47.395Z"
   },
   {
    "duration": 57,
    "start_time": "2021-08-26T15:16:53.004Z"
   },
   {
    "duration": 2090,
    "start_time": "2021-08-26T15:17:14.073Z"
   },
   {
    "duration": 4,
    "start_time": "2021-08-26T15:17:16.166Z"
   },
   {
    "duration": 930,
    "start_time": "2021-08-26T15:17:16.172Z"
   },
   {
    "duration": 22,
    "start_time": "2021-08-26T15:17:17.104Z"
   },
   {
    "duration": 404,
    "start_time": "2021-08-26T15:17:17.127Z"
   },
   {
    "duration": 481,
    "start_time": "2021-08-26T15:17:17.532Z"
   },
   {
    "duration": 128,
    "start_time": "2021-08-26T15:17:18.015Z"
   },
   {
    "duration": 216,
    "start_time": "2021-08-26T15:17:18.145Z"
   },
   {
    "duration": 191,
    "start_time": "2021-08-26T15:17:18.363Z"
   },
   {
    "duration": 9,
    "start_time": "2021-08-26T15:17:18.556Z"
   },
   {
    "duration": 270,
    "start_time": "2021-08-26T15:17:18.566Z"
   },
   {
    "duration": 65,
    "start_time": "2021-08-26T15:17:18.838Z"
   },
   {
    "duration": 1966,
    "start_time": "2021-08-26T15:22:39.777Z"
   },
   {
    "duration": 4,
    "start_time": "2021-08-26T15:22:41.746Z"
   },
   {
    "duration": 827,
    "start_time": "2021-08-26T15:22:41.752Z"
   },
   {
    "duration": 23,
    "start_time": "2021-08-26T15:22:42.584Z"
   },
   {
    "duration": 384,
    "start_time": "2021-08-26T15:22:42.610Z"
   },
   {
    "duration": 470,
    "start_time": "2021-08-26T15:22:42.996Z"
   },
   {
    "duration": 121,
    "start_time": "2021-08-26T15:22:43.468Z"
   },
   {
    "duration": 198,
    "start_time": "2021-08-26T15:22:43.591Z"
   },
   {
    "duration": 198,
    "start_time": "2021-08-26T15:22:43.792Z"
   },
   {
    "duration": 265,
    "start_time": "2021-08-26T15:22:43.992Z"
   },
   {
    "duration": 5,
    "start_time": "2021-08-26T15:22:44.259Z"
   },
   {
    "duration": 1463,
    "start_time": "2021-08-26T15:22:44.265Z"
   },
   {
    "duration": 18,
    "start_time": "2021-08-26T15:22:45.730Z"
   },
   {
    "duration": 1329,
    "start_time": "2021-08-26T15:24:20.122Z"
   },
   {
    "duration": 1355,
    "start_time": "2021-08-26T15:24:35.901Z"
   },
   {
    "duration": 73,
    "start_time": "2021-08-26T15:25:35.930Z"
   },
   {
    "duration": 20,
    "start_time": "2021-08-26T15:26:26.346Z"
   },
   {
    "duration": 6,
    "start_time": "2021-08-26T15:27:59.166Z"
   },
   {
    "duration": 6,
    "start_time": "2021-08-26T15:28:03.175Z"
   },
   {
    "duration": 45,
    "start_time": "2021-08-26T15:36:30.543Z"
   },
   {
    "duration": 5,
    "start_time": "2021-08-26T15:37:59.657Z"
   },
   {
    "duration": 24,
    "start_time": "2021-08-26T15:39:21.771Z"
   },
   {
    "duration": 14,
    "start_time": "2021-08-26T15:39:26.959Z"
   },
   {
    "duration": 28,
    "start_time": "2021-08-26T15:40:43.523Z"
   },
   {
    "duration": 14,
    "start_time": "2021-08-26T15:41:58.970Z"
   },
   {
    "duration": 4,
    "start_time": "2021-08-26T15:42:26.362Z"
   },
   {
    "duration": 4588,
    "start_time": "2021-08-27T06:44:07.454Z"
   },
   {
    "duration": 1654,
    "start_time": "2021-08-27T06:44:12.044Z"
   },
   {
    "duration": 1217,
    "start_time": "2021-08-27T06:44:13.701Z"
   },
   {
    "duration": 57,
    "start_time": "2021-08-27T06:44:14.921Z"
   },
   {
    "duration": 647,
    "start_time": "2021-08-27T06:44:14.982Z"
   },
   {
    "duration": 806,
    "start_time": "2021-08-27T06:44:15.632Z"
   },
   {
    "duration": 158,
    "start_time": "2021-08-27T06:44:16.441Z"
   },
   {
    "duration": 344,
    "start_time": "2021-08-27T06:44:16.603Z"
   },
   {
    "duration": 249,
    "start_time": "2021-08-27T06:44:16.954Z"
   },
   {
    "duration": 413,
    "start_time": "2021-08-27T06:44:17.205Z"
   },
   {
    "duration": 6,
    "start_time": "2021-08-27T06:44:17.621Z"
   },
   {
    "duration": 2121,
    "start_time": "2021-08-27T06:44:17.629Z"
   },
   {
    "duration": 29,
    "start_time": "2021-08-27T06:44:19.755Z"
   },
   {
    "duration": 7,
    "start_time": "2021-08-27T06:44:19.786Z"
   },
   {
    "duration": 75,
    "start_time": "2021-08-27T06:44:19.795Z"
   },
   {
    "duration": 29,
    "start_time": "2021-08-27T06:44:19.872Z"
   },
   {
    "duration": 53,
    "start_time": "2021-08-27T06:44:19.903Z"
   },
   {
    "duration": 574,
    "start_time": "2021-08-27T06:44:19.958Z"
   },
   {
    "duration": 637,
    "start_time": "2021-08-27T06:44:35.189Z"
   },
   {
    "duration": 10,
    "start_time": "2021-08-27T06:45:18.447Z"
   },
   {
    "duration": 21,
    "start_time": "2021-08-27T06:45:23.232Z"
   },
   {
    "duration": 64,
    "start_time": "2021-08-27T06:46:12.478Z"
   },
   {
    "duration": 21,
    "start_time": "2021-08-27T06:51:19.984Z"
   },
   {
    "duration": 22,
    "start_time": "2021-08-27T06:52:48.154Z"
   },
   {
    "duration": 20,
    "start_time": "2021-08-27T06:53:17.390Z"
   },
   {
    "duration": 14,
    "start_time": "2021-08-27T06:53:36.755Z"
   },
   {
    "duration": 14,
    "start_time": "2021-08-27T06:53:41.631Z"
   },
   {
    "duration": 13,
    "start_time": "2021-08-27T06:53:49.609Z"
   },
   {
    "duration": 22,
    "start_time": "2021-08-27T06:53:54.382Z"
   },
   {
    "duration": 22,
    "start_time": "2021-08-27T06:58:18.341Z"
   },
   {
    "duration": 9,
    "start_time": "2021-08-27T07:02:33.946Z"
   },
   {
    "duration": 272,
    "start_time": "2021-08-27T07:02:51.691Z"
   },
   {
    "duration": 7,
    "start_time": "2021-08-27T07:02:59.957Z"
   },
   {
    "duration": 11,
    "start_time": "2021-08-27T07:03:07.351Z"
   },
   {
    "duration": 11,
    "start_time": "2021-08-27T07:03:22.457Z"
   },
   {
    "duration": 767,
    "start_time": "2021-08-27T07:04:30.007Z"
   },
   {
    "duration": 768,
    "start_time": "2021-08-27T07:05:14.481Z"
   },
   {
    "duration": 769,
    "start_time": "2021-08-27T07:05:19.762Z"
   },
   {
    "duration": 970,
    "start_time": "2021-08-27T07:05:33.443Z"
   },
   {
    "duration": 3722,
    "start_time": "2021-08-27T07:05:38.062Z"
   },
   {
    "duration": 757,
    "start_time": "2021-08-27T07:05:47.527Z"
   },
   {
    "duration": 1169,
    "start_time": "2021-08-27T07:05:53.032Z"
   },
   {
    "duration": 1293,
    "start_time": "2021-08-27T07:05:59.723Z"
   },
   {
    "duration": 1096,
    "start_time": "2021-08-27T07:06:06.428Z"
   },
   {
    "duration": 1101,
    "start_time": "2021-08-27T07:06:11.814Z"
   },
   {
    "duration": 635,
    "start_time": "2021-08-27T07:06:36.848Z"
   },
   {
    "duration": 37,
    "start_time": "2021-08-27T07:10:13.991Z"
   },
   {
    "duration": 23,
    "start_time": "2021-08-27T07:10:22.884Z"
   },
   {
    "duration": 23,
    "start_time": "2021-08-27T07:10:52.210Z"
   },
   {
    "duration": 25,
    "start_time": "2021-08-27T07:11:36.251Z"
   },
   {
    "duration": 21,
    "start_time": "2021-08-27T07:14:21.765Z"
   },
   {
    "duration": 45,
    "start_time": "2021-08-27T07:15:25.305Z"
   },
   {
    "duration": 71,
    "start_time": "2021-08-27T07:15:43.471Z"
   },
   {
    "duration": 42,
    "start_time": "2021-08-27T07:16:33.167Z"
   },
   {
    "duration": 35,
    "start_time": "2021-08-27T07:17:55.023Z"
   },
   {
    "duration": 32,
    "start_time": "2021-08-27T07:18:07.309Z"
   },
   {
    "duration": 47,
    "start_time": "2021-08-27T07:19:23.376Z"
   },
   {
    "duration": 48,
    "start_time": "2021-08-27T07:20:06.456Z"
   },
   {
    "duration": 41,
    "start_time": "2021-08-27T07:20:31.597Z"
   },
   {
    "duration": 30,
    "start_time": "2021-08-27T07:21:46.448Z"
   },
   {
    "duration": 37,
    "start_time": "2021-08-27T07:22:16.629Z"
   },
   {
    "duration": 44,
    "start_time": "2021-08-27T07:24:04.272Z"
   },
   {
    "duration": 45,
    "start_time": "2021-08-27T07:24:31.605Z"
   },
   {
    "duration": 42,
    "start_time": "2021-08-27T07:24:47.531Z"
   },
   {
    "duration": 90,
    "start_time": "2021-08-27T07:24:53.021Z"
   },
   {
    "duration": 24,
    "start_time": "2021-08-27T07:25:00.836Z"
   },
   {
    "duration": 37,
    "start_time": "2021-08-27T07:25:22.572Z"
   },
   {
    "duration": 39,
    "start_time": "2021-08-27T07:25:58.244Z"
   },
   {
    "duration": 34,
    "start_time": "2021-08-27T07:26:13.784Z"
   },
   {
    "duration": 48,
    "start_time": "2021-08-27T07:27:59.956Z"
   },
   {
    "duration": 3170,
    "start_time": "2021-08-27T07:28:37.472Z"
   },
   {
    "duration": 6,
    "start_time": "2021-08-27T07:28:40.645Z"
   },
   {
    "duration": 1200,
    "start_time": "2021-08-27T07:28:40.654Z"
   },
   {
    "duration": 35,
    "start_time": "2021-08-27T07:28:41.858Z"
   },
   {
    "duration": 647,
    "start_time": "2021-08-27T07:28:41.896Z"
   },
   {
    "duration": 770,
    "start_time": "2021-08-27T07:28:42.545Z"
   },
   {
    "duration": 159,
    "start_time": "2021-08-27T07:28:43.317Z"
   },
   {
    "duration": 286,
    "start_time": "2021-08-27T07:28:43.480Z"
   },
   {
    "duration": 255,
    "start_time": "2021-08-27T07:28:43.769Z"
   },
   {
    "duration": 472,
    "start_time": "2021-08-27T07:28:44.026Z"
   },
   {
    "duration": 5,
    "start_time": "2021-08-27T07:28:44.500Z"
   },
   {
    "duration": 2246,
    "start_time": "2021-08-27T07:28:44.507Z"
   },
   {
    "duration": 90,
    "start_time": "2021-08-27T07:28:46.767Z"
   },
   {
    "duration": 42,
    "start_time": "2021-08-27T07:28:46.875Z"
   },
   {
    "duration": 65,
    "start_time": "2021-08-27T07:28:46.931Z"
   },
   {
    "duration": 29,
    "start_time": "2021-08-27T07:28:46.998Z"
   },
   {
    "duration": 51,
    "start_time": "2021-08-27T07:28:47.030Z"
   },
   {
    "duration": 659,
    "start_time": "2021-08-27T07:28:47.083Z"
   },
   {
    "duration": 26,
    "start_time": "2021-08-27T07:28:47.745Z"
   },
   {
    "duration": 43,
    "start_time": "2021-08-27T07:28:47.773Z"
   },
   {
    "duration": 3094,
    "start_time": "2021-08-27T07:29:32.301Z"
   },
   {
    "duration": 5,
    "start_time": "2021-08-27T07:29:35.398Z"
   },
   {
    "duration": 1198,
    "start_time": "2021-08-27T07:29:35.407Z"
   },
   {
    "duration": 47,
    "start_time": "2021-08-27T07:29:36.608Z"
   },
   {
    "duration": 582,
    "start_time": "2021-08-27T07:29:36.658Z"
   },
   {
    "duration": 726,
    "start_time": "2021-08-27T07:29:37.242Z"
   },
   {
    "duration": 160,
    "start_time": "2021-08-27T07:29:37.971Z"
   },
   {
    "duration": 291,
    "start_time": "2021-08-27T07:29:38.134Z"
   },
   {
    "duration": 254,
    "start_time": "2021-08-27T07:29:38.429Z"
   },
   {
    "duration": 462,
    "start_time": "2021-08-27T07:29:38.686Z"
   },
   {
    "duration": 5,
    "start_time": "2021-08-27T07:29:39.151Z"
   },
   {
    "duration": 2104,
    "start_time": "2021-08-27T07:29:39.159Z"
   },
   {
    "duration": 23,
    "start_time": "2021-08-27T07:29:41.266Z"
   },
   {
    "duration": 7,
    "start_time": "2021-08-27T07:29:41.291Z"
   },
   {
    "duration": 85,
    "start_time": "2021-08-27T07:29:41.300Z"
   },
   {
    "duration": 31,
    "start_time": "2021-08-27T07:29:41.387Z"
   },
   {
    "duration": 53,
    "start_time": "2021-08-27T07:29:41.420Z"
   },
   {
    "duration": 659,
    "start_time": "2021-08-27T07:29:41.475Z"
   },
   {
    "duration": 34,
    "start_time": "2021-08-27T07:29:42.137Z"
   },
   {
    "duration": 44,
    "start_time": "2021-08-27T07:29:42.173Z"
   },
   {
    "duration": 612,
    "start_time": "2021-08-27T07:30:11.584Z"
   },
   {
    "duration": 268,
    "start_time": "2021-08-27T07:31:17.118Z"
   },
   {
    "duration": 5,
    "start_time": "2021-08-27T07:31:22.262Z"
   },
   {
    "duration": 35,
    "start_time": "2021-08-27T07:37:09.085Z"
   },
   {
    "duration": 63,
    "start_time": "2021-08-27T07:38:30.069Z"
   },
   {
    "duration": 54,
    "start_time": "2021-08-27T07:39:03.869Z"
   },
   {
    "duration": 49,
    "start_time": "2021-08-27T07:39:13.393Z"
   },
   {
    "duration": 59,
    "start_time": "2021-08-27T07:39:30.733Z"
   },
   {
    "duration": 55,
    "start_time": "2021-08-27T07:41:26.206Z"
   },
   {
    "duration": 51,
    "start_time": "2021-08-27T07:41:39.091Z"
   },
   {
    "duration": 89,
    "start_time": "2021-08-27T07:41:51.841Z"
   },
   {
    "duration": 114,
    "start_time": "2021-08-27T07:42:39.693Z"
   },
   {
    "duration": 115,
    "start_time": "2021-08-27T07:42:43.788Z"
   },
   {
    "duration": 87,
    "start_time": "2021-08-27T07:45:20.676Z"
   },
   {
    "duration": 94,
    "start_time": "2021-08-27T07:45:43.956Z"
   },
   {
    "duration": 88,
    "start_time": "2021-08-27T07:46:20.242Z"
   },
   {
    "duration": 94,
    "start_time": "2021-08-27T07:47:08.064Z"
   },
   {
    "duration": 59,
    "start_time": "2021-08-27T07:50:26.127Z"
   },
   {
    "duration": 113,
    "start_time": "2021-08-27T07:52:36.062Z"
   },
   {
    "duration": 665,
    "start_time": "2021-08-27T07:53:20.043Z"
   },
   {
    "duration": 3231,
    "start_time": "2021-08-27T10:59:12.905Z"
   },
   {
    "duration": 1204,
    "start_time": "2021-08-27T10:59:16.138Z"
   },
   {
    "duration": 868,
    "start_time": "2021-08-27T10:59:17.344Z"
   },
   {
    "duration": 34,
    "start_time": "2021-08-27T10:59:18.214Z"
   },
   {
    "duration": 413,
    "start_time": "2021-08-27T10:59:18.250Z"
   },
   {
    "duration": 527,
    "start_time": "2021-08-27T10:59:18.664Z"
   },
   {
    "duration": 115,
    "start_time": "2021-08-27T10:59:19.193Z"
   },
   {
    "duration": 250,
    "start_time": "2021-08-27T10:59:19.311Z"
   },
   {
    "duration": 164,
    "start_time": "2021-08-27T10:59:19.563Z"
   },
   {
    "duration": 260,
    "start_time": "2021-08-27T10:59:19.729Z"
   },
   {
    "duration": 3,
    "start_time": "2021-08-27T10:59:19.991Z"
   },
   {
    "duration": 1373,
    "start_time": "2021-08-27T10:59:19.996Z"
   },
   {
    "duration": 26,
    "start_time": "2021-08-27T10:59:21.371Z"
   },
   {
    "duration": 6,
    "start_time": "2021-08-27T10:59:21.399Z"
   },
   {
    "duration": 58,
    "start_time": "2021-08-27T10:59:21.407Z"
   },
   {
    "duration": 29,
    "start_time": "2021-08-27T10:59:21.467Z"
   },
   {
    "duration": 44,
    "start_time": "2021-08-27T10:59:21.498Z"
   },
   {
    "duration": 380,
    "start_time": "2021-08-27T10:59:21.544Z"
   },
   {
    "duration": 20,
    "start_time": "2021-08-27T10:59:21.926Z"
   },
   {
    "duration": 32,
    "start_time": "2021-08-27T10:59:21.947Z"
   },
   {
    "duration": 465,
    "start_time": "2021-08-27T10:59:21.980Z"
   },
   {
    "duration": 78,
    "start_time": "2021-08-27T10:59:22.447Z"
   },
   {
    "duration": 24,
    "start_time": "2021-08-27T11:00:50.235Z"
   },
   {
    "duration": 38,
    "start_time": "2021-08-27T11:01:02.267Z"
   },
   {
    "duration": 3,
    "start_time": "2021-08-27T11:01:53.348Z"
   },
   {
    "duration": 70,
    "start_time": "2021-08-27T11:03:34.673Z"
   },
   {
    "duration": 2064,
    "start_time": "2021-08-27T11:03:53.298Z"
   },
   {
    "duration": 1181,
    "start_time": "2021-08-27T11:03:55.364Z"
   },
   {
    "duration": 875,
    "start_time": "2021-08-27T11:03:56.547Z"
   },
   {
    "duration": 33,
    "start_time": "2021-08-27T11:03:57.424Z"
   },
   {
    "duration": 418,
    "start_time": "2021-08-27T11:03:57.458Z"
   },
   {
    "duration": 522,
    "start_time": "2021-08-27T11:03:57.878Z"
   },
   {
    "duration": 110,
    "start_time": "2021-08-27T11:03:58.401Z"
   },
   {
    "duration": 250,
    "start_time": "2021-08-27T11:03:58.513Z"
   },
   {
    "duration": 170,
    "start_time": "2021-08-27T11:03:58.765Z"
   },
   {
    "duration": 264,
    "start_time": "2021-08-27T11:03:58.941Z"
   },
   {
    "duration": 4,
    "start_time": "2021-08-27T11:03:59.206Z"
   },
   {
    "duration": 1419,
    "start_time": "2021-08-27T11:03:59.212Z"
   },
   {
    "duration": 25,
    "start_time": "2021-08-27T11:04:00.641Z"
   },
   {
    "duration": 5,
    "start_time": "2021-08-27T11:04:00.668Z"
   },
   {
    "duration": 53,
    "start_time": "2021-08-27T11:04:00.674Z"
   },
   {
    "duration": 28,
    "start_time": "2021-08-27T11:04:00.728Z"
   },
   {
    "duration": 24,
    "start_time": "2021-08-27T11:04:00.757Z"
   },
   {
    "duration": 396,
    "start_time": "2021-08-27T11:04:00.782Z"
   },
   {
    "duration": 14,
    "start_time": "2021-08-27T11:04:01.179Z"
   },
   {
    "duration": 48,
    "start_time": "2021-08-27T11:04:01.194Z"
   },
   {
    "duration": 363,
    "start_time": "2021-08-27T11:04:01.243Z"
   },
   {
    "duration": 90,
    "start_time": "2021-08-27T11:04:01.608Z"
   },
   {
    "duration": 8,
    "start_time": "2021-08-27T11:07:52.572Z"
   },
   {
    "duration": 4,
    "start_time": "2021-08-27T11:08:04.811Z"
   },
   {
    "duration": 2104,
    "start_time": "2021-08-27T11:08:26.950Z"
   },
   {
    "duration": 1197,
    "start_time": "2021-08-27T11:08:29.057Z"
   },
   {
    "duration": 923,
    "start_time": "2021-08-27T11:08:30.256Z"
   },
   {
    "duration": 24,
    "start_time": "2021-08-27T11:08:31.181Z"
   },
   {
    "duration": 421,
    "start_time": "2021-08-27T11:08:31.207Z"
   },
   {
    "duration": 513,
    "start_time": "2021-08-27T11:08:31.629Z"
   },
   {
    "duration": 118,
    "start_time": "2021-08-27T11:08:32.144Z"
   },
   {
    "duration": 259,
    "start_time": "2021-08-27T11:08:32.264Z"
   },
   {
    "duration": 169,
    "start_time": "2021-08-27T11:08:32.524Z"
   },
   {
    "duration": 259,
    "start_time": "2021-08-27T11:08:32.695Z"
   },
   {
    "duration": 5,
    "start_time": "2021-08-27T11:08:32.955Z"
   },
   {
    "duration": 1537,
    "start_time": "2021-08-27T11:08:32.962Z"
   },
   {
    "duration": 25,
    "start_time": "2021-08-27T11:08:34.500Z"
   },
   {
    "duration": 14,
    "start_time": "2021-08-27T11:08:34.527Z"
   },
   {
    "duration": 37,
    "start_time": "2021-08-27T11:08:34.543Z"
   },
   {
    "duration": 22,
    "start_time": "2021-08-27T11:08:34.582Z"
   },
   {
    "duration": 44,
    "start_time": "2021-08-27T11:08:34.606Z"
   },
   {
    "duration": 381,
    "start_time": "2021-08-27T11:08:34.652Z"
   },
   {
    "duration": 13,
    "start_time": "2021-08-27T11:08:35.035Z"
   },
   {
    "duration": 44,
    "start_time": "2021-08-27T11:08:35.049Z"
   },
   {
    "duration": 362,
    "start_time": "2021-08-27T11:08:35.094Z"
   },
   {
    "duration": 24,
    "start_time": "2021-08-27T11:08:49.676Z"
   },
   {
    "duration": 23,
    "start_time": "2021-08-27T11:09:20.223Z"
   },
   {
    "duration": 2115,
    "start_time": "2021-08-27T11:09:31.730Z"
   },
   {
    "duration": 1196,
    "start_time": "2021-08-27T11:09:33.848Z"
   },
   {
    "duration": 854,
    "start_time": "2021-08-27T11:09:35.047Z"
   },
   {
    "duration": 26,
    "start_time": "2021-08-27T11:09:35.903Z"
   },
   {
    "duration": 414,
    "start_time": "2021-08-27T11:09:35.941Z"
   },
   {
    "duration": 514,
    "start_time": "2021-08-27T11:09:36.357Z"
   },
   {
    "duration": 118,
    "start_time": "2021-08-27T11:09:36.873Z"
   },
   {
    "duration": 248,
    "start_time": "2021-08-27T11:09:36.993Z"
   },
   {
    "duration": 170,
    "start_time": "2021-08-27T11:09:37.244Z"
   },
   {
    "duration": 258,
    "start_time": "2021-08-27T11:09:37.416Z"
   },
   {
    "duration": 3,
    "start_time": "2021-08-27T11:09:37.676Z"
   },
   {
    "duration": 1345,
    "start_time": "2021-08-27T11:09:37.681Z"
   },
   {
    "duration": 28,
    "start_time": "2021-08-27T11:09:39.028Z"
   },
   {
    "duration": 5,
    "start_time": "2021-08-27T11:09:39.058Z"
   },
   {
    "duration": 46,
    "start_time": "2021-08-27T11:09:39.064Z"
   },
   {
    "duration": 34,
    "start_time": "2021-08-27T11:09:39.112Z"
   },
   {
    "duration": 23,
    "start_time": "2021-08-27T11:09:39.147Z"
   },
   {
    "duration": 384,
    "start_time": "2021-08-27T11:09:39.171Z"
   },
   {
    "duration": 15,
    "start_time": "2021-08-27T11:09:39.556Z"
   },
   {
    "duration": 39,
    "start_time": "2021-08-27T11:09:39.573Z"
   },
   {
    "duration": 367,
    "start_time": "2021-08-27T11:09:39.613Z"
   },
   {
    "duration": 30,
    "start_time": "2021-08-27T11:09:50.670Z"
   },
   {
    "duration": 74,
    "start_time": "2021-08-27T11:10:36.968Z"
   },
   {
    "duration": 4,
    "start_time": "2021-08-27T11:11:07.449Z"
   },
   {
    "duration": 2148,
    "start_time": "2021-08-27T11:12:04.054Z"
   },
   {
    "duration": 5,
    "start_time": "2021-08-27T11:12:06.205Z"
   },
   {
    "duration": 857,
    "start_time": "2021-08-27T11:12:06.212Z"
   },
   {
    "duration": 24,
    "start_time": "2021-08-27T11:12:07.072Z"
   },
   {
    "duration": 393,
    "start_time": "2021-08-27T11:12:07.098Z"
   },
   {
    "duration": 451,
    "start_time": "2021-08-27T11:12:07.493Z"
   },
   {
    "duration": 121,
    "start_time": "2021-08-27T11:12:07.946Z"
   },
   {
    "duration": 221,
    "start_time": "2021-08-27T11:12:08.068Z"
   },
   {
    "duration": 170,
    "start_time": "2021-08-27T11:12:08.292Z"
   },
   {
    "duration": 281,
    "start_time": "2021-08-27T11:12:08.464Z"
   },
   {
    "duration": 4,
    "start_time": "2021-08-27T11:12:08.746Z"
   },
   {
    "duration": 1260,
    "start_time": "2021-08-27T11:12:08.751Z"
   },
   {
    "duration": 30,
    "start_time": "2021-08-27T11:12:10.012Z"
   },
   {
    "duration": 20,
    "start_time": "2021-08-27T11:12:10.043Z"
   },
   {
    "duration": 64,
    "start_time": "2021-08-27T11:12:10.064Z"
   },
   {
    "duration": 26,
    "start_time": "2021-08-27T11:12:10.129Z"
   },
   {
    "duration": 26,
    "start_time": "2021-08-27T11:12:10.157Z"
   },
   {
    "duration": 432,
    "start_time": "2021-08-27T11:12:10.185Z"
   },
   {
    "duration": 13,
    "start_time": "2021-08-27T11:12:10.619Z"
   },
   {
    "duration": 30,
    "start_time": "2021-08-27T11:12:10.641Z"
   },
   {
    "duration": 369,
    "start_time": "2021-08-27T11:12:10.672Z"
   },
   {
    "duration": 1268,
    "start_time": "2021-08-27T11:12:11.042Z"
   },
   {
    "duration": 2120,
    "start_time": "2021-08-27T11:12:22.562Z"
   },
   {
    "duration": 1250,
    "start_time": "2021-08-27T11:12:24.684Z"
   },
   {
    "duration": 849,
    "start_time": "2021-08-27T11:12:25.936Z"
   },
   {
    "duration": 25,
    "start_time": "2021-08-27T11:12:26.787Z"
   },
   {
    "duration": 420,
    "start_time": "2021-08-27T11:12:26.814Z"
   },
   {
    "duration": 516,
    "start_time": "2021-08-27T11:12:27.240Z"
   },
   {
    "duration": 116,
    "start_time": "2021-08-27T11:12:27.758Z"
   },
   {
    "duration": 239,
    "start_time": "2021-08-27T11:12:27.875Z"
   },
   {
    "duration": 173,
    "start_time": "2021-08-27T11:12:28.116Z"
   },
   {
    "duration": 257,
    "start_time": "2021-08-27T11:12:28.291Z"
   },
   {
    "duration": 4,
    "start_time": "2021-08-27T11:12:28.550Z"
   },
   {
    "duration": 1350,
    "start_time": "2021-08-27T11:12:28.555Z"
   },
   {
    "duration": 25,
    "start_time": "2021-08-27T11:12:29.906Z"
   },
   {
    "duration": 10,
    "start_time": "2021-08-27T11:12:29.932Z"
   },
   {
    "duration": 36,
    "start_time": "2021-08-27T11:12:29.944Z"
   },
   {
    "duration": 21,
    "start_time": "2021-08-27T11:12:29.982Z"
   },
   {
    "duration": 48,
    "start_time": "2021-08-27T11:12:30.005Z"
   },
   {
    "duration": 391,
    "start_time": "2021-08-27T11:12:30.055Z"
   },
   {
    "duration": 14,
    "start_time": "2021-08-27T11:12:30.447Z"
   },
   {
    "duration": 42,
    "start_time": "2021-08-27T11:12:30.463Z"
   },
   {
    "duration": 371,
    "start_time": "2021-08-27T11:12:30.507Z"
   },
   {
    "duration": 1295,
    "start_time": "2021-08-27T11:12:30.880Z"
   },
   {
    "duration": 2154,
    "start_time": "2021-08-27T11:12:52.425Z"
   },
   {
    "duration": 1173,
    "start_time": "2021-08-27T11:12:54.582Z"
   },
   {
    "duration": 871,
    "start_time": "2021-08-27T11:12:55.757Z"
   },
   {
    "duration": 29,
    "start_time": "2021-08-27T11:12:56.630Z"
   },
   {
    "duration": 427,
    "start_time": "2021-08-27T11:12:56.661Z"
   },
   {
    "duration": 521,
    "start_time": "2021-08-27T11:12:57.089Z"
   },
   {
    "duration": 112,
    "start_time": "2021-08-27T11:12:57.612Z"
   },
   {
    "duration": 245,
    "start_time": "2021-08-27T11:12:57.725Z"
   },
   {
    "duration": 170,
    "start_time": "2021-08-27T11:12:57.973Z"
   },
   {
    "duration": 258,
    "start_time": "2021-08-27T11:12:58.145Z"
   },
   {
    "duration": 4,
    "start_time": "2021-08-27T11:12:58.404Z"
   },
   {
    "duration": 1457,
    "start_time": "2021-08-27T11:12:58.410Z"
   },
   {
    "duration": 25,
    "start_time": "2021-08-27T11:12:59.868Z"
   },
   {
    "duration": 5,
    "start_time": "2021-08-27T11:12:59.895Z"
   },
   {
    "duration": 58,
    "start_time": "2021-08-27T11:12:59.901Z"
   },
   {
    "duration": 22,
    "start_time": "2021-08-27T11:12:59.961Z"
   },
   {
    "duration": 24,
    "start_time": "2021-08-27T11:12:59.985Z"
   },
   {
    "duration": 416,
    "start_time": "2021-08-27T11:13:00.011Z"
   },
   {
    "duration": 25,
    "start_time": "2021-08-27T11:13:00.429Z"
   },
   {
    "duration": 34,
    "start_time": "2021-08-27T11:13:00.456Z"
   },
   {
    "duration": 379,
    "start_time": "2021-08-27T11:13:00.492Z"
   },
   {
    "duration": 18,
    "start_time": "2021-08-27T11:13:17.715Z"
   },
   {
    "duration": 1234,
    "start_time": "2021-08-27T11:13:44.433Z"
   },
   {
    "duration": 1146,
    "start_time": "2021-08-27T11:14:16.890Z"
   },
   {
    "duration": 1149,
    "start_time": "2021-08-27T11:14:48.101Z"
   },
   {
    "duration": 55,
    "start_time": "2021-08-27T11:15:22.550Z"
   },
   {
    "duration": 1169,
    "start_time": "2021-08-27T11:15:59.627Z"
   },
   {
    "duration": 72,
    "start_time": "2021-08-27T11:16:20.907Z"
   },
   {
    "duration": 4,
    "start_time": "2021-08-27T11:31:11.446Z"
   },
   {
    "duration": 6,
    "start_time": "2021-08-27T11:32:21.394Z"
   },
   {
    "duration": 24,
    "start_time": "2021-08-27T11:32:34.590Z"
   },
   {
    "duration": 267,
    "start_time": "2021-08-27T11:33:11.356Z"
   },
   {
    "duration": 495,
    "start_time": "2021-08-27T11:33:26.072Z"
   },
   {
    "duration": 484,
    "start_time": "2021-08-27T11:33:48.750Z"
   },
   {
    "duration": 490,
    "start_time": "2021-08-27T11:34:32.305Z"
   },
   {
    "duration": 533,
    "start_time": "2021-08-27T11:40:08.500Z"
   },
   {
    "duration": 637,
    "start_time": "2021-08-27T11:40:27.039Z"
   },
   {
    "duration": 4,
    "start_time": "2021-08-27T11:40:51.656Z"
   },
   {
    "duration": 443,
    "start_time": "2021-08-27T11:41:08.258Z"
   },
   {
    "duration": 4,
    "start_time": "2021-08-27T11:41:27.809Z"
   },
   {
    "duration": 89,
    "start_time": "2021-08-27T11:41:49.339Z"
   },
   {
    "duration": 809,
    "start_time": "2021-08-27T11:41:58.343Z"
   },
   {
    "duration": 4,
    "start_time": "2021-08-27T11:42:07.842Z"
   },
   {
    "duration": 689,
    "start_time": "2021-08-27T11:42:44.024Z"
   },
   {
    "duration": 4,
    "start_time": "2021-08-27T11:44:09.379Z"
   },
   {
    "duration": 902,
    "start_time": "2021-08-27T11:45:16.681Z"
   },
   {
    "duration": 713,
    "start_time": "2021-08-27T11:45:25.351Z"
   },
   {
    "duration": 436,
    "start_time": "2021-08-27T11:47:10.399Z"
   },
   {
    "duration": 277,
    "start_time": "2021-08-27T11:47:30.641Z"
   },
   {
    "duration": 407,
    "start_time": "2021-08-27T11:47:33.414Z"
   },
   {
    "duration": 11,
    "start_time": "2021-08-27T11:47:59.043Z"
   },
   {
    "duration": 337,
    "start_time": "2021-08-27T11:48:03.771Z"
   },
   {
    "duration": 475,
    "start_time": "2021-08-27T11:48:06.639Z"
   },
   {
    "duration": 9,
    "start_time": "2021-08-27T11:48:35.304Z"
   },
   {
    "duration": 215,
    "start_time": "2021-08-27T11:48:38.066Z"
   },
   {
    "duration": 1022,
    "start_time": "2021-08-27T11:48:43.446Z"
   },
   {
    "duration": 297,
    "start_time": "2021-08-27T11:49:20.122Z"
   },
   {
    "duration": 9,
    "start_time": "2021-08-27T11:49:27.725Z"
   },
   {
    "duration": 218,
    "start_time": "2021-08-27T11:49:32.449Z"
   },
   {
    "duration": 293,
    "start_time": "2021-08-27T11:49:38.229Z"
   },
   {
    "duration": 7,
    "start_time": "2021-08-27T11:51:07.322Z"
   },
   {
    "duration": 216,
    "start_time": "2021-08-27T11:51:11.594Z"
   },
   {
    "duration": 652,
    "start_time": "2021-08-27T11:51:15.241Z"
   },
   {
    "duration": 8,
    "start_time": "2021-08-27T11:51:40.002Z"
   },
   {
    "duration": 218,
    "start_time": "2021-08-27T11:51:43.676Z"
   },
   {
    "duration": 352,
    "start_time": "2021-08-27T11:51:46.342Z"
   },
   {
    "duration": 39,
    "start_time": "2021-08-27T11:52:11.036Z"
   },
   {
    "duration": 6,
    "start_time": "2021-08-27T11:54:44.477Z"
   },
   {
    "duration": 716,
    "start_time": "2021-08-27T11:55:19.125Z"
   },
   {
    "duration": 9,
    "start_time": "2021-08-27T11:55:57.543Z"
   },
   {
    "duration": 338,
    "start_time": "2021-08-27T11:56:18.492Z"
   },
   {
    "duration": 513,
    "start_time": "2021-08-27T11:57:06.157Z"
   },
   {
    "duration": 8,
    "start_time": "2021-08-27T11:58:30.988Z"
   },
   {
    "duration": 674,
    "start_time": "2021-08-27T11:58:34.601Z"
   },
   {
    "duration": 9,
    "start_time": "2021-08-27T11:59:55.539Z"
   },
   {
    "duration": 3556,
    "start_time": "2021-08-27T12:00:00.371Z"
   },
   {
    "duration": 7,
    "start_time": "2021-08-27T12:03:44.008Z"
   },
   {
    "duration": 179,
    "start_time": "2021-08-27T12:03:50.441Z"
   },
   {
    "duration": 8,
    "start_time": "2021-08-27T12:08:31.129Z"
   },
   {
    "duration": 5749,
    "start_time": "2021-08-27T12:08:39.804Z"
   },
   {
    "duration": 5281,
    "start_time": "2021-08-27T12:09:02.363Z"
   },
   {
    "duration": 4,
    "start_time": "2021-08-27T12:09:55.749Z"
   },
   {
    "duration": 3,
    "start_time": "2021-08-27T12:10:08.407Z"
   },
   {
    "duration": 42,
    "start_time": "2021-08-27T12:10:19.120Z"
   },
   {
    "duration": 5742,
    "start_time": "2021-08-27T12:10:45.217Z"
   },
   {
    "duration": 8,
    "start_time": "2021-08-27T12:11:14.979Z"
   },
   {
    "duration": 693,
    "start_time": "2021-08-27T12:11:34.735Z"
   },
   {
    "duration": 8,
    "start_time": "2021-08-27T12:30:06.916Z"
   },
   {
    "duration": 606,
    "start_time": "2021-08-27T12:30:10.427Z"
   },
   {
    "duration": 8,
    "start_time": "2021-08-27T12:30:25.921Z"
   },
   {
    "duration": 624,
    "start_time": "2021-08-27T12:30:29.627Z"
   },
   {
    "duration": 25,
    "start_time": "2021-08-27T12:30:49.546Z"
   },
   {
    "duration": 2127,
    "start_time": "2021-08-27T12:33:09.938Z"
   },
   {
    "duration": 1276,
    "start_time": "2021-08-27T12:33:12.067Z"
   },
   {
    "duration": 909,
    "start_time": "2021-08-27T12:33:13.345Z"
   },
   {
    "duration": 25,
    "start_time": "2021-08-27T12:33:14.256Z"
   },
   {
    "duration": 425,
    "start_time": "2021-08-27T12:33:14.282Z"
   },
   {
    "duration": 527,
    "start_time": "2021-08-27T12:33:14.708Z"
   },
   {
    "duration": 120,
    "start_time": "2021-08-27T12:33:15.236Z"
   },
   {
    "duration": 253,
    "start_time": "2021-08-27T12:33:15.359Z"
   },
   {
    "duration": 163,
    "start_time": "2021-08-27T12:33:15.614Z"
   },
   {
    "duration": 271,
    "start_time": "2021-08-27T12:33:15.779Z"
   },
   {
    "duration": 2245,
    "start_time": "2021-08-27T12:33:36.274Z"
   },
   {
    "duration": 3,
    "start_time": "2021-08-27T12:33:38.522Z"
   },
   {
    "duration": 854,
    "start_time": "2021-08-27T12:33:38.528Z"
   },
   {
    "duration": 22,
    "start_time": "2021-08-27T12:33:39.384Z"
   },
   {
    "duration": 368,
    "start_time": "2021-08-27T12:33:39.408Z"
   },
   {
    "duration": 445,
    "start_time": "2021-08-27T12:33:39.778Z"
   },
   {
    "duration": 110,
    "start_time": "2021-08-27T12:33:40.225Z"
   },
   {
    "duration": 190,
    "start_time": "2021-08-27T12:33:40.341Z"
   },
   {
    "duration": 166,
    "start_time": "2021-08-27T12:33:40.534Z"
   },
   {
    "duration": 275,
    "start_time": "2021-08-27T12:33:40.702Z"
   },
   {
    "duration": 4,
    "start_time": "2021-08-27T12:33:40.978Z"
   },
   {
    "duration": 1346,
    "start_time": "2021-08-27T12:33:40.984Z"
   },
   {
    "duration": 23,
    "start_time": "2021-08-27T12:33:42.331Z"
   },
   {
    "duration": 5,
    "start_time": "2021-08-27T12:33:42.356Z"
   },
   {
    "duration": 50,
    "start_time": "2021-08-27T12:33:42.362Z"
   },
   {
    "duration": 33,
    "start_time": "2021-08-27T12:33:42.414Z"
   },
   {
    "duration": 24,
    "start_time": "2021-08-27T12:33:42.449Z"
   },
   {
    "duration": 381,
    "start_time": "2021-08-27T12:33:42.475Z"
   },
   {
    "duration": 14,
    "start_time": "2021-08-27T12:33:42.857Z"
   },
   {
    "duration": 29,
    "start_time": "2021-08-27T12:33:42.872Z"
   },
   {
    "duration": 367,
    "start_time": "2021-08-27T12:33:42.903Z"
   },
   {
    "duration": 84,
    "start_time": "2021-08-27T12:33:43.272Z"
   },
   {
    "duration": 7,
    "start_time": "2021-08-27T12:33:43.358Z"
   },
   {
    "duration": 646,
    "start_time": "2021-08-27T12:39:18.878Z"
   },
   {
    "duration": 10,
    "start_time": "2021-08-27T12:43:55.121Z"
   },
   {
    "duration": 715,
    "start_time": "2021-08-27T12:44:02.336Z"
   },
   {
    "duration": 28,
    "start_time": "2021-08-27T12:45:09.863Z"
   },
   {
    "duration": 6,
    "start_time": "2021-08-27T12:56:36.120Z"
   },
   {
    "duration": 2355,
    "start_time": "2021-08-27T13:00:39.181Z"
   },
   {
    "duration": 1345,
    "start_time": "2021-08-27T13:00:41.538Z"
   },
   {
    "duration": 979,
    "start_time": "2021-08-27T13:00:42.886Z"
   },
   {
    "duration": 28,
    "start_time": "2021-08-27T13:00:43.867Z"
   },
   {
    "duration": 469,
    "start_time": "2021-08-27T13:00:43.897Z"
   },
   {
    "duration": 582,
    "start_time": "2021-08-27T13:00:44.368Z"
   },
   {
    "duration": 133,
    "start_time": "2021-08-27T13:00:44.952Z"
   },
   {
    "duration": 262,
    "start_time": "2021-08-27T13:00:45.087Z"
   },
   {
    "duration": 192,
    "start_time": "2021-08-27T13:00:45.352Z"
   },
   {
    "duration": 308,
    "start_time": "2021-08-27T13:00:45.546Z"
   },
   {
    "duration": 6,
    "start_time": "2021-08-27T13:00:45.856Z"
   },
   {
    "duration": 1657,
    "start_time": "2021-08-27T13:00:45.864Z"
   },
   {
    "duration": 25,
    "start_time": "2021-08-27T13:00:47.523Z"
   },
   {
    "duration": 5,
    "start_time": "2021-08-27T13:00:47.550Z"
   },
   {
    "duration": 62,
    "start_time": "2021-08-27T13:00:47.557Z"
   },
   {
    "duration": 36,
    "start_time": "2021-08-27T13:00:47.620Z"
   },
   {
    "duration": 30,
    "start_time": "2021-08-27T13:00:47.658Z"
   },
   {
    "duration": 431,
    "start_time": "2021-08-27T13:00:47.690Z"
   },
   {
    "duration": 29,
    "start_time": "2021-08-27T13:00:48.123Z"
   },
   {
    "duration": 35,
    "start_time": "2021-08-27T13:00:48.154Z"
   },
   {
    "duration": 407,
    "start_time": "2021-08-27T13:00:48.191Z"
   },
   {
    "duration": 104,
    "start_time": "2021-08-27T13:00:48.600Z"
   },
   {
    "duration": 9,
    "start_time": "2021-08-27T13:00:48.707Z"
   },
   {
    "duration": 608,
    "start_time": "2021-08-27T13:00:48.718Z"
   },
   {
    "duration": 484,
    "start_time": "2021-08-27T13:02:03.749Z"
   },
   {
    "duration": 469,
    "start_time": "2021-08-27T13:03:51.226Z"
   },
   {
    "duration": 147907,
    "start_time": "2021-08-27T13:04:30.962Z"
   },
   {
    "duration": 156,
    "start_time": "2021-08-27T13:19:39.150Z"
   },
   {
    "duration": 216,
    "start_time": "2021-08-27T13:19:58.864Z"
   },
   {
    "duration": 160,
    "start_time": "2021-08-27T13:20:05.341Z"
   },
   {
    "duration": 153,
    "start_time": "2021-08-27T13:21:11.568Z"
   },
   {
    "duration": 9443,
    "start_time": "2021-08-27T13:22:01.405Z"
   },
   {
    "duration": 151,
    "start_time": "2021-08-27T13:22:35.912Z"
   },
   {
    "duration": 155,
    "start_time": "2021-08-27T13:25:21.229Z"
   },
   {
    "duration": 444,
    "start_time": "2021-08-27T14:01:10.027Z"
   },
   {
    "duration": 185,
    "start_time": "2021-08-27T14:01:19.700Z"
   },
   {
    "duration": 179,
    "start_time": "2021-08-27T14:02:10.401Z"
   },
   {
    "duration": 480,
    "start_time": "2021-08-27T14:03:11.361Z"
   },
   {
    "duration": 195,
    "start_time": "2021-08-27T14:03:20.047Z"
   },
   {
    "duration": 186,
    "start_time": "2021-08-27T14:03:55.252Z"
   },
   {
    "duration": 5154,
    "start_time": "2021-08-27T14:05:12.880Z"
   },
   {
    "duration": 5312,
    "start_time": "2021-08-27T14:05:21.662Z"
   },
   {
    "duration": 2431,
    "start_time": "2021-08-27T14:06:48.124Z"
   },
   {
    "duration": 1378,
    "start_time": "2021-08-27T14:06:50.558Z"
   },
   {
    "duration": 936,
    "start_time": "2021-08-27T14:06:51.940Z"
   },
   {
    "duration": 28,
    "start_time": "2021-08-27T14:06:52.878Z"
   },
   {
    "duration": 457,
    "start_time": "2021-08-27T14:06:52.908Z"
   },
   {
    "duration": 546,
    "start_time": "2021-08-27T14:06:53.367Z"
   },
   {
    "duration": 131,
    "start_time": "2021-08-27T14:06:53.915Z"
   },
   {
    "duration": 265,
    "start_time": "2021-08-27T14:06:54.050Z"
   },
   {
    "duration": 301,
    "start_time": "2021-08-27T14:06:54.318Z"
   },
   {
    "duration": 293,
    "start_time": "2021-08-27T14:06:54.621Z"
   },
   {
    "duration": 5,
    "start_time": "2021-08-27T14:06:54.916Z"
   },
   {
    "duration": 1470,
    "start_time": "2021-08-27T14:06:54.924Z"
   },
   {
    "duration": 21,
    "start_time": "2021-08-27T14:06:56.396Z"
   },
   {
    "duration": 23,
    "start_time": "2021-08-27T14:06:56.419Z"
   },
   {
    "duration": 40,
    "start_time": "2021-08-27T14:06:56.444Z"
   },
   {
    "duration": 22,
    "start_time": "2021-08-27T14:06:56.486Z"
   },
   {
    "duration": 51,
    "start_time": "2021-08-27T14:06:56.510Z"
   },
   {
    "duration": 427,
    "start_time": "2021-08-27T14:06:56.563Z"
   },
   {
    "duration": 18,
    "start_time": "2021-08-27T14:06:56.992Z"
   },
   {
    "duration": 52,
    "start_time": "2021-08-27T14:06:57.012Z"
   },
   {
    "duration": 421,
    "start_time": "2021-08-27T14:06:57.066Z"
   },
   {
    "duration": 94,
    "start_time": "2021-08-27T14:06:57.489Z"
   },
   {
    "duration": 9,
    "start_time": "2021-08-27T14:06:57.586Z"
   },
   {
    "duration": 194,
    "start_time": "2021-08-27T14:06:57.596Z"
   },
   {
    "duration": 163561,
    "start_time": "2021-08-27T14:06:57.792Z"
   },
   {
    "duration": 5,
    "start_time": "2021-08-27T14:10:09.107Z"
   },
   {
    "duration": 175518,
    "start_time": "2021-08-27T14:10:39.229Z"
   },
   {
    "duration": 155563,
    "start_time": "2021-08-27T14:18:01.081Z"
   },
   {
    "duration": 168725,
    "start_time": "2021-08-27T14:21:05.125Z"
   },
   {
    "duration": 158,
    "start_time": "2021-08-27T14:25:24.688Z"
   },
   {
    "duration": 697,
    "start_time": "2021-08-27T14:25:42.349Z"
   },
   {
    "duration": 834,
    "start_time": "2021-08-27T14:25:52.908Z"
   },
   {
    "duration": 10,
    "start_time": "2021-08-27T14:33:14.954Z"
   },
   {
    "duration": 108,
    "start_time": "2021-08-27T14:33:30.704Z"
   },
   {
    "duration": 92,
    "start_time": "2021-08-27T14:33:38.548Z"
   },
   {
    "duration": 667,
    "start_time": "2021-08-27T14:33:59.819Z"
   },
   {
    "duration": 4,
    "start_time": "2021-08-27T14:38:16.549Z"
   },
   {
    "duration": 686,
    "start_time": "2021-08-27T14:38:18.724Z"
   },
   {
    "duration": 5,
    "start_time": "2021-08-27T14:38:36.652Z"
   },
   {
    "duration": 685,
    "start_time": "2021-08-27T14:38:39.092Z"
   },
   {
    "duration": 5,
    "start_time": "2021-08-27T14:39:00.260Z"
   },
   {
    "duration": 676,
    "start_time": "2021-08-27T14:39:02.869Z"
   },
   {
    "duration": 134034,
    "start_time": "2021-08-27T14:42:13.613Z"
   },
   {
    "duration": 218,
    "start_time": "2021-08-27T14:46:25.229Z"
   },
   {
    "duration": 607319,
    "start_time": "2021-08-27T14:46:47.368Z"
   },
   {
    "duration": 5,
    "start_time": "2021-08-27T14:59:03.119Z"
   },
   {
    "duration": 1791,
    "start_time": "2021-08-27T14:59:14.381Z"
   },
   {
    "duration": 3531,
    "start_time": "2021-08-27T15:01:02.470Z"
   },
   {
    "duration": 1199,
    "start_time": "2021-08-27T15:15:10.127Z"
   },
   {
    "duration": 41,
    "start_time": "2021-08-27T15:16:06.298Z"
   },
   {
    "duration": 5302,
    "start_time": "2021-08-28T09:04:08.271Z"
   },
   {
    "duration": 1643,
    "start_time": "2021-08-28T09:04:13.576Z"
   },
   {
    "duration": 1196,
    "start_time": "2021-08-28T09:04:15.222Z"
   },
   {
    "duration": 36,
    "start_time": "2021-08-28T09:04:16.420Z"
   },
   {
    "duration": 591,
    "start_time": "2021-08-28T09:04:16.459Z"
   },
   {
    "duration": 782,
    "start_time": "2021-08-28T09:04:17.052Z"
   },
   {
    "duration": 153,
    "start_time": "2021-08-28T09:04:17.836Z"
   },
   {
    "duration": 345,
    "start_time": "2021-08-28T09:04:17.993Z"
   },
   {
    "duration": 267,
    "start_time": "2021-08-28T09:04:18.341Z"
   },
   {
    "duration": 444,
    "start_time": "2021-08-28T09:04:18.616Z"
   },
   {
    "duration": 6,
    "start_time": "2021-08-28T09:04:19.062Z"
   },
   {
    "duration": 2085,
    "start_time": "2021-08-28T09:04:19.070Z"
   },
   {
    "duration": 23,
    "start_time": "2021-08-28T09:04:21.157Z"
   },
   {
    "duration": 8,
    "start_time": "2021-08-28T09:04:21.182Z"
   },
   {
    "duration": 48,
    "start_time": "2021-08-28T09:04:21.217Z"
   },
   {
    "duration": 61,
    "start_time": "2021-08-28T09:04:21.268Z"
   },
   {
    "duration": 38,
    "start_time": "2021-08-28T09:04:21.331Z"
   },
   {
    "duration": 631,
    "start_time": "2021-08-28T09:04:21.371Z"
   },
   {
    "duration": 30,
    "start_time": "2021-08-28T09:04:22.004Z"
   },
   {
    "duration": 39,
    "start_time": "2021-08-28T09:04:22.037Z"
   },
   {
    "duration": 620,
    "start_time": "2021-08-28T09:04:22.079Z"
   },
   {
    "duration": 120,
    "start_time": "2021-08-28T09:04:22.701Z"
   },
   {
    "duration": 13,
    "start_time": "2021-08-28T09:04:22.826Z"
   },
   {
    "duration": 6,
    "start_time": "2021-08-28T09:04:22.842Z"
   },
   {
    "duration": 232,
    "start_time": "2021-08-28T09:04:22.851Z"
   },
   {
    "duration": 4,
    "start_time": "2021-08-28T09:06:05.638Z"
   },
   {
    "duration": 201164,
    "start_time": "2021-08-28T09:08:16.861Z"
   },
   {
    "duration": 5,
    "start_time": "2021-08-28T09:13:35.508Z"
   },
   {
    "duration": 651775,
    "start_time": "2021-08-28T09:14:06.726Z"
   },
   {
    "duration": 5,
    "start_time": "2021-08-28T09:25:53.579Z"
   },
   {
    "duration": 189,
    "start_time": "2021-08-28T09:26:07.620Z"
   },
   {
    "duration": 5,
    "start_time": "2021-08-28T09:26:09.839Z"
   },
   {
    "duration": 5,
    "start_time": "2021-08-28T09:26:13.040Z"
   },
   {
    "duration": 4,
    "start_time": "2021-08-28T09:26:15.483Z"
   },
   {
    "duration": 162409,
    "start_time": "2021-08-28T09:26:53.807Z"
   },
   {
    "duration": 4,
    "start_time": "2021-08-28T09:29:46.325Z"
   },
   {
    "duration": 4,
    "start_time": "2021-08-28T09:29:49.309Z"
   },
   {
    "duration": 619479,
    "start_time": "2021-08-28T09:29:51.875Z"
   },
   {
    "duration": 4,
    "start_time": "2021-08-28T09:42:10.895Z"
   },
   {
    "duration": 4,
    "start_time": "2021-08-28T09:42:14.165Z"
   },
   {
    "duration": 3513,
    "start_time": "2021-08-28T09:42:16.606Z"
   },
   {
    "duration": 5,
    "start_time": "2021-08-28T09:42:59.165Z"
   },
   {
    "duration": 1218,
    "start_time": "2021-08-28T09:43:01.594Z"
   },
   {
    "duration": 5,
    "start_time": "2021-08-28T09:43:41.121Z"
   },
   {
    "duration": 321747,
    "start_time": "2021-08-28T09:43:43.280Z"
   },
   {
    "duration": 4,
    "start_time": "2021-08-28T09:49:55.197Z"
   },
   {
    "duration": 5,
    "start_time": "2021-08-28T09:50:36.643Z"
   },
   {
    "duration": 3104440,
    "start_time": "2021-08-28T09:50:39.537Z"
   },
   {
    "duration": 5,
    "start_time": "2021-08-28T10:42:24.933Z"
   },
   {
    "duration": 411,
    "start_time": "2021-08-28T10:42:28.145Z"
   },
   {
    "duration": 4,
    "start_time": "2021-08-28T10:46:29.731Z"
   },
   {
    "duration": 1444,
    "start_time": "2021-08-28T10:47:36.120Z"
   },
   {
    "duration": 4,
    "start_time": "2021-08-28T10:47:52.229Z"
   },
   {
    "duration": 1818,
    "start_time": "2021-08-28T10:47:54.764Z"
   },
   {
    "duration": 5,
    "start_time": "2021-08-28T10:48:36.602Z"
   },
   {
    "duration": 6,
    "start_time": "2021-08-28T10:48:38.882Z"
   },
   {
    "duration": 1933069,
    "start_time": "2021-08-28T10:48:41.040Z"
   },
   {
    "duration": 6,
    "start_time": "2021-08-28T11:22:07.627Z"
   },
   {
    "duration": 5,
    "start_time": "2021-08-28T11:22:17.106Z"
   },
   {
    "duration": 5,
    "start_time": "2021-08-28T11:22:26.554Z"
   },
   {
    "duration": 5,
    "start_time": "2021-08-28T11:22:37.569Z"
   },
   {
    "duration": 194,
    "start_time": "2021-08-28T11:22:40.041Z"
   },
   {
    "duration": 5,
    "start_time": "2021-08-28T11:22:45.085Z"
   },
   {
    "duration": 166109,
    "start_time": "2021-08-28T11:22:48.007Z"
   },
   {
    "duration": 39392,
    "start_time": "2021-08-28T11:29:28.646Z"
   },
   {
    "duration": 4,
    "start_time": "2021-08-28T11:31:00.012Z"
   },
   {
    "duration": 6,
    "start_time": "2021-08-28T11:31:56.496Z"
   },
   {
    "duration": 168326,
    "start_time": "2021-08-28T11:31:59.506Z"
   },
   {
    "duration": 38883,
    "start_time": "2021-08-28T11:35:18.460Z"
   },
   {
    "duration": 161133,
    "start_time": "2021-08-28T11:36:26.886Z"
   },
   {
    "duration": 171117,
    "start_time": "2021-08-28T11:39:32.607Z"
   },
   {
    "duration": 38904,
    "start_time": "2021-08-28T11:42:23.727Z"
   },
   {
    "duration": 40104,
    "start_time": "2021-08-28T11:46:23.730Z"
   },
   {
    "duration": 3,
    "start_time": "2021-08-28T11:47:38.760Z"
   },
   {
    "duration": 5,
    "start_time": "2021-08-28T11:47:41.904Z"
   },
   {
    "duration": 6,
    "start_time": "2021-08-28T11:47:45.228Z"
   },
   {
    "duration": 2278922,
    "start_time": "2021-08-28T11:48:02.169Z"
   },
   {
    "duration": 5,
    "start_time": "2021-08-28T12:29:13.238Z"
   },
   {
    "duration": 37021,
    "start_time": "2021-08-28T12:29:17.207Z"
   },
   {
    "duration": 6,
    "start_time": "2021-08-28T12:29:56.582Z"
   },
   {
    "duration": 5,
    "start_time": "2021-08-28T12:30:44.379Z"
   },
   {
    "duration": 4,
    "start_time": "2021-08-28T12:32:16.970Z"
   },
   {
    "duration": 216239,
    "start_time": "2021-08-28T12:32:19.414Z"
   },
   {
    "duration": 5,
    "start_time": "2021-08-28T12:35:58.253Z"
   },
   {
    "duration": 26,
    "start_time": "2021-08-28T12:36:28.553Z"
   },
   {
    "duration": 4,
    "start_time": "2021-08-28T12:39:05.563Z"
   },
   {
    "duration": 1865,
    "start_time": "2021-08-28T12:39:57.999Z"
   },
   {
    "duration": 3360,
    "start_time": "2021-08-28T12:40:20.074Z"
   },
   {
    "duration": 9,
    "start_time": "2021-08-28T12:40:23.438Z"
   },
   {
    "duration": 2061,
    "start_time": "2021-08-28T12:40:23.451Z"
   },
   {
    "duration": 56,
    "start_time": "2021-08-28T12:40:25.518Z"
   },
   {
    "duration": 980,
    "start_time": "2021-08-28T12:40:25.577Z"
   },
   {
    "duration": 1150,
    "start_time": "2021-08-28T12:40:26.561Z"
   },
   {
    "duration": 280,
    "start_time": "2021-08-28T12:40:27.717Z"
   },
   {
    "duration": 528,
    "start_time": "2021-08-28T12:40:28.003Z"
   },
   {
    "duration": 262,
    "start_time": "2021-08-28T12:40:28.535Z"
   },
   {
    "duration": 468,
    "start_time": "2021-08-28T12:40:28.799Z"
   },
   {
    "duration": 6,
    "start_time": "2021-08-28T12:40:29.269Z"
   },
   {
    "duration": 2207,
    "start_time": "2021-08-28T12:40:29.278Z"
   },
   {
    "duration": 36,
    "start_time": "2021-08-28T12:40:31.488Z"
   },
   {
    "duration": 8,
    "start_time": "2021-08-28T12:40:31.527Z"
   },
   {
    "duration": 49,
    "start_time": "2021-08-28T12:40:31.538Z"
   },
   {
    "duration": 32,
    "start_time": "2021-08-28T12:40:31.617Z"
   },
   {
    "duration": 34,
    "start_time": "2021-08-28T12:40:31.652Z"
   },
   {
    "duration": 669,
    "start_time": "2021-08-28T12:40:31.689Z"
   },
   {
    "duration": 23,
    "start_time": "2021-08-28T12:40:32.361Z"
   },
   {
    "duration": 67,
    "start_time": "2021-08-28T12:40:32.386Z"
   },
   {
    "duration": 624,
    "start_time": "2021-08-28T12:40:32.455Z"
   },
   {
    "duration": 117,
    "start_time": "2021-08-28T12:40:33.081Z"
   },
   {
    "duration": 26,
    "start_time": "2021-08-28T12:40:33.204Z"
   },
   {
    "duration": 8,
    "start_time": "2021-08-28T12:40:33.234Z"
   },
   {
    "duration": 211,
    "start_time": "2021-08-28T12:40:33.245Z"
   },
   {
    "duration": 5,
    "start_time": "2021-08-28T12:40:33.459Z"
   },
   {
    "duration": 169251,
    "start_time": "2021-08-28T12:40:33.466Z"
   },
   {
    "duration": 95,
    "start_time": "2021-08-28T12:43:22.721Z"
   },
   {
    "duration": 38210,
    "start_time": "2021-08-28T12:43:22.819Z"
   },
   {
    "duration": 984,
    "start_time": "2021-08-28T12:44:01.031Z"
   },
   {
    "duration": 4,
    "start_time": "2021-08-28T12:44:50.643Z"
   },
   {
    "duration": 5,
    "start_time": "2021-08-28T12:44:54.542Z"
   },
   {
    "duration": 4,
    "start_time": "2021-08-28T12:45:12.470Z"
   },
   {
    "duration": 5,
    "start_time": "2021-08-28T12:45:15.336Z"
   },
   {
    "duration": 4,
    "start_time": "2021-08-28T12:45:21.394Z"
   },
   {
    "duration": 5,
    "start_time": "2021-08-28T12:45:23.927Z"
   },
   {
    "duration": 22,
    "start_time": "2021-08-28T12:47:36.627Z"
   },
   {
    "duration": 5,
    "start_time": "2021-08-28T12:56:12.350Z"
   },
   {
    "duration": 256,
    "start_time": "2021-08-28T12:56:23.429Z"
   },
   {
    "duration": 5,
    "start_time": "2021-08-28T12:56:36.140Z"
   },
   {
    "duration": 300270,
    "start_time": "2021-08-28T12:56:40.458Z"
   },
   {
    "duration": 4,
    "start_time": "2021-08-28T13:03:20.413Z"
   },
   {
    "duration": 689552,
    "start_time": "2021-08-28T13:03:22.687Z"
   },
   {
    "duration": 6,
    "start_time": "2021-08-28T13:21:54.526Z"
   },
   {
    "duration": 120284,
    "start_time": "2021-08-28T13:21:57.432Z"
   },
   {
    "duration": 5,
    "start_time": "2021-08-28T13:23:57.719Z"
   },
   {
    "duration": 4986,
    "start_time": "2021-08-28T16:01:41.865Z"
   },
   {
    "duration": 1647,
    "start_time": "2021-08-28T16:01:46.853Z"
   },
   {
    "duration": 1252,
    "start_time": "2021-08-28T16:01:48.504Z"
   },
   {
    "duration": 38,
    "start_time": "2021-08-28T16:01:49.758Z"
   },
   {
    "duration": 663,
    "start_time": "2021-08-28T16:01:49.799Z"
   },
   {
    "duration": 752,
    "start_time": "2021-08-28T16:01:50.464Z"
   },
   {
    "duration": 218,
    "start_time": "2021-08-28T16:01:51.218Z"
   },
   {
    "duration": 415,
    "start_time": "2021-08-28T16:01:51.440Z"
   },
   {
    "duration": 246,
    "start_time": "2021-08-28T16:01:51.858Z"
   },
   {
    "duration": 452,
    "start_time": "2021-08-28T16:01:52.106Z"
   },
   {
    "duration": 6,
    "start_time": "2021-08-28T16:01:52.560Z"
   },
   {
    "duration": 2032,
    "start_time": "2021-08-28T16:01:52.568Z"
   },
   {
    "duration": 25,
    "start_time": "2021-08-28T16:01:54.602Z"
   },
   {
    "duration": 27,
    "start_time": "2021-08-28T16:01:54.629Z"
   },
   {
    "duration": 52,
    "start_time": "2021-08-28T16:01:54.659Z"
   },
   {
    "duration": 54,
    "start_time": "2021-08-28T16:01:54.713Z"
   },
   {
    "duration": 32,
    "start_time": "2021-08-28T16:01:54.770Z"
   },
   {
    "duration": 654,
    "start_time": "2021-08-28T16:01:54.804Z"
   },
   {
    "duration": 23,
    "start_time": "2021-08-28T16:01:55.461Z"
   },
   {
    "duration": 41,
    "start_time": "2021-08-28T16:01:55.487Z"
   },
   {
    "duration": 612,
    "start_time": "2021-08-28T16:01:55.556Z"
   },
   {
    "duration": 115,
    "start_time": "2021-08-28T16:01:56.170Z"
   },
   {
    "duration": 11,
    "start_time": "2021-08-28T16:01:56.289Z"
   },
   {
    "duration": 5,
    "start_time": "2021-08-28T16:01:56.303Z"
   },
   {
    "duration": 216,
    "start_time": "2021-08-28T16:01:56.310Z"
   },
   {
    "duration": 5,
    "start_time": "2021-08-28T16:01:56.529Z"
   },
   {
    "duration": 176928,
    "start_time": "2021-08-28T16:01:56.537Z"
   },
   {
    "duration": 90,
    "start_time": "2021-08-28T16:04:53.468Z"
   },
   {
    "duration": 48208,
    "start_time": "2021-08-28T16:04:53.560Z"
   },
   {
    "duration": 5,
    "start_time": "2021-08-28T16:05:41.771Z"
   },
   {
    "duration": 13,
    "start_time": "2021-08-28T16:05:41.778Z"
   },
   {
    "duration": 62,
    "start_time": "2021-08-28T16:05:41.794Z"
   },
   {
    "duration": 5,
    "start_time": "2021-08-28T16:20:45.524Z"
   },
   {
    "duration": 5,
    "start_time": "2021-08-28T16:20:47.195Z"
   },
   {
    "duration": 4934100,
    "start_time": "2021-08-28T16:20:52.226Z"
   },
   {
    "duration": 5,
    "start_time": "2021-08-28T17:43:16.337Z"
   },
   {
    "duration": 3449,
    "start_time": "2021-08-28T17:43:52.071Z"
   },
   {
    "duration": 2459,
    "start_time": "2021-08-28T17:43:55.523Z"
   },
   {
    "duration": 1402,
    "start_time": "2021-08-28T17:43:57.986Z"
   },
   {
    "duration": 78,
    "start_time": "2021-08-28T17:43:59.392Z"
   },
   {
    "duration": 848,
    "start_time": "2021-08-28T17:43:59.473Z"
   },
   {
    "duration": 965,
    "start_time": "2021-08-28T17:44:00.323Z"
   },
   {
    "duration": 181,
    "start_time": "2021-08-28T17:44:01.291Z"
   },
   {
    "duration": 579,
    "start_time": "2021-08-28T17:44:01.477Z"
   },
   {
    "duration": 436,
    "start_time": "2021-08-28T17:44:02.060Z"
   },
   {
    "duration": 512,
    "start_time": "2021-08-28T17:44:02.498Z"
   },
   {
    "duration": 6,
    "start_time": "2021-08-28T17:44:03.013Z"
   },
   {
    "duration": 2514,
    "start_time": "2021-08-28T17:44:03.022Z"
   },
   {
    "duration": 46,
    "start_time": "2021-08-28T17:44:05.539Z"
   },
   {
    "duration": 9,
    "start_time": "2021-08-28T17:44:05.587Z"
   },
   {
    "duration": 84,
    "start_time": "2021-08-28T17:44:05.599Z"
   },
   {
    "duration": 36,
    "start_time": "2021-08-28T17:44:05.687Z"
   },
   {
    "duration": 56,
    "start_time": "2021-08-28T17:44:05.726Z"
   },
   {
    "duration": 709,
    "start_time": "2021-08-28T17:44:05.784Z"
   },
   {
    "duration": 25,
    "start_time": "2021-08-28T17:44:06.496Z"
   },
   {
    "duration": 69,
    "start_time": "2021-08-28T17:44:06.523Z"
   },
   {
    "duration": 682,
    "start_time": "2021-08-28T17:44:06.594Z"
   },
   {
    "duration": 135,
    "start_time": "2021-08-28T17:44:07.278Z"
   },
   {
    "duration": 13,
    "start_time": "2021-08-28T17:44:07.420Z"
   },
   {
    "duration": 23,
    "start_time": "2021-08-28T17:44:07.436Z"
   },
   {
    "duration": 227,
    "start_time": "2021-08-28T17:44:07.462Z"
   },
   {
    "duration": 5,
    "start_time": "2021-08-28T17:44:07.691Z"
   },
   {
    "duration": 261085,
    "start_time": "2021-08-28T17:44:07.699Z"
   },
   {
    "duration": 23,
    "start_time": "2021-08-28T17:48:28.872Z"
   },
   {
    "duration": 7,
    "start_time": "2021-08-28T17:48:28.898Z"
   },
   {
    "duration": 53075,
    "start_time": "2021-08-28T17:48:28.909Z"
   },
   {
    "duration": 4347,
    "start_time": "2021-08-29T08:26:26.726Z"
   },
   {
    "duration": 1496,
    "start_time": "2021-08-29T08:26:31.076Z"
   },
   {
    "duration": 1217,
    "start_time": "2021-08-29T08:26:32.574Z"
   },
   {
    "duration": 35,
    "start_time": "2021-08-29T08:26:33.793Z"
   },
   {
    "duration": 645,
    "start_time": "2021-08-29T08:26:33.831Z"
   },
   {
    "duration": 667,
    "start_time": "2021-08-29T08:26:34.477Z"
   },
   {
    "duration": 151,
    "start_time": "2021-08-29T08:26:35.147Z"
   },
   {
    "duration": 306,
    "start_time": "2021-08-29T08:26:35.302Z"
   },
   {
    "duration": 221,
    "start_time": "2021-08-29T08:26:35.611Z"
   },
   {
    "duration": 342,
    "start_time": "2021-08-29T08:26:35.834Z"
   },
   {
    "duration": 5,
    "start_time": "2021-08-29T08:26:36.178Z"
   },
   {
    "duration": 1646,
    "start_time": "2021-08-29T08:26:36.185Z"
   },
   {
    "duration": 26,
    "start_time": "2021-08-29T08:26:37.833Z"
   },
   {
    "duration": 6,
    "start_time": "2021-08-29T08:26:37.861Z"
   },
   {
    "duration": 58,
    "start_time": "2021-08-29T08:26:37.868Z"
   },
   {
    "duration": 28,
    "start_time": "2021-08-29T08:26:37.928Z"
   },
   {
    "duration": 24,
    "start_time": "2021-08-29T08:26:37.958Z"
   },
   {
    "duration": 464,
    "start_time": "2021-08-29T08:26:37.984Z"
   },
   {
    "duration": 18,
    "start_time": "2021-08-29T08:26:38.450Z"
   },
   {
    "duration": 35,
    "start_time": "2021-08-29T08:26:38.470Z"
   },
   {
    "duration": 448,
    "start_time": "2021-08-29T08:26:38.507Z"
   },
   {
    "duration": 102,
    "start_time": "2021-08-29T08:26:38.957Z"
   },
   {
    "duration": 9,
    "start_time": "2021-08-29T08:26:39.062Z"
   },
   {
    "duration": 5,
    "start_time": "2021-08-29T08:26:39.073Z"
   },
   {
    "duration": 181,
    "start_time": "2021-08-29T08:26:39.080Z"
   },
   {
    "duration": 5,
    "start_time": "2021-08-29T08:26:39.263Z"
   },
   {
    "duration": 170773,
    "start_time": "2021-08-29T08:26:39.269Z"
   },
   {
    "duration": 5,
    "start_time": "2021-08-29T08:29:30.044Z"
   },
   {
    "duration": 22,
    "start_time": "2021-08-29T08:29:30.140Z"
   },
   {
    "duration": 38781,
    "start_time": "2021-08-29T08:29:30.164Z"
   },
   {
    "duration": 39100,
    "start_time": "2021-08-29T08:30:08.948Z"
   },
   {
    "duration": 7,
    "start_time": "2021-08-29T08:30:48.051Z"
   },
   {
    "duration": 4,
    "start_time": "2021-08-29T08:35:59.742Z"
   },
   {
    "duration": 4,
    "start_time": "2021-08-29T08:36:02.109Z"
   },
   {
    "duration": 4864670,
    "start_time": "2021-08-29T08:36:04.554Z"
   },
   {
    "duration": 4564,
    "start_time": "2021-08-29T13:45:24.372Z"
   },
   {
    "duration": 1649,
    "start_time": "2021-08-29T13:45:28.939Z"
   },
   {
    "duration": 1299,
    "start_time": "2021-08-29T13:45:30.591Z"
   },
   {
    "duration": 42,
    "start_time": "2021-08-29T13:45:31.894Z"
   },
   {
    "duration": 734,
    "start_time": "2021-08-29T13:45:31.939Z"
   },
   {
    "duration": 785,
    "start_time": "2021-08-29T13:45:32.676Z"
   },
   {
    "duration": 166,
    "start_time": "2021-08-29T13:45:33.464Z"
   },
   {
    "duration": 364,
    "start_time": "2021-08-29T13:45:33.633Z"
   },
   {
    "duration": 258,
    "start_time": "2021-08-29T13:45:34.001Z"
   },
   {
    "duration": 445,
    "start_time": "2021-08-29T13:45:34.261Z"
   },
   {
    "duration": 6,
    "start_time": "2021-08-29T13:45:34.709Z"
   },
   {
    "duration": 1985,
    "start_time": "2021-08-29T13:45:34.717Z"
   },
   {
    "duration": 24,
    "start_time": "2021-08-29T13:45:36.704Z"
   },
   {
    "duration": 7,
    "start_time": "2021-08-29T13:45:36.731Z"
   },
   {
    "duration": 74,
    "start_time": "2021-08-29T13:45:36.740Z"
   },
   {
    "duration": 52,
    "start_time": "2021-08-29T13:45:36.816Z"
   },
   {
    "duration": 33,
    "start_time": "2021-08-29T13:45:36.871Z"
   },
   {
    "duration": 673,
    "start_time": "2021-08-29T13:45:36.907Z"
   },
   {
    "duration": 25,
    "start_time": "2021-08-29T13:45:37.582Z"
   },
   {
    "duration": 66,
    "start_time": "2021-08-29T13:45:37.609Z"
   },
   {
    "duration": 625,
    "start_time": "2021-08-29T13:45:37.678Z"
   },
   {
    "duration": 121,
    "start_time": "2021-08-29T13:45:38.305Z"
   },
   {
    "duration": 12,
    "start_time": "2021-08-29T13:45:38.430Z"
   },
   {
    "duration": 22,
    "start_time": "2021-08-29T13:45:38.445Z"
   },
   {
    "duration": 305,
    "start_time": "2021-08-29T13:45:38.470Z"
   },
   {
    "duration": 6,
    "start_time": "2021-08-29T13:45:38.777Z"
   },
   {
    "duration": 162289,
    "start_time": "2021-08-29T13:45:38.785Z"
   },
   {
    "duration": 91,
    "start_time": "2021-08-29T13:48:21.077Z"
   },
   {
    "duration": 14,
    "start_time": "2021-08-29T13:48:21.171Z"
   },
   {
    "duration": 36589,
    "start_time": "2021-08-29T13:48:21.188Z"
   },
   {
    "duration": 41,
    "start_time": "2021-08-29T13:49:24.264Z"
   },
   {
    "duration": 54,
    "start_time": "2021-08-29T13:49:35.862Z"
   },
   {
    "duration": 4,
    "start_time": "2021-08-29T13:52:14.198Z"
   },
   {
    "duration": 5,
    "start_time": "2021-08-29T13:52:48.098Z"
   },
   {
    "duration": 384,
    "start_time": "2021-08-29T13:52:51.842Z"
   },
   {
    "duration": 5,
    "start_time": "2021-08-29T13:52:58.347Z"
   },
   {
    "duration": 529,
    "start_time": "2021-08-29T13:53:01.888Z"
   },
   {
    "duration": 6,
    "start_time": "2021-08-29T13:54:18.051Z"
   },
   {
    "duration": 524,
    "start_time": "2021-08-29T13:54:20.966Z"
   },
   {
    "duration": 4,
    "start_time": "2021-08-29T13:56:33.301Z"
   },
   {
    "duration": 649122,
    "start_time": "2021-08-29T13:56:39.454Z"
   },
   {
    "duration": 4,
    "start_time": "2021-08-29T14:09:46.808Z"
   },
   {
    "duration": 670739,
    "start_time": "2021-08-29T14:09:50.046Z"
   },
   {
    "duration": 4,
    "start_time": "2021-08-29T14:25:47.577Z"
   },
   {
    "duration": 510611,
    "start_time": "2021-08-29T14:25:58.062Z"
   },
   {
    "duration": 4,
    "start_time": "2021-08-29T14:35:00.691Z"
   },
   {
    "duration": 1199125,
    "start_time": "2021-08-29T14:35:07.169Z"
   },
   {
    "duration": 4,
    "start_time": "2021-08-29T14:57:42.247Z"
   },
   {
    "duration": 1390157,
    "start_time": "2021-08-29T14:57:59.941Z"
   },
   {
    "duration": 4,
    "start_time": "2021-08-29T15:26:07.024Z"
   },
   {
    "duration": 6423818,
    "start_time": "2021-08-29T15:26:10.664Z"
   },
   {
    "duration": 4810,
    "start_time": "2021-08-30T06:45:30.300Z"
   },
   {
    "duration": 1654,
    "start_time": "2021-08-30T06:45:35.113Z"
   },
   {
    "duration": 1207,
    "start_time": "2021-08-30T06:45:36.770Z"
   },
   {
    "duration": 38,
    "start_time": "2021-08-30T06:45:37.980Z"
   },
   {
    "duration": 599,
    "start_time": "2021-08-30T06:45:38.020Z"
   },
   {
    "duration": 843,
    "start_time": "2021-08-30T06:45:38.621Z"
   },
   {
    "duration": 165,
    "start_time": "2021-08-30T06:45:39.466Z"
   },
   {
    "duration": 367,
    "start_time": "2021-08-30T06:45:39.635Z"
   },
   {
    "duration": 255,
    "start_time": "2021-08-30T06:45:40.005Z"
   },
   {
    "duration": 448,
    "start_time": "2021-08-30T06:45:40.263Z"
   },
   {
    "duration": 6,
    "start_time": "2021-08-30T06:45:40.714Z"
   },
   {
    "duration": 2135,
    "start_time": "2021-08-30T06:45:40.723Z"
   },
   {
    "duration": 25,
    "start_time": "2021-08-30T06:45:42.861Z"
   },
   {
    "duration": 8,
    "start_time": "2021-08-30T06:45:42.888Z"
   },
   {
    "duration": 81,
    "start_time": "2021-08-30T06:45:42.899Z"
   },
   {
    "duration": 28,
    "start_time": "2021-08-30T06:45:42.983Z"
   },
   {
    "duration": 51,
    "start_time": "2021-08-30T06:45:43.013Z"
   },
   {
    "duration": 751,
    "start_time": "2021-08-30T06:45:43.066Z"
   },
   {
    "duration": 40,
    "start_time": "2021-08-30T06:45:43.820Z"
   },
   {
    "duration": 42,
    "start_time": "2021-08-30T06:45:43.862Z"
   },
   {
    "duration": 627,
    "start_time": "2021-08-30T06:45:43.906Z"
   },
   {
    "duration": 118,
    "start_time": "2021-08-30T06:45:44.535Z"
   },
   {
    "duration": 11,
    "start_time": "2021-08-30T06:45:44.659Z"
   },
   {
    "duration": 5,
    "start_time": "2021-08-30T06:45:44.673Z"
   },
   {
    "duration": 221,
    "start_time": "2021-08-30T06:45:44.680Z"
   },
   {
    "duration": 5,
    "start_time": "2021-08-30T06:45:44.903Z"
   },
   {
    "duration": 162049,
    "start_time": "2021-08-30T06:45:44.910Z"
   },
   {
    "duration": 94,
    "start_time": "2021-08-30T06:48:26.963Z"
   },
   {
    "duration": 10,
    "start_time": "2021-08-30T06:48:27.059Z"
   },
   {
    "duration": 36903,
    "start_time": "2021-08-30T06:48:27.071Z"
   },
   {
    "duration": 8,
    "start_time": "2021-08-30T06:49:03.977Z"
   },
   {
    "duration": 34,
    "start_time": "2021-08-30T06:49:57.439Z"
   },
   {
    "duration": 41,
    "start_time": "2021-08-30T06:50:05.358Z"
   },
   {
    "duration": 56,
    "start_time": "2021-08-30T06:50:31.752Z"
   },
   {
    "duration": 535,
    "start_time": "2021-08-30T06:51:00.992Z"
   },
   {
    "duration": 1796,
    "start_time": "2021-08-30T06:51:54.328Z"
   },
   {
    "duration": 87,
    "start_time": "2021-08-30T06:52:11.685Z"
   },
   {
    "duration": 36,
    "start_time": "2021-08-30T06:54:36.531Z"
   },
   {
    "duration": 37,
    "start_time": "2021-08-30T06:54:49.535Z"
   },
   {
    "duration": 3926,
    "start_time": "2021-08-30T06:55:44.256Z"
   },
   {
    "duration": 1562,
    "start_time": "2021-08-30T06:55:48.185Z"
   },
   {
    "duration": 1317,
    "start_time": "2021-08-30T06:55:49.751Z"
   },
   {
    "duration": 39,
    "start_time": "2021-08-30T06:55:51.072Z"
   },
   {
    "duration": 604,
    "start_time": "2021-08-30T06:55:51.113Z"
   },
   {
    "duration": 771,
    "start_time": "2021-08-30T06:55:51.719Z"
   },
   {
    "duration": 156,
    "start_time": "2021-08-30T06:55:52.493Z"
   },
   {
    "duration": 363,
    "start_time": "2021-08-30T06:55:52.659Z"
   },
   {
    "duration": 242,
    "start_time": "2021-08-30T06:55:53.025Z"
   },
   {
    "duration": 464,
    "start_time": "2021-08-30T06:55:53.270Z"
   },
   {
    "duration": 7,
    "start_time": "2021-08-30T06:55:53.736Z"
   },
   {
    "duration": 2195,
    "start_time": "2021-08-30T06:55:53.755Z"
   },
   {
    "duration": 24,
    "start_time": "2021-08-30T06:55:55.956Z"
   },
   {
    "duration": 10,
    "start_time": "2021-08-30T06:55:55.983Z"
   },
   {
    "duration": 86,
    "start_time": "2021-08-30T06:55:55.995Z"
   },
   {
    "duration": 29,
    "start_time": "2021-08-30T06:55:56.084Z"
   },
   {
    "duration": 54,
    "start_time": "2021-08-30T06:55:56.115Z"
   },
   {
    "duration": 641,
    "start_time": "2021-08-30T06:55:56.172Z"
   },
   {
    "duration": 23,
    "start_time": "2021-08-30T06:55:56.816Z"
   },
   {
    "duration": 41,
    "start_time": "2021-08-30T06:55:56.856Z"
   },
   {
    "duration": 601,
    "start_time": "2021-08-30T06:55:56.899Z"
   },
   {
    "duration": 2237,
    "start_time": "2021-08-30T06:55:57.503Z"
   },
   {
    "duration": 68,
    "start_time": "2021-08-30T06:55:59.746Z"
   },
   {
    "duration": 97,
    "start_time": "2021-08-30T06:56:50.448Z"
   },
   {
    "duration": 4723,
    "start_time": "2021-08-30T06:58:39.555Z"
   },
   {
    "duration": 6,
    "start_time": "2021-08-30T06:58:44.282Z"
   },
   {
    "duration": 1916,
    "start_time": "2021-08-30T06:58:44.292Z"
   },
   {
    "duration": 48,
    "start_time": "2021-08-30T06:58:46.211Z"
   },
   {
    "duration": 795,
    "start_time": "2021-08-30T06:58:46.263Z"
   },
   {
    "duration": 995,
    "start_time": "2021-08-30T06:58:47.061Z"
   },
   {
    "duration": 209,
    "start_time": "2021-08-30T06:58:48.059Z"
   },
   {
    "duration": 420,
    "start_time": "2021-08-30T06:58:48.273Z"
   },
   {
    "duration": 382,
    "start_time": "2021-08-30T06:58:48.698Z"
   },
   {
    "duration": 452,
    "start_time": "2021-08-30T06:58:49.083Z"
   },
   {
    "duration": 6,
    "start_time": "2021-08-30T06:58:49.537Z"
   },
   {
    "duration": 2262,
    "start_time": "2021-08-30T06:58:49.556Z"
   },
   {
    "duration": 41,
    "start_time": "2021-08-30T06:58:51.820Z"
   },
   {
    "duration": 9,
    "start_time": "2021-08-30T06:58:51.863Z"
   },
   {
    "duration": 51,
    "start_time": "2021-08-30T06:58:51.874Z"
   },
   {
    "duration": 53,
    "start_time": "2021-08-30T06:58:51.927Z"
   },
   {
    "duration": 32,
    "start_time": "2021-08-30T06:58:51.982Z"
   },
   {
    "duration": 683,
    "start_time": "2021-08-30T06:58:52.016Z"
   },
   {
    "duration": 33,
    "start_time": "2021-08-30T06:58:52.702Z"
   },
   {
    "duration": 66,
    "start_time": "2021-08-30T06:58:52.757Z"
   },
   {
    "duration": 974,
    "start_time": "2021-08-30T06:58:52.826Z"
   },
   {
    "duration": 168,
    "start_time": "2021-08-30T06:58:53.803Z"
   },
   {
    "duration": 15,
    "start_time": "2021-08-30T06:58:53.978Z"
   },
   {
    "duration": 8,
    "start_time": "2021-08-30T06:58:53.997Z"
   },
   {
    "duration": 328,
    "start_time": "2021-08-30T06:58:54.008Z"
   },
   {
    "duration": 15,
    "start_time": "2021-08-30T06:58:54.340Z"
   },
   {
    "duration": 188195,
    "start_time": "2021-08-30T06:58:54.362Z"
   },
   {
    "duration": 5,
    "start_time": "2021-08-30T07:02:02.561Z"
   },
   {
    "duration": 94,
    "start_time": "2021-08-30T07:02:02.570Z"
   },
   {
    "duration": 45207,
    "start_time": "2021-08-30T07:02:02.667Z"
   },
   {
    "duration": 9,
    "start_time": "2021-08-30T07:02:47.878Z"
   },
   {
    "duration": 4,
    "start_time": "2021-08-30T07:04:32.392Z"
   },
   {
    "duration": 3258,
    "start_time": "2021-08-30T09:34:30.441Z"
   },
   {
    "duration": 1535,
    "start_time": "2021-08-30T09:34:33.702Z"
   },
   {
    "duration": 10742,
    "start_time": "2021-08-30T09:34:35.240Z"
   },
   {
    "duration": 38,
    "start_time": "2021-08-30T09:34:45.985Z"
   },
   {
    "duration": 660,
    "start_time": "2021-08-30T09:34:46.026Z"
   },
   {
    "duration": 1074,
    "start_time": "2021-08-30T09:34:46.688Z"
   },
   {
    "duration": 174,
    "start_time": "2021-08-30T09:34:47.765Z"
   },
   {
    "duration": 364,
    "start_time": "2021-08-30T09:34:47.944Z"
   },
   {
    "duration": 273,
    "start_time": "2021-08-30T09:34:48.311Z"
   },
   {
    "duration": 463,
    "start_time": "2021-08-30T09:34:48.587Z"
   },
   {
    "duration": 6,
    "start_time": "2021-08-30T09:34:49.052Z"
   },
   {
    "duration": 2013,
    "start_time": "2021-08-30T09:34:49.060Z"
   },
   {
    "duration": 26,
    "start_time": "2021-08-30T09:34:51.076Z"
   },
   {
    "duration": 8,
    "start_time": "2021-08-30T09:34:51.104Z"
   },
   {
    "duration": 85,
    "start_time": "2021-08-30T09:34:51.115Z"
   },
   {
    "duration": 30,
    "start_time": "2021-08-30T09:34:51.202Z"
   },
   {
    "duration": 49,
    "start_time": "2021-08-30T09:34:51.234Z"
   },
   {
    "duration": 655,
    "start_time": "2021-08-30T09:34:51.285Z"
   },
   {
    "duration": 32,
    "start_time": "2021-08-30T09:34:51.943Z"
   },
   {
    "duration": 40,
    "start_time": "2021-08-30T09:34:51.978Z"
   },
   {
    "duration": 644,
    "start_time": "2021-08-30T09:34:52.021Z"
   },
   {
    "duration": 114,
    "start_time": "2021-08-30T09:34:52.668Z"
   },
   {
    "duration": 11,
    "start_time": "2021-08-30T09:34:52.787Z"
   },
   {
    "duration": 14,
    "start_time": "2021-08-30T09:34:52.802Z"
   },
   {
    "duration": 209,
    "start_time": "2021-08-30T09:34:52.818Z"
   },
   {
    "duration": 6,
    "start_time": "2021-08-30T09:34:53.029Z"
   },
   {
    "duration": 159126,
    "start_time": "2021-08-30T09:34:53.038Z"
   },
   {
    "duration": 94,
    "start_time": "2021-08-30T09:37:32.167Z"
   },
   {
    "duration": 94,
    "start_time": "2021-08-30T09:37:32.266Z"
   },
   {
    "duration": 38196,
    "start_time": "2021-08-30T09:37:32.362Z"
   },
   {
    "duration": 5,
    "start_time": "2021-08-30T09:38:10.561Z"
   },
   {
    "duration": 9,
    "start_time": "2021-08-30T09:38:10.569Z"
   },
   {
    "duration": 6,
    "start_time": "2021-08-30T09:38:10.581Z"
   },
   {
    "duration": 619,
    "start_time": "2021-08-30T09:38:10.589Z"
   },
   {
    "duration": -7,
    "start_time": "2021-08-30T09:38:11.217Z"
   },
   {
    "duration": -6,
    "start_time": "2021-08-30T09:38:11.218Z"
   },
   {
    "duration": -6,
    "start_time": "2021-08-30T09:38:11.219Z"
   },
   {
    "duration": -5,
    "start_time": "2021-08-30T09:38:11.220Z"
   },
   {
    "duration": -6,
    "start_time": "2021-08-30T09:38:11.222Z"
   },
   {
    "duration": -6,
    "start_time": "2021-08-30T09:38:11.223Z"
   },
   {
    "duration": -5,
    "start_time": "2021-08-30T09:38:11.224Z"
   },
   {
    "duration": -5,
    "start_time": "2021-08-30T09:38:11.225Z"
   },
   {
    "duration": 3,
    "start_time": "2021-08-30T09:39:08.545Z"
   },
   {
    "duration": 1195,
    "start_time": "2021-08-30T09:39:08.561Z"
   },
   {
    "duration": 3307,
    "start_time": "2021-08-30T09:51:52.660Z"
   },
   {
    "duration": 1675,
    "start_time": "2021-08-30T09:51:55.970Z"
   },
   {
    "duration": 10370,
    "start_time": "2021-08-30T09:51:57.648Z"
   },
   {
    "duration": 57,
    "start_time": "2021-08-30T09:52:08.021Z"
   },
   {
    "duration": 700,
    "start_time": "2021-08-30T09:52:08.081Z"
   },
   {
    "duration": 831,
    "start_time": "2021-08-30T09:52:08.783Z"
   },
   {
    "duration": 169,
    "start_time": "2021-08-30T09:52:09.617Z"
   },
   {
    "duration": 378,
    "start_time": "2021-08-30T09:52:09.790Z"
   },
   {
    "duration": 272,
    "start_time": "2021-08-30T09:52:10.171Z"
   },
   {
    "duration": 468,
    "start_time": "2021-08-30T09:52:10.458Z"
   },
   {
    "duration": 7,
    "start_time": "2021-08-30T09:52:10.929Z"
   },
   {
    "duration": 2234,
    "start_time": "2021-08-30T09:52:10.939Z"
   },
   {
    "duration": 23,
    "start_time": "2021-08-30T09:52:13.175Z"
   },
   {
    "duration": 8,
    "start_time": "2021-08-30T09:52:13.201Z"
   },
   {
    "duration": 81,
    "start_time": "2021-08-30T09:52:13.212Z"
   },
   {
    "duration": 31,
    "start_time": "2021-08-30T09:52:13.295Z"
   },
   {
    "duration": 46,
    "start_time": "2021-08-30T09:52:13.329Z"
   },
   {
    "duration": 766,
    "start_time": "2021-08-30T09:52:13.377Z"
   },
   {
    "duration": 27,
    "start_time": "2021-08-30T09:52:14.146Z"
   },
   {
    "duration": 47,
    "start_time": "2021-08-30T09:52:14.176Z"
   },
   {
    "duration": 648,
    "start_time": "2021-08-30T09:52:14.225Z"
   },
   {
    "duration": 116,
    "start_time": "2021-08-30T09:52:14.876Z"
   },
   {
    "duration": 12,
    "start_time": "2021-08-30T09:52:14.997Z"
   },
   {
    "duration": 33,
    "start_time": "2021-08-30T09:52:15.012Z"
   },
   {
    "duration": 217,
    "start_time": "2021-08-30T09:52:15.048Z"
   },
   {
    "duration": 7,
    "start_time": "2021-08-30T09:52:15.267Z"
   },
   {
    "duration": 189393,
    "start_time": "2021-08-30T09:52:15.276Z"
   },
   {
    "duration": 9,
    "start_time": "2021-08-30T09:55:24.759Z"
   },
   {
    "duration": 84,
    "start_time": "2021-08-30T09:55:24.774Z"
   },
   {
    "duration": 45511,
    "start_time": "2021-08-30T09:55:24.862Z"
   },
   {
    "duration": 6,
    "start_time": "2021-08-30T09:56:10.377Z"
   },
   {
    "duration": 24,
    "start_time": "2021-08-30T09:56:10.385Z"
   },
   {
    "duration": 1358,
    "start_time": "2021-08-30T09:56:10.412Z"
   },
   {
    "duration": 3609,
    "start_time": "2021-08-30T10:10:42.385Z"
   },
   {
    "duration": 1731,
    "start_time": "2021-08-30T10:10:45.996Z"
   },
   {
    "duration": 2115,
    "start_time": "2021-08-30T10:10:47.730Z"
   },
   {
    "duration": 51,
    "start_time": "2021-08-30T10:10:49.848Z"
   },
   {
    "duration": 675,
    "start_time": "2021-08-30T10:10:49.901Z"
   },
   {
    "duration": 798,
    "start_time": "2021-08-30T10:10:50.578Z"
   },
   {
    "duration": 166,
    "start_time": "2021-08-30T10:10:51.379Z"
   },
   {
    "duration": 387,
    "start_time": "2021-08-30T10:10:51.557Z"
   },
   {
    "duration": 269,
    "start_time": "2021-08-30T10:10:51.947Z"
   },
   {
    "duration": 465,
    "start_time": "2021-08-30T10:10:52.218Z"
   },
   {
    "duration": 6,
    "start_time": "2021-08-30T10:10:52.686Z"
   },
   {
    "duration": 2143,
    "start_time": "2021-08-30T10:10:52.695Z"
   },
   {
    "duration": 32,
    "start_time": "2021-08-30T10:10:54.841Z"
   },
   {
    "duration": 7,
    "start_time": "2021-08-30T10:10:54.876Z"
   },
   {
    "duration": 77,
    "start_time": "2021-08-30T10:10:54.886Z"
   },
   {
    "duration": 35,
    "start_time": "2021-08-30T10:10:54.966Z"
   },
   {
    "duration": 34,
    "start_time": "2021-08-30T10:10:55.004Z"
   },
   {
    "duration": 669,
    "start_time": "2021-08-30T10:10:55.056Z"
   },
   {
    "duration": 45,
    "start_time": "2021-08-30T10:10:55.728Z"
   },
   {
    "duration": 57,
    "start_time": "2021-08-30T10:10:55.775Z"
   },
   {
    "duration": 763,
    "start_time": "2021-08-30T10:10:55.836Z"
   },
   {
    "duration": 168,
    "start_time": "2021-08-30T10:10:56.620Z"
   },
   {
    "duration": 11,
    "start_time": "2021-08-30T10:10:56.792Z"
   },
   {
    "duration": 6,
    "start_time": "2021-08-30T10:10:56.807Z"
   },
   {
    "duration": 232,
    "start_time": "2021-08-30T10:10:56.816Z"
   },
   {
    "duration": 6,
    "start_time": "2021-08-30T10:10:57.051Z"
   },
   {
    "duration": 188200,
    "start_time": "2021-08-30T10:10:57.059Z"
   },
   {
    "duration": 8,
    "start_time": "2021-08-30T10:14:05.264Z"
   },
   {
    "duration": 83,
    "start_time": "2021-08-30T10:14:05.276Z"
   },
   {
    "duration": 42513,
    "start_time": "2021-08-30T10:14:05.368Z"
   },
   {
    "duration": 5,
    "start_time": "2021-08-30T10:14:47.883Z"
   },
   {
    "duration": 11,
    "start_time": "2021-08-30T10:14:47.891Z"
   },
   {
    "duration": 1411,
    "start_time": "2021-08-30T10:14:47.905Z"
   },
   {
    "duration": 422842,
    "start_time": "2021-08-30T10:14:49.318Z"
   },
   {
    "duration": 5,
    "start_time": "2021-08-30T10:21:52.163Z"
   },
   {
    "duration": 22,
    "start_time": "2021-08-30T10:21:52.170Z"
   },
   {
    "duration": 260866,
    "start_time": "2021-08-30T10:21:52.195Z"
   },
   {
    "duration": 14,
    "start_time": "2021-08-30T10:26:13.069Z"
   },
   {
    "duration": 5,
    "start_time": "2021-08-30T10:26:13.086Z"
   },
   {
    "duration": 9890,
    "start_time": "2021-08-30T10:26:13.095Z"
   },
   {
    "duration": 14,
    "start_time": "2021-08-30T10:29:03.979Z"
   },
   {
    "duration": 10055,
    "start_time": "2021-08-30T10:29:14.420Z"
   },
   {
    "duration": 189582,
    "start_time": "2021-08-30T10:32:55.686Z"
   },
   {
    "duration": 183494,
    "start_time": "2021-08-30T10:37:09.174Z"
   },
   {
    "duration": 4826,
    "start_time": "2021-08-30T17:40:29.476Z"
   },
   {
    "duration": 1819,
    "start_time": "2021-08-30T17:40:34.305Z"
   },
   {
    "duration": 1231,
    "start_time": "2021-08-30T17:40:36.127Z"
   },
   {
    "duration": 54,
    "start_time": "2021-08-30T17:40:37.360Z"
   },
   {
    "duration": 632,
    "start_time": "2021-08-30T17:40:37.416Z"
   },
   {
    "duration": 760,
    "start_time": "2021-08-30T17:40:38.050Z"
   },
   {
    "duration": 159,
    "start_time": "2021-08-30T17:40:38.813Z"
   },
   {
    "duration": 353,
    "start_time": "2021-08-30T17:40:38.975Z"
   },
   {
    "duration": 265,
    "start_time": "2021-08-30T17:40:39.331Z"
   },
   {
    "duration": 445,
    "start_time": "2021-08-30T17:40:39.598Z"
   },
   {
    "duration": 5,
    "start_time": "2021-08-30T17:40:40.046Z"
   },
   {
    "duration": 2292,
    "start_time": "2021-08-30T17:40:40.054Z"
   },
   {
    "duration": 42,
    "start_time": "2021-08-30T17:40:42.348Z"
   },
   {
    "duration": 11,
    "start_time": "2021-08-30T17:40:42.394Z"
   },
   {
    "duration": 75,
    "start_time": "2021-08-30T17:40:42.408Z"
   },
   {
    "duration": 33,
    "start_time": "2021-08-30T17:40:42.492Z"
   },
   {
    "duration": 33,
    "start_time": "2021-08-30T17:40:42.528Z"
   },
   {
    "duration": 684,
    "start_time": "2021-08-30T17:40:42.584Z"
   },
   {
    "duration": 33,
    "start_time": "2021-08-30T17:40:43.271Z"
   },
   {
    "duration": 41,
    "start_time": "2021-08-30T17:40:43.307Z"
   },
   {
    "duration": 681,
    "start_time": "2021-08-30T17:40:43.350Z"
   },
   {
    "duration": 133,
    "start_time": "2021-08-30T17:40:44.034Z"
   },
   {
    "duration": 19,
    "start_time": "2021-08-30T17:40:44.173Z"
   },
   {
    "duration": 5,
    "start_time": "2021-08-30T17:40:44.196Z"
   },
   {
    "duration": 215,
    "start_time": "2021-08-30T17:40:44.204Z"
   },
   {
    "duration": 6,
    "start_time": "2021-08-30T17:40:44.421Z"
   },
   {
    "duration": 175959,
    "start_time": "2021-08-30T17:40:44.430Z"
   },
   {
    "duration": 6,
    "start_time": "2021-08-30T17:43:40.393Z"
   },
   {
    "duration": 81,
    "start_time": "2021-08-30T17:43:40.406Z"
   },
   {
    "duration": 39009,
    "start_time": "2021-08-30T17:43:40.490Z"
   },
   {
    "duration": 6,
    "start_time": "2021-08-30T17:44:19.502Z"
   },
   {
    "duration": 74,
    "start_time": "2021-08-30T17:44:19.510Z"
   },
   {
    "duration": 4027077,
    "start_time": "2021-08-30T17:44:19.586Z"
   },
   {
    "duration": 291629,
    "start_time": "2021-08-30T18:51:49.863Z"
   },
   {
    "duration": 4,
    "start_time": "2021-08-30T18:57:00.558Z"
   },
   {
    "duration": 1597911,
    "start_time": "2021-08-30T18:57:11.797Z"
   },
   {
    "duration": 19931,
    "start_time": "2021-08-30T19:30:16.390Z"
   },
   {
    "duration": 178987,
    "start_time": "2021-08-30T19:30:59.008Z"
   },
   {
    "duration": 15,
    "start_time": "2021-08-30T19:34:05.899Z"
   },
   {
    "duration": 4,
    "start_time": "2021-08-30T19:34:10.340Z"
   },
   {
    "duration": 49654,
    "start_time": "2021-08-30T19:34:14.402Z"
   }
  ],
  "kernelspec": {
   "display_name": "Python 3",
   "language": "python",
   "name": "python3"
  },
  "language_info": {
   "codemirror_mode": {
    "name": "ipython",
    "version": 3
   },
   "file_extension": ".py",
   "mimetype": "text/x-python",
   "name": "python",
   "nbconvert_exporter": "python",
   "pygments_lexer": "ipython3",
   "version": "3.8.8"
  },
  "toc": {
   "base_numbering": 1,
   "nav_menu": {},
   "number_sections": true,
   "sideBar": true,
   "skip_h1_title": true,
   "title_cell": "Table of Contents",
   "title_sidebar": "Contents",
   "toc_cell": false,
   "toc_position": {},
   "toc_section_display": true,
   "toc_window_display": true
  }
 },
 "nbformat": 4,
 "nbformat_minor": 2
}

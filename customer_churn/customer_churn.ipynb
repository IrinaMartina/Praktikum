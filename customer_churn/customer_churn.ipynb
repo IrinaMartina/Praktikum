{
 "cells": [
  {
   "cell_type": "markdown",
   "metadata": {},
   "source": [
    "# Отток клиентов"
   ]
  },
  {
   "cell_type": "markdown",
   "metadata": {},
   "source": [
    "Из «Бета-Банка» стали уходить клиенты. Каждый месяц. Немного, но заметно. Банковские маркетологи посчитали: сохранять текущих клиентов дешевле, чем привлекать новых.\n",
    "\n",
    "Нужно спрогнозировать, уйдёт клиент из банка в ближайшее время или нет. Вам предоставлены исторические данные о поведении клиентов и расторжении договоров с банком. \n",
    "\n",
    "Постройте модель с предельно большим значением *F1*-меры. Чтобы сдать проект успешно, нужно довести метрику до 0.59. Проверьте *F1*-меру на тестовой выборке самостоятельно.\n",
    "\n",
    "Дополнительно измеряйте *AUC-ROC*, сравнивайте её значение с *F1*-мерой.\n",
    "\n",
    "Источник данных: [https://www.kaggle.com/barelydedicated/bank-customer-churn-modeling](https://www.kaggle.com/barelydedicated/bank-customer-churn-modeling)\n",
    "\n",
    "**Описание данных**\n",
    "\n",
    "- *RowNumber* — индекс строки в данных\n",
    "- *CustomerId* — уникальный идентификатор клиента\n",
    "- *Surname* — фамилия\n",
    "- *CreditScore* — кредитный рейтинг\n",
    "- *Geography* — страна проживания\n",
    "- *Gender* — пол\n",
    "- *Age* — возраст\n",
    "- *Tenure* — сколько лет человек является клиентом банка\n",
    "- *Balance* — баланс на счёте\n",
    "- *NumOfProducts* — количество продуктов банка, используемых клиентом\n",
    "- *HasCrCard* — наличие кредитной карты\n",
    "- *IsActiveMember* — активность клиента\n",
    "- *EstimatedSalary* — предполагаемая зарплата\n",
    "- *Exited* — факт ухода клиента"
   ]
  },
  {
   "cell_type": "code",
   "execution_count": 11,
   "metadata": {},
   "outputs": [],
   "source": [
    "import pandas as pd\n",
    "import numpy as np\n",
    "\n",
    "import matplotlib.pyplot as plt\n",
    "import matplotlib.ticker as ticker\n",
    "import seaborn as sns\n",
    "\n",
    "import statsmodels.api as sm\n",
    "\n",
    "from sklearn.preprocessing import StandardScaler\n",
    "from sklearn.model_selection import train_test_split\n",
    "from sklearn.tree import DecisionTreeClassifier\n",
    "from sklearn.ensemble import RandomForestClassifier\n",
    "from sklearn.linear_model import LogisticRegression\n",
    "from sklearn.metrics import f1_score, roc_auc_score, precision_recall_curve, roc_curve \n",
    "from sklearn.utils import shuffle"
   ]
  },
  {
   "cell_type": "markdown",
   "metadata": {},
   "source": [
    "## Подготовка данных"
   ]
  },
  {
   "cell_type": "markdown",
   "metadata": {},
   "source": [
    "Загрузим данные и посмотрим на них."
   ]
  },
  {
   "cell_type": "code",
   "execution_count": 12,
   "metadata": {},
   "outputs": [
    {
     "name": "stdout",
     "output_type": "stream",
     "text": [
      "<class 'pandas.core.frame.DataFrame'>\n",
      "Int64Index: 10000 entries, 1 to 10000\n",
      "Data columns (total 13 columns):\n",
      " #   Column           Non-Null Count  Dtype  \n",
      "---  ------           --------------  -----  \n",
      " 0   CustomerId       10000 non-null  int64  \n",
      " 1   Surname          10000 non-null  object \n",
      " 2   CreditScore      10000 non-null  int64  \n",
      " 3   Geography        10000 non-null  object \n",
      " 4   Gender           10000 non-null  object \n",
      " 5   Age              10000 non-null  int64  \n",
      " 6   Tenure           9091 non-null   float64\n",
      " 7   Balance          10000 non-null  float64\n",
      " 8   NumOfProducts    10000 non-null  int64  \n",
      " 9   HasCrCard        10000 non-null  int64  \n",
      " 10  IsActiveMember   10000 non-null  int64  \n",
      " 11  EstimatedSalary  10000 non-null  float64\n",
      " 12  Exited           10000 non-null  int64  \n",
      "dtypes: float64(3), int64(7), object(3)\n",
      "memory usage: 1.1+ MB\n"
     ]
    },
    {
     "data": {
      "text/html": [
       "<div>\n",
       "<style scoped>\n",
       "    .dataframe tbody tr th:only-of-type {\n",
       "        vertical-align: middle;\n",
       "    }\n",
       "\n",
       "    .dataframe tbody tr th {\n",
       "        vertical-align: top;\n",
       "    }\n",
       "\n",
       "    .dataframe thead th {\n",
       "        text-align: right;\n",
       "    }\n",
       "</style>\n",
       "<table border=\"1\" class=\"dataframe\">\n",
       "  <thead>\n",
       "    <tr style=\"text-align: right;\">\n",
       "      <th></th>\n",
       "      <th>CustomerId</th>\n",
       "      <th>Surname</th>\n",
       "      <th>CreditScore</th>\n",
       "      <th>Geography</th>\n",
       "      <th>Gender</th>\n",
       "      <th>Age</th>\n",
       "      <th>Tenure</th>\n",
       "      <th>Balance</th>\n",
       "      <th>NumOfProducts</th>\n",
       "      <th>HasCrCard</th>\n",
       "      <th>IsActiveMember</th>\n",
       "      <th>EstimatedSalary</th>\n",
       "      <th>Exited</th>\n",
       "    </tr>\n",
       "    <tr>\n",
       "      <th>RowNumber</th>\n",
       "      <th></th>\n",
       "      <th></th>\n",
       "      <th></th>\n",
       "      <th></th>\n",
       "      <th></th>\n",
       "      <th></th>\n",
       "      <th></th>\n",
       "      <th></th>\n",
       "      <th></th>\n",
       "      <th></th>\n",
       "      <th></th>\n",
       "      <th></th>\n",
       "      <th></th>\n",
       "    </tr>\n",
       "  </thead>\n",
       "  <tbody>\n",
       "    <tr>\n",
       "      <th>6253</th>\n",
       "      <td>15687492</td>\n",
       "      <td>Anderson</td>\n",
       "      <td>596</td>\n",
       "      <td>Germany</td>\n",
       "      <td>Male</td>\n",
       "      <td>32</td>\n",
       "      <td>3.0</td>\n",
       "      <td>96709.07</td>\n",
       "      <td>2</td>\n",
       "      <td>0</td>\n",
       "      <td>0</td>\n",
       "      <td>41788.37</td>\n",
       "      <td>0</td>\n",
       "    </tr>\n",
       "    <tr>\n",
       "      <th>4685</th>\n",
       "      <td>15736963</td>\n",
       "      <td>Herring</td>\n",
       "      <td>623</td>\n",
       "      <td>France</td>\n",
       "      <td>Male</td>\n",
       "      <td>43</td>\n",
       "      <td>1.0</td>\n",
       "      <td>0.00</td>\n",
       "      <td>2</td>\n",
       "      <td>1</td>\n",
       "      <td>1</td>\n",
       "      <td>146379.30</td>\n",
       "      <td>0</td>\n",
       "    </tr>\n",
       "    <tr>\n",
       "      <th>1732</th>\n",
       "      <td>15721730</td>\n",
       "      <td>Amechi</td>\n",
       "      <td>601</td>\n",
       "      <td>Spain</td>\n",
       "      <td>Female</td>\n",
       "      <td>44</td>\n",
       "      <td>4.0</td>\n",
       "      <td>0.00</td>\n",
       "      <td>2</td>\n",
       "      <td>1</td>\n",
       "      <td>0</td>\n",
       "      <td>58561.31</td>\n",
       "      <td>0</td>\n",
       "    </tr>\n",
       "    <tr>\n",
       "      <th>4743</th>\n",
       "      <td>15762134</td>\n",
       "      <td>Liang</td>\n",
       "      <td>506</td>\n",
       "      <td>Germany</td>\n",
       "      <td>Male</td>\n",
       "      <td>59</td>\n",
       "      <td>8.0</td>\n",
       "      <td>119152.10</td>\n",
       "      <td>2</td>\n",
       "      <td>1</td>\n",
       "      <td>1</td>\n",
       "      <td>170679.74</td>\n",
       "      <td>0</td>\n",
       "    </tr>\n",
       "    <tr>\n",
       "      <th>4522</th>\n",
       "      <td>15648898</td>\n",
       "      <td>Chuang</td>\n",
       "      <td>560</td>\n",
       "      <td>Spain</td>\n",
       "      <td>Female</td>\n",
       "      <td>27</td>\n",
       "      <td>7.0</td>\n",
       "      <td>124995.98</td>\n",
       "      <td>1</td>\n",
       "      <td>1</td>\n",
       "      <td>1</td>\n",
       "      <td>114669.79</td>\n",
       "      <td>0</td>\n",
       "    </tr>\n",
       "    <tr>\n",
       "      <th>6341</th>\n",
       "      <td>15659064</td>\n",
       "      <td>Salas</td>\n",
       "      <td>790</td>\n",
       "      <td>Spain</td>\n",
       "      <td>Male</td>\n",
       "      <td>37</td>\n",
       "      <td>8.0</td>\n",
       "      <td>0.00</td>\n",
       "      <td>2</td>\n",
       "      <td>1</td>\n",
       "      <td>1</td>\n",
       "      <td>149418.41</td>\n",
       "      <td>0</td>\n",
       "    </tr>\n",
       "    <tr>\n",
       "      <th>577</th>\n",
       "      <td>15761986</td>\n",
       "      <td>Obialo</td>\n",
       "      <td>439</td>\n",
       "      <td>Spain</td>\n",
       "      <td>Female</td>\n",
       "      <td>32</td>\n",
       "      <td>NaN</td>\n",
       "      <td>138901.61</td>\n",
       "      <td>1</td>\n",
       "      <td>1</td>\n",
       "      <td>0</td>\n",
       "      <td>75685.97</td>\n",
       "      <td>0</td>\n",
       "    </tr>\n",
       "    <tr>\n",
       "      <th>5203</th>\n",
       "      <td>15713354</td>\n",
       "      <td>Morrice</td>\n",
       "      <td>597</td>\n",
       "      <td>Germany</td>\n",
       "      <td>Female</td>\n",
       "      <td>22</td>\n",
       "      <td>6.0</td>\n",
       "      <td>101528.61</td>\n",
       "      <td>1</td>\n",
       "      <td>1</td>\n",
       "      <td>0</td>\n",
       "      <td>70529.00</td>\n",
       "      <td>1</td>\n",
       "    </tr>\n",
       "    <tr>\n",
       "      <th>6364</th>\n",
       "      <td>15593454</td>\n",
       "      <td>Lambert</td>\n",
       "      <td>678</td>\n",
       "      <td>Spain</td>\n",
       "      <td>Female</td>\n",
       "      <td>40</td>\n",
       "      <td>4.0</td>\n",
       "      <td>113794.22</td>\n",
       "      <td>1</td>\n",
       "      <td>1</td>\n",
       "      <td>0</td>\n",
       "      <td>16618.76</td>\n",
       "      <td>0</td>\n",
       "    </tr>\n",
       "    <tr>\n",
       "      <th>440</th>\n",
       "      <td>15690134</td>\n",
       "      <td>Hughes</td>\n",
       "      <td>464</td>\n",
       "      <td>Germany</td>\n",
       "      <td>Female</td>\n",
       "      <td>42</td>\n",
       "      <td>3.0</td>\n",
       "      <td>85679.25</td>\n",
       "      <td>1</td>\n",
       "      <td>1</td>\n",
       "      <td>1</td>\n",
       "      <td>164104.74</td>\n",
       "      <td>0</td>\n",
       "    </tr>\n",
       "  </tbody>\n",
       "</table>\n",
       "</div>"
      ],
      "text/plain": [
       "           CustomerId   Surname  CreditScore Geography  Gender  Age  Tenure  \\\n",
       "RowNumber                                                                     \n",
       "6253         15687492  Anderson          596   Germany    Male   32     3.0   \n",
       "4685         15736963   Herring          623    France    Male   43     1.0   \n",
       "1732         15721730    Amechi          601     Spain  Female   44     4.0   \n",
       "4743         15762134     Liang          506   Germany    Male   59     8.0   \n",
       "4522         15648898    Chuang          560     Spain  Female   27     7.0   \n",
       "6341         15659064     Salas          790     Spain    Male   37     8.0   \n",
       "577          15761986    Obialo          439     Spain  Female   32     NaN   \n",
       "5203         15713354   Morrice          597   Germany  Female   22     6.0   \n",
       "6364         15593454   Lambert          678     Spain  Female   40     4.0   \n",
       "440          15690134    Hughes          464   Germany  Female   42     3.0   \n",
       "\n",
       "             Balance  NumOfProducts  HasCrCard  IsActiveMember  \\\n",
       "RowNumber                                                        \n",
       "6253        96709.07              2          0               0   \n",
       "4685            0.00              2          1               1   \n",
       "1732            0.00              2          1               0   \n",
       "4743       119152.10              2          1               1   \n",
       "4522       124995.98              1          1               1   \n",
       "6341            0.00              2          1               1   \n",
       "577        138901.61              1          1               0   \n",
       "5203       101528.61              1          1               0   \n",
       "6364       113794.22              1          1               0   \n",
       "440         85679.25              1          1               1   \n",
       "\n",
       "           EstimatedSalary  Exited  \n",
       "RowNumber                           \n",
       "6253              41788.37       0  \n",
       "4685             146379.30       0  \n",
       "1732              58561.31       0  \n",
       "4743             170679.74       0  \n",
       "4522             114669.79       0  \n",
       "6341             149418.41       0  \n",
       "577               75685.97       0  \n",
       "5203              70529.00       1  \n",
       "6364              16618.76       0  \n",
       "440              164104.74       0  "
      ]
     },
     "execution_count": 12,
     "metadata": {},
     "output_type": "execute_result"
    }
   ],
   "source": [
    "df = pd.read_csv('datasets/Churn.csv', index_col=0)\n",
    "df.info()\n",
    "df.sample(n=10, random_state=42)"
   ]
  },
  {
   "cell_type": "markdown",
   "metadata": {},
   "source": [
    "В таблице 10 тысяч объектов. В столбце Tenure есть пропуски. Хорошо было бы выяснить, почему они появились. Возможно, это очень старые клиенты и дата их появления утеряна. Возможно, эти клиенты были унаследованы из другого, поглащённого, банка, где учёт вёлся в другом формате, поэтому данные подгрузились неполностью. Т.к. достоверно восстановить пропущенные значения невозможно, строки с пропусками можно было бы удалить. Но эти объекты содержат другие ценные признаки, поэтому лучшим решением будет заполнить пропущенные значения так, чтобы новые значения Tenure в меньшей степени влияли на целевой признак. Заполним пропуски медианным значением и посмотрим, как изменится график зависимости доли положительных значений Exited от значения Tenure."
   ]
  },
  {
   "cell_type": "code",
   "execution_count": 13,
   "metadata": {},
   "outputs": [
    {
     "data": {
      "text/html": [
       "<div>\n",
       "<style scoped>\n",
       "    .dataframe tbody tr th:only-of-type {\n",
       "        vertical-align: middle;\n",
       "    }\n",
       "\n",
       "    .dataframe tbody tr th {\n",
       "        vertical-align: top;\n",
       "    }\n",
       "\n",
       "    .dataframe thead th {\n",
       "        text-align: right;\n",
       "    }\n",
       "</style>\n",
       "<table border=\"1\" class=\"dataframe\">\n",
       "  <thead>\n",
       "    <tr style=\"text-align: right;\">\n",
       "      <th></th>\n",
       "      <th>Tenure</th>\n",
       "    </tr>\n",
       "  </thead>\n",
       "  <tbody>\n",
       "    <tr>\n",
       "      <th>count</th>\n",
       "      <td>9091.000000</td>\n",
       "    </tr>\n",
       "    <tr>\n",
       "      <th>mean</th>\n",
       "      <td>4.997690</td>\n",
       "    </tr>\n",
       "    <tr>\n",
       "      <th>std</th>\n",
       "      <td>2.894723</td>\n",
       "    </tr>\n",
       "    <tr>\n",
       "      <th>min</th>\n",
       "      <td>0.000000</td>\n",
       "    </tr>\n",
       "    <tr>\n",
       "      <th>25%</th>\n",
       "      <td>2.000000</td>\n",
       "    </tr>\n",
       "    <tr>\n",
       "      <th>50%</th>\n",
       "      <td>5.000000</td>\n",
       "    </tr>\n",
       "    <tr>\n",
       "      <th>75%</th>\n",
       "      <td>7.000000</td>\n",
       "    </tr>\n",
       "    <tr>\n",
       "      <th>max</th>\n",
       "      <td>10.000000</td>\n",
       "    </tr>\n",
       "  </tbody>\n",
       "</table>\n",
       "</div>"
      ],
      "text/plain": [
       "            Tenure\n",
       "count  9091.000000\n",
       "mean      4.997690\n",
       "std       2.894723\n",
       "min       0.000000\n",
       "25%       2.000000\n",
       "50%       5.000000\n",
       "75%       7.000000\n",
       "max      10.000000"
      ]
     },
     "execution_count": 13,
     "metadata": {},
     "output_type": "execute_result"
    }
   ],
   "source": [
    "df[['Tenure']].describe()"
   ]
  },
  {
   "cell_type": "code",
   "execution_count": 14,
   "metadata": {},
   "outputs": [
    {
     "data": {
      "image/png": "[encoded data removed]",
      "text/plain": [
       "<Figure size 1080x648 with 2 Axes>"
      ]
     },
     "metadata": {},
     "output_type": "display_data"
    }
   ],
   "source": [
    "sns.set(context='talk', style='whitegrid', palette='muted')\n",
    "f, ax = plt.subplots(1, 2, sharey=True)\n",
    "f.set_figheight(9)\n",
    "f.set_figwidth(15)\n",
    "f.suptitle('Зависимость доли положительных объектов от количества лет в качестве клиента банка')\n",
    "\n",
    "data_before = df.pivot_table(index='Tenure', values='Exited', aggfunc='mean')\n",
    "data_before.plot(ax=ax[0], style='o-', xlim=(-0.5, 10.5), legend=False)\n",
    "\n",
    "df = df.fillna(df['Tenure'].median())\n",
    "\n",
    "data_after = df.pivot_table(index='Tenure', values='Exited', aggfunc='mean')\n",
    "data_after.plot(ax=ax[1], style='o-', xlim=(-0.5, 10.5), legend=False)\n",
    "\n",
    "ax[0].set_title('До заполнения пропусков')\n",
    "ax[1].set_title('После заполнения медианным значением')\n",
    "ax[0].set(xlabel='Количество лет', ylabel='Доля положительных объектов')\n",
    "ax[1].set(xlabel='Количество лет', ylabel='')\n",
    "ax[0].xaxis.set_major_locator(ticker.MultipleLocator(1))\n",
    "ax[1].xaxis.set_major_locator(ticker.MultipleLocator(1))\n",
    "\n",
    "plt.show()"
   ]
  },
  {
   "cell_type": "markdown",
   "metadata": {},
   "source": [
    "Замена не должна повлиять на зависимость Exited от значения Tenure. Кажется, вообще никаких изменений нет. Посмотрим поближе."
   ]
  },
  {
   "cell_type": "code",
   "execution_count": 15,
   "metadata": {},
   "outputs": [
    {
     "data": {
      "text/html": [
       "<div>\n",
       "<style scoped>\n",
       "    .dataframe tbody tr th:only-of-type {\n",
       "        vertical-align: middle;\n",
       "    }\n",
       "\n",
       "    .dataframe tbody tr th {\n",
       "        vertical-align: top;\n",
       "    }\n",
       "\n",
       "    .dataframe thead th {\n",
       "        text-align: right;\n",
       "    }\n",
       "</style>\n",
       "<table border=\"1\" class=\"dataframe\">\n",
       "  <thead>\n",
       "    <tr style=\"text-align: right;\">\n",
       "      <th></th>\n",
       "      <th>Tenure</th>\n",
       "    </tr>\n",
       "  </thead>\n",
       "  <tbody>\n",
       "    <tr>\n",
       "      <th>count</th>\n",
       "      <td>10000.00000</td>\n",
       "    </tr>\n",
       "    <tr>\n",
       "      <th>mean</th>\n",
       "      <td>4.99790</td>\n",
       "    </tr>\n",
       "    <tr>\n",
       "      <th>std</th>\n",
       "      <td>2.76001</td>\n",
       "    </tr>\n",
       "    <tr>\n",
       "      <th>min</th>\n",
       "      <td>0.00000</td>\n",
       "    </tr>\n",
       "    <tr>\n",
       "      <th>25%</th>\n",
       "      <td>3.00000</td>\n",
       "    </tr>\n",
       "    <tr>\n",
       "      <th>50%</th>\n",
       "      <td>5.00000</td>\n",
       "    </tr>\n",
       "    <tr>\n",
       "      <th>75%</th>\n",
       "      <td>7.00000</td>\n",
       "    </tr>\n",
       "    <tr>\n",
       "      <th>max</th>\n",
       "      <td>10.00000</td>\n",
       "    </tr>\n",
       "  </tbody>\n",
       "</table>\n",
       "</div>"
      ],
      "text/plain": [
       "            Tenure\n",
       "count  10000.00000\n",
       "mean       4.99790\n",
       "std        2.76001\n",
       "min        0.00000\n",
       "25%        3.00000\n",
       "50%        5.00000\n",
       "75%        7.00000\n",
       "max       10.00000"
      ]
     },
     "execution_count": 15,
     "metadata": {},
     "output_type": "execute_result"
    }
   ],
   "source": [
    "df[['Tenure']].describe()"
   ]
  },
  {
   "cell_type": "code",
   "execution_count": 16,
   "metadata": {},
   "outputs": [
    {
     "data": {
      "image/png": "[encoded data removed]",
      "text/plain": [
       "<Figure size 864x648 with 1 Axes>"
      ]
     },
     "metadata": {},
     "output_type": "display_data"
    }
   ],
   "source": [
    "f, ax = plt.subplots(1)\n",
    "f.set_figheight(9)\n",
    "f.set_figwidth(12)\n",
    "\n",
    "plt.plot(data_before.index, 'Exited', data=data_before, marker = 'o', label='Before')\n",
    "plt.plot(data_after.index, 'Exited', data=data_after, marker = 'o', label='After')\n",
    "\n",
    "plt.ylim(0.2, 0.206)\n",
    "plt.xlim(4.5, 5.5)\n",
    "\n",
    "plt.legend(title='')\n",
    "plt.title('Зависимость доли положительных объектов от количества лет')\n",
    "plt.ylabel('Доля положительных объектов')\n",
    "plt.xlabel('Колисчество лет')\n",
    "\n",
    "ax.xaxis.set_major_locator(ticker.MultipleLocator(1))\n",
    "\n",
    "plt.show()"
   ]
  },
  {
   "cell_type": "markdown",
   "metadata": {},
   "source": [
    "Замена пропусков в Tenure на медианные значения незначительно повлияла на общую картину. Преобразуем тип столбца в int."
   ]
  },
  {
   "cell_type": "code",
   "execution_count": 17,
   "metadata": {},
   "outputs": [],
   "source": [
    "df['Tenure'] = df['Tenure'].astype('int')"
   ]
  },
  {
   "cell_type": "markdown",
   "metadata": {},
   "source": [
    "Типы столбцов Gender и Geography можно преобразовать в category. Посмотрим на количество вариантов значений."
   ]
  },
  {
   "cell_type": "code",
   "execution_count": 18,
   "metadata": {},
   "outputs": [
    {
     "data": {
      "text/plain": [
       "Male      5457\n",
       "Female    4543\n",
       "Name: Gender, dtype: int64"
      ]
     },
     "execution_count": 18,
     "metadata": {},
     "output_type": "execute_result"
    }
   ],
   "source": [
    "df['Gender'].value_counts()"
   ]
  },
  {
   "cell_type": "code",
   "execution_count": 19,
   "metadata": {},
   "outputs": [
    {
     "data": {
      "text/plain": [
       "France     5014\n",
       "Germany    2509\n",
       "Spain      2477\n",
       "Name: Geography, dtype: int64"
      ]
     },
     "execution_count": 19,
     "metadata": {},
     "output_type": "execute_result"
    }
   ],
   "source": [
    "df['Geography'].value_counts()"
   ]
  },
  {
   "cell_type": "markdown",
   "metadata": {},
   "source": [
    "Количество вариантов значений столбцов незначительное, преобразуем тип."
   ]
  },
  {
   "cell_type": "code",
   "execution_count": 20,
   "metadata": {},
   "outputs": [
    {
     "name": "stdout",
     "output_type": "stream",
     "text": [
      "<class 'pandas.core.frame.DataFrame'>\n",
      "Int64Index: 10000 entries, 1 to 10000\n",
      "Data columns (total 13 columns):\n",
      " #   Column           Non-Null Count  Dtype   \n",
      "---  ------           --------------  -----   \n",
      " 0   CustomerId       10000 non-null  int64   \n",
      " 1   Surname          10000 non-null  object  \n",
      " 2   CreditScore      10000 non-null  int64   \n",
      " 3   Geography        10000 non-null  category\n",
      " 4   Gender           10000 non-null  category\n",
      " 5   Age              10000 non-null  int64   \n",
      " 6   Tenure           10000 non-null  int64   \n",
      " 7   Balance          10000 non-null  float64 \n",
      " 8   NumOfProducts    10000 non-null  int64   \n",
      " 9   HasCrCard        10000 non-null  int64   \n",
      " 10  IsActiveMember   10000 non-null  int64   \n",
      " 11  EstimatedSalary  10000 non-null  float64 \n",
      " 12  Exited           10000 non-null  int64   \n",
      "dtypes: category(2), float64(2), int64(8), object(1)\n",
      "memory usage: 957.3+ KB\n"
     ]
    }
   ],
   "source": [
    "df['Gender'] = df['Gender'].astype('category')\n",
    "df['Geography'] = df['Geography'].astype('category')\n",
    "df.info()"
   ]
  },
  {
   "cell_type": "markdown",
   "metadata": {},
   "source": [
    "Целевым признаком является Exited. Среди остальных признаков есть CustomerId и Surname, которые однозначно определяют клиента, но не подходят для прогнозирования его ухода."
   ]
  },
  {
   "cell_type": "code",
   "execution_count": 21,
   "metadata": {},
   "outputs": [
    {
     "name": "stdout",
     "output_type": "stream",
     "text": [
      "Размер таблицы с признаками: (10000, 10)\n",
      "Размер столбца с целевым признаком: (10000,)\n"
     ]
    }
   ],
   "source": [
    "target = df['Exited']\n",
    "features = df.drop(['CustomerId','Surname','Exited'], axis=1)\n",
    "\n",
    "print('Размер таблицы с признаками:', features.shape)\n",
    "print('Размер столбца с целевым признаком:', target.shape)"
   ]
  },
  {
   "cell_type": "markdown",
   "metadata": {},
   "source": [
    "Значения столбцов HasCrCard, IsActiveMember и Exited по смыслу должны содержать значения 0 и 1. Проверим, что это действительно так."
   ]
  },
  {
   "cell_type": "code",
   "execution_count": 22,
   "metadata": {},
   "outputs": [
    {
     "name": "stdout",
     "output_type": "stream",
     "text": [
      "Варианты значений столбца HasCrCard: [1 0]\n",
      "Варианты значений столбца IsActiveMember: [1 0]\n",
      "Варианты значений столбца Exited: [1 0]\n"
     ]
    }
   ],
   "source": [
    "print('Варианты значений столбца HasCrCard:', df['HasCrCard'].unique())\n",
    "print('Варианты значений столбца IsActiveMember:', df['IsActiveMember'].unique())\n",
    "print('Варианты значений столбца Exited:', df['Exited'].unique())"
   ]
  },
  {
   "cell_type": "markdown",
   "metadata": {},
   "source": [
    "Преобразуем категориальные признаки с помощью прямого кодирования."
   ]
  },
  {
   "cell_type": "code",
   "execution_count": 23,
   "metadata": {},
   "outputs": [
    {
     "data": {
      "text/html": [
       "<div>\n",
       "<style scoped>\n",
       "    .dataframe tbody tr th:only-of-type {\n",
       "        vertical-align: middle;\n",
       "    }\n",
       "\n",
       "    .dataframe tbody tr th {\n",
       "        vertical-align: top;\n",
       "    }\n",
       "\n",
       "    .dataframe thead th {\n",
       "        text-align: right;\n",
       "    }\n",
       "</style>\n",
       "<table border=\"1\" class=\"dataframe\">\n",
       "  <thead>\n",
       "    <tr style=\"text-align: right;\">\n",
       "      <th></th>\n",
       "      <th>CreditScore</th>\n",
       "      <th>Age</th>\n",
       "      <th>Tenure</th>\n",
       "      <th>Balance</th>\n",
       "      <th>NumOfProducts</th>\n",
       "      <th>HasCrCard</th>\n",
       "      <th>IsActiveMember</th>\n",
       "      <th>EstimatedSalary</th>\n",
       "      <th>Geography_Germany</th>\n",
       "      <th>Geography_Spain</th>\n",
       "      <th>Gender_Male</th>\n",
       "    </tr>\n",
       "    <tr>\n",
       "      <th>RowNumber</th>\n",
       "      <th></th>\n",
       "      <th></th>\n",
       "      <th></th>\n",
       "      <th></th>\n",
       "      <th></th>\n",
       "      <th></th>\n",
       "      <th></th>\n",
       "      <th></th>\n",
       "      <th></th>\n",
       "      <th></th>\n",
       "      <th></th>\n",
       "    </tr>\n",
       "  </thead>\n",
       "  <tbody>\n",
       "    <tr>\n",
       "      <th>6253</th>\n",
       "      <td>596</td>\n",
       "      <td>32</td>\n",
       "      <td>3</td>\n",
       "      <td>96709.07</td>\n",
       "      <td>2</td>\n",
       "      <td>0</td>\n",
       "      <td>0</td>\n",
       "      <td>41788.37</td>\n",
       "      <td>1</td>\n",
       "      <td>0</td>\n",
       "      <td>1</td>\n",
       "    </tr>\n",
       "    <tr>\n",
       "      <th>4685</th>\n",
       "      <td>623</td>\n",
       "      <td>43</td>\n",
       "      <td>1</td>\n",
       "      <td>0.00</td>\n",
       "      <td>2</td>\n",
       "      <td>1</td>\n",
       "      <td>1</td>\n",
       "      <td>146379.30</td>\n",
       "      <td>0</td>\n",
       "      <td>0</td>\n",
       "      <td>1</td>\n",
       "    </tr>\n",
       "    <tr>\n",
       "      <th>1732</th>\n",
       "      <td>601</td>\n",
       "      <td>44</td>\n",
       "      <td>4</td>\n",
       "      <td>0.00</td>\n",
       "      <td>2</td>\n",
       "      <td>1</td>\n",
       "      <td>0</td>\n",
       "      <td>58561.31</td>\n",
       "      <td>0</td>\n",
       "      <td>1</td>\n",
       "      <td>0</td>\n",
       "    </tr>\n",
       "    <tr>\n",
       "      <th>4743</th>\n",
       "      <td>506</td>\n",
       "      <td>59</td>\n",
       "      <td>8</td>\n",
       "      <td>119152.10</td>\n",
       "      <td>2</td>\n",
       "      <td>1</td>\n",
       "      <td>1</td>\n",
       "      <td>170679.74</td>\n",
       "      <td>1</td>\n",
       "      <td>0</td>\n",
       "      <td>1</td>\n",
       "    </tr>\n",
       "    <tr>\n",
       "      <th>4522</th>\n",
       "      <td>560</td>\n",
       "      <td>27</td>\n",
       "      <td>7</td>\n",
       "      <td>124995.98</td>\n",
       "      <td>1</td>\n",
       "      <td>1</td>\n",
       "      <td>1</td>\n",
       "      <td>114669.79</td>\n",
       "      <td>0</td>\n",
       "      <td>1</td>\n",
       "      <td>0</td>\n",
       "    </tr>\n",
       "    <tr>\n",
       "      <th>6341</th>\n",
       "      <td>790</td>\n",
       "      <td>37</td>\n",
       "      <td>8</td>\n",
       "      <td>0.00</td>\n",
       "      <td>2</td>\n",
       "      <td>1</td>\n",
       "      <td>1</td>\n",
       "      <td>149418.41</td>\n",
       "      <td>0</td>\n",
       "      <td>1</td>\n",
       "      <td>1</td>\n",
       "    </tr>\n",
       "    <tr>\n",
       "      <th>577</th>\n",
       "      <td>439</td>\n",
       "      <td>32</td>\n",
       "      <td>5</td>\n",
       "      <td>138901.61</td>\n",
       "      <td>1</td>\n",
       "      <td>1</td>\n",
       "      <td>0</td>\n",
       "      <td>75685.97</td>\n",
       "      <td>0</td>\n",
       "      <td>1</td>\n",
       "      <td>0</td>\n",
       "    </tr>\n",
       "    <tr>\n",
       "      <th>5203</th>\n",
       "      <td>597</td>\n",
       "      <td>22</td>\n",
       "      <td>6</td>\n",
       "      <td>101528.61</td>\n",
       "      <td>1</td>\n",
       "      <td>1</td>\n",
       "      <td>0</td>\n",
       "      <td>70529.00</td>\n",
       "      <td>1</td>\n",
       "      <td>0</td>\n",
       "      <td>0</td>\n",
       "    </tr>\n",
       "    <tr>\n",
       "      <th>6364</th>\n",
       "      <td>678</td>\n",
       "      <td>40</td>\n",
       "      <td>4</td>\n",
       "      <td>113794.22</td>\n",
       "      <td>1</td>\n",
       "      <td>1</td>\n",
       "      <td>0</td>\n",
       "      <td>16618.76</td>\n",
       "      <td>0</td>\n",
       "      <td>1</td>\n",
       "      <td>0</td>\n",
       "    </tr>\n",
       "    <tr>\n",
       "      <th>440</th>\n",
       "      <td>464</td>\n",
       "      <td>42</td>\n",
       "      <td>3</td>\n",
       "      <td>85679.25</td>\n",
       "      <td>1</td>\n",
       "      <td>1</td>\n",
       "      <td>1</td>\n",
       "      <td>164104.74</td>\n",
       "      <td>1</td>\n",
       "      <td>0</td>\n",
       "      <td>0</td>\n",
       "    </tr>\n",
       "  </tbody>\n",
       "</table>\n",
       "</div>"
      ],
      "text/plain": [
       "           CreditScore  Age  Tenure    Balance  NumOfProducts  HasCrCard  \\\n",
       "RowNumber                                                                  \n",
       "6253               596   32       3   96709.07              2          0   \n",
       "4685               623   43       1       0.00              2          1   \n",
       "1732               601   44       4       0.00              2          1   \n",
       "4743               506   59       8  119152.10              2          1   \n",
       "4522               560   27       7  124995.98              1          1   \n",
       "6341               790   37       8       0.00              2          1   \n",
       "577                439   32       5  138901.61              1          1   \n",
       "5203               597   22       6  101528.61              1          1   \n",
       "6364               678   40       4  113794.22              1          1   \n",
       "440                464   42       3   85679.25              1          1   \n",
       "\n",
       "           IsActiveMember  EstimatedSalary  Geography_Germany  \\\n",
       "RowNumber                                                       \n",
       "6253                    0         41788.37                  1   \n",
       "4685                    1        146379.30                  0   \n",
       "1732                    0         58561.31                  0   \n",
       "4743                    1        170679.74                  1   \n",
       "4522                    1        114669.79                  0   \n",
       "6341                    1        149418.41                  0   \n",
       "577                     0         75685.97                  0   \n",
       "5203                    0         70529.00                  1   \n",
       "6364                    0         16618.76                  0   \n",
       "440                     1        164104.74                  1   \n",
       "\n",
       "           Geography_Spain  Gender_Male  \n",
       "RowNumber                                \n",
       "6253                     0            1  \n",
       "4685                     0            1  \n",
       "1732                     1            0  \n",
       "4743                     0            1  \n",
       "4522                     1            0  \n",
       "6341                     1            1  \n",
       "577                      1            0  \n",
       "5203                     0            0  \n",
       "6364                     1            0  \n",
       "440                      0            0  "
      ]
     },
     "execution_count": 23,
     "metadata": {},
     "output_type": "execute_result"
    }
   ],
   "source": [
    "features = pd.get_dummies(features, drop_first=True)\n",
    "features.sample(n=10, random_state=42)"
   ]
  },
  {
   "cell_type": "markdown",
   "metadata": {},
   "source": [
    "Перед масштабированием посмотрим с помощью QQ-plot, на сколько распределения значений численных признаков в features отличаются от нормального."
   ]
  },
  {
   "cell_type": "code",
   "execution_count": 24,
   "metadata": {},
   "outputs": [
    {
     "data": {
      "image/png": "[encoded data removed]",
      "text/plain": [
       "<Figure size 1080x864 with 6 Axes>"
      ]
     },
     "metadata": {},
     "output_type": "display_data"
    }
   ],
   "source": [
    "f, ax = plt.subplots(2, 3, gridspec_kw={'hspace': 0.4, 'wspace': 0.4})\n",
    "f.set_figheight(12)\n",
    "f.set_figwidth(15)\n",
    "\n",
    "numeric = ['CreditScore', 'Age', 'Tenure', 'Balance', 'NumOfProducts', 'EstimatedSalary']\n",
    "\n",
    "for i, column_name in enumerate(numeric):\n",
    "    sm.qqplot(features[column_name], line='45', fit=True, ax=ax[i%2, i%3])\n",
    "    ax[i%2, i%3].set_title(column_name)"
   ]
  },
  {
   "cell_type": "markdown",
   "metadata": {},
   "source": [
    "Количество банковских продуктов - это, скорее, категориальный признак. Посмотрим на количество уникальных значений и закодируем по аналогии с полом и страной."
   ]
  },
  {
   "cell_type": "code",
   "execution_count": 25,
   "metadata": {},
   "outputs": [
    {
     "name": "stdout",
     "output_type": "stream",
     "text": [
      "Варианты значений столбца NumOfProducts: [1 3 2 4]\n"
     ]
    }
   ],
   "source": [
    "print('Варианты значений столбца NumOfProducts:', df['NumOfProducts'].unique())"
   ]
  },
  {
   "cell_type": "markdown",
   "metadata": {},
   "source": [
    "Здесь было бы правильно убедиться, что 4 - это максимально возможное количество банковских продуктов. Предположим, что это так."
   ]
  },
  {
   "cell_type": "code",
   "execution_count": 26,
   "metadata": {},
   "outputs": [
    {
     "data": {
      "text/html": [
       "<div>\n",
       "<style scoped>\n",
       "    .dataframe tbody tr th:only-of-type {\n",
       "        vertical-align: middle;\n",
       "    }\n",
       "\n",
       "    .dataframe tbody tr th {\n",
       "        vertical-align: top;\n",
       "    }\n",
       "\n",
       "    .dataframe thead th {\n",
       "        text-align: right;\n",
       "    }\n",
       "</style>\n",
       "<table border=\"1\" class=\"dataframe\">\n",
       "  <thead>\n",
       "    <tr style=\"text-align: right;\">\n",
       "      <th></th>\n",
       "      <th>CreditScore</th>\n",
       "      <th>Age</th>\n",
       "      <th>Tenure</th>\n",
       "      <th>Balance</th>\n",
       "      <th>HasCrCard</th>\n",
       "      <th>IsActiveMember</th>\n",
       "      <th>EstimatedSalary</th>\n",
       "      <th>Geography_Germany</th>\n",
       "      <th>Geography_Spain</th>\n",
       "      <th>Gender_Male</th>\n",
       "      <th>NumOfProducts_2</th>\n",
       "      <th>NumOfProducts_3</th>\n",
       "      <th>NumOfProducts_4</th>\n",
       "    </tr>\n",
       "    <tr>\n",
       "      <th>RowNumber</th>\n",
       "      <th></th>\n",
       "      <th></th>\n",
       "      <th></th>\n",
       "      <th></th>\n",
       "      <th></th>\n",
       "      <th></th>\n",
       "      <th></th>\n",
       "      <th></th>\n",
       "      <th></th>\n",
       "      <th></th>\n",
       "      <th></th>\n",
       "      <th></th>\n",
       "      <th></th>\n",
       "    </tr>\n",
       "  </thead>\n",
       "  <tbody>\n",
       "    <tr>\n",
       "      <th>6253</th>\n",
       "      <td>596</td>\n",
       "      <td>32</td>\n",
       "      <td>3</td>\n",
       "      <td>96709.07</td>\n",
       "      <td>0</td>\n",
       "      <td>0</td>\n",
       "      <td>41788.37</td>\n",
       "      <td>1</td>\n",
       "      <td>0</td>\n",
       "      <td>1</td>\n",
       "      <td>1</td>\n",
       "      <td>0</td>\n",
       "      <td>0</td>\n",
       "    </tr>\n",
       "    <tr>\n",
       "      <th>4685</th>\n",
       "      <td>623</td>\n",
       "      <td>43</td>\n",
       "      <td>1</td>\n",
       "      <td>0.00</td>\n",
       "      <td>1</td>\n",
       "      <td>1</td>\n",
       "      <td>146379.30</td>\n",
       "      <td>0</td>\n",
       "      <td>0</td>\n",
       "      <td>1</td>\n",
       "      <td>1</td>\n",
       "      <td>0</td>\n",
       "      <td>0</td>\n",
       "    </tr>\n",
       "    <tr>\n",
       "      <th>1732</th>\n",
       "      <td>601</td>\n",
       "      <td>44</td>\n",
       "      <td>4</td>\n",
       "      <td>0.00</td>\n",
       "      <td>1</td>\n",
       "      <td>0</td>\n",
       "      <td>58561.31</td>\n",
       "      <td>0</td>\n",
       "      <td>1</td>\n",
       "      <td>0</td>\n",
       "      <td>1</td>\n",
       "      <td>0</td>\n",
       "      <td>0</td>\n",
       "    </tr>\n",
       "    <tr>\n",
       "      <th>4743</th>\n",
       "      <td>506</td>\n",
       "      <td>59</td>\n",
       "      <td>8</td>\n",
       "      <td>119152.10</td>\n",
       "      <td>1</td>\n",
       "      <td>1</td>\n",
       "      <td>170679.74</td>\n",
       "      <td>1</td>\n",
       "      <td>0</td>\n",
       "      <td>1</td>\n",
       "      <td>1</td>\n",
       "      <td>0</td>\n",
       "      <td>0</td>\n",
       "    </tr>\n",
       "    <tr>\n",
       "      <th>4522</th>\n",
       "      <td>560</td>\n",
       "      <td>27</td>\n",
       "      <td>7</td>\n",
       "      <td>124995.98</td>\n",
       "      <td>1</td>\n",
       "      <td>1</td>\n",
       "      <td>114669.79</td>\n",
       "      <td>0</td>\n",
       "      <td>1</td>\n",
       "      <td>0</td>\n",
       "      <td>0</td>\n",
       "      <td>0</td>\n",
       "      <td>0</td>\n",
       "    </tr>\n",
       "    <tr>\n",
       "      <th>6341</th>\n",
       "      <td>790</td>\n",
       "      <td>37</td>\n",
       "      <td>8</td>\n",
       "      <td>0.00</td>\n",
       "      <td>1</td>\n",
       "      <td>1</td>\n",
       "      <td>149418.41</td>\n",
       "      <td>0</td>\n",
       "      <td>1</td>\n",
       "      <td>1</td>\n",
       "      <td>1</td>\n",
       "      <td>0</td>\n",
       "      <td>0</td>\n",
       "    </tr>\n",
       "    <tr>\n",
       "      <th>577</th>\n",
       "      <td>439</td>\n",
       "      <td>32</td>\n",
       "      <td>5</td>\n",
       "      <td>138901.61</td>\n",
       "      <td>1</td>\n",
       "      <td>0</td>\n",
       "      <td>75685.97</td>\n",
       "      <td>0</td>\n",
       "      <td>1</td>\n",
       "      <td>0</td>\n",
       "      <td>0</td>\n",
       "      <td>0</td>\n",
       "      <td>0</td>\n",
       "    </tr>\n",
       "    <tr>\n",
       "      <th>5203</th>\n",
       "      <td>597</td>\n",
       "      <td>22</td>\n",
       "      <td>6</td>\n",
       "      <td>101528.61</td>\n",
       "      <td>1</td>\n",
       "      <td>0</td>\n",
       "      <td>70529.00</td>\n",
       "      <td>1</td>\n",
       "      <td>0</td>\n",
       "      <td>0</td>\n",
       "      <td>0</td>\n",
       "      <td>0</td>\n",
       "      <td>0</td>\n",
       "    </tr>\n",
       "    <tr>\n",
       "      <th>6364</th>\n",
       "      <td>678</td>\n",
       "      <td>40</td>\n",
       "      <td>4</td>\n",
       "      <td>113794.22</td>\n",
       "      <td>1</td>\n",
       "      <td>0</td>\n",
       "      <td>16618.76</td>\n",
       "      <td>0</td>\n",
       "      <td>1</td>\n",
       "      <td>0</td>\n",
       "      <td>0</td>\n",
       "      <td>0</td>\n",
       "      <td>0</td>\n",
       "    </tr>\n",
       "    <tr>\n",
       "      <th>440</th>\n",
       "      <td>464</td>\n",
       "      <td>42</td>\n",
       "      <td>3</td>\n",
       "      <td>85679.25</td>\n",
       "      <td>1</td>\n",
       "      <td>1</td>\n",
       "      <td>164104.74</td>\n",
       "      <td>1</td>\n",
       "      <td>0</td>\n",
       "      <td>0</td>\n",
       "      <td>0</td>\n",
       "      <td>0</td>\n",
       "      <td>0</td>\n",
       "    </tr>\n",
       "  </tbody>\n",
       "</table>\n",
       "</div>"
      ],
      "text/plain": [
       "           CreditScore  Age  Tenure    Balance  HasCrCard  IsActiveMember  \\\n",
       "RowNumber                                                                   \n",
       "6253               596   32       3   96709.07          0               0   \n",
       "4685               623   43       1       0.00          1               1   \n",
       "1732               601   44       4       0.00          1               0   \n",
       "4743               506   59       8  119152.10          1               1   \n",
       "4522               560   27       7  124995.98          1               1   \n",
       "6341               790   37       8       0.00          1               1   \n",
       "577                439   32       5  138901.61          1               0   \n",
       "5203               597   22       6  101528.61          1               0   \n",
       "6364               678   40       4  113794.22          1               0   \n",
       "440                464   42       3   85679.25          1               1   \n",
       "\n",
       "           EstimatedSalary  Geography_Germany  Geography_Spain  Gender_Male  \\\n",
       "RowNumber                                                                     \n",
       "6253              41788.37                  1                0            1   \n",
       "4685             146379.30                  0                0            1   \n",
       "1732              58561.31                  0                1            0   \n",
       "4743             170679.74                  1                0            1   \n",
       "4522             114669.79                  0                1            0   \n",
       "6341             149418.41                  0                1            1   \n",
       "577               75685.97                  0                1            0   \n",
       "5203              70529.00                  1                0            0   \n",
       "6364              16618.76                  0                1            0   \n",
       "440              164104.74                  1                0            0   \n",
       "\n",
       "           NumOfProducts_2  NumOfProducts_3  NumOfProducts_4  \n",
       "RowNumber                                                     \n",
       "6253                     1                0                0  \n",
       "4685                     1                0                0  \n",
       "1732                     1                0                0  \n",
       "4743                     1                0                0  \n",
       "4522                     0                0                0  \n",
       "6341                     1                0                0  \n",
       "577                      0                0                0  \n",
       "5203                     0                0                0  \n",
       "6364                     0                0                0  \n",
       "440                      0                0                0  "
      ]
     },
     "execution_count": 26,
     "metadata": {},
     "output_type": "execute_result"
    }
   ],
   "source": [
    "features['NumOfProducts'] = features['NumOfProducts'].astype('category')\n",
    "features = pd.get_dummies(features, drop_first=True)\n",
    "features.sample(n=10, random_state=42)"
   ]
  },
  {
   "cell_type": "markdown",
   "metadata": {},
   "source": [
    "Остальные признаки отклоняются от нормального распределения на больших и маленьких значениях, но в целом их можно принять как нормальные."
   ]
  },
  {
   "cell_type": "code",
   "execution_count": 27,
   "metadata": {},
   "outputs": [],
   "source": [
    "numeric = ['CreditScore', 'Age', 'Tenure', 'Balance', 'EstimatedSalary']"
   ]
  },
  {
   "cell_type": "markdown",
   "metadata": {},
   "source": [
    "Посмотрим на корреляцию признаков. Если какие-то признаки хорошо коррелируют между собой, один из них нужно будет убрать из рассмотрения."
   ]
  },
  {
   "cell_type": "code",
   "execution_count": 28,
   "metadata": {},
   "outputs": [
    {
     "data": {
      "text/html": [
       "<div>\n",
       "<style scoped>\n",
       "    .dataframe tbody tr th:only-of-type {\n",
       "        vertical-align: middle;\n",
       "    }\n",
       "\n",
       "    .dataframe tbody tr th {\n",
       "        vertical-align: top;\n",
       "    }\n",
       "\n",
       "    .dataframe thead th {\n",
       "        text-align: right;\n",
       "    }\n",
       "</style>\n",
       "<table border=\"1\" class=\"dataframe\">\n",
       "  <thead>\n",
       "    <tr style=\"text-align: right;\">\n",
       "      <th></th>\n",
       "      <th>CreditScore</th>\n",
       "      <th>Age</th>\n",
       "      <th>Tenure</th>\n",
       "      <th>Balance</th>\n",
       "      <th>EstimatedSalary</th>\n",
       "    </tr>\n",
       "  </thead>\n",
       "  <tbody>\n",
       "    <tr>\n",
       "      <th>CreditScore</th>\n",
       "      <td>1.000000</td>\n",
       "      <td>-0.003965</td>\n",
       "      <td>-0.000060</td>\n",
       "      <td>0.006268</td>\n",
       "      <td>-0.001384</td>\n",
       "    </tr>\n",
       "    <tr>\n",
       "      <th>Age</th>\n",
       "      <td>-0.003965</td>\n",
       "      <td>1.000000</td>\n",
       "      <td>-0.012606</td>\n",
       "      <td>0.028308</td>\n",
       "      <td>-0.007201</td>\n",
       "    </tr>\n",
       "    <tr>\n",
       "      <th>Tenure</th>\n",
       "      <td>-0.000060</td>\n",
       "      <td>-0.012606</td>\n",
       "      <td>1.000000</td>\n",
       "      <td>-0.007535</td>\n",
       "      <td>0.010049</td>\n",
       "    </tr>\n",
       "    <tr>\n",
       "      <th>Balance</th>\n",
       "      <td>0.006268</td>\n",
       "      <td>0.028308</td>\n",
       "      <td>-0.007535</td>\n",
       "      <td>1.000000</td>\n",
       "      <td>0.012797</td>\n",
       "    </tr>\n",
       "    <tr>\n",
       "      <th>EstimatedSalary</th>\n",
       "      <td>-0.001384</td>\n",
       "      <td>-0.007201</td>\n",
       "      <td>0.010049</td>\n",
       "      <td>0.012797</td>\n",
       "      <td>1.000000</td>\n",
       "    </tr>\n",
       "  </tbody>\n",
       "</table>\n",
       "</div>"
      ],
      "text/plain": [
       "                 CreditScore       Age    Tenure   Balance  EstimatedSalary\n",
       "CreditScore         1.000000 -0.003965 -0.000060  0.006268        -0.001384\n",
       "Age                -0.003965  1.000000 -0.012606  0.028308        -0.007201\n",
       "Tenure             -0.000060 -0.012606  1.000000 -0.007535         0.010049\n",
       "Balance             0.006268  0.028308 -0.007535  1.000000         0.012797\n",
       "EstimatedSalary    -0.001384 -0.007201  0.010049  0.012797         1.000000"
      ]
     },
     "execution_count": 28,
     "metadata": {},
     "output_type": "execute_result"
    }
   ],
   "source": [
    "features[numeric].corr()"
   ]
  },
  {
   "cell_type": "markdown",
   "metadata": {},
   "source": [
    "Численные признаки не коррелируют между собой.\n",
    "\n",
    "Разделим данные на обучающую, валидационную и тестовую выборки в соотношении 3:1:1. Функция train_test_split делит датасет только на две части, поэтому воспользуемся ей дважды: на первом шаге выделим 20% на тестовую часть часть, а на втором - разделим оставшиеся 80% на обучающую и валидационную выборки."
   ]
  },
  {
   "cell_type": "code",
   "execution_count": 29,
   "metadata": {},
   "outputs": [
    {
     "name": "stdout",
     "output_type": "stream",
     "text": [
      "Рамер обучающей выборки: (6000, 13) (6000,)\n",
      "Рамер валидационной выборки: (2000, 13) (2000,)\n",
      "Рамер тестовой выборки: (2000, 13) (2000,)\n"
     ]
    }
   ],
   "source": [
    "features_train_80, features_test, target_train_80, target_test = train_test_split(\n",
    "    features, target, test_size=0.2, random_state=42, stratify = target\n",
    ")\n",
    "features_train, features_valid, target_train, target_valid = train_test_split(\n",
    "    features_train_80, target_train_80, test_size=0.25, random_state=42, stratify = target_train_80\n",
    ")\n",
    "print('Рамер обучающей выборки:', features_train.shape, target_train.shape)\n",
    "print('Рамер валидационной выборки:', features_valid.shape, target_valid.shape)\n",
    "print('Рамер тестовой выборки:', features_test.shape, target_test.shape)"
   ]
  },
  {
   "cell_type": "markdown",
   "metadata": {},
   "source": [
    "Отмасштабируем признаки."
   ]
  },
  {
   "cell_type": "code",
   "execution_count": 30,
   "metadata": {},
   "outputs": [
    {
     "data": {
      "text/html": [
       "<div>\n",
       "<style scoped>\n",
       "    .dataframe tbody tr th:only-of-type {\n",
       "        vertical-align: middle;\n",
       "    }\n",
       "\n",
       "    .dataframe tbody tr th {\n",
       "        vertical-align: top;\n",
       "    }\n",
       "\n",
       "    .dataframe thead th {\n",
       "        text-align: right;\n",
       "    }\n",
       "</style>\n",
       "<table border=\"1\" class=\"dataframe\">\n",
       "  <thead>\n",
       "    <tr style=\"text-align: right;\">\n",
       "      <th></th>\n",
       "      <th>CreditScore</th>\n",
       "      <th>Age</th>\n",
       "      <th>Tenure</th>\n",
       "      <th>Balance</th>\n",
       "      <th>HasCrCard</th>\n",
       "      <th>IsActiveMember</th>\n",
       "      <th>EstimatedSalary</th>\n",
       "      <th>Geography_Germany</th>\n",
       "      <th>Geography_Spain</th>\n",
       "      <th>Gender_Male</th>\n",
       "      <th>NumOfProducts_2</th>\n",
       "      <th>NumOfProducts_3</th>\n",
       "      <th>NumOfProducts_4</th>\n",
       "    </tr>\n",
       "    <tr>\n",
       "      <th>RowNumber</th>\n",
       "      <th></th>\n",
       "      <th></th>\n",
       "      <th></th>\n",
       "      <th></th>\n",
       "      <th></th>\n",
       "      <th></th>\n",
       "      <th></th>\n",
       "      <th></th>\n",
       "      <th></th>\n",
       "      <th></th>\n",
       "      <th></th>\n",
       "      <th></th>\n",
       "      <th></th>\n",
       "    </tr>\n",
       "  </thead>\n",
       "  <tbody>\n",
       "    <tr>\n",
       "      <th>9817</th>\n",
       "      <td>-0.083844</td>\n",
       "      <td>0.862523</td>\n",
       "      <td>1.079907</td>\n",
       "      <td>-1.240550</td>\n",
       "      <td>1</td>\n",
       "      <td>0</td>\n",
       "      <td>1.314234</td>\n",
       "      <td>0</td>\n",
       "      <td>1</td>\n",
       "      <td>1</td>\n",
       "      <td>1</td>\n",
       "      <td>0</td>\n",
       "      <td>0</td>\n",
       "    </tr>\n",
       "    <tr>\n",
       "      <th>6850</th>\n",
       "      <td>0.671557</td>\n",
       "      <td>0.480890</td>\n",
       "      <td>-1.440156</td>\n",
       "      <td>-1.240550</td>\n",
       "      <td>1</td>\n",
       "      <td>1</td>\n",
       "      <td>0.919306</td>\n",
       "      <td>0</td>\n",
       "      <td>0</td>\n",
       "      <td>0</td>\n",
       "      <td>0</td>\n",
       "      <td>0</td>\n",
       "      <td>0</td>\n",
       "    </tr>\n",
       "    <tr>\n",
       "      <th>7621</th>\n",
       "      <td>-0.746114</td>\n",
       "      <td>-1.141051</td>\n",
       "      <td>1.439916</td>\n",
       "      <td>-1.240550</td>\n",
       "      <td>1</td>\n",
       "      <td>0</td>\n",
       "      <td>0.478131</td>\n",
       "      <td>0</td>\n",
       "      <td>0</td>\n",
       "      <td>0</td>\n",
       "      <td>1</td>\n",
       "      <td>0</td>\n",
       "      <td>0</td>\n",
       "    </tr>\n",
       "    <tr>\n",
       "      <th>9347</th>\n",
       "      <td>0.671557</td>\n",
       "      <td>0.194665</td>\n",
       "      <td>1.439916</td>\n",
       "      <td>-1.240550</td>\n",
       "      <td>1</td>\n",
       "      <td>1</td>\n",
       "      <td>0.241196</td>\n",
       "      <td>0</td>\n",
       "      <td>0</td>\n",
       "      <td>1</td>\n",
       "      <td>0</td>\n",
       "      <td>0</td>\n",
       "      <td>0</td>\n",
       "    </tr>\n",
       "    <tr>\n",
       "      <th>1563</th>\n",
       "      <td>0.443902</td>\n",
       "      <td>-0.759418</td>\n",
       "      <td>0.359889</td>\n",
       "      <td>0.510463</td>\n",
       "      <td>1</td>\n",
       "      <td>1</td>\n",
       "      <td>-1.396746</td>\n",
       "      <td>1</td>\n",
       "      <td>0</td>\n",
       "      <td>1</td>\n",
       "      <td>1</td>\n",
       "      <td>0</td>\n",
       "      <td>0</td>\n",
       "    </tr>\n",
       "    <tr>\n",
       "      <th>40</th>\n",
       "      <td>-0.715070</td>\n",
       "      <td>0.194665</td>\n",
       "      <td>0.359889</td>\n",
       "      <td>-0.110977</td>\n",
       "      <td>0</td>\n",
       "      <td>1</td>\n",
       "      <td>1.372629</td>\n",
       "      <td>1</td>\n",
       "      <td>0</td>\n",
       "      <td>1</td>\n",
       "      <td>1</td>\n",
       "      <td>0</td>\n",
       "      <td>0</td>\n",
       "    </tr>\n",
       "    <tr>\n",
       "      <th>5129</th>\n",
       "      <td>-1.480819</td>\n",
       "      <td>-0.091560</td>\n",
       "      <td>-0.720138</td>\n",
       "      <td>1.430121</td>\n",
       "      <td>0</td>\n",
       "      <td>1</td>\n",
       "      <td>-1.341485</td>\n",
       "      <td>0</td>\n",
       "      <td>0</td>\n",
       "      <td>0</td>\n",
       "      <td>1</td>\n",
       "      <td>0</td>\n",
       "      <td>0</td>\n",
       "    </tr>\n",
       "    <tr>\n",
       "      <th>5928</th>\n",
       "      <td>-0.766810</td>\n",
       "      <td>0.385481</td>\n",
       "      <td>-0.720138</td>\n",
       "      <td>0.813738</td>\n",
       "      <td>0</td>\n",
       "      <td>0</td>\n",
       "      <td>0.448486</td>\n",
       "      <td>1</td>\n",
       "      <td>0</td>\n",
       "      <td>0</td>\n",
       "      <td>0</td>\n",
       "      <td>0</td>\n",
       "      <td>0</td>\n",
       "    </tr>\n",
       "    <tr>\n",
       "      <th>1186</th>\n",
       "      <td>1.085475</td>\n",
       "      <td>-0.186968</td>\n",
       "      <td>-0.720138</td>\n",
       "      <td>0.888933</td>\n",
       "      <td>1</td>\n",
       "      <td>1</td>\n",
       "      <td>-0.706693</td>\n",
       "      <td>0</td>\n",
       "      <td>0</td>\n",
       "      <td>1</td>\n",
       "      <td>0</td>\n",
       "      <td>0</td>\n",
       "      <td>0</td>\n",
       "    </tr>\n",
       "    <tr>\n",
       "      <th>2286</th>\n",
       "      <td>-0.218368</td>\n",
       "      <td>1.053339</td>\n",
       "      <td>-0.720138</td>\n",
       "      <td>0.836706</td>\n",
       "      <td>1</td>\n",
       "      <td>1</td>\n",
       "      <td>-0.902206</td>\n",
       "      <td>1</td>\n",
       "      <td>0</td>\n",
       "      <td>1</td>\n",
       "      <td>0</td>\n",
       "      <td>0</td>\n",
       "      <td>1</td>\n",
       "    </tr>\n",
       "  </tbody>\n",
       "</table>\n",
       "</div>"
      ],
      "text/plain": [
       "           CreditScore       Age    Tenure   Balance  HasCrCard  \\\n",
       "RowNumber                                                         \n",
       "9817         -0.083844  0.862523  1.079907 -1.240550          1   \n",
       "6850          0.671557  0.480890 -1.440156 -1.240550          1   \n",
       "7621         -0.746114 -1.141051  1.439916 -1.240550          1   \n",
       "9347          0.671557  0.194665  1.439916 -1.240550          1   \n",
       "1563          0.443902 -0.759418  0.359889  0.510463          1   \n",
       "40           -0.715070  0.194665  0.359889 -0.110977          0   \n",
       "5129         -1.480819 -0.091560 -0.720138  1.430121          0   \n",
       "5928         -0.766810  0.385481 -0.720138  0.813738          0   \n",
       "1186          1.085475 -0.186968 -0.720138  0.888933          1   \n",
       "2286         -0.218368  1.053339 -0.720138  0.836706          1   \n",
       "\n",
       "           IsActiveMember  EstimatedSalary  Geography_Germany  \\\n",
       "RowNumber                                                       \n",
       "9817                    0         1.314234                  0   \n",
       "6850                    1         0.919306                  0   \n",
       "7621                    0         0.478131                  0   \n",
       "9347                    1         0.241196                  0   \n",
       "1563                    1        -1.396746                  1   \n",
       "40                      1         1.372629                  1   \n",
       "5129                    1        -1.341485                  0   \n",
       "5928                    0         0.448486                  1   \n",
       "1186                    1        -0.706693                  0   \n",
       "2286                    1        -0.902206                  1   \n",
       "\n",
       "           Geography_Spain  Gender_Male  NumOfProducts_2  NumOfProducts_3  \\\n",
       "RowNumber                                                                   \n",
       "9817                     1            1                1                0   \n",
       "6850                     0            0                0                0   \n",
       "7621                     0            0                1                0   \n",
       "9347                     0            1                0                0   \n",
       "1563                     0            1                1                0   \n",
       "40                       0            1                1                0   \n",
       "5129                     0            0                1                0   \n",
       "5928                     0            0                0                0   \n",
       "1186                     0            1                0                0   \n",
       "2286                     0            1                0                0   \n",
       "\n",
       "           NumOfProducts_4  \n",
       "RowNumber                   \n",
       "9817                     0  \n",
       "6850                     0  \n",
       "7621                     0  \n",
       "9347                     0  \n",
       "1563                     0  \n",
       "40                       0  \n",
       "5129                     0  \n",
       "5928                     0  \n",
       "1186                     0  \n",
       "2286                     1  "
      ]
     },
     "execution_count": 30,
     "metadata": {},
     "output_type": "execute_result"
    }
   ],
   "source": [
    "pd.options.mode.chained_assignment = None\n",
    "\n",
    "scaler = StandardScaler()\n",
    "scaler.fit(features_train[numeric])\n",
    "features_train[numeric] = scaler.transform(features_train[numeric])\n",
    "features_valid[numeric] = scaler.transform(features_valid[numeric])\n",
    "features_test[numeric] = scaler.transform(features_test[numeric])\n",
    "features_train_80[numeric] = scaler.transform(features_train_80[numeric])\n",
    "\n",
    "features_train.sample(n=10, random_state=42)"
   ]
  },
  {
   "cell_type": "markdown",
   "metadata": {},
   "source": [
    "**Вывод**\n",
    "\n",
    "Данные были загружены и проанализированы. Пропущенные значения Tenure заполнены медианным значением. В отдельные таблицы выделены признаки и целевой признак. Данные разделены на обучающую, валидационную и тестовую выборки в соотношении 3:1:1. Категориальные данные преобразованны с помощью прямого кодирования, а численные параметры отмасштабированы."
   ]
  },
  {
   "cell_type": "markdown",
   "metadata": {},
   "source": [
    "## Исследование задачи"
   ]
  },
  {
   "cell_type": "markdown",
   "metadata": {},
   "source": [
    "Посмотрим, какое количество положительных объектов есть в обучающей выборке."
   ]
  },
  {
   "cell_type": "code",
   "execution_count": 21,
   "metadata": {
    "scrolled": true
   },
   "outputs": [
    {
     "name": "stdout",
     "output_type": "stream",
     "text": [
      "Процент положительных объектов в обучающей выборке: 20.38%\n"
     ]
    }
   ],
   "source": [
    "print('Процент положительных объектов в обучающей выборке: {:.2%}'.format(target_train.mean()))"
   ]
  },
  {
   "cell_type": "markdown",
   "metadata": {},
   "source": [
    "Наблюдается дисбаланс классов: положительных значительно меньше 50%. Но 20% - это тоже достаточно много. Попробуем найти хорошую модель без учёта дисбаланса. \n",
    "\n",
    "В качестве первой модели рассмотрим решающее дерево. Переберём варианты глубины дерева от 3 до 12 и найдём лучшую модель. Т.к. классы несбалансированы, accuracy не подойдёт в качестве метрики, поэтому будем вычислять F1 на валидационной выборке и искать максимальное значение. Параллельно будем считать площадь под ROC-кривой: для хорошей модели, работающей лучше случайного выбора, она должна быть больше 0,5."
   ]
  },
  {
   "cell_type": "code",
   "execution_count": 22,
   "metadata": {},
   "outputs": [
    {
     "name": "stdout",
     "output_type": "stream",
     "text": [
      "F1 = 0.550\n",
      "AUC_ROC = 0.828\n",
      "Глубина дерева: 7\n"
     ]
    }
   ],
   "source": [
    "def fitting_model (model, x, y):\n",
    "    model.fit(x, y)\n",
    "    f1 = f1_score(target_valid, model.predict(features_valid))\n",
    "    auc_roc = roc_auc_score(target_valid, model.predict_proba(features_valid)[:,1])\n",
    "    return model, f1, auc_roc\n",
    "\n",
    "f1_tree = 0\n",
    "\n",
    "for depth in range(3, 13):\n",
    "    model = DecisionTreeClassifier(max_depth = depth, random_state=42)\n",
    "    model, f1, auc_roc = fitting_model(model, features_train, target_train)\n",
    "    \n",
    "    if (f1 > f1_tree) and (auc_roc > 0.5):\n",
    "        model_tree = model\n",
    "        depth_tree = depth\n",
    "        f1_tree = f1\n",
    "        auc_roc_tree = auc_roc\n",
    "        \n",
    "print('F1 = {:.3f}'.format(f1_tree))\n",
    "print('AUC_ROC = {:.3f}'.format(auc_roc_tree))\n",
    "print('Глубина дерева:', depth_tree)"
   ]
  },
  {
   "cell_type": "markdown",
   "metadata": {},
   "source": [
    "Значение F1 получилось меньше 0,59. Попробуем модель случайного леса. Переберём 10 вариантов леса с количеством деревьев от 10 до 55 с шагом 5. Для каждого леса переберём варианты максимальной глубины дерева от 6 до 10. Итого это 50 моделей. Найдём, какая из них даст большее значение F1."
   ]
  },
  {
   "cell_type": "code",
   "execution_count": 23,
   "metadata": {},
   "outputs": [
    {
     "name": "stdout",
     "output_type": "stream",
     "text": [
      "F1 = 0.570\n",
      "AUC_ROC = 0.857\n",
      "Количество деревьев в модели: 30\n",
      "Максимальная глубина дерева: 10\n"
     ]
    }
   ],
   "source": [
    "f1_forest = 0\n",
    "\n",
    "for estimators in range(10, 56, 5):\n",
    "    for depth in range(6, 11):\n",
    "        model = RandomForestClassifier(n_estimators = estimators, max_depth = depth, random_state=42)\n",
    "        model, f1, auc_roc = fitting_model(model, features_train, target_train)\n",
    "    \n",
    "        if (f1 > f1_forest) and (auc_roc > 0.5):\n",
    "            model_forest = model\n",
    "            estimators_forest = estimators\n",
    "            depth_forest = depth\n",
    "            f1_forest = f1\n",
    "            auc_roc_forest = auc_roc\n",
    "\n",
    "print('F1 = {:.3f}'.format(f1_forest))\n",
    "print('AUC_ROC = {:.3f}'.format(auc_roc_forest))\n",
    "print('Количество деревьев в модели:', estimators_forest)\n",
    "print('Максимальная глубина дерева:', depth_forest)"
   ]
  },
  {
   "cell_type": "markdown",
   "metadata": {},
   "source": [
    "Модель случайного леса тоже не даёт удовлетворительные результаты на валидационной выборке. \n",
    "\n",
    "Рассмотрим логистическую регрессию. Для двух вариантов значений penalty - l1 и l2 - переберём по 10 вариантов значений C: от 0,2 до 2 с шагом 0,2."
   ]
  },
  {
   "cell_type": "code",
   "execution_count": 24,
   "metadata": {},
   "outputs": [
    {
     "name": "stdout",
     "output_type": "stream",
     "text": [
      "F1 = 0.484\n",
      "AUC_ROC = 0.825\n",
      "Penalty = l1\n",
      "C = 0.8\n"
     ]
    }
   ],
   "source": [
    "f1_regression = 0\n",
    "\n",
    "for l in ['l1','l2']:\n",
    "    for c in np.arange(0.2, 2.1, 0.2):\n",
    "        model = LogisticRegression(penalty=l, C=c, random_state=42, solver='liblinear')\n",
    "        model, f1, auc_roc = fitting_model(model, features_train, target_train)\n",
    "    \n",
    "        if (f1 > f1_regression) and (auc_roc > 0.5):\n",
    "            model_regression = model\n",
    "            l_regression = l\n",
    "            c_regression = c\n",
    "            f1_regression = f1\n",
    "            auc_roc_regression = auc_roc\n",
    "            \n",
    "print('F1 = {:.3f}'.format(f1_regression))\n",
    "print('AUC_ROC = {:.3f}'.format(auc_roc_regression))\n",
    "print('Penalty =', l_regression)\n",
    "print('C = {:.1f}'.format(c_regression))"
   ]
  },
  {
   "cell_type": "markdown",
   "metadata": {},
   "source": [
    "Логистическая регрессия даёт наихудшие результаты.\n",
    "\n",
    "**Вывод**\n",
    "\n",
    "Рассмотрены 3 модели: дерево, лес и логистическая регрессия с 10, 50 и 20 наборами гиперпараметров соответственно. Дисбаланс классов не учитывался. В качестве метрики использовано значение F1, также была посчитана площадь под ROC-кривой. Лучшие результаты дал лес с 30 деревьями и максимальной глубиной дерева 10: F1 = 0,57 на валидационной выборке. Решающее дерево и логистическая регрессия показали F1 = 0,55 и F1 = 0,484 соответственно. Без учёта дисбаланса не удалось преодолеть пороговое значение F1 = 0,59."
   ]
  },
  {
   "cell_type": "markdown",
   "metadata": {},
   "source": [
    "## Борьба с дисбалансом"
   ]
  },
  {
   "cell_type": "markdown",
   "metadata": {},
   "source": [
    "Попробуем сбалансировать классы с помощью аргумента class_weight. Посмотрим, поможет ли это улучшить показатели моделей."
   ]
  },
  {
   "cell_type": "code",
   "execution_count": 25,
   "metadata": {},
   "outputs": [
    {
     "name": "stdout",
     "output_type": "stream",
     "text": [
      "Решающее дерево\n",
      "F1 = 0.570\n",
      "AUC_ROC = 0.809\n",
      "\n"
     ]
    }
   ],
   "source": [
    "model_tree_balanced = DecisionTreeClassifier(\n",
    "    max_depth = depth_tree, class_weight = 'balanced', random_state=42)\n",
    "model_tree_balanced, f1_tree_balanced, auc_roc_tree_balanced = \\\n",
    "    fitting_model (model_tree_balanced, features_train, target_train)\n",
    "\n",
    "print('Решающее дерево')\n",
    "print('F1 = {:.3f}'.format(f1_tree_balanced))\n",
    "print('AUC_ROC = {:.3f}'.format(auc_roc_tree_balanced))\n",
    "print()"
   ]
  },
  {
   "cell_type": "code",
   "execution_count": 26,
   "metadata": {},
   "outputs": [
    {
     "name": "stdout",
     "output_type": "stream",
     "text": [
      "Случайный лес\n",
      "F1 = 0.612\n",
      "AUC_ROC = 0.853\n",
      "\n"
     ]
    }
   ],
   "source": [
    "model_forest_balanced = RandomForestClassifier(\n",
    "    n_estimators = estimators_forest, max_depth = depth_forest, class_weight = 'balanced', random_state=42)\n",
    "model_forest_balanced, f1_forest_balanced, auc_roc_forest_balanced = \\\n",
    "    fitting_model (model_forest_balanced, features_train, target_train)\n",
    "\n",
    "print('Случайный лес')\n",
    "print('F1 = {:.3f}'.format(f1_forest_balanced))\n",
    "print('AUC_ROC = {:.3f}'.format(auc_roc_forest_balanced))\n",
    "print()"
   ]
  },
  {
   "cell_type": "code",
   "execution_count": 27,
   "metadata": {},
   "outputs": [
    {
     "name": "stdout",
     "output_type": "stream",
     "text": [
      "Логистическая регрессия\n",
      "F1 = 0.545\n",
      "AUC_ROC = 0.826\n"
     ]
    }
   ],
   "source": [
    "model_regression_balanced = LogisticRegression(\n",
    "    penalty=l_regression, C=c_regression, class_weight = 'balanced', random_state=42, solver='liblinear')\n",
    "model_regression_balanced, f1_regression_balanced, auc_roc_regression_balanced = \\\n",
    "    fitting_model (model_regression_balanced, features_train, target_train)\n",
    "\n",
    "print('Логистическая регрессия')\n",
    "print('F1 = {:.3f}'.format(f1_regression_balanced))\n",
    "print('AUC_ROC = {:.3f}'.format(auc_roc_regression_balanced))"
   ]
  },
  {
   "cell_type": "markdown",
   "metadata": {},
   "source": [
    "Все модели улучшили F1 на валидационной выборке. Случайный лес преодолел порог 0.59 - такую модель можно использоаать.\n",
    "\n",
    "Попробуем увеличить выборку положительных объектов и переобучить модели. Т.к. положительных объектов в выборке больше 20%, увеличение их количества в 4 раза приведёт к тому, что количество положительных превысит количество отрицательных. Увеличим выборку в 2 раза и в 3 - и выберем лучший вариант."
   ]
  },
  {
   "cell_type": "code",
   "execution_count": 28,
   "metadata": {},
   "outputs": [
    {
     "name": "stdout",
     "output_type": "stream",
     "text": [
      "Решающее дерево\n",
      "F1 = 0.565\n",
      "AUC_ROC = 0.801\n",
      "repeat = 3\n",
      "\n",
      "Случайный лес\n",
      "F1 = 0.633\n",
      "AUC_ROC = 0.859\n",
      "repeat = 3\n",
      "\n",
      "Логистическая регрессия\n",
      "F1 = 0.562\n",
      "AUC_ROC = 0.826\n",
      "repeat = 3\n"
     ]
    }
   ],
   "source": [
    "def upsample (features, target, repeat):\n",
    "    features_zeros = features[target == 0]\n",
    "    features_ones = features[target == 1]\n",
    "    target_zeros = target[target == 0]\n",
    "    target_ones = target[target == 1]\n",
    "\n",
    "    features_upsampled = pd.concat([features_zeros] + [features_ones] * repeat)\n",
    "    target_upsampled = pd.concat([target_zeros] + [target_ones] * repeat)\n",
    "    \n",
    "    features_upsampled, target_upsampled = shuffle(\n",
    "        features_upsampled, target_upsampled, random_state=42)\n",
    "    \n",
    "    return features_upsampled, target_upsampled\n",
    "\n",
    "f1_tree_upsample = 0\n",
    "f1_forest_upsample = 0\n",
    "f1_regression_upsample = 0\n",
    "\n",
    "for repeat in [2, 3]:\n",
    "    features_upsampled, target_upsampled = upsample(features_train, target_train, repeat)\n",
    "    \n",
    "    model = DecisionTreeClassifier(max_depth = depth_tree, random_state=42)\n",
    "    model, f1, auc_roc = fitting_model(model, features_upsampled, target_upsampled)\n",
    "\n",
    "    if f1 > f1_tree_upsample:\n",
    "        model_tree_upsample = model\n",
    "        repeat_tree_upsample = repeat\n",
    "        f1_tree_upsample = f1\n",
    "        auc_roc_tree_upsample = auc_roc\n",
    "\n",
    "    model = RandomForestClassifier(n_estimators = estimators_forest, max_depth = depth_forest, random_state=42)\n",
    "    model, f1, auc_roc = fitting_model(model, features_upsampled, target_upsampled)\n",
    "    \n",
    "    if f1 > f1_forest_upsample:\n",
    "        model_forest_upsample = model\n",
    "        repeat_forest_upsample = repeat\n",
    "        f1_forest_upsample = f1\n",
    "        auc_roc_forest_upsample = auc_roc\n",
    "            \n",
    "    model = LogisticRegression(penalty=l_regression, C=c_regression, random_state=42, solver='liblinear')\n",
    "    model, f1, auc_roc = fitting_model(model, features_upsampled, target_upsampled)\n",
    "    \n",
    "    if f1 > f1_regression_upsample:\n",
    "        model_regression_upsample = model\n",
    "        repeat_regression_upsample = repeat\n",
    "        f1_regression_upsample = f1\n",
    "        auc_roc_regression_upsample = auc_roc\n",
    "            \n",
    "print('Решающее дерево')\n",
    "print('F1 = {:.3f}'.format(f1_tree_upsample))\n",
    "print('AUC_ROC = {:.3f}'.format(auc_roc_tree_upsample))\n",
    "print('repeat =', repeat_tree_upsample)\n",
    "print()\n",
    "print('Случайный лес')\n",
    "print('F1 = {:.3f}'.format(f1_forest_upsample))\n",
    "print('AUC_ROC = {:.3f}'.format(auc_roc_forest_upsample))\n",
    "print('repeat =', repeat_forest_upsample)\n",
    "print()\n",
    "print('Логистическая регрессия')\n",
    "print('F1 = {:.3f}'.format(f1_regression_upsample))\n",
    "print('AUC_ROC = {:.3f}'.format(auc_roc_regression_upsample))\n",
    "print('repeat =', repeat_regression_upsample)"
   ]
  },
  {
   "cell_type": "markdown",
   "metadata": {},
   "source": [
    "Лучший результат для всех трёх моделей даёт увеличение выборки положительных объектов в 3 раза. Значение F1 на валидационной выборке для случайного леса и логистической регрессии увеличилось. Показатели решающего дерева немного ухудшились по сравнению с предыдущим вариантом.\n",
    "\n",
    "Для сравнения попробуем уменьшить выборку отрицательных объектов. Переберём разные варианты значения доли отрицательных объектов: от 0,2 до 0,8 с шагом 0,2."
   ]
  },
  {
   "cell_type": "code",
   "execution_count": 29,
   "metadata": {},
   "outputs": [
    {
     "name": "stdout",
     "output_type": "stream",
     "text": [
      "Решающее дерево\n",
      "F1 = 0.557\n",
      "AUC_ROC = 0.816\n",
      "fraction = 0.8\n",
      "\n",
      "Случайный лес\n",
      "F1 = 0.622\n",
      "AUC_ROC = 0.858\n",
      "fraction = 0.4\n",
      "\n",
      "Логистическая регрессия\n",
      "F1 = 0.552\n",
      "AUC_ROC = 0.826\n",
      "fraction = 0.4\n"
     ]
    }
   ],
   "source": [
    "def downsample (features, target, fraction):\n",
    "    features_zeros = features[target == 0]\n",
    "    features_ones = features[target == 1]\n",
    "    target_zeros = target[target == 0]\n",
    "    target_ones = target[target == 1]\n",
    "\n",
    "    features_downsampled = pd.concat(\n",
    "        [features_zeros.sample(frac=fraction, random_state=42)] + [features_ones])\n",
    "    target_downsampled = pd.concat(\n",
    "        [target_zeros.sample(frac=fraction, random_state=42)] + [target_ones])\n",
    "    \n",
    "    features_downsampled, target_downsampled = shuffle(\n",
    "        features_downsampled, target_downsampled, random_state=42)\n",
    "    \n",
    "    return features_downsampled, target_downsampled\n",
    "\n",
    "f1_tree_downsample = 0\n",
    "f1_forest_downsample = 0\n",
    "f1_regression_downsample = 0\n",
    "\n",
    "for fraction in np.arange(0.2, 0.8, 0.2):\n",
    "    features_downsampled, target_downsampled = downsample(features_train, target_train, fraction)\n",
    "    \n",
    "    model = DecisionTreeClassifier(max_depth = depth_tree, random_state=42)\n",
    "    model, f1, auc_roc = fitting_model(model, features_downsampled, target_downsampled)\n",
    "\n",
    "    if f1 > f1_tree_downsample:\n",
    "        model_tree_downsample = model\n",
    "        fraction_tree_downsample = fraction\n",
    "        f1_tree_downsample = f1\n",
    "        auc_roc_tree_downsample = auc_roc\n",
    "\n",
    "    model = RandomForestClassifier(n_estimators = estimators_forest, max_depth = depth_forest, random_state=42)\n",
    "    model, f1, auc_roc = fitting_model(model, features_downsampled, target_downsampled)\n",
    "    \n",
    "    if f1 > f1_forest_downsample:\n",
    "        model_forest_downsample = model\n",
    "        fraction_forest_downsample = fraction\n",
    "        f1_forest_downsample = f1\n",
    "        auc_roc_forest_downsample = auc_roc\n",
    "            \n",
    "    model = LogisticRegression(penalty=l_regression, C=c_regression, random_state=42, solver='liblinear')\n",
    "    model, f1, auc_roc = fitting_model(model, features_downsampled, target_downsampled)\n",
    "\n",
    "    if f1 > f1_regression_downsample:\n",
    "        model_regression_downsample = model\n",
    "        fraction_regression_downsample = fraction\n",
    "        f1_regression_downsample = f1\n",
    "        auc_roc_regression_downsample = auc_roc\n",
    "            \n",
    "print('Решающее дерево')\n",
    "print('F1 = {:.3f}'.format(f1_tree_downsample))\n",
    "print('AUC_ROC = {:.3f}'.format(auc_roc_tree_downsample))\n",
    "print('fraction = {:.1}'.format(fraction_tree_downsample))\n",
    "print()\n",
    "print('Случайный лес')\n",
    "print('F1 = {:.3f}'.format(f1_forest_downsample))\n",
    "print('AUC_ROC = {:.3f}'.format(auc_roc_forest_downsample))\n",
    "print('fraction = {:.1}'.format(fraction_forest_downsample))\n",
    "print()\n",
    "print('Логистическая регрессия')\n",
    "print('F1 = {:.3f}'.format(f1_regression_downsample))\n",
    "print('AUC_ROC = {:.3f}'.format(auc_roc_regression_downsample))\n",
    "print('fraction = {:.1}'.format(fraction_regression_downsample))"
   ]
  },
  {
   "cell_type": "markdown",
   "metadata": {},
   "source": [
    "Все три модели на уменьшенной выборке показали себя хуже, чем на увеличенной.\n",
    "\n",
    "Лучшей моделью оказалась model_forest_upsample - модель случайного леса, обученная на увеличенной выборке. Попробуем ещё увеличить значение F1 с помощью изменения порога классификации."
   ]
  },
  {
   "cell_type": "code",
   "execution_count": 30,
   "metadata": {
    "scrolled": false
   },
   "outputs": [
    {
     "name": "stdout",
     "output_type": "stream",
     "text": [
      "Порог = 0.500\n",
      "F1 = 0.633\n"
     ]
    }
   ],
   "source": [
    "probabilities_valid = model_forest_upsample.predict_proba(features_valid)\n",
    "probabilities_one_valid = probabilities_valid[:, 1]\n",
    "\n",
    "f1_best = f1_forest_upsample\n",
    "threshold_best = 0.5\n",
    "\n",
    "for threshold in np.arange(0.4, 0.6, 0.005):\n",
    "    predicted_valid = probabilities_one_valid > threshold\n",
    "    f1 = f1_score(target_valid, predicted_valid)\n",
    "    \n",
    "    if f1 > f1_best:\n",
    "        f1_best = f1\n",
    "        threshold_best = threshold\n",
    "\n",
    "print('Порог = {:.3f}'.format(threshold_best))\n",
    "print('F1 = {:.3f}'.format(f1_best))"
   ]
  },
  {
   "cell_type": "markdown",
   "metadata": {},
   "source": [
    "Изменение порога не помогло увеличить значение F1. \n",
    "\n",
    "Валидационная выборка больше не нужна, поэтому можно использовать её для обучения модели. Переменные features_train_80, target_train_80 содержат 80% данных, которые были разделены на обучающую и валидационную выборки. Теперь можно использовать их для обучения, предварительно увеличив количество положительных классов."
   ]
  },
  {
   "cell_type": "code",
   "execution_count": 31,
   "metadata": {},
   "outputs": [
    {
     "data": {
      "text/plain": [
       "RandomForestClassifier(max_depth=10, n_estimators=30, random_state=42)"
      ]
     },
     "execution_count": 31,
     "metadata": {},
     "output_type": "execute_result"
    }
   ],
   "source": [
    "features_upsampled, target_upsampled = upsample(features_train_80, target_train_80, repeat_forest_upsample)\n",
    "model_forest_upsample.fit(features_upsampled, target_upsampled)"
   ]
  },
  {
   "cell_type": "markdown",
   "metadata": {},
   "source": [
    "**Вывод**\n",
    "\n",
    "К лучшим моделям каждого вида (дерево, лес, регрессия) применены три варианта балансировки классов: аргумент class_weight, увеличение выборки положительных объектов и уменьшение выборки отрицательных объектов. Для дерева лучшим решением оказалась балансировка классов с помощью аргумента class_weight, но значение F1 осталось меньше 0,59. Для леса и для логистической регрессии лучше всего сработало увеличение выборки, но только лес показал F1 > 0,59."
   ]
  },
  {
   "cell_type": "code",
   "execution_count": 32,
   "metadata": {},
   "outputs": [
    {
     "data": {
      "text/html": [
       "<div>\n",
       "<style scoped>\n",
       "    .dataframe tbody tr th:only-of-type {\n",
       "        vertical-align: middle;\n",
       "    }\n",
       "\n",
       "    .dataframe tbody tr th {\n",
       "        vertical-align: top;\n",
       "    }\n",
       "\n",
       "    .dataframe thead th {\n",
       "        text-align: right;\n",
       "    }\n",
       "</style>\n",
       "<table border=\"1\" class=\"dataframe\">\n",
       "  <thead>\n",
       "    <tr style=\"text-align: right;\">\n",
       "      <th></th>\n",
       "      <th>f1_balanced</th>\n",
       "      <th>f1_upsample</th>\n",
       "      <th>f1_downsample</th>\n",
       "    </tr>\n",
       "    <tr>\n",
       "      <th>model</th>\n",
       "      <th></th>\n",
       "      <th></th>\n",
       "      <th></th>\n",
       "    </tr>\n",
       "  </thead>\n",
       "  <tbody>\n",
       "    <tr>\n",
       "      <th>DecisionTree</th>\n",
       "      <td>0.570</td>\n",
       "      <td>0.565</td>\n",
       "      <td>0.557</td>\n",
       "    </tr>\n",
       "    <tr>\n",
       "      <th>RandomForest</th>\n",
       "      <td>0.612</td>\n",
       "      <td>0.633</td>\n",
       "      <td>0.622</td>\n",
       "    </tr>\n",
       "    <tr>\n",
       "      <th>LogisticRegression</th>\n",
       "      <td>0.545</td>\n",
       "      <td>0.562</td>\n",
       "      <td>0.552</td>\n",
       "    </tr>\n",
       "  </tbody>\n",
       "</table>\n",
       "</div>"
      ],
      "text/plain": [
       "                    f1_balanced  f1_upsample  f1_downsample\n",
       "model                                                      \n",
       "DecisionTree              0.570        0.565          0.557\n",
       "RandomForest              0.612        0.633          0.622\n",
       "LogisticRegression        0.545        0.562          0.552"
      ]
     },
     "execution_count": 32,
     "metadata": {},
     "output_type": "execute_result"
    }
   ],
   "source": [
    "round(pd.DataFrame(\n",
    "    [['DecisionTree', f1_tree_balanced, f1_tree_upsample, f1_tree_downsample],\n",
    "     ['RandomForest', f1_forest_balanced, f1_forest_upsample, f1_forest_downsample],\n",
    "     ['LogisticRegression', f1_regression_balanced, f1_regression_upsample, f1_regression_downsample]\n",
    "    ],\n",
    "    columns = ['model', 'f1_balanced', 'f1_upsample', 'f1_downsample']\n",
    ").set_index('model'), 3)"
   ]
  },
  {
   "cell_type": "markdown",
   "metadata": {},
   "source": [
    "Для лучшей модели - модели случайного леса, обученной на увеличенной выборке, был исследован порог классификации для увеличения значения F1. Выяснилось, что наилучшим пороговым значением остаётся 0,5. \n",
    "\n",
    "Лучшая модель была переобучена на большей выборке: обучающей и валидационной вместе."
   ]
  },
  {
   "cell_type": "markdown",
   "metadata": {},
   "source": [
    "## Тестирование модели"
   ]
  },
  {
   "cell_type": "markdown",
   "metadata": {},
   "source": [
    "Проверим, даёт ли выбранная модель такие же хорошие результаты на тестовой выборке."
   ]
  },
  {
   "cell_type": "code",
   "execution_count": 33,
   "metadata": {},
   "outputs": [
    {
     "name": "stdout",
     "output_type": "stream",
     "text": [
      "F1 = 0.632\n",
      "AUC_ROC = 0.861\n"
     ]
    }
   ],
   "source": [
    "predictions_test = model_forest_upsample.predict(features_test)\n",
    "probabilities_one_test = model_forest_upsample.predict_proba(features_test)[:,1]\n",
    "\n",
    "print('F1 = {:.3f}'.format(f1_score(target_test, predictions_test)))\n",
    "print('AUC_ROC = {:.3f}'.format(roc_auc_score(target_test, probabilities_one_test)))"
   ]
  },
  {
   "cell_type": "markdown",
   "metadata": {},
   "source": [
    "Визуализируем результаты."
   ]
  },
  {
   "cell_type": "code",
   "execution_count": 34,
   "metadata": {},
   "outputs": [
    {
     "data": {
      "image/png": "[encoded data removed]",
      "text/plain": [
       "<Figure size 1080x864 with 2 Axes>"
      ]
     },
     "metadata": {},
     "output_type": "display_data"
    }
   ],
   "source": [
    "plt.figure(figsize=(15, 12))\n",
    "\n",
    "plt.subplot(221)\n",
    "precision, recall, thresholds = precision_recall_curve(target_test, probabilities_one_test)\n",
    "\n",
    "plt.step(recall, precision, where='post')\n",
    "plt.xlabel('Recall')\n",
    "plt.ylabel('Precision')\n",
    "plt.title('Кривая Precision-Recall')\n",
    "\n",
    "plt.subplot(222)\n",
    "fpr, tpr, thresholds = roc_curve(target_test, probabilities_one_test)\n",
    "\n",
    "plt.plot(fpr, tpr)\n",
    "plt.plot([0, 1], [0, 1], linestyle='--')\n",
    "plt.xlabel('False Positive Rate')\n",
    "plt.ylabel('True Positive Rate')\n",
    "plt.title('ROC-кривая')\n",
    "\n",
    "plt.show()"
   ]
  },
  {
   "cell_type": "markdown",
   "metadata": {},
   "source": [
    "Модель даёт хорошие результаты.\n",
    "\n",
    "**Вывод**\n",
    "\n",
    "Модель успешно прошла тест на тестовой выборке."
   ]
  },
  {
   "cell_type": "markdown",
   "metadata": {},
   "source": [
    "## Общий вывод"
   ]
  },
  {
   "cell_type": "markdown",
   "metadata": {},
   "source": [
    "В работе использован датасет с 10000 объектами. Признак Tenure, отражающий количество лет в качестве клиента банка, был заполнен не для все объектов - эти пропуски были заменены на медиану. Данные были разделены на признаки и целевой признак, а также поделены на обучающую, валидационную и тестовую выборки в соотношении 3:1:1. Категориальные данные преобразованны с помощью прямого кодирования, а численные параметры отмасштабированы.\n",
    "\n",
    "Без учёта дисбаланса были выбраны лучшие наборы гиперпараметров для моделей решающего дерева, случайного леса и логистической регрессии. В качестве основной метрики использовано значение F1, кроме того, была посчитана площадь под ROC-кривой.\n",
    "\n",
    "Применены три варианта балансировки классов: аргумент class_weight, увеличение выборки положительных объектов и уменьшение выборки отрицательных объектов. После чего была определена лучшая модель - случайный лес с количеством деревьев 30 и максимальной глубиной дерева 10, обученная на увеличенной выборке. \n",
    "\n",
    "Также был изучен порог классификации. Выяснилось, что значение по умолчанию (0,5) для модели даёт самое высокое значение F1 на валидационной выборке.\n",
    "\n",
    "После проведённого исследования лучшая модель была переобучена на совокупности данных из обучающей и валидационной выборок. Тестирование на тестовой выборке дало значение F1 = 0,63."
   ]
  },
  {
   "cell_type": "markdown",
   "metadata": {},
   "source": [
    "## Чек-лист готовности проекта"
   ]
  },
  {
   "cell_type": "markdown",
   "metadata": {},
   "source": [
    "Поставьте 'x' в выполненных пунктах. Далее нажмите Shift+Enter."
   ]
  },
  {
   "cell_type": "markdown",
   "metadata": {},
   "source": [
    "- [x]  Jupyter Notebook открыт\n",
    "- [x]  Весь код выполняется без ошибок\n",
    "- [x]  Ячейки с кодом расположены в порядке исполнения\n",
    "- [x]  Выполнен шаг 1: данные подготовлены\n",
    "- [x]  Выполнен шаг 2: задача исследована\n",
    "    - [x]  Исследован баланс классов\n",
    "    - [x]  Изучены модели без учёта дисбаланса\n",
    "    - [x]  Написаны выводы по результатам исследования\n",
    "- [x]  Выполнен шаг 3: учтён дисбаланс\n",
    "    - [x]  Применено несколько способов борьбы с дисбалансом\n",
    "    - [x]  Написаны выводы по результатам исследования\n",
    "- [x]  Выполнен шаг 4: проведено тестирование\n",
    "- [x]  Удалось достичь *F1*-меры не менее 0.59\n",
    "- [x]  Исследована метрика *AUC-ROC*"
   ]
  },
  {
   "cell_type": "code",
   "execution_count": null,
   "metadata": {},
   "outputs": [],
   "source": []
  }
 ],
 "metadata": {
  "ExecuteTimeLog": [
   {
    "duration": 1534,
    "start_time": "2021-07-02T11:53:23.976Z"
   },
   {
    "duration": 76,
    "start_time": "2021-07-02T11:54:07.731Z"
   },
   {
    "duration": 61,
    "start_time": "2021-07-02T11:58:33.834Z"
   },
   {
    "duration": 31,
    "start_time": "2021-07-02T12:00:21.009Z"
   },
   {
    "duration": 22,
    "start_time": "2021-07-02T12:01:11.012Z"
   },
   {
    "duration": 9,
    "start_time": "2021-07-02T12:02:24.520Z"
   },
   {
    "duration": 6,
    "start_time": "2021-07-02T12:02:55.148Z"
   },
   {
    "duration": 10,
    "start_time": "2021-07-02T12:03:14.276Z"
   },
   {
    "duration": 43,
    "start_time": "2021-07-02T12:05:01.480Z"
   },
   {
    "duration": 628,
    "start_time": "2021-07-02T12:57:15.096Z"
   },
   {
    "duration": 569,
    "start_time": "2021-07-02T12:58:20.886Z"
   },
   {
    "duration": 302,
    "start_time": "2021-07-02T12:58:49.792Z"
   },
   {
    "duration": 16,
    "start_time": "2021-07-02T13:35:44.378Z"
   },
   {
    "duration": 19,
    "start_time": "2021-07-02T13:35:51.146Z"
   },
   {
    "duration": 16,
    "start_time": "2021-07-02T13:36:41.490Z"
   },
   {
    "duration": 25,
    "start_time": "2021-07-02T13:37:08.327Z"
   },
   {
    "duration": 22,
    "start_time": "2021-07-02T13:37:28.759Z"
   },
   {
    "duration": 26,
    "start_time": "2021-07-02T13:38:17.540Z"
   },
   {
    "duration": 13,
    "start_time": "2021-07-02T13:38:34.089Z"
   },
   {
    "duration": 16,
    "start_time": "2021-07-02T13:38:43.112Z"
   },
   {
    "duration": 24,
    "start_time": "2021-07-02T13:39:02.976Z"
   },
   {
    "duration": 423,
    "start_time": "2021-07-02T13:39:58.503Z"
   },
   {
    "duration": 59,
    "start_time": "2021-07-02T13:40:14.408Z"
   },
   {
    "duration": 396,
    "start_time": "2021-07-02T13:40:17.400Z"
   },
   {
    "duration": 311,
    "start_time": "2021-07-02T13:41:08.205Z"
   },
   {
    "duration": 82,
    "start_time": "2021-07-02T13:42:07.837Z"
   },
   {
    "duration": 328,
    "start_time": "2021-07-02T13:42:11.109Z"
   },
   {
    "duration": 339,
    "start_time": "2021-07-02T13:42:20.071Z"
   },
   {
    "duration": 65,
    "start_time": "2021-07-02T13:42:57.808Z"
   },
   {
    "duration": 318,
    "start_time": "2021-07-02T13:43:01.892Z"
   },
   {
    "duration": 69,
    "start_time": "2021-07-02T13:43:16.642Z"
   },
   {
    "duration": 412,
    "start_time": "2021-07-02T13:43:21.179Z"
   },
   {
    "duration": 341,
    "start_time": "2021-07-02T13:43:23.410Z"
   },
   {
    "duration": 57,
    "start_time": "2021-07-02T13:47:33.891Z"
   },
   {
    "duration": 870,
    "start_time": "2021-07-02T13:47:42.954Z"
   },
   {
    "duration": 60,
    "start_time": "2021-07-02T13:48:01.963Z"
   },
   {
    "duration": 359,
    "start_time": "2021-07-02T13:48:04.785Z"
   },
   {
    "duration": 65,
    "start_time": "2021-07-02T13:48:58.560Z"
   },
   {
    "duration": 850,
    "start_time": "2021-07-02T13:49:01.968Z"
   },
   {
    "duration": 8,
    "start_time": "2021-07-02T13:49:22.838Z"
   },
   {
    "duration": 56,
    "start_time": "2021-07-02T13:49:25.777Z"
   },
   {
    "duration": 347,
    "start_time": "2021-07-02T13:49:29.038Z"
   },
   {
    "duration": 88,
    "start_time": "2021-07-02T13:49:58.590Z"
   },
   {
    "duration": 341,
    "start_time": "2021-07-02T13:50:01.317Z"
   },
   {
    "duration": 67,
    "start_time": "2021-07-02T13:50:21.029Z"
   },
   {
    "duration": 812,
    "start_time": "2021-07-02T13:50:23.527Z"
   },
   {
    "duration": 59,
    "start_time": "2021-07-02T13:53:08.194Z"
   },
   {
    "duration": 376,
    "start_time": "2021-07-02T13:53:10.944Z"
   },
   {
    "duration": 1105,
    "start_time": "2021-07-03T07:38:40.751Z"
   },
   {
    "duration": 47,
    "start_time": "2021-07-03T07:40:03.134Z"
   },
   {
    "duration": 269,
    "start_time": "2021-07-03T08:02:14.369Z"
   },
   {
    "duration": 3,
    "start_time": "2021-07-03T08:02:56.346Z"
   },
   {
    "duration": 586,
    "start_time": "2021-07-03T08:03:00.700Z"
   },
   {
    "duration": 43,
    "start_time": "2021-07-03T08:03:21.049Z"
   },
   {
    "duration": 437,
    "start_time": "2021-07-03T08:03:24.280Z"
   },
   {
    "duration": 43,
    "start_time": "2021-07-03T08:04:49.328Z"
   },
   {
    "duration": 606,
    "start_time": "2021-07-03T08:04:52.268Z"
   },
   {
    "duration": 43,
    "start_time": "2021-07-03T08:06:31.986Z"
   },
   {
    "duration": 537,
    "start_time": "2021-07-03T08:06:36.052Z"
   },
   {
    "duration": 3,
    "start_time": "2021-07-03T08:08:22.017Z"
   },
   {
    "duration": 45,
    "start_time": "2021-07-03T08:08:27.818Z"
   },
   {
    "duration": 710,
    "start_time": "2021-07-03T08:08:31.659Z"
   },
   {
    "duration": 42,
    "start_time": "2021-07-03T08:13:18.141Z"
   },
   {
    "duration": 544,
    "start_time": "2021-07-03T08:13:22.199Z"
   },
   {
    "duration": 40,
    "start_time": "2021-07-03T08:13:56.909Z"
   },
   {
    "duration": 550,
    "start_time": "2021-07-03T08:14:00.674Z"
   },
   {
    "duration": 43,
    "start_time": "2021-07-03T08:14:49.751Z"
   },
   {
    "duration": 593,
    "start_time": "2021-07-03T08:15:25.894Z"
   },
   {
    "duration": 310,
    "start_time": "2021-07-03T08:21:22.353Z"
   },
   {
    "duration": 937,
    "start_time": "2021-07-03T08:23:26.419Z"
   },
   {
    "duration": 406,
    "start_time": "2021-07-03T08:24:01.903Z"
   },
   {
    "duration": 282,
    "start_time": "2021-07-03T08:24:45.857Z"
   },
   {
    "duration": 500,
    "start_time": "2021-07-03T08:26:15.409Z"
   },
   {
    "duration": 267,
    "start_time": "2021-07-03T08:26:59.149Z"
   },
   {
    "duration": 509,
    "start_time": "2021-07-03T08:28:01.352Z"
   },
   {
    "duration": 500,
    "start_time": "2021-07-03T08:28:15.245Z"
   },
   {
    "duration": 243,
    "start_time": "2021-07-03T08:28:26.925Z"
   },
   {
    "duration": 267,
    "start_time": "2021-07-03T08:31:40.212Z"
   },
   {
    "duration": 7,
    "start_time": "2021-07-03T08:35:11.225Z"
   },
   {
    "duration": 248,
    "start_time": "2021-07-03T08:35:58.381Z"
   },
   {
    "duration": 243,
    "start_time": "2021-07-03T08:36:36.878Z"
   },
   {
    "duration": 246,
    "start_time": "2021-07-03T08:37:06.252Z"
   },
   {
    "duration": 259,
    "start_time": "2021-07-03T08:37:36.221Z"
   },
   {
    "duration": 44,
    "start_time": "2021-07-03T08:39:24.538Z"
   },
   {
    "duration": 857,
    "start_time": "2021-07-03T08:39:29.035Z"
   },
   {
    "duration": 41,
    "start_time": "2021-07-03T08:41:57.552Z"
   },
   {
    "duration": 586,
    "start_time": "2021-07-03T08:42:01.262Z"
   },
   {
    "duration": 43,
    "start_time": "2021-07-03T08:52:23.794Z"
   },
   {
    "duration": 604,
    "start_time": "2021-07-03T08:52:28.504Z"
   },
   {
    "duration": 277,
    "start_time": "2021-07-03T08:53:02.409Z"
   },
   {
    "duration": 40,
    "start_time": "2021-07-03T08:53:57.395Z"
   },
   {
    "duration": 616,
    "start_time": "2021-07-03T08:54:00.778Z"
   },
   {
    "duration": 42,
    "start_time": "2021-07-03T08:54:15.384Z"
   },
   {
    "duration": 617,
    "start_time": "2021-07-03T08:54:19.419Z"
   },
   {
    "duration": 3,
    "start_time": "2021-07-03T08:56:46.669Z"
   },
   {
    "duration": 689,
    "start_time": "2021-07-03T08:56:50.171Z"
   },
   {
    "duration": 1120,
    "start_time": "2021-07-03T08:57:07.859Z"
   },
   {
    "duration": 46,
    "start_time": "2021-07-03T08:57:08.981Z"
   },
   {
    "duration": 616,
    "start_time": "2021-07-03T08:57:09.029Z"
   },
   {
    "duration": 291,
    "start_time": "2021-07-03T08:57:09.647Z"
   },
   {
    "duration": 46,
    "start_time": "2021-07-03T08:58:16.567Z"
   },
   {
    "duration": 632,
    "start_time": "2021-07-03T08:58:19.682Z"
   },
   {
    "duration": 46,
    "start_time": "2021-07-03T09:00:20.543Z"
   },
   {
    "duration": 16,
    "start_time": "2021-07-03T09:00:23.784Z"
   },
   {
    "duration": 682,
    "start_time": "2021-07-03T09:00:29.947Z"
   },
   {
    "duration": 15,
    "start_time": "2021-07-03T09:00:51.999Z"
   },
   {
    "duration": 4,
    "start_time": "2021-07-03T09:02:38.426Z"
   },
   {
    "duration": 7,
    "start_time": "2021-07-03T09:05:20.010Z"
   },
   {
    "duration": 6,
    "start_time": "2021-07-03T09:05:54.267Z"
   },
   {
    "duration": 11,
    "start_time": "2021-07-03T09:07:42.529Z"
   },
   {
    "duration": 443,
    "start_time": "2021-07-03T11:43:46.558Z"
   },
   {
    "duration": 1514,
    "start_time": "2021-07-03T11:43:53.113Z"
   },
   {
    "duration": 61,
    "start_time": "2021-07-03T11:43:54.630Z"
   },
   {
    "duration": 18,
    "start_time": "2021-07-03T11:43:54.694Z"
   },
   {
    "duration": 1007,
    "start_time": "2021-07-03T11:43:54.715Z"
   },
   {
    "duration": 18,
    "start_time": "2021-07-03T11:43:55.725Z"
   },
   {
    "duration": 644,
    "start_time": "2021-07-03T11:43:55.745Z"
   },
   {
    "duration": 6,
    "start_time": "2021-07-03T11:43:56.393Z"
   },
   {
    "duration": 27,
    "start_time": "2021-07-03T11:43:56.402Z"
   },
   {
    "duration": 29,
    "start_time": "2021-07-03T11:43:56.433Z"
   },
   {
    "duration": 22,
    "start_time": "2021-07-03T11:43:56.466Z"
   },
   {
    "duration": 10,
    "start_time": "2021-07-03T11:43:56.492Z"
   },
   {
    "duration": 10,
    "start_time": "2021-07-03T11:48:10.962Z"
   },
   {
    "duration": 41,
    "start_time": "2021-07-03T11:53:59.026Z"
   },
   {
    "duration": 5,
    "start_time": "2021-07-03T12:33:05.207Z"
   },
   {
    "duration": 6,
    "start_time": "2021-07-03T12:33:18.392Z"
   },
   {
    "duration": 41,
    "start_time": "2021-07-03T12:36:25.042Z"
   },
   {
    "duration": 5,
    "start_time": "2021-07-03T12:42:16.765Z"
   },
   {
    "duration": 63,
    "start_time": "2021-07-03T12:42:16.773Z"
   },
   {
    "duration": 33,
    "start_time": "2021-07-03T12:42:16.839Z"
   },
   {
    "duration": 1037,
    "start_time": "2021-07-03T12:42:16.874Z"
   },
   {
    "duration": 20,
    "start_time": "2021-07-03T12:42:17.913Z"
   },
   {
    "duration": 549,
    "start_time": "2021-07-03T12:42:17.935Z"
   },
   {
    "duration": 6,
    "start_time": "2021-07-03T12:42:18.486Z"
   },
   {
    "duration": 11,
    "start_time": "2021-07-03T12:42:18.495Z"
   },
   {
    "duration": 10,
    "start_time": "2021-07-03T12:42:18.510Z"
   },
   {
    "duration": 17,
    "start_time": "2021-07-03T12:42:18.562Z"
   },
   {
    "duration": 7,
    "start_time": "2021-07-03T12:42:18.582Z"
   },
   {
    "duration": 9,
    "start_time": "2021-07-03T12:42:18.591Z"
   },
   {
    "duration": 78,
    "start_time": "2021-07-03T12:42:18.602Z"
   },
   {
    "duration": 789,
    "start_time": "2021-07-03T12:44:44.493Z"
   },
   {
    "duration": 558,
    "start_time": "2021-07-03T12:44:58.071Z"
   },
   {
    "duration": 20,
    "start_time": "2021-07-03T12:45:28.906Z"
   },
   {
    "duration": 9074,
    "start_time": "2021-07-03T12:45:47.559Z"
   },
   {
    "duration": 17,
    "start_time": "2021-07-03T12:45:58.358Z"
   },
   {
    "duration": 6,
    "start_time": "2021-07-03T12:47:24.767Z"
   },
   {
    "duration": 18,
    "start_time": "2021-07-03T12:49:06.766Z"
   },
   {
    "duration": 907,
    "start_time": "2021-07-03T12:50:42.903Z"
   },
   {
    "duration": 7,
    "start_time": "2021-07-03T12:53:14.248Z"
   },
   {
    "duration": 10,
    "start_time": "2021-07-03T12:53:22.020Z"
   },
   {
    "duration": 323,
    "start_time": "2021-07-03T12:53:41.968Z"
   },
   {
    "duration": 359,
    "start_time": "2021-07-03T12:53:47.716Z"
   },
   {
    "duration": 7,
    "start_time": "2021-07-03T12:53:52.970Z"
   },
   {
    "duration": 6,
    "start_time": "2021-07-03T12:54:01.442Z"
   },
   {
    "duration": 6,
    "start_time": "2021-07-03T12:55:21.441Z"
   },
   {
    "duration": 923,
    "start_time": "2021-07-03T12:55:47.648Z"
   },
   {
    "duration": 1151,
    "start_time": "2021-07-03T12:56:24.392Z"
   },
   {
    "duration": 18,
    "start_time": "2021-07-03T12:57:19.208Z"
   },
   {
    "duration": 15,
    "start_time": "2021-07-03T12:57:32.472Z"
   },
   {
    "duration": 898,
    "start_time": "2021-07-03T12:58:04.642Z"
   },
   {
    "duration": 930,
    "start_time": "2021-07-03T12:59:11.379Z"
   },
   {
    "duration": 5,
    "start_time": "2021-07-03T12:59:30.941Z"
   },
   {
    "duration": 944,
    "start_time": "2021-07-03T12:59:36.714Z"
   },
   {
    "duration": 16,
    "start_time": "2021-07-03T13:01:10.288Z"
   },
   {
    "duration": 17,
    "start_time": "2021-07-03T13:01:17.386Z"
   },
   {
    "duration": 17,
    "start_time": "2021-07-03T13:01:30.076Z"
   },
   {
    "duration": 19,
    "start_time": "2021-07-03T13:02:02.183Z"
   },
   {
    "duration": 6,
    "start_time": "2021-07-03T13:02:15.241Z"
   },
   {
    "duration": 944,
    "start_time": "2021-07-03T13:02:20.020Z"
   },
   {
    "duration": 1022,
    "start_time": "2021-07-03T13:02:36.368Z"
   },
   {
    "duration": 524,
    "start_time": "2021-07-03T13:03:29.795Z"
   },
   {
    "duration": 6,
    "start_time": "2021-07-03T13:04:57.877Z"
   },
   {
    "duration": 608,
    "start_time": "2021-07-03T13:06:15.925Z"
   },
   {
    "duration": 525,
    "start_time": "2021-07-03T13:06:26.478Z"
   },
   {
    "duration": 524,
    "start_time": "2021-07-03T13:07:54.800Z"
   },
   {
    "duration": 532,
    "start_time": "2021-07-03T13:08:35.157Z"
   },
   {
    "duration": 539,
    "start_time": "2021-07-03T13:10:13.067Z"
   },
   {
    "duration": 1202,
    "start_time": "2021-07-03T13:11:40.898Z"
   },
   {
    "duration": 12,
    "start_time": "2021-07-03T13:12:28.616Z"
   },
   {
    "duration": 197,
    "start_time": "2021-07-03T13:26:48.480Z"
   },
   {
    "duration": 463,
    "start_time": "2021-07-03T13:27:32.579Z"
   },
   {
    "duration": 524,
    "start_time": "2021-07-03T13:28:55.393Z"
   },
   {
    "duration": 1946,
    "start_time": "2021-07-03T13:31:39.029Z"
   },
   {
    "duration": 1953,
    "start_time": "2021-07-03T13:33:21.564Z"
   },
   {
    "duration": 1841,
    "start_time": "2021-07-03T13:36:24.221Z"
   },
   {
    "duration": 2468,
    "start_time": "2021-07-03T13:38:48.894Z"
   },
   {
    "duration": 3859,
    "start_time": "2021-07-03T13:39:12.626Z"
   },
   {
    "duration": 2335,
    "start_time": "2021-07-03T13:40:12.432Z"
   },
   {
    "duration": 19,
    "start_time": "2021-07-03T13:43:02.746Z"
   },
   {
    "duration": 2884,
    "start_time": "2021-07-03T13:46:58.563Z"
   },
   {
    "duration": 3734,
    "start_time": "2021-07-03T13:52:52.575Z"
   },
   {
    "duration": 6,
    "start_time": "2021-07-03T13:57:04.575Z"
   },
   {
    "duration": 11,
    "start_time": "2021-07-03T13:57:25.341Z"
   },
   {
    "duration": 12,
    "start_time": "2021-07-03T13:58:11.164Z"
   },
   {
    "duration": 32,
    "start_time": "2021-07-03T13:58:34.092Z"
   },
   {
    "duration": 4,
    "start_time": "2021-07-03T14:02:56.839Z"
   },
   {
    "duration": 19,
    "start_time": "2021-07-03T14:03:15.981Z"
   },
   {
    "duration": 59,
    "start_time": "2021-07-03T14:08:39.115Z"
   },
   {
    "duration": 401,
    "start_time": "2021-07-03T14:09:14.498Z"
   },
   {
    "duration": 396,
    "start_time": "2021-07-03T14:09:29.595Z"
   },
   {
    "duration": 44,
    "start_time": "2021-07-03T14:09:37.673Z"
   },
   {
    "duration": 314,
    "start_time": "2021-07-03T14:12:22.737Z"
   },
   {
    "duration": 43,
    "start_time": "2021-07-03T14:12:49.343Z"
   },
   {
    "duration": 1778,
    "start_time": "2021-07-03T14:17:32.490Z"
   },
   {
    "duration": 66,
    "start_time": "2021-07-03T14:17:34.271Z"
   },
   {
    "duration": 34,
    "start_time": "2021-07-03T14:17:34.344Z"
   },
   {
    "duration": 1073,
    "start_time": "2021-07-03T14:17:34.381Z"
   },
   {
    "duration": 23,
    "start_time": "2021-07-03T14:17:35.456Z"
   },
   {
    "duration": 474,
    "start_time": "2021-07-03T14:17:35.481Z"
   },
   {
    "duration": 5,
    "start_time": "2021-07-03T14:17:35.958Z"
   },
   {
    "duration": 18,
    "start_time": "2021-07-03T14:17:35.967Z"
   },
   {
    "duration": 14,
    "start_time": "2021-07-03T14:17:35.988Z"
   },
   {
    "duration": 23,
    "start_time": "2021-07-03T14:17:36.004Z"
   },
   {
    "duration": 37,
    "start_time": "2021-07-03T14:17:36.029Z"
   },
   {
    "duration": 23,
    "start_time": "2021-07-03T14:17:36.068Z"
   },
   {
    "duration": 35,
    "start_time": "2021-07-03T14:17:36.094Z"
   },
   {
    "duration": 2492,
    "start_time": "2021-07-03T14:17:36.132Z"
   },
   {
    "duration": 5,
    "start_time": "2021-07-03T14:17:38.627Z"
   },
   {
    "duration": 68,
    "start_time": "2021-07-03T14:17:38.635Z"
   },
   {
    "duration": 5,
    "start_time": "2021-07-03T14:17:38.706Z"
   },
   {
    "duration": 19,
    "start_time": "2021-07-03T14:17:38.713Z"
   },
   {
    "duration": 47,
    "start_time": "2021-07-03T14:17:38.761Z"
   },
   {
    "duration": 1747,
    "start_time": "2021-07-03T15:03:58.442Z"
   },
   {
    "duration": 63,
    "start_time": "2021-07-03T15:04:00.192Z"
   },
   {
    "duration": 21,
    "start_time": "2021-07-03T15:04:00.265Z"
   },
   {
    "duration": 1091,
    "start_time": "2021-07-03T15:04:00.289Z"
   },
   {
    "duration": 21,
    "start_time": "2021-07-03T15:04:01.383Z"
   },
   {
    "duration": 484,
    "start_time": "2021-07-03T15:04:01.407Z"
   },
   {
    "duration": 6,
    "start_time": "2021-07-03T15:04:01.894Z"
   },
   {
    "duration": 22,
    "start_time": "2021-07-03T15:04:01.903Z"
   },
   {
    "duration": 33,
    "start_time": "2021-07-03T15:04:01.929Z"
   },
   {
    "duration": 23,
    "start_time": "2021-07-03T15:04:01.966Z"
   },
   {
    "duration": 13,
    "start_time": "2021-07-03T15:04:01.992Z"
   },
   {
    "duration": 23,
    "start_time": "2021-07-03T15:04:02.008Z"
   },
   {
    "duration": 62,
    "start_time": "2021-07-03T15:04:02.035Z"
   },
   {
    "duration": 3936,
    "start_time": "2021-07-03T15:04:02.101Z"
   },
   {
    "duration": 4,
    "start_time": "2021-07-03T15:04:06.039Z"
   },
   {
    "duration": 33,
    "start_time": "2021-07-03T15:04:06.061Z"
   },
   {
    "duration": 3,
    "start_time": "2021-07-03T15:04:06.097Z"
   },
   {
    "duration": 60,
    "start_time": "2021-07-03T15:04:06.102Z"
   },
   {
    "duration": 47,
    "start_time": "2021-07-03T15:04:06.165Z"
   },
   {
    "duration": 6,
    "start_time": "2021-07-03T15:04:14.711Z"
   },
   {
    "duration": 219,
    "start_time": "2021-07-03T18:33:05.349Z"
   },
   {
    "duration": 1298,
    "start_time": "2021-07-03T18:33:12.252Z"
   },
   {
    "duration": 47,
    "start_time": "2021-07-03T18:33:13.552Z"
   },
   {
    "duration": 13,
    "start_time": "2021-07-03T18:33:13.601Z"
   },
   {
    "duration": 689,
    "start_time": "2021-07-03T18:33:13.615Z"
   },
   {
    "duration": 13,
    "start_time": "2021-07-03T18:33:14.306Z"
   },
   {
    "duration": 292,
    "start_time": "2021-07-03T18:33:14.321Z"
   },
   {
    "duration": 3,
    "start_time": "2021-07-03T18:33:14.615Z"
   },
   {
    "duration": 8,
    "start_time": "2021-07-03T18:33:14.620Z"
   },
   {
    "duration": 6,
    "start_time": "2021-07-03T18:33:14.631Z"
   },
   {
    "duration": 11,
    "start_time": "2021-07-03T18:33:14.639Z"
   },
   {
    "duration": 34,
    "start_time": "2021-07-03T18:33:14.652Z"
   },
   {
    "duration": 6,
    "start_time": "2021-07-03T18:33:14.688Z"
   },
   {
    "duration": 18,
    "start_time": "2021-07-03T18:33:14.696Z"
   },
   {
    "duration": 1624,
    "start_time": "2021-07-03T18:33:14.715Z"
   },
   {
    "duration": 4,
    "start_time": "2021-07-03T18:33:16.341Z"
   },
   {
    "duration": 40,
    "start_time": "2021-07-03T18:33:16.346Z"
   },
   {
    "duration": 3,
    "start_time": "2021-07-03T18:33:16.387Z"
   },
   {
    "duration": 14,
    "start_time": "2021-07-03T18:33:16.392Z"
   },
   {
    "duration": 29,
    "start_time": "2021-07-03T18:33:16.407Z"
   },
   {
    "duration": 3,
    "start_time": "2021-07-03T18:33:16.438Z"
   },
   {
    "duration": 220,
    "start_time": "2021-07-03T18:33:16.443Z"
   },
   {
    "duration": 131,
    "start_time": "2021-07-03T18:34:41.976Z"
   },
   {
    "duration": 246,
    "start_time": "2021-07-03T18:35:04.870Z"
   },
   {
    "duration": 261,
    "start_time": "2021-07-03T18:36:38.440Z"
   },
   {
    "duration": 280,
    "start_time": "2021-07-03T18:36:47.280Z"
   },
   {
    "duration": 231,
    "start_time": "2021-07-03T18:37:05.775Z"
   },
   {
    "duration": 1495,
    "start_time": "2021-07-03T19:57:36.851Z"
   },
   {
    "duration": 61,
    "start_time": "2021-07-03T19:57:38.348Z"
   },
   {
    "duration": 17,
    "start_time": "2021-07-03T19:57:38.412Z"
   },
   {
    "duration": 803,
    "start_time": "2021-07-03T19:57:38.431Z"
   },
   {
    "duration": 16,
    "start_time": "2021-07-03T19:57:39.236Z"
   },
   {
    "duration": 309,
    "start_time": "2021-07-03T19:57:39.254Z"
   },
   {
    "duration": 5,
    "start_time": "2021-07-03T19:57:39.565Z"
   },
   {
    "duration": 19,
    "start_time": "2021-07-03T19:57:39.571Z"
   },
   {
    "duration": 6,
    "start_time": "2021-07-03T19:57:39.593Z"
   },
   {
    "duration": 14,
    "start_time": "2021-07-03T19:57:39.601Z"
   },
   {
    "duration": 5,
    "start_time": "2021-07-03T19:57:39.617Z"
   },
   {
    "duration": 7,
    "start_time": "2021-07-03T19:57:39.624Z"
   },
   {
    "duration": 53,
    "start_time": "2021-07-03T19:57:39.633Z"
   },
   {
    "duration": 1616,
    "start_time": "2021-07-03T19:57:39.688Z"
   },
   {
    "duration": 4,
    "start_time": "2021-07-03T19:57:41.305Z"
   },
   {
    "duration": 26,
    "start_time": "2021-07-03T19:57:41.311Z"
   },
   {
    "duration": 2,
    "start_time": "2021-07-03T19:57:41.339Z"
   },
   {
    "duration": 13,
    "start_time": "2021-07-03T19:57:41.343Z"
   },
   {
    "duration": 30,
    "start_time": "2021-07-03T19:57:41.385Z"
   },
   {
    "duration": 4,
    "start_time": "2021-07-03T19:57:41.417Z"
   },
   {
    "duration": 255,
    "start_time": "2021-07-03T19:57:41.422Z"
   },
   {
    "duration": 438,
    "start_time": "2021-07-03T19:57:41.678Z"
   },
   {
    "duration": 23698,
    "start_time": "2021-07-03T19:58:15.490Z"
   },
   {
    "duration": 12905,
    "start_time": "2021-07-03T20:00:13.098Z"
   },
   {
    "duration": 178,
    "start_time": "2021-07-03T20:02:48.913Z"
   },
   {
    "duration": 177,
    "start_time": "2021-07-03T20:03:02.186Z"
   },
   {
    "duration": 2056,
    "start_time": "2021-07-04T06:57:43.267Z"
   },
   {
    "duration": 67,
    "start_time": "2021-07-04T06:57:45.326Z"
   },
   {
    "duration": 19,
    "start_time": "2021-07-04T06:57:45.396Z"
   },
   {
    "duration": 1068,
    "start_time": "2021-07-04T06:57:45.418Z"
   },
   {
    "duration": 25,
    "start_time": "2021-07-04T06:57:46.489Z"
   },
   {
    "duration": 464,
    "start_time": "2021-07-04T06:57:46.517Z"
   },
   {
    "duration": 6,
    "start_time": "2021-07-04T06:57:46.986Z"
   },
   {
    "duration": 15,
    "start_time": "2021-07-04T06:57:46.996Z"
   },
   {
    "duration": 13,
    "start_time": "2021-07-04T06:57:47.014Z"
   },
   {
    "duration": 57,
    "start_time": "2021-07-04T06:57:47.029Z"
   },
   {
    "duration": 8,
    "start_time": "2021-07-04T06:57:47.088Z"
   },
   {
    "duration": 13,
    "start_time": "2021-07-04T06:57:47.099Z"
   },
   {
    "duration": 34,
    "start_time": "2021-07-04T06:57:47.115Z"
   },
   {
    "duration": 2507,
    "start_time": "2021-07-04T06:57:47.151Z"
   },
   {
    "duration": 5,
    "start_time": "2021-07-04T06:57:49.661Z"
   },
   {
    "duration": 46,
    "start_time": "2021-07-04T06:57:49.669Z"
   },
   {
    "duration": 4,
    "start_time": "2021-07-04T06:57:49.717Z"
   },
   {
    "duration": 19,
    "start_time": "2021-07-04T06:57:49.723Z"
   },
   {
    "duration": 1702,
    "start_time": "2021-07-04T06:59:15.194Z"
   },
   {
    "duration": 65,
    "start_time": "2021-07-04T06:59:16.899Z"
   },
   {
    "duration": 27,
    "start_time": "2021-07-04T06:59:16.967Z"
   },
   {
    "duration": 1035,
    "start_time": "2021-07-04T06:59:16.997Z"
   },
   {
    "duration": 17,
    "start_time": "2021-07-04T06:59:18.035Z"
   },
   {
    "duration": 468,
    "start_time": "2021-07-04T06:59:18.055Z"
   },
   {
    "duration": 6,
    "start_time": "2021-07-04T06:59:18.526Z"
   },
   {
    "duration": 15,
    "start_time": "2021-07-04T06:59:18.535Z"
   },
   {
    "duration": 40,
    "start_time": "2021-07-04T06:59:18.556Z"
   },
   {
    "duration": 22,
    "start_time": "2021-07-04T06:59:18.601Z"
   },
   {
    "duration": 10,
    "start_time": "2021-07-04T06:59:18.626Z"
   },
   {
    "duration": 47,
    "start_time": "2021-07-04T06:59:18.639Z"
   },
   {
    "duration": 42,
    "start_time": "2021-07-04T06:59:18.689Z"
   },
   {
    "duration": 3186,
    "start_time": "2021-07-04T06:59:18.734Z"
   },
   {
    "duration": 6,
    "start_time": "2021-07-04T06:59:21.922Z"
   },
   {
    "duration": 63,
    "start_time": "2021-07-04T06:59:21.930Z"
   },
   {
    "duration": 4,
    "start_time": "2021-07-04T06:59:21.996Z"
   },
   {
    "duration": 22,
    "start_time": "2021-07-04T06:59:22.002Z"
   },
   {
    "duration": 70,
    "start_time": "2021-07-04T06:59:22.027Z"
   },
   {
    "duration": 5,
    "start_time": "2021-07-04T06:59:22.100Z"
   },
   {
    "duration": 480,
    "start_time": "2021-07-04T06:59:22.107Z"
   },
   {
    "duration": 48912,
    "start_time": "2021-07-04T06:59:22.590Z"
   },
   {
    "duration": 19505,
    "start_time": "2021-07-04T07:00:11.504Z"
   },
   {
    "duration": 267,
    "start_time": "2021-07-04T07:00:31.012Z"
   },
   {
    "duration": 9902,
    "start_time": "2021-07-04T07:18:27.873Z"
   },
   {
    "duration": 6,
    "start_time": "2021-07-04T07:18:51.173Z"
   },
   {
    "duration": 80,
    "start_time": "2021-07-04T07:18:51.182Z"
   },
   {
    "duration": 25,
    "start_time": "2021-07-04T07:18:51.265Z"
   },
   {
    "duration": 1454,
    "start_time": "2021-07-04T07:18:51.294Z"
   },
   {
    "duration": 20,
    "start_time": "2021-07-04T07:18:52.750Z"
   },
   {
    "duration": 657,
    "start_time": "2021-07-04T07:18:52.772Z"
   },
   {
    "duration": 6,
    "start_time": "2021-07-04T07:18:53.431Z"
   },
   {
    "duration": 14,
    "start_time": "2021-07-04T07:18:53.440Z"
   },
   {
    "duration": 12,
    "start_time": "2021-07-04T07:18:53.484Z"
   },
   {
    "duration": 23,
    "start_time": "2021-07-04T07:18:53.500Z"
   },
   {
    "duration": 9,
    "start_time": "2021-07-04T07:18:53.527Z"
   },
   {
    "duration": 51,
    "start_time": "2021-07-04T07:18:53.539Z"
   },
   {
    "duration": 40,
    "start_time": "2021-07-04T07:18:53.593Z"
   },
   {
    "duration": 3192,
    "start_time": "2021-07-04T07:18:53.636Z"
   },
   {
    "duration": 2728,
    "start_time": "2021-07-04T07:19:08.373Z"
   },
   {
    "duration": 2615,
    "start_time": "2021-07-04T07:19:21.839Z"
   },
   {
    "duration": 2646,
    "start_time": "2021-07-04T07:19:29.691Z"
   },
   {
    "duration": 2580,
    "start_time": "2021-07-04T07:19:51.214Z"
   },
   {
    "duration": 234,
    "start_time": "2021-07-04T07:21:09.752Z"
   },
   {
    "duration": 673,
    "start_time": "2021-07-04T07:21:15.501Z"
   },
   {
    "duration": 865,
    "start_time": "2021-07-04T07:21:24.692Z"
   },
   {
    "duration": 2705,
    "start_time": "2021-07-04T07:22:41.946Z"
   },
   {
    "duration": 2631,
    "start_time": "2021-07-04T07:22:50.789Z"
   },
   {
    "duration": 2659,
    "start_time": "2021-07-04T07:23:00.284Z"
   },
   {
    "duration": 2750,
    "start_time": "2021-07-04T07:23:44.756Z"
   },
   {
    "duration": 2785,
    "start_time": "2021-07-04T07:24:11.364Z"
   },
   {
    "duration": 2929,
    "start_time": "2021-07-04T07:24:24.942Z"
   },
   {
    "duration": 2765,
    "start_time": "2021-07-04T07:24:53.437Z"
   },
   {
    "duration": 6,
    "start_time": "2021-07-04T07:26:32.347Z"
   },
   {
    "duration": 76,
    "start_time": "2021-07-04T07:26:32.355Z"
   },
   {
    "duration": 19,
    "start_time": "2021-07-04T07:26:32.435Z"
   },
   {
    "duration": 983,
    "start_time": "2021-07-04T07:26:32.457Z"
   },
   {
    "duration": 19,
    "start_time": "2021-07-04T07:26:33.443Z"
   },
   {
    "duration": 444,
    "start_time": "2021-07-04T07:26:33.485Z"
   },
   {
    "duration": 5,
    "start_time": "2021-07-04T07:26:33.932Z"
   },
   {
    "duration": 14,
    "start_time": "2021-07-04T07:26:33.939Z"
   },
   {
    "duration": 30,
    "start_time": "2021-07-04T07:26:33.958Z"
   },
   {
    "duration": 26,
    "start_time": "2021-07-04T07:26:33.991Z"
   },
   {
    "duration": 9,
    "start_time": "2021-07-04T07:26:34.020Z"
   },
   {
    "duration": 15,
    "start_time": "2021-07-04T07:26:34.032Z"
   },
   {
    "duration": 65,
    "start_time": "2021-07-04T07:26:34.050Z"
   },
   {
    "duration": 2611,
    "start_time": "2021-07-04T07:26:34.118Z"
   },
   {
    "duration": 5,
    "start_time": "2021-07-04T07:26:36.731Z"
   },
   {
    "duration": 56,
    "start_time": "2021-07-04T07:26:36.738Z"
   },
   {
    "duration": 3,
    "start_time": "2021-07-04T07:26:36.797Z"
   },
   {
    "duration": 24,
    "start_time": "2021-07-04T07:26:36.803Z"
   },
   {
    "duration": 374,
    "start_time": "2021-07-04T07:26:36.830Z"
   },
   {
    "duration": 30,
    "start_time": "2021-07-04T07:26:37.177Z"
   },
   {
    "duration": 23,
    "start_time": "2021-07-04T07:26:37.185Z"
   },
   {
    "duration": 6,
    "start_time": "2021-07-04T07:27:38.110Z"
   },
   {
    "duration": 65,
    "start_time": "2021-07-04T07:27:38.120Z"
   },
   {
    "duration": 21,
    "start_time": "2021-07-04T07:27:38.189Z"
   },
   {
    "duration": 998,
    "start_time": "2021-07-04T07:27:38.213Z"
   },
   {
    "duration": 19,
    "start_time": "2021-07-04T07:27:39.214Z"
   },
   {
    "duration": 466,
    "start_time": "2021-07-04T07:27:39.236Z"
   },
   {
    "duration": 6,
    "start_time": "2021-07-04T07:27:39.706Z"
   },
   {
    "duration": 12,
    "start_time": "2021-07-04T07:27:39.715Z"
   },
   {
    "duration": 10,
    "start_time": "2021-07-04T07:27:39.731Z"
   },
   {
    "duration": 54,
    "start_time": "2021-07-04T07:27:39.744Z"
   },
   {
    "duration": 7,
    "start_time": "2021-07-04T07:27:39.801Z"
   },
   {
    "duration": 12,
    "start_time": "2021-07-04T07:27:39.811Z"
   },
   {
    "duration": 64,
    "start_time": "2021-07-04T07:27:39.826Z"
   },
   {
    "duration": 2774,
    "start_time": "2021-07-04T07:27:39.893Z"
   },
   {
    "duration": 5,
    "start_time": "2021-07-04T07:27:42.669Z"
   },
   {
    "duration": 39,
    "start_time": "2021-07-04T07:27:42.686Z"
   },
   {
    "duration": 3,
    "start_time": "2021-07-04T07:27:42.728Z"
   },
   {
    "duration": 36,
    "start_time": "2021-07-04T07:27:42.733Z"
   },
   {
    "duration": 70,
    "start_time": "2021-07-04T07:27:42.772Z"
   },
   {
    "duration": 5,
    "start_time": "2021-07-04T07:27:42.844Z"
   },
   {
    "duration": 542,
    "start_time": "2021-07-04T07:27:42.851Z"
   },
   {
    "duration": 1275,
    "start_time": "2021-07-04T07:28:17.045Z"
   },
   {
    "duration": 529,
    "start_time": "2021-07-04T07:28:42.403Z"
   },
   {
    "duration": 98256,
    "start_time": "2021-07-04T07:29:17.281Z"
   },
   {
    "duration": 47172,
    "start_time": "2021-07-04T07:32:15.181Z"
   },
   {
    "duration": 39172,
    "start_time": "2021-07-04T07:33:21.523Z"
   },
   {
    "duration": 269,
    "start_time": "2021-07-04T07:34:16.827Z"
   },
   {
    "duration": 617,
    "start_time": "2021-07-04T07:34:31.171Z"
   },
   {
    "duration": 277,
    "start_time": "2021-07-04T07:34:40.475Z"
   },
   {
    "duration": 569,
    "start_time": "2021-07-04T07:34:46.933Z"
   },
   {
    "duration": 60,
    "start_time": "2021-07-04T07:36:15.763Z"
   },
   {
    "duration": 140,
    "start_time": "2021-07-04T07:37:03.014Z"
   },
   {
    "duration": 297,
    "start_time": "2021-07-04T07:56:39.042Z"
   },
   {
    "duration": 308,
    "start_time": "2021-07-04T07:57:15.503Z"
   },
   {
    "duration": 6,
    "start_time": "2021-07-04T08:00:20.064Z"
   },
   {
    "duration": 64,
    "start_time": "2021-07-04T08:00:20.072Z"
   },
   {
    "duration": 19,
    "start_time": "2021-07-04T08:00:20.139Z"
   },
   {
    "duration": 1003,
    "start_time": "2021-07-04T08:00:20.161Z"
   },
   {
    "duration": 31,
    "start_time": "2021-07-04T08:00:21.166Z"
   },
   {
    "duration": 471,
    "start_time": "2021-07-04T08:00:21.200Z"
   },
   {
    "duration": 11,
    "start_time": "2021-07-04T08:00:21.674Z"
   },
   {
    "duration": 18,
    "start_time": "2021-07-04T08:00:21.688Z"
   },
   {
    "duration": 22,
    "start_time": "2021-07-04T08:00:21.710Z"
   },
   {
    "duration": 22,
    "start_time": "2021-07-04T08:00:21.735Z"
   },
   {
    "duration": 26,
    "start_time": "2021-07-04T08:00:21.760Z"
   },
   {
    "duration": 23,
    "start_time": "2021-07-04T08:00:21.789Z"
   },
   {
    "duration": 33,
    "start_time": "2021-07-04T08:00:21.815Z"
   },
   {
    "duration": 2704,
    "start_time": "2021-07-04T08:00:21.851Z"
   },
   {
    "duration": 6,
    "start_time": "2021-07-04T08:00:24.558Z"
   },
   {
    "duration": 35,
    "start_time": "2021-07-04T08:00:24.585Z"
   },
   {
    "duration": 3,
    "start_time": "2021-07-04T08:00:24.623Z"
   },
   {
    "duration": 19,
    "start_time": "2021-07-04T08:00:24.628Z"
   },
   {
    "duration": 90,
    "start_time": "2021-07-04T08:00:24.649Z"
   },
   {
    "duration": 4,
    "start_time": "2021-07-04T08:00:24.742Z"
   },
   {
    "duration": 353,
    "start_time": "2021-07-04T08:00:24.749Z"
   },
   {
    "duration": 42400,
    "start_time": "2021-07-04T08:00:44.576Z"
   },
   {
    "duration": 11766,
    "start_time": "2021-07-04T08:02:26.829Z"
   },
   {
    "duration": 11504,
    "start_time": "2021-07-04T08:11:37.742Z"
   },
   {
    "duration": 15500,
    "start_time": "2021-07-04T08:13:02.987Z"
   },
   {
    "duration": 97,
    "start_time": "2021-07-04T08:14:06.391Z"
   },
   {
    "duration": 513,
    "start_time": "2021-07-04T08:14:12.770Z"
   },
   {
    "duration": 13785,
    "start_time": "2021-07-04T08:14:28.273Z"
   },
   {
    "duration": 14205,
    "start_time": "2021-07-04T08:16:28.280Z"
   },
   {
    "duration": 1722,
    "start_time": "2021-07-04T08:31:15.596Z"
   },
   {
    "duration": 67,
    "start_time": "2021-07-04T08:31:17.320Z"
   },
   {
    "duration": 20,
    "start_time": "2021-07-04T08:31:17.390Z"
   },
   {
    "duration": 1052,
    "start_time": "2021-07-04T08:31:17.413Z"
   },
   {
    "duration": 37,
    "start_time": "2021-07-04T08:31:18.468Z"
   },
   {
    "duration": 661,
    "start_time": "2021-07-04T08:31:18.508Z"
   },
   {
    "duration": 14,
    "start_time": "2021-07-04T08:31:19.173Z"
   },
   {
    "duration": 11,
    "start_time": "2021-07-04T08:31:19.190Z"
   },
   {
    "duration": 12,
    "start_time": "2021-07-04T08:31:19.205Z"
   },
   {
    "duration": 19,
    "start_time": "2021-07-04T08:31:19.219Z"
   },
   {
    "duration": 7,
    "start_time": "2021-07-04T08:31:19.240Z"
   },
   {
    "duration": 43,
    "start_time": "2021-07-04T08:31:19.249Z"
   },
   {
    "duration": 31,
    "start_time": "2021-07-04T08:31:19.294Z"
   },
   {
    "duration": 2770,
    "start_time": "2021-07-04T08:31:19.328Z"
   },
   {
    "duration": 5,
    "start_time": "2021-07-04T08:31:22.101Z"
   },
   {
    "duration": 37,
    "start_time": "2021-07-04T08:31:22.108Z"
   },
   {
    "duration": 4,
    "start_time": "2021-07-04T08:31:22.147Z"
   },
   {
    "duration": 51,
    "start_time": "2021-07-04T08:31:22.153Z"
   },
   {
    "duration": 81,
    "start_time": "2021-07-04T08:31:22.206Z"
   },
   {
    "duration": 4,
    "start_time": "2021-07-04T08:31:22.290Z"
   },
   {
    "duration": 330,
    "start_time": "2021-07-04T08:31:22.297Z"
   },
   {
    "duration": 13185,
    "start_time": "2021-07-04T08:31:22.630Z"
   },
   {
    "duration": 12758,
    "start_time": "2021-07-04T08:31:35.818Z"
   },
   {
    "duration": 12168,
    "start_time": "2021-07-04T08:31:48.586Z"
   },
   {
    "duration": 554,
    "start_time": "2021-07-04T08:32:00.757Z"
   },
   {
    "duration": 106,
    "start_time": "2021-07-04T08:36:16.362Z"
   },
   {
    "duration": 490,
    "start_time": "2021-07-04T08:47:25.997Z"
   },
   {
    "duration": 398,
    "start_time": "2021-07-04T08:47:52.975Z"
   },
   {
    "duration": 102,
    "start_time": "2021-07-04T08:49:06.585Z"
   },
   {
    "duration": 383,
    "start_time": "2021-07-04T08:49:25.452Z"
   },
   {
    "duration": 423,
    "start_time": "2021-07-04T08:49:40.519Z"
   },
   {
    "duration": 100,
    "start_time": "2021-07-04T08:55:35.112Z"
   },
   {
    "duration": 100,
    "start_time": "2021-07-04T08:55:40.269Z"
   },
   {
    "duration": 107,
    "start_time": "2021-07-04T08:55:44.966Z"
   },
   {
    "duration": 107,
    "start_time": "2021-07-04T08:55:48.555Z"
   },
   {
    "duration": 106,
    "start_time": "2021-07-04T08:55:52.290Z"
   },
   {
    "duration": 114,
    "start_time": "2021-07-04T08:55:57.927Z"
   },
   {
    "duration": 110,
    "start_time": "2021-07-04T09:14:02.277Z"
   },
   {
    "duration": 52,
    "start_time": "2021-07-04T09:14:15.642Z"
   },
   {
    "duration": 129,
    "start_time": "2021-07-04T09:14:20.457Z"
   },
   {
    "duration": 119,
    "start_time": "2021-07-04T09:14:24.969Z"
   },
   {
    "duration": 54,
    "start_time": "2021-07-04T09:14:29.839Z"
   },
   {
    "duration": 124,
    "start_time": "2021-07-04T09:14:34.463Z"
   },
   {
    "duration": 231,
    "start_time": "2021-07-04T09:14:56.256Z"
   },
   {
    "duration": 102,
    "start_time": "2021-07-04T09:15:15.887Z"
   },
   {
    "duration": 6,
    "start_time": "2021-07-04T09:18:31.933Z"
   },
   {
    "duration": 4023,
    "start_time": "2021-07-04T09:22:23.465Z"
   },
   {
    "duration": 4164,
    "start_time": "2021-07-04T09:29:44.033Z"
   },
   {
    "duration": 3968,
    "start_time": "2021-07-04T09:30:12.519Z"
   },
   {
    "duration": 55,
    "start_time": "2021-07-04T09:33:07.041Z"
   },
   {
    "duration": 42,
    "start_time": "2021-07-04T09:33:11.844Z"
   },
   {
    "duration": 121,
    "start_time": "2021-07-04T09:33:18.965Z"
   },
   {
    "duration": 103,
    "start_time": "2021-07-04T09:33:23.083Z"
   },
   {
    "duration": 61,
    "start_time": "2021-07-04T09:33:26.626Z"
   },
   {
    "duration": 3812,
    "start_time": "2021-07-04T09:33:33.110Z"
   },
   {
    "duration": 348,
    "start_time": "2021-07-04T09:45:34.139Z"
   },
   {
    "duration": 510,
    "start_time": "2021-07-04T09:56:04.009Z"
   },
   {
    "duration": 5,
    "start_time": "2021-07-04T09:56:44.352Z"
   },
   {
    "duration": 21,
    "start_time": "2021-07-04T09:56:55.862Z"
   },
   {
    "duration": 5,
    "start_time": "2021-07-04T09:57:41.665Z"
   },
   {
    "duration": 521,
    "start_time": "2021-07-04T10:01:37.765Z"
   },
   {
    "duration": 350,
    "start_time": "2021-07-04T10:03:41.842Z"
   },
   {
    "duration": 438,
    "start_time": "2021-07-04T10:04:16.448Z"
   },
   {
    "duration": 367,
    "start_time": "2021-07-04T10:06:05.619Z"
   },
   {
    "duration": 510,
    "start_time": "2021-07-04T10:06:31.474Z"
   },
   {
    "duration": 5,
    "start_time": "2021-07-04T10:08:17.427Z"
   },
   {
    "duration": 489,
    "start_time": "2021-07-04T10:08:26.800Z"
   },
   {
    "duration": 6,
    "start_time": "2021-07-04T10:08:39.106Z"
   },
   {
    "duration": 851,
    "start_time": "2021-07-04T10:22:14.567Z"
   },
   {
    "duration": 1025,
    "start_time": "2021-07-04T10:22:41.263Z"
   },
   {
    "duration": 1018,
    "start_time": "2021-07-04T10:26:29.079Z"
   },
   {
    "duration": 2344,
    "start_time": "2021-07-04T10:33:03.839Z"
   },
   {
    "duration": 64,
    "start_time": "2021-07-04T10:33:06.185Z"
   },
   {
    "duration": 19,
    "start_time": "2021-07-04T10:33:06.252Z"
   },
   {
    "duration": 1550,
    "start_time": "2021-07-04T10:33:06.287Z"
   },
   {
    "duration": 23,
    "start_time": "2021-07-04T10:33:07.840Z"
   },
   {
    "duration": 492,
    "start_time": "2021-07-04T10:33:07.887Z"
   },
   {
    "duration": 14,
    "start_time": "2021-07-04T10:33:08.387Z"
   },
   {
    "duration": 13,
    "start_time": "2021-07-04T10:33:08.404Z"
   },
   {
    "duration": 10,
    "start_time": "2021-07-04T10:33:08.421Z"
   },
   {
    "duration": 20,
    "start_time": "2021-07-04T10:33:08.434Z"
   },
   {
    "duration": 33,
    "start_time": "2021-07-04T10:33:08.457Z"
   },
   {
    "duration": 9,
    "start_time": "2021-07-04T10:33:08.493Z"
   },
   {
    "duration": 40,
    "start_time": "2021-07-04T10:33:08.505Z"
   },
   {
    "duration": 2927,
    "start_time": "2021-07-04T10:33:08.548Z"
   },
   {
    "duration": 5,
    "start_time": "2021-07-04T10:33:11.486Z"
   },
   {
    "duration": 52,
    "start_time": "2021-07-04T10:33:11.494Z"
   },
   {
    "duration": 4,
    "start_time": "2021-07-04T10:33:11.548Z"
   },
   {
    "duration": 48,
    "start_time": "2021-07-04T10:33:11.554Z"
   },
   {
    "duration": 82,
    "start_time": "2021-07-04T10:33:11.605Z"
   },
   {
    "duration": 5,
    "start_time": "2021-07-04T10:33:11.690Z"
   },
   {
    "duration": 460,
    "start_time": "2021-07-04T10:33:11.697Z"
   },
   {
    "duration": 17646,
    "start_time": "2021-07-04T10:33:12.159Z"
   },
   {
    "duration": 5883,
    "start_time": "2021-07-04T10:33:29.808Z"
   },
   {
    "duration": 590,
    "start_time": "2021-07-04T10:33:35.695Z"
   },
   {
    "duration": 1105,
    "start_time": "2021-07-04T10:33:36.289Z"
   },
   {
    "duration": 1736,
    "start_time": "2021-07-04T12:32:21.083Z"
   },
   {
    "duration": 74,
    "start_time": "2021-07-04T12:32:22.821Z"
   },
   {
    "duration": 19,
    "start_time": "2021-07-04T12:32:22.902Z"
   },
   {
    "duration": 1122,
    "start_time": "2021-07-04T12:32:22.924Z"
   },
   {
    "duration": 44,
    "start_time": "2021-07-04T12:32:24.049Z"
   },
   {
    "duration": 468,
    "start_time": "2021-07-04T12:32:24.096Z"
   },
   {
    "duration": 18,
    "start_time": "2021-07-04T12:32:24.567Z"
   },
   {
    "duration": 10,
    "start_time": "2021-07-04T12:32:24.590Z"
   },
   {
    "duration": 10,
    "start_time": "2021-07-04T12:32:24.604Z"
   },
   {
    "duration": 26,
    "start_time": "2021-07-04T12:32:24.617Z"
   },
   {
    "duration": 47,
    "start_time": "2021-07-04T12:32:24.646Z"
   },
   {
    "duration": 8,
    "start_time": "2021-07-04T12:32:24.696Z"
   },
   {
    "duration": 35,
    "start_time": "2021-07-04T12:32:24.709Z"
   },
   {
    "duration": 2933,
    "start_time": "2021-07-04T12:32:24.747Z"
   },
   {
    "duration": 6,
    "start_time": "2021-07-04T12:32:27.687Z"
   },
   {
    "duration": 49,
    "start_time": "2021-07-04T12:32:27.696Z"
   },
   {
    "duration": 4,
    "start_time": "2021-07-04T12:32:27.748Z"
   },
   {
    "duration": 46,
    "start_time": "2021-07-04T12:32:27.754Z"
   },
   {
    "duration": 100,
    "start_time": "2021-07-04T12:32:27.803Z"
   },
   {
    "duration": 6,
    "start_time": "2021-07-04T12:32:27.906Z"
   },
   {
    "duration": 357,
    "start_time": "2021-07-04T12:32:27.915Z"
   },
   {
    "duration": 12181,
    "start_time": "2021-07-04T12:32:28.274Z"
   },
   {
    "duration": 3931,
    "start_time": "2021-07-04T12:32:40.458Z"
   },
   {
    "duration": 494,
    "start_time": "2021-07-04T12:32:44.392Z"
   },
   {
    "duration": 909,
    "start_time": "2021-07-04T12:32:44.890Z"
   },
   {
    "duration": 2704,
    "start_time": "2021-07-04T12:33:35.181Z"
   },
   {
    "duration": 1364,
    "start_time": "2021-07-04T12:38:55.426Z"
   },
   {
    "duration": 76,
    "start_time": "2021-07-04T12:48:34.155Z"
   },
   {
    "duration": 261,
    "start_time": "2021-07-04T12:49:08.469Z"
   },
   {
    "duration": 88,
    "start_time": "2021-07-04T12:49:37.359Z"
   },
   {
    "duration": 71,
    "start_time": "2021-07-04T12:50:21.787Z"
   },
   {
    "duration": 201,
    "start_time": "2021-07-04T12:51:08.452Z"
   },
   {
    "duration": 1405,
    "start_time": "2021-07-04T12:51:48.264Z"
   },
   {
    "duration": 152,
    "start_time": "2021-07-04T12:53:04.249Z"
   },
   {
    "duration": 37,
    "start_time": "2021-07-04T12:53:35.255Z"
   },
   {
    "duration": 158,
    "start_time": "2021-07-04T12:54:37.536Z"
   },
   {
    "duration": 133,
    "start_time": "2021-07-04T12:55:33.630Z"
   },
   {
    "duration": 121,
    "start_time": "2021-07-04T13:01:47.204Z"
   },
   {
    "duration": 4,
    "start_time": "2021-07-04T13:06:25.326Z"
   },
   {
    "duration": 70,
    "start_time": "2021-07-04T13:33:02.616Z"
   },
   {
    "duration": 25,
    "start_time": "2021-07-04T13:33:29.989Z"
   },
   {
    "duration": 18,
    "start_time": "2021-07-04T13:33:54.558Z"
   },
   {
    "duration": 26,
    "start_time": "2021-07-04T13:34:29.896Z"
   },
   {
    "duration": 482,
    "start_time": "2021-07-04T13:37:25.668Z"
   },
   {
    "duration": 262,
    "start_time": "2021-07-04T13:37:42.524Z"
   },
   {
    "duration": 20,
    "start_time": "2021-07-04T13:38:07.924Z"
   },
   {
    "duration": 23,
    "start_time": "2021-07-04T13:38:15.293Z"
   },
   {
    "duration": 239,
    "start_time": "2021-07-04T13:42:25.152Z"
   },
   {
    "duration": 36,
    "start_time": "2021-07-04T13:46:07.757Z"
   },
   {
    "duration": 5,
    "start_time": "2021-07-04T13:49:38.545Z"
   },
   {
    "duration": 6,
    "start_time": "2021-07-04T13:50:03.531Z"
   },
   {
    "duration": 36,
    "start_time": "2021-07-04T13:53:03.880Z"
   },
   {
    "duration": 1237,
    "start_time": "2021-07-04T13:55:24.601Z"
   },
   {
    "duration": 1000,
    "start_time": "2021-07-04T13:55:41.485Z"
   },
   {
    "duration": 1092,
    "start_time": "2021-07-04T13:57:12.734Z"
   },
   {
    "duration": 1307,
    "start_time": "2021-07-04T13:59:24.858Z"
   },
   {
    "duration": 1263,
    "start_time": "2021-07-04T14:00:32.023Z"
   },
   {
    "duration": 992,
    "start_time": "2021-07-04T14:00:56.311Z"
   },
   {
    "duration": 503,
    "start_time": "2021-07-04T14:07:38.675Z"
   },
   {
    "duration": 885,
    "start_time": "2021-07-04T14:07:48.812Z"
   },
   {
    "duration": 871,
    "start_time": "2021-07-04T14:08:01.579Z"
   },
   {
    "duration": 869,
    "start_time": "2021-07-04T14:08:11.682Z"
   },
   {
    "duration": 828,
    "start_time": "2021-07-04T14:08:21.257Z"
   },
   {
    "duration": 784,
    "start_time": "2021-07-04T14:10:11.531Z"
   },
   {
    "duration": 828,
    "start_time": "2021-07-04T14:10:22.984Z"
   },
   {
    "duration": 862,
    "start_time": "2021-07-04T14:10:33.683Z"
   },
   {
    "duration": 1046,
    "start_time": "2021-07-04T14:10:45.687Z"
   },
   {
    "duration": 826,
    "start_time": "2021-07-04T14:11:03.383Z"
   },
   {
    "duration": 950,
    "start_time": "2021-07-04T14:11:08.794Z"
   },
   {
    "duration": 930,
    "start_time": "2021-07-04T14:11:15.949Z"
   },
   {
    "duration": 1001,
    "start_time": "2021-07-04T14:11:22.418Z"
   },
   {
    "duration": 307,
    "start_time": "2021-07-04T14:17:34.853Z"
   },
   {
    "duration": 1760,
    "start_time": "2021-07-04T14:35:57.265Z"
   },
   {
    "duration": 67,
    "start_time": "2021-07-04T14:35:59.028Z"
   },
   {
    "duration": 21,
    "start_time": "2021-07-04T14:35:59.099Z"
   },
   {
    "duration": 1088,
    "start_time": "2021-07-04T14:35:59.123Z"
   },
   {
    "duration": 18,
    "start_time": "2021-07-04T14:36:00.213Z"
   },
   {
    "duration": 465,
    "start_time": "2021-07-04T14:36:00.234Z"
   },
   {
    "duration": 6,
    "start_time": "2021-07-04T14:36:00.701Z"
   },
   {
    "duration": 11,
    "start_time": "2021-07-04T14:36:00.711Z"
   },
   {
    "duration": 18,
    "start_time": "2021-07-04T14:36:00.726Z"
   },
   {
    "duration": 44,
    "start_time": "2021-07-04T14:36:00.747Z"
   },
   {
    "duration": 9,
    "start_time": "2021-07-04T14:36:00.794Z"
   },
   {
    "duration": 13,
    "start_time": "2021-07-04T14:36:00.806Z"
   },
   {
    "duration": 32,
    "start_time": "2021-07-04T14:36:00.822Z"
   },
   {
    "duration": 2705,
    "start_time": "2021-07-04T14:36:00.885Z"
   },
   {
    "duration": 6,
    "start_time": "2021-07-04T14:36:03.592Z"
   },
   {
    "duration": 38,
    "start_time": "2021-07-04T14:36:03.600Z"
   },
   {
    "duration": 3,
    "start_time": "2021-07-04T14:36:03.640Z"
   },
   {
    "duration": 52,
    "start_time": "2021-07-04T14:36:03.645Z"
   },
   {
    "duration": 59,
    "start_time": "2021-07-04T14:36:03.699Z"
   },
   {
    "duration": 26,
    "start_time": "2021-07-04T14:36:03.760Z"
   },
   {
    "duration": 398,
    "start_time": "2021-07-04T14:36:03.788Z"
   },
   {
    "duration": 12421,
    "start_time": "2021-07-04T14:36:04.189Z"
   },
   {
    "duration": 4481,
    "start_time": "2021-07-04T14:36:16.614Z"
   },
   {
    "duration": 400,
    "start_time": "2021-07-04T14:36:21.187Z"
   },
   {
    "duration": 916,
    "start_time": "2021-07-04T14:36:21.591Z"
   },
   {
    "duration": 1498,
    "start_time": "2021-07-04T14:36:22.588Z"
   },
   {
    "duration": 203,
    "start_time": "2021-07-04T14:36:24.089Z"
   },
   {
    "duration": 261,
    "start_time": "2021-07-04T14:36:24.295Z"
   },
   {
    "duration": 42,
    "start_time": "2021-07-04T14:36:24.559Z"
   },
   {
    "duration": 1124,
    "start_time": "2021-07-04T14:36:24.604Z"
   }
  ],
  "kernelspec": {
   "display_name": "Python 3",
   "language": "python",
   "name": "python3"
  },
  "language_info": {
   "codemirror_mode": {
    "name": "ipython",
    "version": 3
   },
   "file_extension": ".py",
   "mimetype": "text/x-python",
   "name": "python",
   "nbconvert_exporter": "python",
   "pygments_lexer": "ipython3",
   "version": "3.8.8"
  },
  "toc": {
   "base_numbering": 1,
   "nav_menu": {},
   "number_sections": true,
   "sideBar": true,
   "skip_h1_title": true,
   "title_cell": "Содержание",
   "title_sidebar": "Contents",
   "toc_cell": true,
   "toc_position": {},
   "toc_section_display": true,
   "toc_window_display": true
  }
 },
 "nbformat": 4,
 "nbformat_minor": 2
}

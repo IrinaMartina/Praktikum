{
 "cells": [
  {
   "cell_type": "markdown",
   "metadata": {},
   "source": [
    "# Выбор локации для скважины"
   ]
  },
  {
   "cell_type": "markdown",
   "metadata": {},
   "source": [
    "Допустим, вы работаете в добывающей компании «ГлавРосГосНефть». Нужно решить, где бурить новую скважину.\n",
    "\n",
    "Вам предоставлены пробы нефти в трёх регионах: в каждом 10 000 месторождений, где измерили качество нефти и объём её запасов. Постройте модель машинного обучения, которая поможет определить регион, где добыча принесёт наибольшую прибыль. Проанализируйте возможную прибыль и риски техникой *Bootstrap.*\n",
    "\n",
    "Шаги для выбора локации:\n",
    "\n",
    "- В избранном регионе ищут месторождения, для каждого определяют значения признаков;\n",
    "- Строят модель и оценивают объём запасов;\n",
    "- Выбирают месторождения с самым высокими оценками значений. Количество месторождений зависит от бюджета компании и стоимости разработки одной скважины;\n",
    "- Прибыль равна суммарной прибыли отобранных месторождений.\n",
    "\n",
    "Данные геологоразведки трёх регионов находятся в файлах:\n",
    "\n",
    "    geo_data_0.csv\n",
    "    geo_data_1.csv\n",
    "    geo_data_2.csv\n",
    "    \n",
    "- *id* — уникальный идентификатор скважины;\n",
    "- *f0, f1, f2* — три признака точек;\n",
    "- *product* — объём запасов в скважине (тыс. баррелей).\n",
    "\n",
    "**Условия задачи:**\n",
    "- Для обучения модели подходит только линейная регрессия (остальные — недостаточно предсказуемые).\n",
    "- При разведке региона исследуют 500 точек, из которых с помощью машинного обучения выбирают 200 лучших для разработки.\n",
    "- Бюджет на разработку скважин в регионе — 10 млрд рублей.\n",
    "- При нынешних ценах один баррель сырья приносит 450 рублей дохода. Доход с каждой единицы продукта составляет 450 тыс. рублей, поскольку объём указан в тысячах баррелей.\n",
    "- После оценки рисков нужно оставить лишь те регионы, в которых вероятность убытков меньше 2.5%. Среди них выбирают регион с наибольшей средней прибылью.\n",
    "\n",
    "Данные синтетические: детали контрактов и характеристики месторождений не разглашаются."
   ]
  },
  {
   "cell_type": "code",
   "execution_count": 1,
   "metadata": {},
   "outputs": [],
   "source": [
    "import pandas as pd\n",
    "from numpy.random import RandomState\n",
    "from IPython.display import display\n",
    "import matplotlib.pyplot as plt\n",
    "import statsmodels.api as sm\n",
    "\n",
    "from sklearn.model_selection import train_test_split\n",
    "from sklearn.preprocessing import StandardScaler\n",
    "from sklearn.linear_model import LinearRegression\n",
    "from sklearn.metrics import mean_squared_error"
   ]
  },
  {
   "cell_type": "markdown",
   "metadata": {},
   "source": [
    "## Загрузка и подготовка данных"
   ]
  },
  {
   "cell_type": "markdown",
   "metadata": {},
   "source": [
    "Загрузим данные и посмотрим на них."
   ]
  },
  {
   "cell_type": "code",
   "execution_count": 2,
   "metadata": {},
   "outputs": [
    {
     "name": "stdout",
     "output_type": "stream",
     "text": [
      "geo_data_0:\n",
      "\n",
      "<class 'pandas.core.frame.DataFrame'>\n",
      "RangeIndex: 100000 entries, 0 to 99999\n",
      "Data columns (total 5 columns):\n",
      " #   Column   Non-Null Count   Dtype  \n",
      "---  ------   --------------   -----  \n",
      " 0   id       100000 non-null  object \n",
      " 1   f0       100000 non-null  float64\n",
      " 2   f1       100000 non-null  float64\n",
      " 3   f2       100000 non-null  float64\n",
      " 4   product  100000 non-null  float64\n",
      "dtypes: float64(4), object(1)\n",
      "memory usage: 3.8+ MB\n",
      "None\n"
     ]
    },
    {
     "data": {
      "text/html": [
       "<div>\n",
       "<style scoped>\n",
       "    .dataframe tbody tr th:only-of-type {\n",
       "        vertical-align: middle;\n",
       "    }\n",
       "\n",
       "    .dataframe tbody tr th {\n",
       "        vertical-align: top;\n",
       "    }\n",
       "\n",
       "    .dataframe thead th {\n",
       "        text-align: right;\n",
       "    }\n",
       "</style>\n",
       "<table border=\"1\" class=\"dataframe\">\n",
       "  <thead>\n",
       "    <tr style=\"text-align: right;\">\n",
       "      <th></th>\n",
       "      <th>id</th>\n",
       "      <th>f0</th>\n",
       "      <th>f1</th>\n",
       "      <th>f2</th>\n",
       "      <th>product</th>\n",
       "    </tr>\n",
       "  </thead>\n",
       "  <tbody>\n",
       "    <tr>\n",
       "      <th>75721</th>\n",
       "      <td>7C6bA</td>\n",
       "      <td>0.599283</td>\n",
       "      <td>-0.557623</td>\n",
       "      <td>2.121187</td>\n",
       "      <td>122.073350</td>\n",
       "    </tr>\n",
       "    <tr>\n",
       "      <th>80184</th>\n",
       "      <td>dVxsn</td>\n",
       "      <td>0.739017</td>\n",
       "      <td>-0.463156</td>\n",
       "      <td>-1.347584</td>\n",
       "      <td>48.738540</td>\n",
       "    </tr>\n",
       "    <tr>\n",
       "      <th>19864</th>\n",
       "      <td>1Gm3l</td>\n",
       "      <td>1.422743</td>\n",
       "      <td>-0.534917</td>\n",
       "      <td>3.718798</td>\n",
       "      <td>131.338088</td>\n",
       "    </tr>\n",
       "    <tr>\n",
       "      <th>76699</th>\n",
       "      <td>Nzg1t</td>\n",
       "      <td>1.580244</td>\n",
       "      <td>-0.238458</td>\n",
       "      <td>2.805149</td>\n",
       "      <td>88.327757</td>\n",
       "    </tr>\n",
       "    <tr>\n",
       "      <th>92991</th>\n",
       "      <td>Z7b4F</td>\n",
       "      <td>0.918974</td>\n",
       "      <td>0.023961</td>\n",
       "      <td>2.598575</td>\n",
       "      <td>36.959266</td>\n",
       "    </tr>\n",
       "  </tbody>\n",
       "</table>\n",
       "</div>"
      ],
      "text/plain": [
       "          id        f0        f1        f2     product\n",
       "75721  7C6bA  0.599283 -0.557623  2.121187  122.073350\n",
       "80184  dVxsn  0.739017 -0.463156 -1.347584   48.738540\n",
       "19864  1Gm3l  1.422743 -0.534917  3.718798  131.338088\n",
       "76699  Nzg1t  1.580244 -0.238458  2.805149   88.327757\n",
       "92991  Z7b4F  0.918974  0.023961  2.598575   36.959266"
      ]
     },
     "metadata": {},
     "output_type": "display_data"
    },
    {
     "name": "stdout",
     "output_type": "stream",
     "text": [
      "\n",
      "geo_data_1:\n",
      "\n",
      "<class 'pandas.core.frame.DataFrame'>\n",
      "RangeIndex: 100000 entries, 0 to 99999\n",
      "Data columns (total 5 columns):\n",
      " #   Column   Non-Null Count   Dtype  \n",
      "---  ------   --------------   -----  \n",
      " 0   id       100000 non-null  object \n",
      " 1   f0       100000 non-null  float64\n",
      " 2   f1       100000 non-null  float64\n",
      " 3   f2       100000 non-null  float64\n",
      " 4   product  100000 non-null  float64\n",
      "dtypes: float64(4), object(1)\n",
      "memory usage: 3.8+ MB\n",
      "None\n"
     ]
    },
    {
     "data": {
      "text/html": [
       "<div>\n",
       "<style scoped>\n",
       "    .dataframe tbody tr th:only-of-type {\n",
       "        vertical-align: middle;\n",
       "    }\n",
       "\n",
       "    .dataframe tbody tr th {\n",
       "        vertical-align: top;\n",
       "    }\n",
       "\n",
       "    .dataframe thead th {\n",
       "        text-align: right;\n",
       "    }\n",
       "</style>\n",
       "<table border=\"1\" class=\"dataframe\">\n",
       "  <thead>\n",
       "    <tr style=\"text-align: right;\">\n",
       "      <th></th>\n",
       "      <th>id</th>\n",
       "      <th>f0</th>\n",
       "      <th>f1</th>\n",
       "      <th>f2</th>\n",
       "      <th>product</th>\n",
       "    </tr>\n",
       "  </thead>\n",
       "  <tbody>\n",
       "    <tr>\n",
       "      <th>75721</th>\n",
       "      <td>fYVDK</td>\n",
       "      <td>6.078076</td>\n",
       "      <td>0.084568</td>\n",
       "      <td>0.002957</td>\n",
       "      <td>0.000000</td>\n",
       "    </tr>\n",
       "    <tr>\n",
       "      <th>80184</th>\n",
       "      <td>3SQcq</td>\n",
       "      <td>16.462386</td>\n",
       "      <td>2.712946</td>\n",
       "      <td>1.993030</td>\n",
       "      <td>53.906522</td>\n",
       "    </tr>\n",
       "    <tr>\n",
       "      <th>19864</th>\n",
       "      <td>hQ1gJ</td>\n",
       "      <td>7.051898</td>\n",
       "      <td>0.766983</td>\n",
       "      <td>4.990194</td>\n",
       "      <td>134.766305</td>\n",
       "    </tr>\n",
       "    <tr>\n",
       "      <th>76699</th>\n",
       "      <td>Y4vux</td>\n",
       "      <td>-0.240045</td>\n",
       "      <td>-0.380804</td>\n",
       "      <td>3.999693</td>\n",
       "      <td>107.813044</td>\n",
       "    </tr>\n",
       "    <tr>\n",
       "      <th>92991</th>\n",
       "      <td>H1NUw</td>\n",
       "      <td>13.350111</td>\n",
       "      <td>-8.558281</td>\n",
       "      <td>0.002010</td>\n",
       "      <td>0.000000</td>\n",
       "    </tr>\n",
       "  </tbody>\n",
       "</table>\n",
       "</div>"
      ],
      "text/plain": [
       "          id         f0        f1        f2     product\n",
       "75721  fYVDK   6.078076  0.084568  0.002957    0.000000\n",
       "80184  3SQcq  16.462386  2.712946  1.993030   53.906522\n",
       "19864  hQ1gJ   7.051898  0.766983  4.990194  134.766305\n",
       "76699  Y4vux  -0.240045 -0.380804  3.999693  107.813044\n",
       "92991  H1NUw  13.350111 -8.558281  0.002010    0.000000"
      ]
     },
     "metadata": {},
     "output_type": "display_data"
    },
    {
     "name": "stdout",
     "output_type": "stream",
     "text": [
      "\n",
      "geo_data_2:\n",
      "\n",
      "<class 'pandas.core.frame.DataFrame'>\n",
      "RangeIndex: 100000 entries, 0 to 99999\n",
      "Data columns (total 5 columns):\n",
      " #   Column   Non-Null Count   Dtype  \n",
      "---  ------   --------------   -----  \n",
      " 0   id       100000 non-null  object \n",
      " 1   f0       100000 non-null  float64\n",
      " 2   f1       100000 non-null  float64\n",
      " 3   f2       100000 non-null  float64\n",
      " 4   product  100000 non-null  float64\n",
      "dtypes: float64(4), object(1)\n",
      "memory usage: 3.8+ MB\n",
      "None\n"
     ]
    },
    {
     "data": {
      "text/html": [
       "<div>\n",
       "<style scoped>\n",
       "    .dataframe tbody tr th:only-of-type {\n",
       "        vertical-align: middle;\n",
       "    }\n",
       "\n",
       "    .dataframe tbody tr th {\n",
       "        vertical-align: top;\n",
       "    }\n",
       "\n",
       "    .dataframe thead th {\n",
       "        text-align: right;\n",
       "    }\n",
       "</style>\n",
       "<table border=\"1\" class=\"dataframe\">\n",
       "  <thead>\n",
       "    <tr style=\"text-align: right;\">\n",
       "      <th></th>\n",
       "      <th>id</th>\n",
       "      <th>f0</th>\n",
       "      <th>f1</th>\n",
       "      <th>f2</th>\n",
       "      <th>product</th>\n",
       "    </tr>\n",
       "  </thead>\n",
       "  <tbody>\n",
       "    <tr>\n",
       "      <th>75721</th>\n",
       "      <td>sPjbT</td>\n",
       "      <td>2.111118</td>\n",
       "      <td>-1.679773</td>\n",
       "      <td>3.112240</td>\n",
       "      <td>117.441301</td>\n",
       "    </tr>\n",
       "    <tr>\n",
       "      <th>80184</th>\n",
       "      <td>1u4uo</td>\n",
       "      <td>0.734759</td>\n",
       "      <td>0.747788</td>\n",
       "      <td>3.670879</td>\n",
       "      <td>47.841249</td>\n",
       "    </tr>\n",
       "    <tr>\n",
       "      <th>19864</th>\n",
       "      <td>kZ6HO</td>\n",
       "      <td>-2.513109</td>\n",
       "      <td>0.844631</td>\n",
       "      <td>-4.922889</td>\n",
       "      <td>45.883483</td>\n",
       "    </tr>\n",
       "    <tr>\n",
       "      <th>76699</th>\n",
       "      <td>gCZGK</td>\n",
       "      <td>-2.035301</td>\n",
       "      <td>-1.522988</td>\n",
       "      <td>5.072839</td>\n",
       "      <td>139.014608</td>\n",
       "    </tr>\n",
       "    <tr>\n",
       "      <th>92991</th>\n",
       "      <td>rqJHx</td>\n",
       "      <td>2.744145</td>\n",
       "      <td>1.429952</td>\n",
       "      <td>-1.372661</td>\n",
       "      <td>84.004276</td>\n",
       "    </tr>\n",
       "  </tbody>\n",
       "</table>\n",
       "</div>"
      ],
      "text/plain": [
       "          id        f0        f1        f2     product\n",
       "75721  sPjbT  2.111118 -1.679773  3.112240  117.441301\n",
       "80184  1u4uo  0.734759  0.747788  3.670879   47.841249\n",
       "19864  kZ6HO -2.513109  0.844631 -4.922889   45.883483\n",
       "76699  gCZGK -2.035301 -1.522988  5.072839  139.014608\n",
       "92991  rqJHx  2.744145  1.429952 -1.372661   84.004276"
      ]
     },
     "metadata": {},
     "output_type": "display_data"
    },
    {
     "name": "stdout",
     "output_type": "stream",
     "text": [
      "\n"
     ]
    }
   ],
   "source": [
    "nregions = 3 #Количество регионов\n",
    "geo_data = []\n",
    "\n",
    "for i in range(nregions):\n",
    "    print('geo_data_{}:'.format(i))\n",
    "    print()\n",
    "    geo_data.append(pd.read_csv('datasets/geo_data_' + str(i) + '.csv'))\n",
    "    print(geo_data[i].info())\n",
    "    display(geo_data[i].sample(n=5, random_state=42))\n",
    "    print()"
   ]
  },
  {
   "cell_type": "markdown",
   "metadata": {},
   "source": [
    "Пропущенных значений в таблицах нет, типы данных соответствуют значениям столбцов.\n",
    "\n",
    "Целевым признаком является product. Признак id однозначно определяет скважину, но не подходит для прогнозирования объёмов нефти. Для модели необходимые признаки - это f0, f1 и f2. Посмотрим на значения числовых столбцов таблиц и на корреляцию признаков f0, f1 и f2 между собой: если они коррелируют, то для обучения модели один из таких признаков нужно будет не учитывать."
   ]
  },
  {
   "cell_type": "code",
   "execution_count": 3,
   "metadata": {},
   "outputs": [
    {
     "data": {
      "text/html": [
       "<style  type=\"text/css\" >\n",
       "</style><table id=\"T_c3a3e_\" ><caption>geo_data_0</caption><thead>    <tr>        <th class=\"blank level0\" ></th>        <th class=\"col_heading level0 col0\" >f0</th>        <th class=\"col_heading level0 col1\" >f1</th>        <th class=\"col_heading level0 col2\" >f2</th>        <th class=\"col_heading level0 col3\" >product</th>    </tr></thead><tbody>\n",
       "                <tr>\n",
       "                        <th id=\"T_c3a3e_level0_row0\" class=\"row_heading level0 row0\" >count</th>\n",
       "                        <td id=\"T_c3a3e_row0_col0\" class=\"data row0 col0\" >100000.000000</td>\n",
       "                        <td id=\"T_c3a3e_row0_col1\" class=\"data row0 col1\" >100000.000000</td>\n",
       "                        <td id=\"T_c3a3e_row0_col2\" class=\"data row0 col2\" >100000.000000</td>\n",
       "                        <td id=\"T_c3a3e_row0_col3\" class=\"data row0 col3\" >100000.000000</td>\n",
       "            </tr>\n",
       "            <tr>\n",
       "                        <th id=\"T_c3a3e_level0_row1\" class=\"row_heading level0 row1\" >mean</th>\n",
       "                        <td id=\"T_c3a3e_row1_col0\" class=\"data row1 col0\" >0.50</td>\n",
       "                        <td id=\"T_c3a3e_row1_col1\" class=\"data row1 col1\" >0.25</td>\n",
       "                        <td id=\"T_c3a3e_row1_col2\" class=\"data row1 col2\" >2.50</td>\n",
       "                        <td id=\"T_c3a3e_row1_col3\" class=\"data row1 col3\" >92.50</td>\n",
       "            </tr>\n",
       "            <tr>\n",
       "                        <th id=\"T_c3a3e_level0_row2\" class=\"row_heading level0 row2\" >std</th>\n",
       "                        <td id=\"T_c3a3e_row2_col0\" class=\"data row2 col0\" >0.87</td>\n",
       "                        <td id=\"T_c3a3e_row2_col1\" class=\"data row2 col1\" >0.50</td>\n",
       "                        <td id=\"T_c3a3e_row2_col2\" class=\"data row2 col2\" >3.25</td>\n",
       "                        <td id=\"T_c3a3e_row2_col3\" class=\"data row2 col3\" >44.29</td>\n",
       "            </tr>\n",
       "            <tr>\n",
       "                        <th id=\"T_c3a3e_level0_row3\" class=\"row_heading level0 row3\" >min</th>\n",
       "                        <td id=\"T_c3a3e_row3_col0\" class=\"data row3 col0\" >-1.41</td>\n",
       "                        <td id=\"T_c3a3e_row3_col1\" class=\"data row3 col1\" >-0.85</td>\n",
       "                        <td id=\"T_c3a3e_row3_col2\" class=\"data row3 col2\" >-12.09</td>\n",
       "                        <td id=\"T_c3a3e_row3_col3\" class=\"data row3 col3\" >0.00</td>\n",
       "            </tr>\n",
       "            <tr>\n",
       "                        <th id=\"T_c3a3e_level0_row4\" class=\"row_heading level0 row4\" >25%</th>\n",
       "                        <td id=\"T_c3a3e_row4_col0\" class=\"data row4 col0\" >-0.07</td>\n",
       "                        <td id=\"T_c3a3e_row4_col1\" class=\"data row4 col1\" >-0.20</td>\n",
       "                        <td id=\"T_c3a3e_row4_col2\" class=\"data row4 col2\" >0.29</td>\n",
       "                        <td id=\"T_c3a3e_row4_col3\" class=\"data row4 col3\" >56.50</td>\n",
       "            </tr>\n",
       "            <tr>\n",
       "                        <th id=\"T_c3a3e_level0_row5\" class=\"row_heading level0 row5\" >50%</th>\n",
       "                        <td id=\"T_c3a3e_row5_col0\" class=\"data row5 col0\" >0.50</td>\n",
       "                        <td id=\"T_c3a3e_row5_col1\" class=\"data row5 col1\" >0.25</td>\n",
       "                        <td id=\"T_c3a3e_row5_col2\" class=\"data row5 col2\" >2.52</td>\n",
       "                        <td id=\"T_c3a3e_row5_col3\" class=\"data row5 col3\" >91.85</td>\n",
       "            </tr>\n",
       "            <tr>\n",
       "                        <th id=\"T_c3a3e_level0_row6\" class=\"row_heading level0 row6\" >75%</th>\n",
       "                        <td id=\"T_c3a3e_row6_col0\" class=\"data row6 col0\" >1.07</td>\n",
       "                        <td id=\"T_c3a3e_row6_col1\" class=\"data row6 col1\" >0.70</td>\n",
       "                        <td id=\"T_c3a3e_row6_col2\" class=\"data row6 col2\" >4.72</td>\n",
       "                        <td id=\"T_c3a3e_row6_col3\" class=\"data row6 col3\" >128.56</td>\n",
       "            </tr>\n",
       "            <tr>\n",
       "                        <th id=\"T_c3a3e_level0_row7\" class=\"row_heading level0 row7\" >max</th>\n",
       "                        <td id=\"T_c3a3e_row7_col0\" class=\"data row7 col0\" >2.36</td>\n",
       "                        <td id=\"T_c3a3e_row7_col1\" class=\"data row7 col1\" >1.34</td>\n",
       "                        <td id=\"T_c3a3e_row7_col2\" class=\"data row7 col2\" >16.00</td>\n",
       "                        <td id=\"T_c3a3e_row7_col3\" class=\"data row7 col3\" >185.36</td>\n",
       "            </tr>\n",
       "    </tbody></table>"
      ],
      "text/plain": [
       "<pandas.io.formats.style.Styler at 0x7f9be9cbaf70>"
      ]
     },
     "metadata": {},
     "output_type": "display_data"
    },
    {
     "data": {
      "text/html": [
       "<style  type=\"text/css\" >\n",
       "</style><table id=\"T_eb662_\" ><caption>Матрица корреляций признаков geo_data_0</caption><thead>    <tr>        <th class=\"blank level0\" ></th>        <th class=\"col_heading level0 col0\" >f0</th>        <th class=\"col_heading level0 col1\" >f1</th>        <th class=\"col_heading level0 col2\" >f2</th>    </tr></thead><tbody>\n",
       "                <tr>\n",
       "                        <th id=\"T_eb662_level0_row0\" class=\"row_heading level0 row0\" >f0</th>\n",
       "                        <td id=\"T_eb662_row0_col0\" class=\"data row0 col0\" >1.000000</td>\n",
       "                        <td id=\"T_eb662_row0_col1\" class=\"data row0 col1\" >-0.441</td>\n",
       "                        <td id=\"T_eb662_row0_col2\" class=\"data row0 col2\" >-0.003</td>\n",
       "            </tr>\n",
       "            <tr>\n",
       "                        <th id=\"T_eb662_level0_row1\" class=\"row_heading level0 row1\" >f1</th>\n",
       "                        <td id=\"T_eb662_row1_col0\" class=\"data row1 col0\" >-0.441</td>\n",
       "                        <td id=\"T_eb662_row1_col1\" class=\"data row1 col1\" >1.000000</td>\n",
       "                        <td id=\"T_eb662_row1_col2\" class=\"data row1 col2\" >0.002</td>\n",
       "            </tr>\n",
       "            <tr>\n",
       "                        <th id=\"T_eb662_level0_row2\" class=\"row_heading level0 row2\" >f2</th>\n",
       "                        <td id=\"T_eb662_row2_col0\" class=\"data row2 col0\" >-0.003</td>\n",
       "                        <td id=\"T_eb662_row2_col1\" class=\"data row2 col1\" >0.002</td>\n",
       "                        <td id=\"T_eb662_row2_col2\" class=\"data row2 col2\" >1.000000</td>\n",
       "            </tr>\n",
       "    </tbody></table>"
      ],
      "text/plain": [
       "<pandas.io.formats.style.Styler at 0x7f9be9cbaf10>"
      ]
     },
     "metadata": {},
     "output_type": "display_data"
    },
    {
     "name": "stdout",
     "output_type": "stream",
     "text": [
      "\n"
     ]
    },
    {
     "data": {
      "text/html": [
       "<style  type=\"text/css\" >\n",
       "</style><table id=\"T_c5ea6_\" ><caption>geo_data_1</caption><thead>    <tr>        <th class=\"blank level0\" ></th>        <th class=\"col_heading level0 col0\" >f0</th>        <th class=\"col_heading level0 col1\" >f1</th>        <th class=\"col_heading level0 col2\" >f2</th>        <th class=\"col_heading level0 col3\" >product</th>    </tr></thead><tbody>\n",
       "                <tr>\n",
       "                        <th id=\"T_c5ea6_level0_row0\" class=\"row_heading level0 row0\" >count</th>\n",
       "                        <td id=\"T_c5ea6_row0_col0\" class=\"data row0 col0\" >100000.000000</td>\n",
       "                        <td id=\"T_c5ea6_row0_col1\" class=\"data row0 col1\" >100000.000000</td>\n",
       "                        <td id=\"T_c5ea6_row0_col2\" class=\"data row0 col2\" >100000.000000</td>\n",
       "                        <td id=\"T_c5ea6_row0_col3\" class=\"data row0 col3\" >100000.000000</td>\n",
       "            </tr>\n",
       "            <tr>\n",
       "                        <th id=\"T_c5ea6_level0_row1\" class=\"row_heading level0 row1\" >mean</th>\n",
       "                        <td id=\"T_c5ea6_row1_col0\" class=\"data row1 col0\" >1.14</td>\n",
       "                        <td id=\"T_c5ea6_row1_col1\" class=\"data row1 col1\" >-4.80</td>\n",
       "                        <td id=\"T_c5ea6_row1_col2\" class=\"data row1 col2\" >2.49</td>\n",
       "                        <td id=\"T_c5ea6_row1_col3\" class=\"data row1 col3\" >68.83</td>\n",
       "            </tr>\n",
       "            <tr>\n",
       "                        <th id=\"T_c5ea6_level0_row2\" class=\"row_heading level0 row2\" >std</th>\n",
       "                        <td id=\"T_c5ea6_row2_col0\" class=\"data row2 col0\" >8.97</td>\n",
       "                        <td id=\"T_c5ea6_row2_col1\" class=\"data row2 col1\" >5.12</td>\n",
       "                        <td id=\"T_c5ea6_row2_col2\" class=\"data row2 col2\" >1.70</td>\n",
       "                        <td id=\"T_c5ea6_row2_col3\" class=\"data row2 col3\" >45.94</td>\n",
       "            </tr>\n",
       "            <tr>\n",
       "                        <th id=\"T_c5ea6_level0_row3\" class=\"row_heading level0 row3\" >min</th>\n",
       "                        <td id=\"T_c5ea6_row3_col0\" class=\"data row3 col0\" >-31.61</td>\n",
       "                        <td id=\"T_c5ea6_row3_col1\" class=\"data row3 col1\" >-26.36</td>\n",
       "                        <td id=\"T_c5ea6_row3_col2\" class=\"data row3 col2\" >-0.02</td>\n",
       "                        <td id=\"T_c5ea6_row3_col3\" class=\"data row3 col3\" >0.00</td>\n",
       "            </tr>\n",
       "            <tr>\n",
       "                        <th id=\"T_c5ea6_level0_row4\" class=\"row_heading level0 row4\" >25%</th>\n",
       "                        <td id=\"T_c5ea6_row4_col0\" class=\"data row4 col0\" >-6.30</td>\n",
       "                        <td id=\"T_c5ea6_row4_col1\" class=\"data row4 col1\" >-8.27</td>\n",
       "                        <td id=\"T_c5ea6_row4_col2\" class=\"data row4 col2\" >1.00</td>\n",
       "                        <td id=\"T_c5ea6_row4_col3\" class=\"data row4 col3\" >26.95</td>\n",
       "            </tr>\n",
       "            <tr>\n",
       "                        <th id=\"T_c5ea6_level0_row5\" class=\"row_heading level0 row5\" >50%</th>\n",
       "                        <td id=\"T_c5ea6_row5_col0\" class=\"data row5 col0\" >1.15</td>\n",
       "                        <td id=\"T_c5ea6_row5_col1\" class=\"data row5 col1\" >-4.81</td>\n",
       "                        <td id=\"T_c5ea6_row5_col2\" class=\"data row5 col2\" >2.01</td>\n",
       "                        <td id=\"T_c5ea6_row5_col3\" class=\"data row5 col3\" >57.09</td>\n",
       "            </tr>\n",
       "            <tr>\n",
       "                        <th id=\"T_c5ea6_level0_row6\" class=\"row_heading level0 row6\" >75%</th>\n",
       "                        <td id=\"T_c5ea6_row6_col0\" class=\"data row6 col0\" >8.62</td>\n",
       "                        <td id=\"T_c5ea6_row6_col1\" class=\"data row6 col1\" >-1.33</td>\n",
       "                        <td id=\"T_c5ea6_row6_col2\" class=\"data row6 col2\" >4.00</td>\n",
       "                        <td id=\"T_c5ea6_row6_col3\" class=\"data row6 col3\" >107.81</td>\n",
       "            </tr>\n",
       "            <tr>\n",
       "                        <th id=\"T_c5ea6_level0_row7\" class=\"row_heading level0 row7\" >max</th>\n",
       "                        <td id=\"T_c5ea6_row7_col0\" class=\"data row7 col0\" >29.42</td>\n",
       "                        <td id=\"T_c5ea6_row7_col1\" class=\"data row7 col1\" >18.73</td>\n",
       "                        <td id=\"T_c5ea6_row7_col2\" class=\"data row7 col2\" >5.02</td>\n",
       "                        <td id=\"T_c5ea6_row7_col3\" class=\"data row7 col3\" >137.95</td>\n",
       "            </tr>\n",
       "    </tbody></table>"
      ],
      "text/plain": [
       "<pandas.io.formats.style.Styler at 0x7f9bcd8fe670>"
      ]
     },
     "metadata": {},
     "output_type": "display_data"
    },
    {
     "data": {
      "text/html": [
       "<style  type=\"text/css\" >\n",
       "</style><table id=\"T_9b567_\" ><caption>Матрица корреляций признаков geo_data_1</caption><thead>    <tr>        <th class=\"blank level0\" ></th>        <th class=\"col_heading level0 col0\" >f0</th>        <th class=\"col_heading level0 col1\" >f1</th>        <th class=\"col_heading level0 col2\" >f2</th>    </tr></thead><tbody>\n",
       "                <tr>\n",
       "                        <th id=\"T_9b567_level0_row0\" class=\"row_heading level0 row0\" >f0</th>\n",
       "                        <td id=\"T_9b567_row0_col0\" class=\"data row0 col0\" >1.000000</td>\n",
       "                        <td id=\"T_9b567_row0_col1\" class=\"data row0 col1\" >0.182</td>\n",
       "                        <td id=\"T_9b567_row0_col2\" class=\"data row0 col2\" >-0.002</td>\n",
       "            </tr>\n",
       "            <tr>\n",
       "                        <th id=\"T_9b567_level0_row1\" class=\"row_heading level0 row1\" >f1</th>\n",
       "                        <td id=\"T_9b567_row1_col0\" class=\"data row1 col0\" >0.182</td>\n",
       "                        <td id=\"T_9b567_row1_col1\" class=\"data row1 col1\" >1.000000</td>\n",
       "                        <td id=\"T_9b567_row1_col2\" class=\"data row1 col2\" >-0.003</td>\n",
       "            </tr>\n",
       "            <tr>\n",
       "                        <th id=\"T_9b567_level0_row2\" class=\"row_heading level0 row2\" >f2</th>\n",
       "                        <td id=\"T_9b567_row2_col0\" class=\"data row2 col0\" >-0.002</td>\n",
       "                        <td id=\"T_9b567_row2_col1\" class=\"data row2 col1\" >-0.003</td>\n",
       "                        <td id=\"T_9b567_row2_col2\" class=\"data row2 col2\" >1.000000</td>\n",
       "            </tr>\n",
       "    </tbody></table>"
      ],
      "text/plain": [
       "<pandas.io.formats.style.Styler at 0x7f9bcd8fef40>"
      ]
     },
     "metadata": {},
     "output_type": "display_data"
    },
    {
     "name": "stdout",
     "output_type": "stream",
     "text": [
      "\n"
     ]
    },
    {
     "data": {
      "text/html": [
       "<style  type=\"text/css\" >\n",
       "</style><table id=\"T_614bd_\" ><caption>geo_data_2</caption><thead>    <tr>        <th class=\"blank level0\" ></th>        <th class=\"col_heading level0 col0\" >f0</th>        <th class=\"col_heading level0 col1\" >f1</th>        <th class=\"col_heading level0 col2\" >f2</th>        <th class=\"col_heading level0 col3\" >product</th>    </tr></thead><tbody>\n",
       "                <tr>\n",
       "                        <th id=\"T_614bd_level0_row0\" class=\"row_heading level0 row0\" >count</th>\n",
       "                        <td id=\"T_614bd_row0_col0\" class=\"data row0 col0\" >100000.000000</td>\n",
       "                        <td id=\"T_614bd_row0_col1\" class=\"data row0 col1\" >100000.000000</td>\n",
       "                        <td id=\"T_614bd_row0_col2\" class=\"data row0 col2\" >100000.000000</td>\n",
       "                        <td id=\"T_614bd_row0_col3\" class=\"data row0 col3\" >100000.000000</td>\n",
       "            </tr>\n",
       "            <tr>\n",
       "                        <th id=\"T_614bd_level0_row1\" class=\"row_heading level0 row1\" >mean</th>\n",
       "                        <td id=\"T_614bd_row1_col0\" class=\"data row1 col0\" >0.00</td>\n",
       "                        <td id=\"T_614bd_row1_col1\" class=\"data row1 col1\" >-0.00</td>\n",
       "                        <td id=\"T_614bd_row1_col2\" class=\"data row1 col2\" >2.50</td>\n",
       "                        <td id=\"T_614bd_row1_col3\" class=\"data row1 col3\" >95.00</td>\n",
       "            </tr>\n",
       "            <tr>\n",
       "                        <th id=\"T_614bd_level0_row2\" class=\"row_heading level0 row2\" >std</th>\n",
       "                        <td id=\"T_614bd_row2_col0\" class=\"data row2 col0\" >1.73</td>\n",
       "                        <td id=\"T_614bd_row2_col1\" class=\"data row2 col1\" >1.73</td>\n",
       "                        <td id=\"T_614bd_row2_col2\" class=\"data row2 col2\" >3.47</td>\n",
       "                        <td id=\"T_614bd_row2_col3\" class=\"data row2 col3\" >44.75</td>\n",
       "            </tr>\n",
       "            <tr>\n",
       "                        <th id=\"T_614bd_level0_row3\" class=\"row_heading level0 row3\" >min</th>\n",
       "                        <td id=\"T_614bd_row3_col0\" class=\"data row3 col0\" >-8.76</td>\n",
       "                        <td id=\"T_614bd_row3_col1\" class=\"data row3 col1\" >-7.08</td>\n",
       "                        <td id=\"T_614bd_row3_col2\" class=\"data row3 col2\" >-11.97</td>\n",
       "                        <td id=\"T_614bd_row3_col3\" class=\"data row3 col3\" >0.00</td>\n",
       "            </tr>\n",
       "            <tr>\n",
       "                        <th id=\"T_614bd_level0_row4\" class=\"row_heading level0 row4\" >25%</th>\n",
       "                        <td id=\"T_614bd_row4_col0\" class=\"data row4 col0\" >-1.16</td>\n",
       "                        <td id=\"T_614bd_row4_col1\" class=\"data row4 col1\" >-1.17</td>\n",
       "                        <td id=\"T_614bd_row4_col2\" class=\"data row4 col2\" >0.13</td>\n",
       "                        <td id=\"T_614bd_row4_col3\" class=\"data row4 col3\" >59.45</td>\n",
       "            </tr>\n",
       "            <tr>\n",
       "                        <th id=\"T_614bd_level0_row5\" class=\"row_heading level0 row5\" >50%</th>\n",
       "                        <td id=\"T_614bd_row5_col0\" class=\"data row5 col0\" >0.01</td>\n",
       "                        <td id=\"T_614bd_row5_col1\" class=\"data row5 col1\" >-0.01</td>\n",
       "                        <td id=\"T_614bd_row5_col2\" class=\"data row5 col2\" >2.48</td>\n",
       "                        <td id=\"T_614bd_row5_col3\" class=\"data row5 col3\" >94.93</td>\n",
       "            </tr>\n",
       "            <tr>\n",
       "                        <th id=\"T_614bd_level0_row6\" class=\"row_heading level0 row6\" >75%</th>\n",
       "                        <td id=\"T_614bd_row6_col0\" class=\"data row6 col0\" >1.16</td>\n",
       "                        <td id=\"T_614bd_row6_col1\" class=\"data row6 col1\" >1.16</td>\n",
       "                        <td id=\"T_614bd_row6_col2\" class=\"data row6 col2\" >4.86</td>\n",
       "                        <td id=\"T_614bd_row6_col3\" class=\"data row6 col3\" >130.60</td>\n",
       "            </tr>\n",
       "            <tr>\n",
       "                        <th id=\"T_614bd_level0_row7\" class=\"row_heading level0 row7\" >max</th>\n",
       "                        <td id=\"T_614bd_row7_col0\" class=\"data row7 col0\" >7.24</td>\n",
       "                        <td id=\"T_614bd_row7_col1\" class=\"data row7 col1\" >7.84</td>\n",
       "                        <td id=\"T_614bd_row7_col2\" class=\"data row7 col2\" >16.74</td>\n",
       "                        <td id=\"T_614bd_row7_col3\" class=\"data row7 col3\" >190.03</td>\n",
       "            </tr>\n",
       "    </tbody></table>"
      ],
      "text/plain": [
       "<pandas.io.formats.style.Styler at 0x7f9be9cbacd0>"
      ]
     },
     "metadata": {},
     "output_type": "display_data"
    },
    {
     "data": {
      "text/html": [
       "<style  type=\"text/css\" >\n",
       "</style><table id=\"T_f09bc_\" ><caption>Матрица корреляций признаков geo_data_2</caption><thead>    <tr>        <th class=\"blank level0\" ></th>        <th class=\"col_heading level0 col0\" >f0</th>        <th class=\"col_heading level0 col1\" >f1</th>        <th class=\"col_heading level0 col2\" >f2</th>    </tr></thead><tbody>\n",
       "                <tr>\n",
       "                        <th id=\"T_f09bc_level0_row0\" class=\"row_heading level0 row0\" >f0</th>\n",
       "                        <td id=\"T_f09bc_row0_col0\" class=\"data row0 col0\" >1.000000</td>\n",
       "                        <td id=\"T_f09bc_row0_col1\" class=\"data row0 col1\" >0.001</td>\n",
       "                        <td id=\"T_f09bc_row0_col2\" class=\"data row0 col2\" >-0.000</td>\n",
       "            </tr>\n",
       "            <tr>\n",
       "                        <th id=\"T_f09bc_level0_row1\" class=\"row_heading level0 row1\" >f1</th>\n",
       "                        <td id=\"T_f09bc_row1_col0\" class=\"data row1 col0\" >0.001</td>\n",
       "                        <td id=\"T_f09bc_row1_col1\" class=\"data row1 col1\" >1.000000</td>\n",
       "                        <td id=\"T_f09bc_row1_col2\" class=\"data row1 col2\" >0.001</td>\n",
       "            </tr>\n",
       "            <tr>\n",
       "                        <th id=\"T_f09bc_level0_row2\" class=\"row_heading level0 row2\" >f2</th>\n",
       "                        <td id=\"T_f09bc_row2_col0\" class=\"data row2 col0\" >-0.000</td>\n",
       "                        <td id=\"T_f09bc_row2_col1\" class=\"data row2 col1\" >0.001</td>\n",
       "                        <td id=\"T_f09bc_row2_col2\" class=\"data row2 col2\" >1.000000</td>\n",
       "            </tr>\n",
       "    </tbody></table>"
      ],
      "text/plain": [
       "<pandas.io.formats.style.Styler at 0x7f9be9cbafa0>"
      ]
     },
     "metadata": {},
     "output_type": "display_data"
    },
    {
     "name": "stdout",
     "output_type": "stream",
     "text": [
      "\n"
     ]
    }
   ],
   "source": [
    "features_name = ['f0','f1','f2']\n",
    "\n",
    "for i in range(nregions):\n",
    "    display(geo_data[i].describe()\n",
    "            .applymap(lambda x: '{:.2f}'.format(x) if x != 100000 else x)\n",
    "            .style.set_caption('geo_data_{}'.format(i))\n",
    "           )\n",
    "    display(geo_data[i][features_name].corr()\n",
    "            .applymap(lambda x: '{:.3f}'.format(x) if x != 1 else x)\n",
    "            .style.set_caption('Матрица корреляций признаков geo_data_{}'.format(i))\n",
    "           )\n",
    "    print()"
   ]
  },
  {
   "cell_type": "markdown",
   "metadata": {},
   "source": [
    "Самая большая корреляция наблюдается у признаков f0 и f1 в регионе 0: 0,44 - но это недостаточно много, чтобы можно было исключить из рассмотрения один из признаков. Остальные признаки не коррелируют между собой.\n",
    "\n",
    "Значения признаков находятся в разных диапазонах, поэтому перед обучением моделей, эти признаки нужно отмасштабировать. Средние значения близки к медиане. Посмотрим, на сколько распределения значений признаков отличаются от нормального."
   ]
  },
  {
   "cell_type": "code",
   "execution_count": 4,
   "metadata": {},
   "outputs": [
    {
     "data": {
      "image/png": "[encoded data removed]",
      "text/plain": [
       "<Figure size 1080x1080 with 9 Axes>"
      ]
     },
     "metadata": {
      "needs_background": "light"
     },
     "output_type": "display_data"
    }
   ],
   "source": [
    "f, ax = plt.subplots(nregions, len(features_name), gridspec_kw={'hspace': 0.4, 'wspace': 0.3})\n",
    "f.set_figheight(15)\n",
    "f.set_figwidth(15)\n",
    "\n",
    "for i in range(nregions):\n",
    "    for j, column_name in enumerate(features_name):\n",
    "        sm.qqplot(geo_data[i][column_name], line='45', fit=True, ax=ax[i, j])\n",
    "        ax[i, j].set_title('geo_data_' + str(i) + ' (' + column_name + ')')"
   ]
  },
  {
   "cell_type": "markdown",
   "metadata": {},
   "source": [
    "Некоторые признаки отклоняются от нормального распределения на больших и маленьких значениях, но в целом их можно принять как нормальные и использовать scaler. \n",
    "\n",
    "Сохраним признаки и целевой признак в отдельные таблицы."
   ]
  },
  {
   "cell_type": "code",
   "execution_count": 5,
   "metadata": {},
   "outputs": [
    {
     "name": "stdout",
     "output_type": "stream",
     "text": [
      "Размер таблицы с признаками для региона 0: (100000, 3)\n",
      "Размер столбца с целевым признаком для региона 0: (100000,)\n",
      "\n",
      "Размер таблицы с признаками для региона 1: (100000, 3)\n",
      "Размер столбца с целевым признаком для региона 1: (100000,)\n",
      "\n",
      "Размер таблицы с признаками для региона 2: (100000, 3)\n",
      "Размер столбца с целевым признаком для региона 2: (100000,)\n",
      "\n"
     ]
    }
   ],
   "source": [
    "features = []\n",
    "target = []\n",
    "\n",
    "for i in range(nregions):\n",
    "    features.append(geo_data[i][features_name])\n",
    "    target.append(geo_data[i]['product'])\n",
    "    print('Размер таблицы с признаками для региона {}: {}'.format(i, features[i].shape))\n",
    "    print('Размер столбца с целевым признаком для региона {}: {}'.format(i, target[i].shape))\n",
    "    print()"
   ]
  },
  {
   "cell_type": "markdown",
   "metadata": {},
   "source": [
    "Разделим данные на обучающую и валидационную выборки в соотношении 75:25 для каждого региона."
   ]
  },
  {
   "cell_type": "code",
   "execution_count": 6,
   "metadata": {},
   "outputs": [
    {
     "name": "stdout",
     "output_type": "stream",
     "text": [
      "Рамер обучающей выборки для региона 0: (75000, 3) (75000,)\n",
      "Рамер валидационной выборки для региона 0: (25000, 3) (25000,)\n",
      "\n",
      "Рамер обучающей выборки для региона 1: (75000, 3) (75000,)\n",
      "Рамер валидационной выборки для региона 1: (25000, 3) (25000,)\n",
      "\n",
      "Рамер обучающей выборки для региона 2: (75000, 3) (75000,)\n",
      "Рамер валидационной выборки для региона 2: (25000, 3) (25000,)\n",
      "\n"
     ]
    }
   ],
   "source": [
    "features_train = []\n",
    "features_valid = []\n",
    "target_train = []\n",
    "target_valid = []\n",
    "\n",
    "for i in range(nregions):\n",
    "    x_train, x_valid, y_train, y_valid = train_test_split(\n",
    "        features[i], target[i], test_size=0.25, random_state=42)\n",
    "    features_train.append(x_train)\n",
    "    features_valid.append(x_valid)\n",
    "    target_train.append(y_train)\n",
    "    target_valid.append(y_valid)\n",
    "    print('Рамер обучающей выборки для региона {}:'.format(i), features_train[i].shape, target_train[i].shape)\n",
    "    print('Рамер валидационной выборки для региона {}:'.format(i), features_valid[i].shape, target_valid[i].shape)\n",
    "    print()"
   ]
  },
  {
   "cell_type": "markdown",
   "metadata": {},
   "source": [
    "Отмасштабируем признаки."
   ]
  },
  {
   "cell_type": "code",
   "execution_count": 7,
   "metadata": {},
   "outputs": [
    {
     "data": {
      "text/html": [
       "<style  type=\"text/css\" >\n",
       "</style><table id=\"T_27f86_\" ><caption>geo_data_0</caption><thead>    <tr>        <th class=\"blank level0\" ></th>        <th class=\"col_heading level0 col0\" >f0</th>        <th class=\"col_heading level0 col1\" >f1</th>        <th class=\"col_heading level0 col2\" >f2</th>    </tr></thead><tbody>\n",
       "                <tr>\n",
       "                        <th id=\"T_27f86_level0_row0\" class=\"row_heading level0 row0\" >count</th>\n",
       "                        <td id=\"T_27f86_row0_col0\" class=\"data row0 col0\" >75000.000000</td>\n",
       "                        <td id=\"T_27f86_row0_col1\" class=\"data row0 col1\" >75000.000000</td>\n",
       "                        <td id=\"T_27f86_row0_col2\" class=\"data row0 col2\" >75000.000000</td>\n",
       "            </tr>\n",
       "            <tr>\n",
       "                        <th id=\"T_27f86_level0_row1\" class=\"row_heading level0 row1\" >mean</th>\n",
       "                        <td id=\"T_27f86_row1_col0\" class=\"data row1 col0\" >-0.00</td>\n",
       "                        <td id=\"T_27f86_row1_col1\" class=\"data row1 col1\" >0.00</td>\n",
       "                        <td id=\"T_27f86_row1_col2\" class=\"data row1 col2\" >0.00</td>\n",
       "            </tr>\n",
       "            <tr>\n",
       "                        <th id=\"T_27f86_level0_row2\" class=\"row_heading level0 row2\" >std</th>\n",
       "                        <td id=\"T_27f86_row2_col0\" class=\"data row2 col0\" >1.00</td>\n",
       "                        <td id=\"T_27f86_row2_col1\" class=\"data row2 col1\" >1.00</td>\n",
       "                        <td id=\"T_27f86_row2_col2\" class=\"data row2 col2\" >1.00</td>\n",
       "            </tr>\n",
       "            <tr>\n",
       "                        <th id=\"T_27f86_level0_row3\" class=\"row_heading level0 row3\" >min</th>\n",
       "                        <td id=\"T_27f86_row3_col0\" class=\"data row3 col0\" >-2.19</td>\n",
       "                        <td id=\"T_27f86_row3_col1\" class=\"data row3 col1\" >-2.18</td>\n",
       "                        <td id=\"T_27f86_row3_col2\" class=\"data row3 col2\" >-3.89</td>\n",
       "            </tr>\n",
       "            <tr>\n",
       "                        <th id=\"T_27f86_level0_row4\" class=\"row_heading level0 row4\" >25%</th>\n",
       "                        <td id=\"T_27f86_row4_col0\" class=\"data row4 col0\" >-0.66</td>\n",
       "                        <td id=\"T_27f86_row4_col1\" class=\"data row4 col1\" >-0.89</td>\n",
       "                        <td id=\"T_27f86_row4_col2\" class=\"data row4 col2\" >-0.68</td>\n",
       "            </tr>\n",
       "            <tr>\n",
       "                        <th id=\"T_27f86_level0_row5\" class=\"row_heading level0 row5\" >50%</th>\n",
       "                        <td id=\"T_27f86_row5_col0\" class=\"data row5 col0\" >0.00</td>\n",
       "                        <td id=\"T_27f86_row5_col1\" class=\"data row5 col1\" >0.00</td>\n",
       "                        <td id=\"T_27f86_row5_col2\" class=\"data row5 col2\" >0.00</td>\n",
       "            </tr>\n",
       "            <tr>\n",
       "                        <th id=\"T_27f86_level0_row6\" class=\"row_heading level0 row6\" >75%</th>\n",
       "                        <td id=\"T_27f86_row6_col0\" class=\"data row6 col0\" >0.65</td>\n",
       "                        <td id=\"T_27f86_row6_col1\" class=\"data row6 col1\" >0.89</td>\n",
       "                        <td id=\"T_27f86_row6_col2\" class=\"data row6 col2\" >0.68</td>\n",
       "            </tr>\n",
       "            <tr>\n",
       "                        <th id=\"T_27f86_level0_row7\" class=\"row_heading level0 row7\" >max</th>\n",
       "                        <td id=\"T_27f86_row7_col0\" class=\"data row7 col0\" >2.14</td>\n",
       "                        <td id=\"T_27f86_row7_col1\" class=\"data row7 col1\" >2.15</td>\n",
       "                        <td id=\"T_27f86_row7_col2\" class=\"data row7 col2\" >4.15</td>\n",
       "            </tr>\n",
       "    </tbody></table>"
      ],
      "text/plain": [
       "<pandas.io.formats.style.Styler at 0x7f9bd18a59a0>"
      ]
     },
     "metadata": {},
     "output_type": "display_data"
    },
    {
     "name": "stdout",
     "output_type": "stream",
     "text": [
      "\n"
     ]
    },
    {
     "data": {
      "text/html": [
       "<style  type=\"text/css\" >\n",
       "</style><table id=\"T_48a33_\" ><caption>geo_data_1</caption><thead>    <tr>        <th class=\"blank level0\" ></th>        <th class=\"col_heading level0 col0\" >f0</th>        <th class=\"col_heading level0 col1\" >f1</th>        <th class=\"col_heading level0 col2\" >f2</th>    </tr></thead><tbody>\n",
       "                <tr>\n",
       "                        <th id=\"T_48a33_level0_row0\" class=\"row_heading level0 row0\" >count</th>\n",
       "                        <td id=\"T_48a33_row0_col0\" class=\"data row0 col0\" >75000.000000</td>\n",
       "                        <td id=\"T_48a33_row0_col1\" class=\"data row0 col1\" >75000.000000</td>\n",
       "                        <td id=\"T_48a33_row0_col2\" class=\"data row0 col2\" >75000.000000</td>\n",
       "            </tr>\n",
       "            <tr>\n",
       "                        <th id=\"T_48a33_level0_row1\" class=\"row_heading level0 row1\" >mean</th>\n",
       "                        <td id=\"T_48a33_row1_col0\" class=\"data row1 col0\" >-0.00</td>\n",
       "                        <td id=\"T_48a33_row1_col1\" class=\"data row1 col1\" >0.00</td>\n",
       "                        <td id=\"T_48a33_row1_col2\" class=\"data row1 col2\" >0.00</td>\n",
       "            </tr>\n",
       "            <tr>\n",
       "                        <th id=\"T_48a33_level0_row2\" class=\"row_heading level0 row2\" >std</th>\n",
       "                        <td id=\"T_48a33_row2_col0\" class=\"data row2 col0\" >1.00</td>\n",
       "                        <td id=\"T_48a33_row2_col1\" class=\"data row2 col1\" >1.00</td>\n",
       "                        <td id=\"T_48a33_row2_col2\" class=\"data row2 col2\" >1.00</td>\n",
       "            </tr>\n",
       "            <tr>\n",
       "                        <th id=\"T_48a33_level0_row3\" class=\"row_heading level0 row3\" >min</th>\n",
       "                        <td id=\"T_48a33_row3_col0\" class=\"data row3 col0\" >-3.65</td>\n",
       "                        <td id=\"T_48a33_row3_col1\" class=\"data row3 col1\" >-4.21</td>\n",
       "                        <td id=\"T_48a33_row3_col2\" class=\"data row3 col2\" >-1.48</td>\n",
       "            </tr>\n",
       "            <tr>\n",
       "                        <th id=\"T_48a33_level0_row4\" class=\"row_heading level0 row4\" >25%</th>\n",
       "                        <td id=\"T_48a33_row4_col0\" class=\"data row4 col0\" >-0.83</td>\n",
       "                        <td id=\"T_48a33_row4_col1\" class=\"data row4 col1\" >-0.68</td>\n",
       "                        <td id=\"T_48a33_row4_col2\" class=\"data row4 col2\" >-0.88</td>\n",
       "            </tr>\n",
       "            <tr>\n",
       "                        <th id=\"T_48a33_level0_row5\" class=\"row_heading level0 row5\" >50%</th>\n",
       "                        <td id=\"T_48a33_row5_col0\" class=\"data row5 col0\" >0.00</td>\n",
       "                        <td id=\"T_48a33_row5_col1\" class=\"data row5 col1\" >-0.00</td>\n",
       "                        <td id=\"T_48a33_row5_col2\" class=\"data row5 col2\" >-0.28</td>\n",
       "            </tr>\n",
       "            <tr>\n",
       "                        <th id=\"T_48a33_level0_row6\" class=\"row_heading level0 row6\" >75%</th>\n",
       "                        <td id=\"T_48a33_row6_col0\" class=\"data row6 col0\" >0.83</td>\n",
       "                        <td id=\"T_48a33_row6_col1\" class=\"data row6 col1\" >0.68</td>\n",
       "                        <td id=\"T_48a33_row6_col2\" class=\"data row6 col2\" >0.88</td>\n",
       "            </tr>\n",
       "            <tr>\n",
       "                        <th id=\"T_48a33_level0_row7\" class=\"row_heading level0 row7\" >max</th>\n",
       "                        <td id=\"T_48a33_row7_col0\" class=\"data row7 col0\" >3.16</td>\n",
       "                        <td id=\"T_48a33_row7_col1\" class=\"data row7 col1\" >4.21</td>\n",
       "                        <td id=\"T_48a33_row7_col2\" class=\"data row7 col2\" >1.48</td>\n",
       "            </tr>\n",
       "    </tbody></table>"
      ],
      "text/plain": [
       "<pandas.io.formats.style.Styler at 0x7f9bd18a5ca0>"
      ]
     },
     "metadata": {},
     "output_type": "display_data"
    },
    {
     "name": "stdout",
     "output_type": "stream",
     "text": [
      "\n"
     ]
    },
    {
     "data": {
      "text/html": [
       "<style  type=\"text/css\" >\n",
       "</style><table id=\"T_1f6b9_\" ><caption>geo_data_2</caption><thead>    <tr>        <th class=\"blank level0\" ></th>        <th class=\"col_heading level0 col0\" >f0</th>        <th class=\"col_heading level0 col1\" >f1</th>        <th class=\"col_heading level0 col2\" >f2</th>    </tr></thead><tbody>\n",
       "                <tr>\n",
       "                        <th id=\"T_1f6b9_level0_row0\" class=\"row_heading level0 row0\" >count</th>\n",
       "                        <td id=\"T_1f6b9_row0_col0\" class=\"data row0 col0\" >75000.000000</td>\n",
       "                        <td id=\"T_1f6b9_row0_col1\" class=\"data row0 col1\" >75000.000000</td>\n",
       "                        <td id=\"T_1f6b9_row0_col2\" class=\"data row0 col2\" >75000.000000</td>\n",
       "            </tr>\n",
       "            <tr>\n",
       "                        <th id=\"T_1f6b9_level0_row1\" class=\"row_heading level0 row1\" >mean</th>\n",
       "                        <td id=\"T_1f6b9_row1_col0\" class=\"data row1 col0\" >0.00</td>\n",
       "                        <td id=\"T_1f6b9_row1_col1\" class=\"data row1 col1\" >-0.00</td>\n",
       "                        <td id=\"T_1f6b9_row1_col2\" class=\"data row1 col2\" >-0.00</td>\n",
       "            </tr>\n",
       "            <tr>\n",
       "                        <th id=\"T_1f6b9_level0_row2\" class=\"row_heading level0 row2\" >std</th>\n",
       "                        <td id=\"T_1f6b9_row2_col0\" class=\"data row2 col0\" >1.00</td>\n",
       "                        <td id=\"T_1f6b9_row2_col1\" class=\"data row2 col1\" >1.00</td>\n",
       "                        <td id=\"T_1f6b9_row2_col2\" class=\"data row2 col2\" >1.00</td>\n",
       "            </tr>\n",
       "            <tr>\n",
       "                        <th id=\"T_1f6b9_level0_row3\" class=\"row_heading level0 row3\" >min</th>\n",
       "                        <td id=\"T_1f6b9_row3_col0\" class=\"data row3 col0\" >-5.06</td>\n",
       "                        <td id=\"T_1f6b9_row3_col1\" class=\"data row3 col1\" >-4.09</td>\n",
       "                        <td id=\"T_1f6b9_row3_col2\" class=\"data row3 col2\" >-4.16</td>\n",
       "            </tr>\n",
       "            <tr>\n",
       "                        <th id=\"T_1f6b9_level0_row4\" class=\"row_heading level0 row4\" >25%</th>\n",
       "                        <td id=\"T_1f6b9_row4_col0\" class=\"data row4 col0\" >-0.67</td>\n",
       "                        <td id=\"T_1f6b9_row4_col1\" class=\"data row4 col1\" >-0.68</td>\n",
       "                        <td id=\"T_1f6b9_row4_col2\" class=\"data row4 col2\" >-0.68</td>\n",
       "            </tr>\n",
       "            <tr>\n",
       "                        <th id=\"T_1f6b9_level0_row5\" class=\"row_heading level0 row5\" >50%</th>\n",
       "                        <td id=\"T_1f6b9_row5_col0\" class=\"data row5 col0\" >0.00</td>\n",
       "                        <td id=\"T_1f6b9_row5_col1\" class=\"data row5 col1\" >-0.00</td>\n",
       "                        <td id=\"T_1f6b9_row5_col2\" class=\"data row5 col2\" >-0.00</td>\n",
       "            </tr>\n",
       "            <tr>\n",
       "                        <th id=\"T_1f6b9_level0_row6\" class=\"row_heading level0 row6\" >75%</th>\n",
       "                        <td id=\"T_1f6b9_row6_col0\" class=\"data row6 col0\" >0.67</td>\n",
       "                        <td id=\"T_1f6b9_row6_col1\" class=\"data row6 col1\" >0.67</td>\n",
       "                        <td id=\"T_1f6b9_row6_col2\" class=\"data row6 col2\" >0.68</td>\n",
       "            </tr>\n",
       "            <tr>\n",
       "                        <th id=\"T_1f6b9_level0_row7\" class=\"row_heading level0 row7\" >max</th>\n",
       "                        <td id=\"T_1f6b9_row7_col0\" class=\"data row7 col0\" >4.18</td>\n",
       "                        <td id=\"T_1f6b9_row7_col1\" class=\"data row7 col1\" >4.53</td>\n",
       "                        <td id=\"T_1f6b9_row7_col2\" class=\"data row7 col2\" >4.10</td>\n",
       "            </tr>\n",
       "    </tbody></table>"
      ],
      "text/plain": [
       "<pandas.io.formats.style.Styler at 0x7f9bd18a5040>"
      ]
     },
     "metadata": {},
     "output_type": "display_data"
    },
    {
     "name": "stdout",
     "output_type": "stream",
     "text": [
      "\n"
     ]
    }
   ],
   "source": [
    "pd.options.mode.chained_assignment = None\n",
    "\n",
    "scaler = StandardScaler()\n",
    "\n",
    "for i in range(nregions):\n",
    "    scaler.fit(features_train[i][features_name])\n",
    "    features_train[i][features_name] = scaler.transform(features_train[i][features_name])\n",
    "    features_valid[i][features_name] = scaler.transform(features_valid[i][features_name])\n",
    "    display(features_train[i].describe()\n",
    "            .applymap(lambda x: '{:.2f}'.format(x) if x != 75000 else x)\n",
    "            .style.set_caption('geo_data_{}'.format(i))\n",
    "           )\n",
    "    print()"
   ]
  },
  {
   "cell_type": "markdown",
   "metadata": {},
   "source": [
    "**Вывод**\n",
    "\n",
    "Для каждого региона были загружены и изучены данные о 100000 скважин. Признаки и целевой признак выделены в отдельные таблицы. Данные разделены на обучающую и валидационную выборки в соотношении 75:25. Признаки отмасштабированы."
   ]
  },
  {
   "cell_type": "markdown",
   "metadata": {},
   "source": [
    "## Обучение и проверка модели"
   ]
  },
  {
   "cell_type": "markdown",
   "metadata": {},
   "source": [
    "Для каждого региона создадим и обучим на обучающей выборке модель линейной регрессии. С помощью модели найдём предсказанные значения целевого признака на валидационной выборке и сохраним среднее предсказанное значение объёма нефти для скважины в регионе. Для оценки качества модели посчитаем RMSE, используя предсказанные значения и известные реальные значения целевого признака, и сравним со значением RMSE для модели, которая для всех значений признаков предсказывала бы одно значение - среднее в обучающей выборке."
   ]
  },
  {
   "cell_type": "code",
   "execution_count": 8,
   "metadata": {},
   "outputs": [
    {
     "data": {
      "text/html": [
       "<div>\n",
       "<style scoped>\n",
       "    .dataframe tbody tr th:only-of-type {\n",
       "        vertical-align: middle;\n",
       "    }\n",
       "\n",
       "    .dataframe tbody tr th {\n",
       "        vertical-align: top;\n",
       "    }\n",
       "\n",
       "    .dataframe thead th {\n",
       "        text-align: right;\n",
       "    }\n",
       "</style>\n",
       "<table border=\"1\" class=\"dataframe\">\n",
       "  <thead>\n",
       "    <tr style=\"text-align: right;\">\n",
       "      <th></th>\n",
       "      <th>predictions_mean</th>\n",
       "      <th>RMSE</th>\n",
       "      <th>RMSE_const_model</th>\n",
       "    </tr>\n",
       "    <tr>\n",
       "      <th>region</th>\n",
       "      <th></th>\n",
       "      <th></th>\n",
       "      <th></th>\n",
       "    </tr>\n",
       "  </thead>\n",
       "  <tbody>\n",
       "    <tr>\n",
       "      <th>0</th>\n",
       "      <td>92.40</td>\n",
       "      <td>37.76</td>\n",
       "      <td>44.28</td>\n",
       "    </tr>\n",
       "    <tr>\n",
       "      <th>1</th>\n",
       "      <td>68.71</td>\n",
       "      <td>0.89</td>\n",
       "      <td>45.94</td>\n",
       "    </tr>\n",
       "    <tr>\n",
       "      <th>2</th>\n",
       "      <td>94.77</td>\n",
       "      <td>40.15</td>\n",
       "      <td>44.78</td>\n",
       "    </tr>\n",
       "  </tbody>\n",
       "</table>\n",
       "</div>"
      ],
      "text/plain": [
       "        predictions_mean   RMSE  RMSE_const_model\n",
       "region                                           \n",
       "0                  92.40  37.76             44.28\n",
       "1                  68.71   0.89             45.94\n",
       "2                  94.77  40.15             44.78"
      ]
     },
     "execution_count": 8,
     "metadata": {},
     "output_type": "execute_result"
    }
   ],
   "source": [
    "model = []\n",
    "predictions_valid = []\n",
    "predictions_info = []\n",
    "\n",
    "for i in range(nregions):\n",
    "    model.append(LinearRegression())\n",
    "    model[i].fit(features_train[i], target_train[i])\n",
    "    predictions_valid.append(pd.Series(model[i].predict(features_valid[i]), index=target_valid[i].index))\n",
    "    \n",
    "    rmse = mean_squared_error(target_valid[i], predictions_valid[i]) ** 0.5\n",
    "    rmse_mean_pred = mean_squared_error(\n",
    "        target_valid[i], pd.Series(target_train[i].mean(), index=target_valid[i].index)) ** 0.5\n",
    "    \n",
    "    predictions_info.append([i, predictions_valid[i].mean(), rmse, rmse_mean_pred])\n",
    "    \n",
    "predictions_info = pd.DataFrame(\n",
    "    predictions_info, \n",
    "    columns = ['region', 'predictions_mean', 'RMSE', 'RMSE_const_model']).set_index('region')\n",
    "\n",
    "round(predictions_info, 2)"
   ]
  },
  {
   "cell_type": "markdown",
   "metadata": {},
   "source": [
    "Все получившиеся модели дают предсказание лучше, чем модель, предсказывающая всегда одно и то же число. Наилучшее качество предсказаний в регионе 1, но средний предсказанный объём нефти в этом регионе наименьший.\n",
    "\n",
    "**Вывод**\n",
    "\n",
    "Для каждого региона создана модель линейной регрессии и обучена на обучающей выборке. На валидационной выборке сделаны предсказания целевого признака и посчитано среднее значение. Для оценки качества модели посчитано значение RMSE. Также RMSE посчитано для модели, которая всегда предсказывает одно и то же число - среднее на обучающей выборке. \n",
    "\n",
    "Все модели показали себя лучше, чем константная модель. Наиболее точные результаты предсказаны в регионе 1. По среднему значению объёма нефти лидирует регион 2, затем следует регион 0 - с небольшим отставанием, а регион 1 показывает существенно более низкие результаты."
   ]
  },
  {
   "cell_type": "markdown",
   "metadata": {},
   "source": [
    "## Подготовка к расчёту прибыли"
   ]
  },
  {
   "cell_type": "markdown",
   "metadata": {},
   "source": [
    "Сохраним ключевые параметры из условия задачи."
   ]
  },
  {
   "cell_type": "code",
   "execution_count": 9,
   "metadata": {},
   "outputs": [],
   "source": [
    "number_of_all_welss = 500 #Исследуют 500 точек\n",
    "number_of_best_wells = 200 #Бурят 200 лучших\n",
    "budget = 10 ** 10 #Бюджет на разработку скважин - 10 млрд.р.\n",
    "unit_cost = 450000 #Доход с 1 тыс. баррелей в рублях\n",
    "max_loss_prob = 0.025 #Максимально допустимая вероятность убытка для региона"
   ]
  },
  {
   "cell_type": "markdown",
   "metadata": {},
   "source": [
    "Рассчитаем, какой объём нефти необходимо добывать с каждой скважины в регионе, чтобы разработка была безубыточной. Разделим стоимость разработки в регионе на количество скважин, которые будут бурить, - так мы получим стоимость одной скважины. Стоимость скважины разделим на доход с 1 тыс. баррелей, чтобы узнать объём нефти, который покроет расходы."
   ]
  },
  {
   "cell_type": "code",
   "execution_count": 10,
   "metadata": {},
   "outputs": [
    {
     "name": "stdout",
     "output_type": "stream",
     "text": [
      "Средний объём нефти со скважины в регионе для безубыточности: 111.11 тыс. баррелей.\n"
     ]
    }
   ],
   "source": [
    "breakeven_volume = budget / number_of_best_wells / unit_cost\n",
    "print('Средний объём нефти со скважины в регионе для безубыточности: {:.2f} тыс. баррелей.'.format(breakeven_volume))"
   ]
  },
  {
   "cell_type": "markdown",
   "metadata": {},
   "source": [
    "Чтобы выйти на точку безубыточности, каждая из 200 скважин в регионе должна принести 111,11 тыс. баррелей нефти. Это больше, чем средний предсказанный объём скважины в любом из трёх регионов. Т.е. недостаточно пробурить случайные 200 скважин, чтобы оправдать расходы. \n",
    "\n",
    "Возможно, если взять для расчёта лучшие скважины, картина изменится. Посчитаем реальную прибыль по лучщим предсказанным скважинам."
   ]
  },
  {
   "cell_type": "code",
   "execution_count": 11,
   "metadata": {},
   "outputs": [
    {
     "name": "stdout",
     "output_type": "stream",
     "text": [
      "Прибыль с двухсот лучших предсказанных скважин региона 0: 3.36 млрд.р.\n",
      "Прибыль с двухсот лучших предсказанных скважин региона 1: 2.42 млрд.р.\n",
      "Прибыль с двухсот лучших предсказанных скважин региона 2: 2.60 млрд.р.\n"
     ]
    }
   ],
   "source": [
    "def profit(target, predictions, number_of_wells):\n",
    "    return (target[predictions.sort_values(ascending=False).index][:number_of_wells] * unit_cost).sum() - budget\n",
    "\n",
    "for i in range(nregions):\n",
    "    print('Прибыль с двухсот лучших предсказанных скважин региона {}: {:.2f} млрд.р.'.format(\n",
    "        i,\n",
    "        profit(target_valid[i], predictions_valid[i], number_of_best_wells) / 10 ** 9\n",
    "    ))"
   ]
  },
  {
   "cell_type": "markdown",
   "metadata": {},
   "source": [
    "**Вывод**\n",
    "\n",
    "Для безубыточной разработки 200 скважин в регионе каждая должна приносить 111.11 тыс. баррелей. В представленных регионах недостаточно нефти, чтобы можно было пробурить 200 случайных скважин и получать прибыль. Если выбрать для бурения 200 лучших предсказанных скавжин, то суммарная выручка с продажи добытой нефти покроет затраты на разработку, при этом наибольшую прибыль принесёт регион 0."
   ]
  },
  {
   "cell_type": "markdown",
   "metadata": {},
   "source": [
    "## Расчёт прибыли и рисков "
   ]
  },
  {
   "cell_type": "markdown",
   "metadata": {},
   "source": [
    "При разведке региона изучают только 500 скважин. Выясним, достаточно ли этого, чтобы найти 200 доходных скважин. Возьмём 1000 выборок по 500 скважин и посмотрим на распределение прибыли."
   ]
  },
  {
   "cell_type": "code",
   "execution_count": 12,
   "metadata": {},
   "outputs": [
    {
     "data": {
      "text/html": [
       "<div>\n",
       "<style scoped>\n",
       "    .dataframe tbody tr th:only-of-type {\n",
       "        vertical-align: middle;\n",
       "    }\n",
       "\n",
       "    .dataframe tbody tr th {\n",
       "        vertical-align: top;\n",
       "    }\n",
       "\n",
       "    .dataframe thead th {\n",
       "        text-align: right;\n",
       "    }\n",
       "</style>\n",
       "<table border=\"1\" class=\"dataframe\">\n",
       "  <thead>\n",
       "    <tr style=\"text-align: right;\">\n",
       "      <th></th>\n",
       "      <th>mean_profit</th>\n",
       "      <th>lower_profit</th>\n",
       "      <th>upper_profit</th>\n",
       "      <th>loss_prob</th>\n",
       "      <th>max_loss_prob</th>\n",
       "    </tr>\n",
       "    <tr>\n",
       "      <th>region</th>\n",
       "      <th></th>\n",
       "      <th></th>\n",
       "      <th></th>\n",
       "      <th></th>\n",
       "      <th></th>\n",
       "    </tr>\n",
       "  </thead>\n",
       "  <tbody>\n",
       "    <tr>\n",
       "      <th>0</th>\n",
       "      <td>427.85 млн.р.</td>\n",
       "      <td>-97.25 млн.р.</td>\n",
       "      <td>954.22 млн.р.</td>\n",
       "      <td>5.5%</td>\n",
       "      <td>2.5%</td>\n",
       "    </tr>\n",
       "    <tr>\n",
       "      <th>1</th>\n",
       "      <td>511.53 млн.р.</td>\n",
       "      <td>91.70 млн.р.</td>\n",
       "      <td>921.46 млн.р.</td>\n",
       "      <td>0.6%</td>\n",
       "      <td>2.5%</td>\n",
       "    </tr>\n",
       "    <tr>\n",
       "      <th>2</th>\n",
       "      <td>408.55 млн.р.</td>\n",
       "      <td>-120.62 млн.р.</td>\n",
       "      <td>960.86 млн.р.</td>\n",
       "      <td>7.5%</td>\n",
       "      <td>2.5%</td>\n",
       "    </tr>\n",
       "  </tbody>\n",
       "</table>\n",
       "</div>"
      ],
      "text/plain": [
       "          mean_profit    lower_profit   upper_profit loss_prob max_loss_prob\n",
       "region                                                                      \n",
       "0       427.85 млн.р.   -97.25 млн.р.  954.22 млн.р.      5.5%          2.5%\n",
       "1       511.53 млн.р.    91.70 млн.р.  921.46 млн.р.      0.6%          2.5%\n",
       "2       408.55 млн.р.  -120.62 млн.р.  960.86 млн.р.      7.5%          2.5%"
      ]
     },
     "execution_count": 12,
     "metadata": {},
     "output_type": "execute_result"
    }
   ],
   "source": [
    "bootstrap_samples = 1000\n",
    "state = RandomState(42)\n",
    "profit_values = []\n",
    "profit_info = []\n",
    "\n",
    "for i in range(nregions):\n",
    "    profit_values.append([])\n",
    "    \n",
    "    for _ in range(bootstrap_samples):\n",
    "        sample = predictions_valid[i].sample(n = number_of_all_welss, random_state = state, replace = True)\n",
    "        profit_values[i].append(profit(target_valid[i][sample.index], sample, number_of_best_wells))\n",
    "        \n",
    "    profit_values[i] = pd.Series(profit_values[i])\n",
    "    mean_profit = profit_values[i].mean()\n",
    "    lower_profit = profit_values[i].quantile(0.025)\n",
    "    upper_profit = profit_values[i].quantile(0.975)\n",
    "    loss_prob = profit_values[i][profit_values[i] < 0].count() / profit_values[i].count()\n",
    "    profit_info.append([i, mean_profit, lower_profit, upper_profit, loss_prob, max_loss_prob])\n",
    "    \n",
    "profit_info = pd.DataFrame(\n",
    "    profit_info,\n",
    "    columns = ['region', 'mean_profit', 'lower_profit', 'upper_profit', 'loss_prob', 'max_loss_prob']\n",
    ").set_index('region')\n",
    "\n",
    "profit_info.applymap(lambda x: '{:.2f} млн.р.'.format(x / 10 ** 6) if abs(x) > 1 else '{:.1%}'.format(x))"
   ]
  },
  {
   "cell_type": "markdown",
   "metadata": {},
   "source": [
    "**Вывод**\n",
    "\n",
    "Чтобы определить распределение прибыли, в каждом регионе проанализированы 1000 случайных выборок по 500 скважин. Посчитаны средние значения ожидаемой прибыли и 95%-ый доверительный интервал. Также посчитана вероятность убытка. Только в одном регионе - регионе 1 - вероятность убытка меньше порогового значения 2,5%. В этом же регионе в 95%-ый интервал значений прибыли не входят отрицательные величины. В двух других регионах вероятность убытка достаточно высокая, при этом максимально возможная прибыль сопостовима с максимально возможной прибылью в регионе 1."
   ]
  },
  {
   "cell_type": "markdown",
   "metadata": {},
   "source": [
    "## Вывод"
   ]
  },
  {
   "cell_type": "markdown",
   "metadata": {},
   "source": [
    "Для каждого региона загружены и проанализированы данные о нефтяных месторождениях. Признаки и целевой признак сохранены в соответствующие таблицы. Данные разделены на обучающую и валидационную выборки в соотношении 75:25, признаки отмасштабированы. Модель линейной регрессии обучена на обучающей выборке. С помощью модели получены предсказания для валидационной выборки и посчитано среднее значение объёма нефти. Качество модели оценено с помощью RMSE в сравнении с константной моделью. Также посчитан объём нефти, необходимый для безубыточной разработки.\n",
    "\n",
    "Выяснилось, что средних предсказанных объёмов нефти в регионах недостаточно для безубыточного производства, однако лучшие 200 скважин дают хорошую прибыль. Чтобы оценить риски и доход, взяты 1000 случайных выборок по 500 скважин, из которых согласно предсказаниям модели выбраны 200 лучших и посчитана реальная прибыль. На основании получившейся выборки прибылей посчитано среднее значение, 95%-ый доверительный интервал и риск убытка.\n",
    "\n",
    "Только в одном регионе - регионе 1 - риск убытка меньше 2,5%, а в 95%-ом доверительном интервале нет отрицательных значений прибыли. Среднее предсказанное значение прибыли в этом регионе больше, чем в остальных.\n",
    "\n",
    "Для разработки месторождений нефти рекомендован регион 1."
   ]
  },
  {
   "cell_type": "markdown",
   "metadata": {},
   "source": [
    "## Чек-лист готовности проекта"
   ]
  },
  {
   "cell_type": "markdown",
   "metadata": {},
   "source": [
    "Поставьте 'x' в выполненных пунктах. Далее нажмите Shift+Enter."
   ]
  },
  {
   "cell_type": "markdown",
   "metadata": {},
   "source": [
    "- [x]  Jupyter Notebook открыт\n",
    "- [x]  Весь код выполняется без ошибок\n",
    "- [x]  Ячейки с кодом расположены в порядке исполнения\n",
    "- [x]  Выполнен шаг 1: данные подготовлены\n",
    "- [x]  Выполнен шаг 2: модели обучены и проверены\n",
    "    - [x]  Данные корректно разбиты на обучающую и валидационную выборки\n",
    "    - [x]  Модели обучены, предсказания сделаны\n",
    "    - [x]  Предсказания и правильные ответы на валидационной выборке сохранены\n",
    "    - [x]  На экране напечатаны результаты\n",
    "    - [x]  Сделаны выводы\n",
    "- [x]  Выполнен шаг 3: проведена подготовка к расчёту прибыли\n",
    "    - [x]  Для всех ключевых значений созданы константы Python\n",
    "    - [x]  Посчитано минимальное среднее количество продукта в месторождениях региона, достаточное для разработки\n",
    "    - [x]  По предыдущему пункту сделаны выводы\n",
    "    - [x]  Написана функция расчёта прибыли\n",
    "- [x]  Выполнен шаг 4: посчитаны риски и прибыль\n",
    "    - [x]  Проведена процедура *Bootstrap*\n",
    "    - [x]  Все параметры бутстрепа соответствуют условию\n",
    "    - [x]  Найдены все нужные величины\n",
    "    - [x]  Предложен регион для разработки месторождения\n",
    "    - [x]  Выбор региона обоснован"
   ]
  },
  {
   "cell_type": "code",
   "execution_count": null,
   "metadata": {},
   "outputs": [],
   "source": []
  }
 ],
 "metadata": {
  "ExecuteTimeLog": [
   {
    "duration": 520,
    "start_time": "2021-07-14T10:11:57.216Z"
   },
   {
    "duration": 59,
    "start_time": "2021-07-14T10:12:49.048Z"
   },
   {
    "duration": 358,
    "start_time": "2021-07-14T10:12:56.168Z"
   },
   {
    "duration": 134,
    "start_time": "2021-07-14T10:13:02.862Z"
   },
   {
    "duration": 134,
    "start_time": "2021-07-14T10:13:33.910Z"
   },
   {
    "duration": 130,
    "start_time": "2021-07-14T10:13:47.457Z"
   },
   {
    "duration": 9,
    "start_time": "2021-07-14T10:22:37.301Z"
   },
   {
    "duration": 12,
    "start_time": "2021-07-14T10:22:53.279Z"
   },
   {
    "duration": 11,
    "start_time": "2021-07-14T10:23:07.710Z"
   },
   {
    "duration": 11,
    "start_time": "2021-07-14T10:23:27.134Z"
   },
   {
    "duration": 2,
    "start_time": "2021-07-14T10:26:53.790Z"
   },
   {
    "duration": 140,
    "start_time": "2021-07-14T10:28:35.820Z"
   },
   {
    "duration": 12,
    "start_time": "2021-07-14T10:29:01.018Z"
   },
   {
    "duration": 8,
    "start_time": "2021-07-14T10:29:14.986Z"
   },
   {
    "duration": 135,
    "start_time": "2021-07-14T10:30:14.289Z"
   },
   {
    "duration": 3,
    "start_time": "2021-07-14T10:30:32.232Z"
   },
   {
    "duration": 3,
    "start_time": "2021-07-14T10:30:43.719Z"
   },
   {
    "duration": 131,
    "start_time": "2021-07-14T10:30:47.863Z"
   },
   {
    "duration": 3,
    "start_time": "2021-07-14T10:31:15.742Z"
   },
   {
    "duration": 139,
    "start_time": "2021-07-14T10:31:17.671Z"
   },
   {
    "duration": 3,
    "start_time": "2021-07-14T10:31:46.774Z"
   },
   {
    "duration": 133,
    "start_time": "2021-07-14T10:31:50.798Z"
   },
   {
    "duration": 3,
    "start_time": "2021-07-14T10:32:02.046Z"
   },
   {
    "duration": 134,
    "start_time": "2021-07-14T10:32:04.093Z"
   },
   {
    "duration": 10,
    "start_time": "2021-07-14T10:32:30.819Z"
   },
   {
    "duration": 3,
    "start_time": "2021-07-14T10:32:53.123Z"
   },
   {
    "duration": 135,
    "start_time": "2021-07-14T10:32:56.460Z"
   },
   {
    "duration": 133,
    "start_time": "2021-07-14T10:33:15.925Z"
   },
   {
    "duration": 139,
    "start_time": "2021-07-14T10:33:30.495Z"
   },
   {
    "duration": 13,
    "start_time": "2021-07-14T10:41:55.423Z"
   },
   {
    "duration": 4405,
    "start_time": "2021-07-14T10:42:28.676Z"
   },
   {
    "duration": 13,
    "start_time": "2021-07-14T10:42:34.935Z"
   },
   {
    "duration": 12,
    "start_time": "2021-07-14T10:43:43.417Z"
   },
   {
    "duration": 12,
    "start_time": "2021-07-14T10:43:59.161Z"
   },
   {
    "duration": 204,
    "start_time": "2021-07-14T11:18:54.598Z"
   },
   {
    "duration": 3,
    "start_time": "2021-07-14T11:19:04.755Z"
   },
   {
    "duration": 394,
    "start_time": "2021-07-14T11:21:58.169Z"
   },
   {
    "duration": 18,
    "start_time": "2021-07-14T11:24:54.130Z"
   },
   {
    "duration": 21,
    "start_time": "2021-07-14T11:25:07.841Z"
   },
   {
    "duration": 93,
    "start_time": "2021-07-14T11:26:29.951Z"
   },
   {
    "duration": 94,
    "start_time": "2021-07-14T11:28:22.523Z"
   },
   {
    "duration": 541,
    "start_time": "2021-07-14T11:37:55.521Z"
   },
   {
    "duration": 80,
    "start_time": "2021-07-14T11:38:30.177Z"
   },
   {
    "duration": 90,
    "start_time": "2021-07-14T11:38:43.887Z"
   },
   {
    "duration": 2,
    "start_time": "2021-07-14T11:39:17.678Z"
   },
   {
    "duration": 128,
    "start_time": "2021-07-14T11:39:49.767Z"
   },
   {
    "duration": 413,
    "start_time": "2021-07-14T11:40:18.855Z"
   },
   {
    "duration": 423,
    "start_time": "2021-07-14T11:40:44.576Z"
   },
   {
    "duration": 463,
    "start_time": "2021-07-14T11:40:55.340Z"
   },
   {
    "duration": 416,
    "start_time": "2021-07-14T11:41:18.396Z"
   },
   {
    "duration": 421,
    "start_time": "2021-07-14T11:41:25.419Z"
   },
   {
    "duration": 123,
    "start_time": "2021-07-14T11:41:29.876Z"
   },
   {
    "duration": 328,
    "start_time": "2021-07-14T16:23:22.180Z"
   },
   {
    "duration": 1476,
    "start_time": "2021-07-14T16:23:47.062Z"
   },
   {
    "duration": 502,
    "start_time": "2021-07-14T16:23:54.160Z"
   },
   {
    "duration": 177,
    "start_time": "2021-07-14T16:23:58.792Z"
   },
   {
    "duration": 44284,
    "start_time": "2021-07-14T16:24:02.796Z"
   },
   {
    "duration": 43644,
    "start_time": "2021-07-14T16:28:14.688Z"
   },
   {
    "duration": 3267,
    "start_time": "2021-07-14T16:33:57.858Z"
   },
   {
    "duration": 171,
    "start_time": "2021-07-14T16:34:24.481Z"
   },
   {
    "duration": 8948,
    "start_time": "2021-07-14T16:34:30.574Z"
   },
   {
    "duration": 1707,
    "start_time": "2021-07-14T16:35:27.252Z"
   },
   {
    "duration": 786,
    "start_time": "2021-07-14T16:35:28.962Z"
   },
   {
    "duration": 279,
    "start_time": "2021-07-14T16:35:29.756Z"
   },
   {
    "duration": 6428,
    "start_time": "2021-07-14T16:35:30.038Z"
   },
   {
    "duration": 8615,
    "start_time": "2021-07-14T16:36:34.356Z"
   },
   {
    "duration": 16,
    "start_time": "2021-07-14T16:37:46.508Z"
   },
   {
    "duration": 17,
    "start_time": "2021-07-14T16:42:51.330Z"
   },
   {
    "duration": 15,
    "start_time": "2021-07-14T16:43:07.891Z"
   },
   {
    "duration": 42,
    "start_time": "2021-07-14T16:45:04.471Z"
   },
   {
    "duration": 5,
    "start_time": "2021-07-14T16:45:29.220Z"
   },
   {
    "duration": 53,
    "start_time": "2021-07-14T17:01:57.698Z"
   },
   {
    "duration": 51,
    "start_time": "2021-07-14T17:03:19.253Z"
   },
   {
    "duration": 439,
    "start_time": "2021-07-14T17:07:09.708Z"
   },
   {
    "duration": 6,
    "start_time": "2021-07-14T17:07:59.531Z"
   },
   {
    "duration": 14,
    "start_time": "2021-07-14T17:08:24.510Z"
   },
   {
    "duration": 63,
    "start_time": "2021-07-14T17:09:02.013Z"
   },
   {
    "duration": 79,
    "start_time": "2021-07-14T17:09:15.712Z"
   },
   {
    "duration": 80,
    "start_time": "2021-07-14T17:09:45.683Z"
   },
   {
    "duration": 52,
    "start_time": "2021-07-14T17:10:00.322Z"
   },
   {
    "duration": 430,
    "start_time": "2021-07-14T17:10:37.928Z"
   },
   {
    "duration": 28,
    "start_time": "2021-07-14T17:11:22.029Z"
   },
   {
    "duration": 53,
    "start_time": "2021-07-14T17:13:37.209Z"
   },
   {
    "duration": 1582,
    "start_time": "2021-07-14T17:14:21.855Z"
   },
   {
    "duration": 535,
    "start_time": "2021-07-14T17:14:23.439Z"
   },
   {
    "duration": 225,
    "start_time": "2021-07-14T17:14:23.983Z"
   },
   {
    "duration": 8514,
    "start_time": "2021-07-14T17:14:24.211Z"
   },
   {
    "duration": 19,
    "start_time": "2021-07-14T17:14:32.728Z"
   },
   {
    "duration": 83,
    "start_time": "2021-07-14T17:14:32.750Z"
   },
   {
    "duration": 440,
    "start_time": "2021-07-14T17:14:32.836Z"
   },
   {
    "duration": 1620,
    "start_time": "2021-07-14T17:15:33.109Z"
   },
   {
    "duration": 523,
    "start_time": "2021-07-14T17:15:34.733Z"
   },
   {
    "duration": 213,
    "start_time": "2021-07-14T17:15:35.260Z"
   },
   {
    "duration": 8832,
    "start_time": "2021-07-14T17:15:35.502Z"
   },
   {
    "duration": 19,
    "start_time": "2021-07-14T17:15:44.338Z"
   },
   {
    "duration": 82,
    "start_time": "2021-07-14T17:15:44.361Z"
   },
   {
    "duration": 83,
    "start_time": "2021-07-14T17:15:44.446Z"
   },
   {
    "duration": 127,
    "start_time": "2021-07-14T17:17:23.620Z"
   },
   {
    "duration": 1658,
    "start_time": "2021-07-14T17:19:44.589Z"
   },
   {
    "duration": 529,
    "start_time": "2021-07-14T17:19:46.250Z"
   },
   {
    "duration": 224,
    "start_time": "2021-07-14T17:19:46.783Z"
   },
   {
    "duration": 8666,
    "start_time": "2021-07-14T17:19:47.012Z"
   },
   {
    "duration": 27,
    "start_time": "2021-07-14T17:19:55.681Z"
   },
   {
    "duration": 52,
    "start_time": "2021-07-14T17:19:55.710Z"
   },
   {
    "duration": 10744,
    "start_time": "2021-07-14T17:19:55.764Z"
   },
   {
    "duration": 93,
    "start_time": "2021-07-14T17:22:35.510Z"
   },
   {
    "duration": 1601,
    "start_time": "2021-07-14T17:25:06.441Z"
   },
   {
    "duration": 537,
    "start_time": "2021-07-14T17:25:08.046Z"
   },
   {
    "duration": 187,
    "start_time": "2021-07-14T17:25:08.586Z"
   },
   {
    "duration": 8541,
    "start_time": "2021-07-14T17:25:08.800Z"
   },
   {
    "duration": 18,
    "start_time": "2021-07-14T17:25:17.343Z"
   },
   {
    "duration": 76,
    "start_time": "2021-07-14T17:25:17.364Z"
   },
   {
    "duration": 101,
    "start_time": "2021-07-14T17:25:17.442Z"
   },
   {
    "duration": 23,
    "start_time": "2021-07-14T17:29:52.664Z"
   },
   {
    "duration": 302,
    "start_time": "2021-07-14T17:39:04.298Z"
   },
   {
    "duration": 209,
    "start_time": "2021-07-14T17:39:19.793Z"
   },
   {
    "duration": 209,
    "start_time": "2021-07-14T17:42:52.995Z"
   },
   {
    "duration": 236,
    "start_time": "2021-07-14T17:58:51.772Z"
   },
   {
    "duration": 276,
    "start_time": "2021-07-14T17:59:17.331Z"
   },
   {
    "duration": 295,
    "start_time": "2021-07-14T17:59:43.913Z"
   },
   {
    "duration": 5,
    "start_time": "2021-07-14T18:11:05.910Z"
   },
   {
    "duration": 582,
    "start_time": "2021-07-14T18:11:05.918Z"
   },
   {
    "duration": 204,
    "start_time": "2021-07-14T18:11:06.504Z"
   },
   {
    "duration": 9425,
    "start_time": "2021-07-14T18:11:06.710Z"
   },
   {
    "duration": 15,
    "start_time": "2021-07-14T18:11:16.137Z"
   },
   {
    "duration": 78,
    "start_time": "2021-07-14T18:11:16.155Z"
   },
   {
    "duration": 345,
    "start_time": "2021-07-14T18:11:31.167Z"
   },
   {
    "duration": 225,
    "start_time": "2021-07-14T18:11:46.376Z"
   },
   {
    "duration": 86,
    "start_time": "2021-07-14T18:12:04.633Z"
   },
   {
    "duration": 270,
    "start_time": "2021-07-14T18:12:08.944Z"
   },
   {
    "duration": 225,
    "start_time": "2021-07-14T18:12:12.983Z"
   },
   {
    "duration": 207,
    "start_time": "2021-07-14T18:14:39.796Z"
   },
   {
    "duration": 858,
    "start_time": "2021-07-14T18:19:44.864Z"
   },
   {
    "duration": 192,
    "start_time": "2021-07-14T18:20:08.221Z"
   },
   {
    "duration": 77,
    "start_time": "2021-07-14T18:20:23.367Z"
   },
   {
    "duration": 48,
    "start_time": "2021-07-14T18:21:52.620Z"
   },
   {
    "duration": 44,
    "start_time": "2021-07-14T18:22:35.460Z"
   },
   {
    "duration": 91,
    "start_time": "2021-07-14T18:23:19.564Z"
   },
   {
    "duration": 185,
    "start_time": "2021-07-14T18:23:25.278Z"
   },
   {
    "duration": 163,
    "start_time": "2021-07-14T18:24:47.540Z"
   },
   {
    "duration": 72,
    "start_time": "2021-07-14T18:25:54.907Z"
   },
   {
    "duration": 1611,
    "start_time": "2021-07-14T18:29:02.344Z"
   },
   {
    "duration": 536,
    "start_time": "2021-07-14T18:29:03.958Z"
   },
   {
    "duration": 815,
    "start_time": "2021-07-14T18:29:04.497Z"
   },
   {
    "duration": 8444,
    "start_time": "2021-07-14T18:29:05.315Z"
   },
   {
    "duration": 18,
    "start_time": "2021-07-14T18:29:13.761Z"
   },
   {
    "duration": 51,
    "start_time": "2021-07-14T18:29:13.801Z"
   },
   {
    "duration": 92,
    "start_time": "2021-07-14T18:29:13.855Z"
   },
   {
    "duration": 260,
    "start_time": "2021-07-14T18:29:13.949Z"
   },
   {
    "duration": 1595,
    "start_time": "2021-07-14T18:31:50.965Z"
   },
   {
    "duration": 509,
    "start_time": "2021-07-14T18:31:52.563Z"
   },
   {
    "duration": 1239,
    "start_time": "2021-07-14T18:31:53.075Z"
   },
   {
    "duration": 8454,
    "start_time": "2021-07-14T18:31:54.317Z"
   },
   {
    "duration": 30,
    "start_time": "2021-07-14T18:32:02.774Z"
   },
   {
    "duration": 63,
    "start_time": "2021-07-14T18:32:02.806Z"
   },
   {
    "duration": 94,
    "start_time": "2021-07-14T18:32:02.871Z"
   },
   {
    "duration": 441,
    "start_time": "2021-07-14T18:32:02.967Z"
   },
   {
    "duration": 263,
    "start_time": "2021-07-14T18:37:34.040Z"
   },
   {
    "duration": 352,
    "start_time": "2021-07-14T18:37:42.049Z"
   },
   {
    "duration": 303,
    "start_time": "2021-07-14T18:38:15.306Z"
   },
   {
    "duration": 5,
    "start_time": "2021-07-14T18:42:26.855Z"
   },
   {
    "duration": 325,
    "start_time": "2021-07-14T18:42:34.179Z"
   },
   {
    "duration": 2253,
    "start_time": "2021-07-15T14:53:55.805Z"
   },
   {
    "duration": 795,
    "start_time": "2021-07-15T14:53:58.062Z"
   },
   {
    "duration": 876,
    "start_time": "2021-07-15T14:53:58.861Z"
   },
   {
    "duration": 9089,
    "start_time": "2021-07-15T14:53:59.755Z"
   },
   {
    "duration": 23,
    "start_time": "2021-07-15T14:54:08.846Z"
   },
   {
    "duration": 85,
    "start_time": "2021-07-15T14:54:08.872Z"
   },
   {
    "duration": 98,
    "start_time": "2021-07-15T14:54:08.960Z"
   },
   {
    "duration": 601,
    "start_time": "2021-07-15T14:54:09.060Z"
   },
   {
    "duration": 7,
    "start_time": "2021-07-15T14:54:18.462Z"
   },
   {
    "duration": 1764,
    "start_time": "2021-07-15T14:55:48.724Z"
   },
   {
    "duration": 543,
    "start_time": "2021-07-15T14:55:50.491Z"
   },
   {
    "duration": 893,
    "start_time": "2021-07-15T14:55:51.039Z"
   },
   {
    "duration": 9565,
    "start_time": "2021-07-15T14:55:51.956Z"
   },
   {
    "duration": 32,
    "start_time": "2021-07-15T14:56:01.524Z"
   },
   {
    "duration": 72,
    "start_time": "2021-07-15T14:56:01.558Z"
   },
   {
    "duration": 82,
    "start_time": "2021-07-15T14:56:01.632Z"
   },
   {
    "duration": 447,
    "start_time": "2021-07-15T14:56:01.716Z"
   },
   {
    "duration": 5,
    "start_time": "2021-07-15T15:10:14.436Z"
   },
   {
    "duration": 6,
    "start_time": "2021-07-15T15:10:24.213Z"
   },
   {
    "duration": 4,
    "start_time": "2021-07-15T15:17:07.408Z"
   },
   {
    "duration": 310,
    "start_time": "2021-07-15T15:56:43.247Z"
   },
   {
    "duration": 1738,
    "start_time": "2021-07-15T15:57:32.691Z"
   },
   {
    "duration": 570,
    "start_time": "2021-07-15T15:57:34.432Z"
   },
   {
    "duration": 1058,
    "start_time": "2021-07-15T15:57:35.006Z"
   },
   {
    "duration": 11719,
    "start_time": "2021-07-15T15:57:36.068Z"
   },
   {
    "duration": 19,
    "start_time": "2021-07-15T15:57:47.789Z"
   },
   {
    "duration": 86,
    "start_time": "2021-07-15T15:57:47.810Z"
   },
   {
    "duration": 97,
    "start_time": "2021-07-15T15:57:47.899Z"
   },
   {
    "duration": 569,
    "start_time": "2021-07-15T15:57:47.998Z"
   },
   {
    "duration": 5,
    "start_time": "2021-07-15T15:57:48.571Z"
   },
   {
    "duration": 9,
    "start_time": "2021-07-15T15:57:48.580Z"
   },
   {
    "duration": 2275,
    "start_time": "2021-07-16T06:30:22.510Z"
   },
   {
    "duration": 811,
    "start_time": "2021-07-16T06:30:24.789Z"
   },
   {
    "duration": 1115,
    "start_time": "2021-07-16T06:30:25.604Z"
   },
   {
    "duration": 9051,
    "start_time": "2021-07-16T06:30:26.723Z"
   },
   {
    "duration": 21,
    "start_time": "2021-07-16T06:30:35.777Z"
   },
   {
    "duration": 89,
    "start_time": "2021-07-16T06:30:35.801Z"
   },
   {
    "duration": 94,
    "start_time": "2021-07-16T06:30:35.893Z"
   },
   {
    "duration": 576,
    "start_time": "2021-07-16T06:30:35.990Z"
   },
   {
    "duration": 4,
    "start_time": "2021-07-16T06:30:36.569Z"
   },
   {
    "duration": 13,
    "start_time": "2021-07-16T06:30:36.575Z"
   },
   {
    "duration": 799,
    "start_time": "2021-07-16T06:49:22.516Z"
   },
   {
    "duration": 6,
    "start_time": "2021-07-16T06:50:13.407Z"
   },
   {
    "duration": 7,
    "start_time": "2021-07-16T06:50:29.127Z"
   },
   {
    "duration": 10,
    "start_time": "2021-07-16T06:51:11.893Z"
   },
   {
    "duration": 1795,
    "start_time": "2021-07-16T06:52:56.695Z"
   },
   {
    "duration": 748,
    "start_time": "2021-07-16T06:52:58.493Z"
   },
   {
    "duration": 1067,
    "start_time": "2021-07-16T06:52:59.248Z"
   },
   {
    "duration": 9614,
    "start_time": "2021-07-16T06:53:00.318Z"
   },
   {
    "duration": 39,
    "start_time": "2021-07-16T06:53:09.935Z"
   },
   {
    "duration": 53,
    "start_time": "2021-07-16T06:53:09.977Z"
   },
   {
    "duration": 97,
    "start_time": "2021-07-16T06:53:10.032Z"
   },
   {
    "duration": 402,
    "start_time": "2021-07-16T06:53:10.163Z"
   },
   {
    "duration": 10,
    "start_time": "2021-07-16T06:53:10.568Z"
   },
   {
    "duration": 6,
    "start_time": "2021-07-16T06:53:10.581Z"
   },
   {
    "duration": 42,
    "start_time": "2021-07-16T06:53:10.590Z"
   },
   {
    "duration": 30,
    "start_time": "2021-07-16T06:53:39.541Z"
   },
   {
    "duration": 28,
    "start_time": "2021-07-16T07:07:32.615Z"
   },
   {
    "duration": 17373,
    "start_time": "2021-07-16T08:03:24.693Z"
   },
   {
    "duration": 8481,
    "start_time": "2021-07-16T08:05:39.832Z"
   },
   {
    "duration": 4,
    "start_time": "2021-07-16T08:06:38.810Z"
   },
   {
    "duration": 17818,
    "start_time": "2021-07-16T08:06:42.712Z"
   },
   {
    "duration": 25831,
    "start_time": "2021-07-16T08:13:45.018Z"
   },
   {
    "duration": 25646,
    "start_time": "2021-07-16T08:17:37.959Z"
   },
   {
    "duration": 25776,
    "start_time": "2021-07-16T08:18:37.975Z"
   },
   {
    "duration": 25668,
    "start_time": "2021-07-16T08:21:13.274Z"
   },
   {
    "duration": 26087,
    "start_time": "2021-07-16T08:28:48.459Z"
   },
   {
    "duration": 1308,
    "start_time": "2021-07-16T08:29:55.336Z"
   },
   {
    "duration": 11,
    "start_time": "2021-07-16T08:30:03.782Z"
   },
   {
    "duration": 332,
    "start_time": "2021-07-16T08:31:01.053Z"
   },
   {
    "duration": 318,
    "start_time": "2021-07-16T08:31:07.787Z"
   },
   {
    "duration": 13,
    "start_time": "2021-07-16T08:33:41.421Z"
   },
   {
    "duration": 1437,
    "start_time": "2021-07-16T08:34:34.267Z"
   },
   {
    "duration": 99,
    "start_time": "2021-07-16T08:36:38.003Z"
   },
   {
    "duration": 22,
    "start_time": "2021-07-16T08:36:56.678Z"
   },
   {
    "duration": 20,
    "start_time": "2021-07-16T08:37:11.859Z"
   },
   {
    "duration": 1750,
    "start_time": "2021-07-16T08:37:51.231Z"
   },
   {
    "duration": 622,
    "start_time": "2021-07-16T08:37:52.983Z"
   },
   {
    "duration": 970,
    "start_time": "2021-07-16T08:37:53.609Z"
   },
   {
    "duration": 9271,
    "start_time": "2021-07-16T08:37:54.583Z"
   },
   {
    "duration": 20,
    "start_time": "2021-07-16T08:38:03.856Z"
   },
   {
    "duration": 85,
    "start_time": "2021-07-16T08:38:03.879Z"
   },
   {
    "duration": 109,
    "start_time": "2021-07-16T08:38:03.967Z"
   },
   {
    "duration": 383,
    "start_time": "2021-07-16T08:38:04.078Z"
   },
   {
    "duration": 5,
    "start_time": "2021-07-16T08:38:04.465Z"
   },
   {
    "duration": 8,
    "start_time": "2021-07-16T08:38:04.473Z"
   },
   {
    "duration": 38,
    "start_time": "2021-07-16T08:38:04.483Z"
   },
   {
    "duration": 17389,
    "start_time": "2021-07-16T08:38:04.524Z"
   },
   {
    "duration": 1871,
    "start_time": "2021-07-16T13:59:12.955Z"
   },
   {
    "duration": 593,
    "start_time": "2021-07-16T13:59:14.829Z"
   },
   {
    "duration": 887,
    "start_time": "2021-07-16T13:59:15.425Z"
   },
   {
    "duration": 6836,
    "start_time": "2021-07-16T13:59:16.315Z"
   },
   {
    "duration": 27,
    "start_time": "2021-07-16T13:59:23.153Z"
   },
   {
    "duration": 53,
    "start_time": "2021-07-16T13:59:23.182Z"
   },
   {
    "duration": 74,
    "start_time": "2021-07-16T13:59:23.263Z"
   },
   {
    "duration": 531,
    "start_time": "2021-07-16T13:59:23.339Z"
   },
   {
    "duration": 8,
    "start_time": "2021-07-16T13:59:23.875Z"
   },
   {
    "duration": 15,
    "start_time": "2021-07-16T13:59:23.971Z"
   },
   {
    "duration": 47,
    "start_time": "2021-07-16T13:59:23.990Z"
   },
   {
    "duration": 22207,
    "start_time": "2021-07-16T13:59:24.040Z"
   },
   {
    "duration": 8942,
    "start_time": "2021-07-16T13:59:46.251Z"
   },
   {
    "duration": 2211,
    "start_time": "2021-07-16T14:00:47.324Z"
   },
   {
    "duration": 813,
    "start_time": "2021-07-16T14:00:49.539Z"
   },
   {
    "duration": 935,
    "start_time": "2021-07-16T14:00:50.364Z"
   },
   {
    "duration": 6933,
    "start_time": "2021-07-16T14:00:51.303Z"
   },
   {
    "duration": 31,
    "start_time": "2021-07-16T14:00:58.239Z"
   },
   {
    "duration": 64,
    "start_time": "2021-07-16T14:00:58.274Z"
   },
   {
    "duration": 106,
    "start_time": "2021-07-16T14:00:58.365Z"
   },
   {
    "duration": 205,
    "start_time": "2021-07-16T14:00:58.475Z"
   },
   {
    "duration": 7,
    "start_time": "2021-07-16T14:00:58.684Z"
   },
   {
    "duration": 69,
    "start_time": "2021-07-16T14:00:58.695Z"
   },
   {
    "duration": 46,
    "start_time": "2021-07-16T14:00:58.767Z"
   },
   {
    "duration": 21815,
    "start_time": "2021-07-16T14:00:58.815Z"
   },
   {
    "duration": 103,
    "start_time": "2021-07-16T14:13:06.265Z"
   },
   {
    "duration": 98,
    "start_time": "2021-07-16T14:13:28.689Z"
   },
   {
    "duration": 208,
    "start_time": "2021-07-16T14:13:49.882Z"
   },
   {
    "duration": 271,
    "start_time": "2021-07-16T14:13:56.063Z"
   },
   {
    "duration": 210,
    "start_time": "2021-07-16T14:14:36.309Z"
   },
   {
    "duration": 206,
    "start_time": "2021-07-16T14:14:49.493Z"
   },
   {
    "duration": 165,
    "start_time": "2021-07-16T14:15:19.674Z"
   },
   {
    "duration": 122,
    "start_time": "2021-07-16T14:16:34.031Z"
   },
   {
    "duration": 248,
    "start_time": "2021-07-16T14:16:49.796Z"
   },
   {
    "duration": 263,
    "start_time": "2021-07-16T14:17:52.721Z"
   },
   {
    "duration": 208,
    "start_time": "2021-07-16T14:18:56.397Z"
   },
   {
    "duration": 204,
    "start_time": "2021-07-16T14:20:44.068Z"
   },
   {
    "duration": 1530,
    "start_time": "2021-07-16T14:40:12.461Z"
   },
   {
    "duration": 83,
    "start_time": "2021-07-16T14:40:26.979Z"
   },
   {
    "duration": 143,
    "start_time": "2021-07-16T14:42:14.906Z"
   },
   {
    "duration": 146,
    "start_time": "2021-07-16T14:42:57.206Z"
   },
   {
    "duration": 139,
    "start_time": "2021-07-16T14:43:12.912Z"
   },
   {
    "duration": 192,
    "start_time": "2021-07-16T14:44:18.838Z"
   },
   {
    "duration": 152,
    "start_time": "2021-07-16T14:44:36.942Z"
   },
   {
    "duration": 383,
    "start_time": "2021-07-16T15:12:10.356Z"
   },
   {
    "duration": 141,
    "start_time": "2021-07-16T15:12:21.995Z"
   },
   {
    "duration": 1609,
    "start_time": "2021-07-16T16:06:37.774Z"
   },
   {
    "duration": 559,
    "start_time": "2021-07-16T16:06:39.386Z"
   },
   {
    "duration": 922,
    "start_time": "2021-07-16T16:06:39.948Z"
   },
   {
    "duration": 6261,
    "start_time": "2021-07-16T16:06:40.874Z"
   },
   {
    "duration": 32,
    "start_time": "2021-07-16T16:06:47.138Z"
   },
   {
    "duration": 51,
    "start_time": "2021-07-16T16:06:47.172Z"
   },
   {
    "duration": 189,
    "start_time": "2021-07-16T16:06:47.225Z"
   },
   {
    "duration": 348,
    "start_time": "2021-07-16T16:06:47.416Z"
   },
   {
    "duration": 94,
    "start_time": "2021-07-16T16:06:47.769Z"
   },
   {
    "duration": 10,
    "start_time": "2021-07-16T16:06:47.866Z"
   },
   {
    "duration": 39,
    "start_time": "2021-07-16T16:06:47.878Z"
   },
   {
    "duration": 16291,
    "start_time": "2021-07-16T16:06:47.919Z"
   },
   {
    "duration": 16411,
    "start_time": "2021-07-16T16:09:20.176Z"
   },
   {
    "duration": 1725,
    "start_time": "2021-07-16T16:09:55.065Z"
   },
   {
    "duration": 571,
    "start_time": "2021-07-16T16:09:56.793Z"
   },
   {
    "duration": 943,
    "start_time": "2021-07-16T16:09:57.367Z"
   },
   {
    "duration": 6191,
    "start_time": "2021-07-16T16:09:58.313Z"
   },
   {
    "duration": 17,
    "start_time": "2021-07-16T16:10:04.506Z"
   },
   {
    "duration": 82,
    "start_time": "2021-07-16T16:10:04.525Z"
   },
   {
    "duration": 183,
    "start_time": "2021-07-16T16:10:04.610Z"
   },
   {
    "duration": 473,
    "start_time": "2021-07-16T16:10:04.795Z"
   },
   {
    "duration": 4,
    "start_time": "2021-07-16T16:10:05.361Z"
   },
   {
    "duration": 20,
    "start_time": "2021-07-16T16:10:05.369Z"
   },
   {
    "duration": 55,
    "start_time": "2021-07-16T16:10:05.392Z"
   },
   {
    "duration": 25647,
    "start_time": "2021-07-16T16:10:05.451Z"
   },
   {
    "duration": 1695,
    "start_time": "2021-07-16T16:18:09.624Z"
   },
   {
    "duration": 550,
    "start_time": "2021-07-16T16:18:11.321Z"
   },
   {
    "duration": 863,
    "start_time": "2021-07-16T16:18:11.874Z"
   },
   {
    "duration": 6047,
    "start_time": "2021-07-16T16:18:12.761Z"
   },
   {
    "duration": 19,
    "start_time": "2021-07-16T16:18:18.810Z"
   },
   {
    "duration": 75,
    "start_time": "2021-07-16T16:18:18.832Z"
   },
   {
    "duration": 180,
    "start_time": "2021-07-16T16:18:18.909Z"
   },
   {
    "duration": 574,
    "start_time": "2021-07-16T16:18:19.092Z"
   },
   {
    "duration": 4,
    "start_time": "2021-07-16T16:18:19.670Z"
   },
   {
    "duration": 26,
    "start_time": "2021-07-16T16:18:19.676Z"
   },
   {
    "duration": 44,
    "start_time": "2021-07-16T16:18:19.704Z"
   },
   {
    "duration": 16743,
    "start_time": "2021-07-16T16:18:19.751Z"
   },
   {
    "duration": 2225,
    "start_time": "2021-07-17T09:53:14.955Z"
   },
   {
    "duration": 897,
    "start_time": "2021-07-17T09:53:17.184Z"
   },
   {
    "duration": 6995,
    "start_time": "2021-07-17T09:53:18.085Z"
   },
   {
    "duration": 6171,
    "start_time": "2021-07-17T09:53:25.083Z"
   },
   {
    "duration": 23,
    "start_time": "2021-07-17T09:53:31.261Z"
   },
   {
    "duration": 108,
    "start_time": "2021-07-17T09:53:31.287Z"
   },
   {
    "duration": 229,
    "start_time": "2021-07-17T09:53:31.398Z"
   },
   {
    "duration": 25,
    "start_time": "2021-07-17T09:53:36.393Z"
   },
   {
    "duration": 5,
    "start_time": "2021-07-17T09:57:32.513Z"
   }
  ],
  "kernelspec": {
   "display_name": "Python 3",
   "language": "python",
   "name": "python3"
  },
  "language_info": {
   "codemirror_mode": {
    "name": "ipython",
    "version": 3
   },
   "file_extension": ".py",
   "mimetype": "text/x-python",
   "name": "python",
   "nbconvert_exporter": "python",
   "pygments_lexer": "ipython3",
   "version": "3.8.8"
  },
  "toc": {
   "base_numbering": 1,
   "nav_menu": {},
   "number_sections": true,
   "sideBar": true,
   "skip_h1_title": true,
   "title_cell": "Table of Contents",
   "title_sidebar": "Contents",
   "toc_cell": false,
   "toc_position": {},
   "toc_section_display": true,
   "toc_window_display": false
  }
 },
 "nbformat": 4,
 "nbformat_minor": 2
}

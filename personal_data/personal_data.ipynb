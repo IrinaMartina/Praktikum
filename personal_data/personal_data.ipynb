{
 "cells": [
  {
   "cell_type": "markdown",
   "metadata": {
    "toc": true
   },
   "source": [
    "<h1>Содержание<span class=\"tocSkip\"></span></h1>\n",
    "<div class=\"toc\"><ul class=\"toc-item\"><li><span><a href=\"#Загрузка-данных\" data-toc-modified-id=\"Загрузка-данных-1\"><span class=\"toc-item-num\">1&nbsp;&nbsp;</span>Загрузка данных</a></span></li><li><span><a href=\"#Умножение-матриц\" data-toc-modified-id=\"Умножение-матриц-2\"><span class=\"toc-item-num\">2&nbsp;&nbsp;</span>Умножение матриц</a></span></li><li><span><a href=\"#Алгоритм-преобразования\" data-toc-modified-id=\"Алгоритм-преобразования-3\"><span class=\"toc-item-num\">3&nbsp;&nbsp;</span>Алгоритм преобразования</a></span></li><li><span><a href=\"#Проверка-алгоритма\" data-toc-modified-id=\"Проверка-алгоритма-4\"><span class=\"toc-item-num\">4&nbsp;&nbsp;</span>Проверка алгоритма</a></span></li><li><span><a href=\"#Вывод\" data-toc-modified-id=\"Вывод-5\"><span class=\"toc-item-num\">5&nbsp;&nbsp;</span>Вывод</a></span></li><li><span><a href=\"#Чек-лист-проверки\" data-toc-modified-id=\"Чек-лист-проверки-6\"><span class=\"toc-item-num\">6&nbsp;&nbsp;</span>Чек-лист проверки</a></span></li></ul></div>"
   ]
  },
  {
   "cell_type": "markdown",
   "metadata": {},
   "source": [
    "# Защита персональных данных клиентов"
   ]
  },
  {
   "cell_type": "markdown",
   "metadata": {},
   "source": [
    "Вам нужно защитить данные клиентов страховой компании «Хоть потоп». Разработайте такой метод преобразования данных, чтобы по ним было сложно восстановить персональную информацию. Обоснуйте корректность его работы.\n",
    "\n",
    "Нужно защитить данные, чтобы при преобразовании качество моделей машинного обучения не ухудшилось. Подбирать наилучшую модель не требуется."
   ]
  },
  {
   "cell_type": "code",
   "execution_count": 1,
   "metadata": {},
   "outputs": [],
   "source": [
    "import pandas as pd\n",
    "import numpy as np\n",
    "from sklearn.linear_model import LinearRegression\n",
    "from sklearn.metrics import r2_score"
   ]
  },
  {
   "cell_type": "markdown",
   "metadata": {},
   "source": [
    "## 1 Загрузка данных"
   ]
  },
  {
   "cell_type": "markdown",
   "metadata": {},
   "source": [
    "Загрузим данные и посмотрим на них."
   ]
  },
  {
   "cell_type": "code",
   "execution_count": 2,
   "metadata": {},
   "outputs": [
    {
     "data": {
      "text/html": [
       "<div>\n",
       "<style scoped>\n",
       "    .dataframe tbody tr th:only-of-type {\n",
       "        vertical-align: middle;\n",
       "    }\n",
       "\n",
       "    .dataframe tbody tr th {\n",
       "        vertical-align: top;\n",
       "    }\n",
       "\n",
       "    .dataframe thead th {\n",
       "        text-align: right;\n",
       "    }\n",
       "</style>\n",
       "<table border=\"1\" class=\"dataframe\">\n",
       "  <thead>\n",
       "    <tr style=\"text-align: right;\">\n",
       "      <th></th>\n",
       "      <th>Пол</th>\n",
       "      <th>Возраст</th>\n",
       "      <th>Зарплата</th>\n",
       "      <th>Члены семьи</th>\n",
       "      <th>Страховые выплаты</th>\n",
       "    </tr>\n",
       "  </thead>\n",
       "  <tbody>\n",
       "    <tr>\n",
       "      <td>0</td>\n",
       "      <td>1</td>\n",
       "      <td>41.0</td>\n",
       "      <td>49600.0</td>\n",
       "      <td>1</td>\n",
       "      <td>0</td>\n",
       "    </tr>\n",
       "    <tr>\n",
       "      <td>1</td>\n",
       "      <td>0</td>\n",
       "      <td>46.0</td>\n",
       "      <td>38000.0</td>\n",
       "      <td>1</td>\n",
       "      <td>1</td>\n",
       "    </tr>\n",
       "    <tr>\n",
       "      <td>2</td>\n",
       "      <td>0</td>\n",
       "      <td>29.0</td>\n",
       "      <td>21000.0</td>\n",
       "      <td>0</td>\n",
       "      <td>0</td>\n",
       "    </tr>\n",
       "    <tr>\n",
       "      <td>3</td>\n",
       "      <td>0</td>\n",
       "      <td>21.0</td>\n",
       "      <td>41700.0</td>\n",
       "      <td>2</td>\n",
       "      <td>0</td>\n",
       "    </tr>\n",
       "    <tr>\n",
       "      <td>4</td>\n",
       "      <td>1</td>\n",
       "      <td>28.0</td>\n",
       "      <td>26100.0</td>\n",
       "      <td>0</td>\n",
       "      <td>0</td>\n",
       "    </tr>\n",
       "  </tbody>\n",
       "</table>\n",
       "</div>"
      ],
      "text/plain": [
       "   Пол  Возраст  Зарплата  Члены семьи  Страховые выплаты\n",
       "0    1     41.0   49600.0            1                  0\n",
       "1    0     46.0   38000.0            1                  1\n",
       "2    0     29.0   21000.0            0                  0\n",
       "3    0     21.0   41700.0            2                  0\n",
       "4    1     28.0   26100.0            0                  0"
      ]
     },
     "execution_count": 2,
     "metadata": {},
     "output_type": "execute_result"
    }
   ],
   "source": [
    "data = pd.read_csv('/datasets/insurance.csv')\n",
    "data.head()"
   ]
  },
  {
   "cell_type": "code",
   "execution_count": 3,
   "metadata": {},
   "outputs": [
    {
     "name": "stdout",
     "output_type": "stream",
     "text": [
      "<class 'pandas.core.frame.DataFrame'>\n",
      "RangeIndex: 5000 entries, 0 to 4999\n",
      "Data columns (total 5 columns):\n",
      "Пол                  5000 non-null int64\n",
      "Возраст              5000 non-null float64\n",
      "Зарплата             5000 non-null float64\n",
      "Члены семьи          5000 non-null int64\n",
      "Страховые выплаты    5000 non-null int64\n",
      "dtypes: float64(2), int64(3)\n",
      "memory usage: 195.4 KB\n"
     ]
    }
   ],
   "source": [
    "data.info()"
   ]
  },
  {
   "cell_type": "markdown",
   "metadata": {},
   "source": [
    "Пропущенных значений нет. Тип данных столбцов \"Возраст\" и \"Зарплата\" определился как float. Возможно, по каким-то причинам в таблице появились нецелые значения. Если это не так, то преобразуем тип в int. Если найдутся дробные, посмотрим на них."
   ]
  },
  {
   "cell_type": "code",
   "execution_count": 4,
   "metadata": {},
   "outputs": [
    {
     "name": "stdout",
     "output_type": "stream",
     "text": [
      "<class 'pandas.core.frame.DataFrame'>\n",
      "RangeIndex: 5000 entries, 0 to 4999\n",
      "Data columns (total 5 columns):\n",
      "Пол                  5000 non-null int64\n",
      "Возраст              5000 non-null int64\n",
      "Зарплата             5000 non-null int64\n",
      "Члены семьи          5000 non-null int64\n",
      "Страховые выплаты    5000 non-null int64\n",
      "dtypes: int64(5)\n",
      "memory usage: 195.4 KB\n"
     ]
    }
   ],
   "source": [
    "def to_int (column_name):\n",
    "    if (abs(data[column_name] - np.round(data[column_name])) >= 0.1).sum() == 0: \n",
    "        #Количество строк, в которых после запятой не 0\n",
    "        \n",
    "        data[column_name] = data[column_name].astype('int')\n",
    "        \n",
    "to_int('Возраст')\n",
    "to_int('Зарплата')\n",
    "\n",
    "data.info()"
   ]
  },
  {
   "cell_type": "markdown",
   "metadata": {},
   "source": [
    "Дробных значений нет, тип данных преобразован."
   ]
  },
  {
   "cell_type": "code",
   "execution_count": 5,
   "metadata": {},
   "outputs": [
    {
     "data": {
      "text/html": [
       "<div>\n",
       "<style scoped>\n",
       "    .dataframe tbody tr th:only-of-type {\n",
       "        vertical-align: middle;\n",
       "    }\n",
       "\n",
       "    .dataframe tbody tr th {\n",
       "        vertical-align: top;\n",
       "    }\n",
       "\n",
       "    .dataframe thead th {\n",
       "        text-align: right;\n",
       "    }\n",
       "</style>\n",
       "<table border=\"1\" class=\"dataframe\">\n",
       "  <thead>\n",
       "    <tr style=\"text-align: right;\">\n",
       "      <th></th>\n",
       "      <th>Пол</th>\n",
       "      <th>Возраст</th>\n",
       "      <th>Зарплата</th>\n",
       "      <th>Члены семьи</th>\n",
       "      <th>Страховые выплаты</th>\n",
       "    </tr>\n",
       "  </thead>\n",
       "  <tbody>\n",
       "    <tr>\n",
       "      <td>count</td>\n",
       "      <td>5000.000000</td>\n",
       "      <td>5000.000000</td>\n",
       "      <td>5000.000000</td>\n",
       "      <td>5000.000000</td>\n",
       "      <td>5000.000000</td>\n",
       "    </tr>\n",
       "    <tr>\n",
       "      <td>mean</td>\n",
       "      <td>0.499000</td>\n",
       "      <td>30.952800</td>\n",
       "      <td>39916.359400</td>\n",
       "      <td>1.194200</td>\n",
       "      <td>0.148000</td>\n",
       "    </tr>\n",
       "    <tr>\n",
       "      <td>std</td>\n",
       "      <td>0.500049</td>\n",
       "      <td>8.440807</td>\n",
       "      <td>9900.082063</td>\n",
       "      <td>1.091387</td>\n",
       "      <td>0.463183</td>\n",
       "    </tr>\n",
       "    <tr>\n",
       "      <td>min</td>\n",
       "      <td>0.000000</td>\n",
       "      <td>18.000000</td>\n",
       "      <td>5300.000000</td>\n",
       "      <td>0.000000</td>\n",
       "      <td>0.000000</td>\n",
       "    </tr>\n",
       "    <tr>\n",
       "      <td>25%</td>\n",
       "      <td>0.000000</td>\n",
       "      <td>24.000000</td>\n",
       "      <td>33300.000000</td>\n",
       "      <td>0.000000</td>\n",
       "      <td>0.000000</td>\n",
       "    </tr>\n",
       "    <tr>\n",
       "      <td>50%</td>\n",
       "      <td>0.000000</td>\n",
       "      <td>30.000000</td>\n",
       "      <td>40200.000000</td>\n",
       "      <td>1.000000</td>\n",
       "      <td>0.000000</td>\n",
       "    </tr>\n",
       "    <tr>\n",
       "      <td>75%</td>\n",
       "      <td>1.000000</td>\n",
       "      <td>37.000000</td>\n",
       "      <td>46600.000000</td>\n",
       "      <td>2.000000</td>\n",
       "      <td>0.000000</td>\n",
       "    </tr>\n",
       "    <tr>\n",
       "      <td>max</td>\n",
       "      <td>1.000000</td>\n",
       "      <td>65.000000</td>\n",
       "      <td>79000.000000</td>\n",
       "      <td>6.000000</td>\n",
       "      <td>5.000000</td>\n",
       "    </tr>\n",
       "  </tbody>\n",
       "</table>\n",
       "</div>"
      ],
      "text/plain": [
       "               Пол      Возраст      Зарплата  Члены семьи  Страховые выплаты\n",
       "count  5000.000000  5000.000000   5000.000000  5000.000000        5000.000000\n",
       "mean      0.499000    30.952800  39916.359400     1.194200           0.148000\n",
       "std       0.500049     8.440807   9900.082063     1.091387           0.463183\n",
       "min       0.000000    18.000000   5300.000000     0.000000           0.000000\n",
       "25%       0.000000    24.000000  33300.000000     0.000000           0.000000\n",
       "50%       0.000000    30.000000  40200.000000     1.000000           0.000000\n",
       "75%       1.000000    37.000000  46600.000000     2.000000           0.000000\n",
       "max       1.000000    65.000000  79000.000000     6.000000           5.000000"
      ]
     },
     "execution_count": 5,
     "metadata": {},
     "output_type": "execute_result"
    }
   ],
   "source": [
    "data.describe()"
   ]
  },
  {
   "cell_type": "markdown",
   "metadata": {},
   "source": [
    "Отрицательных или неожиданно больших значений в таблице нет. Мужчин и женщин примерно поровну. Средние и медианные значения возраста и зарплат примерно равны, в данных нет ощутимого сдвига вправо или влево.\n",
    "\n",
    "**Вывод**\n",
    "\n",
    "Данные загружены и изучены. В таблице нет пропусков или неожиданных значений. \n",
    "\n",
    "Тип данных столбцов \"Возраст\" и \"Зарплата\" преобразован в int."
   ]
  },
  {
   "cell_type": "markdown",
   "metadata": {},
   "source": [
    "## 2 Умножение матриц"
   ]
  },
  {
   "cell_type": "markdown",
   "metadata": {},
   "source": [
    "Умножим матрицу признаков на обратимую матрицу и посмотрим, как это повлияет на предсказания линейной регрессии."
   ]
  },
  {
   "cell_type": "markdown",
   "metadata": {},
   "source": [
    "Обозначения:\n",
    "\n",
    "- $X$ — матрица признаков (нулевой столбец состоит из единиц)\n",
    "\n",
    "- $y$ — вектор целевого признака\n",
    "\n",
    "- $P$ — матрица, на которую умножаются признаки\n",
    "\n",
    "- $w$ — вектор весов линейной регрессии (нулевой элемент равен сдвигу)"
   ]
  },
  {
   "cell_type": "markdown",
   "metadata": {},
   "source": [
    "Предсказания:\n",
    "\n",
    "$$\n",
    "a = Xw\n",
    "$$\n",
    "\n",
    "Задача обучения:\n",
    "\n",
    "$$\n",
    "w = \\arg\\min_w MSE(Xw, y)\n",
    "$$\n",
    "\n",
    "Формула обучения:\n",
    "\n",
    "$$\n",
    "w = (X^T X)^{-1} X^T y\n",
    "$$"
   ]
  },
  {
   "cell_type": "markdown",
   "metadata": {},
   "source": [
    "После умножения $XP$ предсказания модели будут следующими: $a_{p} = XPw_{p}$, где $w_{p} = ((XP)^T XP)^{-1} (XP)^T y$. \n",
    "\n",
    "Подставим значение $w_{p}$ в формулу для расчёта предсказаний и преобразуем выражение с использованием свойств матриц:\n",
    "\n",
    "- $(AB)^T = B^T A^T$\n",
    "- $(AB)^{-1} = B^{-1} A^{-1}$\n",
    "\n",
    "$a_{p} = XP((XP)^T XP)^{-1} (XP)^T y = XP(P^T X^T XP)^{-1} P^T X^T y = XPP^{-1}(P^T X^T X)^{-1} P^T X^T y = XE(X^T X)^{-1} (P^T)^{-1} P^T X^T y = X(X^T X)^{-1} E X^T y = X(X^T X)^{-1} X^T y = Xw = a$"
   ]
  },
  {
   "cell_type": "markdown",
   "metadata": {},
   "source": [
    "После преобразования предсказания линейной регрессии не изменились."
   ]
  },
  {
   "cell_type": "markdown",
   "metadata": {},
   "source": [
    "**Ответ:** Если матрицу признаков $X$ умножить на обратимую матрицу $P$, качество линейной регрессии не изменится.\n",
    "\n",
    "$$w_{p} = P^{-1} (X^T X)^{-1} X^T y = P^{-1} w$$\n",
    "\n",
    "$$a_{p} = XPw_{p} = a$$\n",
    "\n",
    "**Обоснование:** Качество линейной регрессии определяется её предсказаниями. Если предсказания одинаковые, то и любые посчитанные метрики будут одинаковыми."
   ]
  },
  {
   "cell_type": "markdown",
   "metadata": {},
   "source": [
    "## 3 Алгоритм преобразования"
   ]
  },
  {
   "cell_type": "markdown",
   "metadata": {},
   "source": [
    "**Алгоритм**\n",
    "\n",
    "В нашей таблице четыре признака и 5000 объектов, плюс столбец с единицами - получается матрица $X$ имеет размер $5000\\times 5$.\n",
    "\n",
    "Создадим случайную обратимую матрицу $P_{5\\times 5}$ и умножим на неё $X$. Получившаяся матрица $XP$ будет того же размера, что и $X$.\n",
    "\n",
    "Если значение $P$ неизвестны, восстановить $X$ из $XP$ будет практически невозможно. При этом, зная $P$, достаточно умножить $XP$ на $P^{-1}$ для получения $X$."
   ]
  },
  {
   "cell_type": "markdown",
   "metadata": {},
   "source": [
    "**Обоснование**\n",
    "\n",
    "Как показано в разделе 2, умножение матрицы признаков на обратимую матрицу не влияет на качество линейной регрессии. Поэтому можно зашифровать $X$ с помощью случайно сгенерированной матрицы $P_{5\\times 5}$."
   ]
  },
  {
   "cell_type": "markdown",
   "metadata": {},
   "source": [
    "## 4 Проверка алгоритма"
   ]
  },
  {
   "cell_type": "markdown",
   "metadata": {},
   "source": [
    "Сохраним матрицу признаков и вектор целевого признака."
   ]
  },
  {
   "cell_type": "code",
   "execution_count": 6,
   "metadata": {},
   "outputs": [
    {
     "data": {
      "text/plain": [
       "(5000, 5)"
      ]
     },
     "execution_count": 6,
     "metadata": {},
     "output_type": "execute_result"
    }
   ],
   "source": [
    "X = data.drop('Страховые выплаты', axis=1).values\n",
    "X = np.concatenate((np.ones((X.shape[0], 1)), X), axis=1) #Добавляем столбец с единицами\n",
    "y = data['Страховые выплаты'].values\n",
    "\n",
    "X.shape"
   ]
  },
  {
   "cell_type": "markdown",
   "metadata": {},
   "source": [
    "Сгенерируем случайную обратимую матрицу $P_{5\\times 5}$ и сохраним значение $P^{-1}$ для восстановления $X$ при необходимости."
   ]
  },
  {
   "cell_type": "code",
   "execution_count": 7,
   "metadata": {},
   "outputs": [],
   "source": [
    "P_size = X.shape[1]\n",
    "\n",
    "np.random.seed(42)\n",
    "P = np.random.random((P_size, P_size))\n",
    "try:\n",
    "    P_1 = np.linalg.inv(P)\n",
    "except:\n",
    "    print('Невероятно! Сгенерировалась необратимая матрица!')"
   ]
  },
  {
   "cell_type": "markdown",
   "metadata": {},
   "source": [
    "Получим новую зашифрованную матрицу признаков."
   ]
  },
  {
   "cell_type": "code",
   "execution_count": 8,
   "metadata": {},
   "outputs": [
    {
     "data": {
      "text/plain": [
       "(5000, 5)"
      ]
     },
     "execution_count": 8,
     "metadata": {},
     "output_type": "execute_result"
    }
   ],
   "source": [
    "XP = X.dot(P)\n",
    "\n",
    "XP.shape"
   ]
  },
  {
   "cell_type": "markdown",
   "metadata": {},
   "source": [
    "Убедимся, что преобразование не повлияло на качество линейной регрессии. Обучим модель на исходных данных, а затем на преобразованных и сравним значения R2."
   ]
  },
  {
   "cell_type": "code",
   "execution_count": 9,
   "metadata": {},
   "outputs": [
    {
     "name": "stdout",
     "output_type": "stream",
     "text": [
      "До преобразования R2 = 0.425\n"
     ]
    }
   ],
   "source": [
    "model = LinearRegression()\n",
    "model.fit(X, y)\n",
    "print('До преобразования R2 = {:.3f}'.format(r2_score(y, model.predict(X))))"
   ]
  },
  {
   "cell_type": "code",
   "execution_count": 10,
   "metadata": {},
   "outputs": [
    {
     "name": "stdout",
     "output_type": "stream",
     "text": [
      "После преобразования R2 = 0.425\n"
     ]
    }
   ],
   "source": [
    "model.fit(XP, y)\n",
    "print('После преобразования R2 = {:.3f}'.format(r2_score(y, model.predict(XP))))"
   ]
  },
  {
   "cell_type": "markdown",
   "metadata": {},
   "source": [
    "Преобразование не повлияло на модель, данные успешно обезличены."
   ]
  },
  {
   "cell_type": "markdown",
   "metadata": {},
   "source": [
    "## 5 Вывод"
   ]
  },
  {
   "cell_type": "markdown",
   "metadata": {},
   "source": [
    "Данные загружены и проанализированы, типы данных преобразованы. \n",
    "\n",
    "Предложен алгоритм шифрования данных - умножение на случайную обратимую матрицу. Доказано, что такое преобразование не влияет на качество предсказаний линейной регрессии.\n",
    "\n",
    "Данные зашфрованы по предложенному алгоритму. Показано, что качество линейной регрессии после шифрования не изменилось."
   ]
  },
  {
   "cell_type": "markdown",
   "metadata": {},
   "source": [
    "## 6 Чек-лист проверки"
   ]
  },
  {
   "cell_type": "markdown",
   "metadata": {},
   "source": [
    "Поставьте 'x' в выполненных пунктах. Далее нажмите Shift+Enter."
   ]
  },
  {
   "cell_type": "markdown",
   "metadata": {},
   "source": [
    "- [x]  Jupyter Notebook открыт\n",
    "- [x]  Весь код выполняется без ошибок\n",
    "- [x]  Ячейки с кодом расположены в порядке исполнения\n",
    "- [x]  Выполнен шаг 1: данные загружены\n",
    "- [x]  Выполнен шаг 2: получен ответ на вопрос об умножении матриц\n",
    "    - [x]  Указан правильный вариант ответа\n",
    "    - [x]  Вариант обоснован\n",
    "- [x]  Выполнен шаг 3: предложен алгоритм преобразования\n",
    "    - [x]  Алгоритм описан\n",
    "    - [x]  Алгоритм обоснован\n",
    "- [x]  Выполнен шаг 4: алгоритм проверен\n",
    "    - [x]  Алгоритм реализован\n",
    "    - [x]  Проведено сравнение качества моделей до и после преобразования"
   ]
  },
  {
   "cell_type": "code",
   "execution_count": null,
   "metadata": {},
   "outputs": [],
   "source": []
  }
 ],
 "metadata": {
  "ExecuteTimeLog": [
   {
    "duration": 834,
    "start_time": "2021-08-11T06:35:22.388Z"
   },
   {
    "duration": 52,
    "start_time": "2021-08-11T06:36:07.195Z"
   },
   {
    "duration": 9,
    "start_time": "2021-08-11T06:36:35.555Z"
   },
   {
    "duration": 37,
    "start_time": "2021-08-11T06:37:17.743Z"
   },
   {
    "duration": 69,
    "start_time": "2021-08-11T06:42:33.219Z"
   },
   {
    "duration": 434,
    "start_time": "2021-08-11T06:49:07.361Z"
   },
   {
    "duration": 34,
    "start_time": "2021-08-11T06:49:20.694Z"
   },
   {
    "duration": 6,
    "start_time": "2021-08-11T08:12:18.064Z"
   },
   {
    "duration": 7,
    "start_time": "2021-08-11T08:12:20.453Z"
   },
   {
    "duration": 6,
    "start_time": "2021-08-11T08:12:40.627Z"
   },
   {
    "duration": 6,
    "start_time": "2021-08-11T08:12:46.677Z"
   },
   {
    "duration": 8,
    "start_time": "2021-08-11T08:15:10.220Z"
   },
   {
    "duration": 1387,
    "start_time": "2021-08-11T08:21:30.745Z"
   },
   {
    "duration": 4,
    "start_time": "2021-08-11T08:22:40.530Z"
   },
   {
    "duration": 6,
    "start_time": "2021-08-11T08:22:44.501Z"
   },
   {
    "duration": 5,
    "start_time": "2021-08-11T08:27:00.276Z"
   },
   {
    "duration": 6,
    "start_time": "2021-08-11T08:27:09.678Z"
   },
   {
    "duration": 346,
    "start_time": "2021-08-11T08:28:20.523Z"
   },
   {
    "duration": 6,
    "start_time": "2021-08-11T08:28:53.193Z"
   },
   {
    "duration": 5,
    "start_time": "2021-08-11T08:29:29.542Z"
   },
   {
    "duration": 6,
    "start_time": "2021-08-11T08:30:52.579Z"
   },
   {
    "duration": 355,
    "start_time": "2021-08-11T08:31:15.999Z"
   },
   {
    "duration": 6,
    "start_time": "2021-08-11T08:31:19.847Z"
   },
   {
    "duration": 118,
    "start_time": "2021-08-11T08:36:57.704Z"
   },
   {
    "duration": 595,
    "start_time": "2021-08-11T08:37:02.271Z"
   },
   {
    "duration": 9,
    "start_time": "2021-08-11T08:39:03.391Z"
   },
   {
    "duration": 9,
    "start_time": "2021-08-11T08:39:32.854Z"
   },
   {
    "duration": 1386,
    "start_time": "2021-08-11T08:44:39.285Z"
   },
   {
    "duration": 39,
    "start_time": "2021-08-11T08:44:40.674Z"
   },
   {
    "duration": 13,
    "start_time": "2021-08-11T08:44:40.722Z"
   },
   {
    "duration": 25,
    "start_time": "2021-08-11T08:44:40.738Z"
   },
   {
    "duration": 44,
    "start_time": "2021-08-11T08:44:40.766Z"
   },
   {
    "duration": 7,
    "start_time": "2021-08-11T08:44:40.813Z"
   },
   {
    "duration": 35,
    "start_time": "2021-08-11T08:44:40.823Z"
   },
   {
    "duration": 98,
    "start_time": "2021-08-11T08:44:40.862Z"
   },
   {
    "duration": 100,
    "start_time": "2021-08-11T08:44:40.964Z"
   },
   {
    "duration": 12,
    "start_time": "2021-08-11T08:44:41.156Z"
   },
   {
    "duration": 1348,
    "start_time": "2021-08-11T15:55:49.700Z"
   },
   {
    "duration": 37,
    "start_time": "2021-08-11T15:55:51.051Z"
   },
   {
    "duration": 11,
    "start_time": "2021-08-11T15:55:51.092Z"
   },
   {
    "duration": 20,
    "start_time": "2021-08-11T15:55:51.106Z"
   },
   {
    "duration": 68,
    "start_time": "2021-08-11T15:55:51.129Z"
   },
   {
    "duration": 9,
    "start_time": "2021-08-11T15:55:51.200Z"
   },
   {
    "duration": 8,
    "start_time": "2021-08-11T15:55:51.212Z"
   },
   {
    "duration": 99,
    "start_time": "2021-08-11T15:55:51.270Z"
   },
   {
    "duration": 97,
    "start_time": "2021-08-11T15:55:51.372Z"
   },
   {
    "duration": 99,
    "start_time": "2021-08-11T15:55:51.474Z"
   },
   {
    "duration": 1316,
    "start_time": "2021-08-11T16:46:34.056Z"
   },
   {
    "duration": 34,
    "start_time": "2021-08-11T16:46:35.374Z"
   },
   {
    "duration": 9,
    "start_time": "2021-08-11T16:46:35.410Z"
   },
   {
    "duration": 15,
    "start_time": "2021-08-11T16:46:35.422Z"
   },
   {
    "duration": 62,
    "start_time": "2021-08-11T16:46:35.439Z"
   },
   {
    "duration": 8,
    "start_time": "2021-08-11T16:46:35.503Z"
   },
   {
    "duration": 8,
    "start_time": "2021-08-11T16:46:35.513Z"
   },
   {
    "duration": 6,
    "start_time": "2021-08-11T16:46:38.748Z"
   },
   {
    "duration": 5,
    "start_time": "2021-08-11T16:46:41.805Z"
   },
   {
    "duration": 6,
    "start_time": "2021-08-11T16:46:45.172Z"
   },
   {
    "duration": 1268,
    "start_time": "2021-08-11T16:51:14.941Z"
   },
   {
    "duration": 33,
    "start_time": "2021-08-11T16:51:16.212Z"
   },
   {
    "duration": 9,
    "start_time": "2021-08-11T16:51:16.247Z"
   },
   {
    "duration": 31,
    "start_time": "2021-08-11T16:51:16.259Z"
   },
   {
    "duration": 32,
    "start_time": "2021-08-11T16:51:16.293Z"
   },
   {
    "duration": 7,
    "start_time": "2021-08-11T16:51:16.328Z"
   },
   {
    "duration": 45,
    "start_time": "2021-08-11T16:51:16.337Z"
   },
   {
    "duration": 5,
    "start_time": "2021-08-11T16:51:16.386Z"
   },
   {
    "duration": 288,
    "start_time": "2021-08-11T16:51:16.394Z"
   },
   {
    "duration": 10,
    "start_time": "2021-08-11T16:51:16.685Z"
   }
  ],
  "kernelspec": {
   "display_name": "Python 3",
   "language": "python",
   "name": "python3"
  },
  "language_info": {
   "codemirror_mode": {
    "name": "ipython",
    "version": 3
   },
   "file_extension": ".py",
   "mimetype": "text/x-python",
   "name": "python",
   "nbconvert_exporter": "python",
   "pygments_lexer": "ipython3",
   "version": "3.8.8"
  },
  "toc": {
   "base_numbering": 1,
   "nav_menu": {},
   "number_sections": true,
   "sideBar": true,
   "skip_h1_title": true,
   "title_cell": "Содержание",
   "title_sidebar": "Contents",
   "toc_cell": true,
   "toc_position": {},
   "toc_section_display": true,
   "toc_window_display": false
  }
 },
 "nbformat": 4,
 "nbformat_minor": 2
}

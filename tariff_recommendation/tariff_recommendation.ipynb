{
 "cells": [
  {
   "cell_type": "markdown",
   "metadata": {},
   "source": [
    "# Рекомендация тарифов"
   ]
  },
  {
   "cell_type": "markdown",
   "metadata": {},
   "source": [
    "В вашем распоряжении данные о поведении клиентов, которые уже перешли на эти тарифы (из проекта курса «Статистический анализ данных»). Нужно построить модель для задачи классификации, которая выберет подходящий тариф. Предобработка данных не понадобится — вы её уже сделали.\n",
    "\n",
    "Постройте модель с максимально большим значением *accuracy*. Чтобы сдать проект успешно, нужно довести долю правильных ответов по крайней мере до 0.75. Проверьте *accuracy* на тестовой выборке самостоятельно.\n",
    "\n",
    "**Описание данных**\n",
    "\n",
    "Каждый объект в наборе данных — это информация о поведении одного пользователя за месяц. Известно:\n",
    "- *сalls* — количество звонков,\n",
    "- *minutes* — суммарная длительность звонков в минутах,\n",
    "- *messages* — количество sms-сообщений,\n",
    "- *mb_used* — израсходованный интернет-трафик в Мб,\n",
    "- *is_ultra* — каким тарифом пользовался в течение месяца («Ультра» — 1, «Смарт» — 0)."
   ]
  },
  {
   "cell_type": "code",
   "execution_count": 1,
   "metadata": {},
   "outputs": [],
   "source": [
    "import pandas as pd\n",
    "import numpy as np\n",
    "\n",
    "from sklearn.model_selection import train_test_split\n",
    "from sklearn.tree import DecisionTreeClassifier\n",
    "from sklearn.ensemble import RandomForestClassifier\n",
    "from sklearn.linear_model import LogisticRegression\n",
    "from sklearn.metrics import accuracy_score"
   ]
  },
  {
   "cell_type": "markdown",
   "metadata": {},
   "source": [
    "## Откройте и изучите файл"
   ]
  },
  {
   "cell_type": "markdown",
   "metadata": {},
   "source": [
    "Загрузим данные и посмотрим на них. По заданию предобработка не нужна."
   ]
  },
  {
   "cell_type": "code",
   "execution_count": 2,
   "metadata": {},
   "outputs": [
    {
     "name": "stdout",
     "output_type": "stream",
     "text": [
      "<class 'pandas.core.frame.DataFrame'>\n",
      "RangeIndex: 3214 entries, 0 to 3213\n",
      "Data columns (total 5 columns):\n",
      " #   Column    Non-Null Count  Dtype  \n",
      "---  ------    --------------  -----  \n",
      " 0   calls     3214 non-null   float64\n",
      " 1   minutes   3214 non-null   float64\n",
      " 2   messages  3214 non-null   float64\n",
      " 3   mb_used   3214 non-null   float64\n",
      " 4   is_ultra  3214 non-null   int64  \n",
      "dtypes: float64(4), int64(1)\n",
      "memory usage: 125.7 KB\n"
     ]
    },
    {
     "data": {
      "text/html": [
       "<div>\n",
       "<style scoped>\n",
       "    .dataframe tbody tr th:only-of-type {\n",
       "        vertical-align: middle;\n",
       "    }\n",
       "\n",
       "    .dataframe tbody tr th {\n",
       "        vertical-align: top;\n",
       "    }\n",
       "\n",
       "    .dataframe thead th {\n",
       "        text-align: right;\n",
       "    }\n",
       "</style>\n",
       "<table border=\"1\" class=\"dataframe\">\n",
       "  <thead>\n",
       "    <tr style=\"text-align: right;\">\n",
       "      <th></th>\n",
       "      <th>calls</th>\n",
       "      <th>minutes</th>\n",
       "      <th>messages</th>\n",
       "      <th>mb_used</th>\n",
       "      <th>is_ultra</th>\n",
       "    </tr>\n",
       "  </thead>\n",
       "  <tbody>\n",
       "    <tr>\n",
       "      <th>0</th>\n",
       "      <td>40.0</td>\n",
       "      <td>311.90</td>\n",
       "      <td>83.0</td>\n",
       "      <td>19915.42</td>\n",
       "      <td>0</td>\n",
       "    </tr>\n",
       "    <tr>\n",
       "      <th>1</th>\n",
       "      <td>85.0</td>\n",
       "      <td>516.75</td>\n",
       "      <td>56.0</td>\n",
       "      <td>22696.96</td>\n",
       "      <td>0</td>\n",
       "    </tr>\n",
       "    <tr>\n",
       "      <th>2</th>\n",
       "      <td>77.0</td>\n",
       "      <td>467.66</td>\n",
       "      <td>86.0</td>\n",
       "      <td>21060.45</td>\n",
       "      <td>0</td>\n",
       "    </tr>\n",
       "    <tr>\n",
       "      <th>3</th>\n",
       "      <td>106.0</td>\n",
       "      <td>745.53</td>\n",
       "      <td>81.0</td>\n",
       "      <td>8437.39</td>\n",
       "      <td>1</td>\n",
       "    </tr>\n",
       "    <tr>\n",
       "      <th>4</th>\n",
       "      <td>66.0</td>\n",
       "      <td>418.74</td>\n",
       "      <td>1.0</td>\n",
       "      <td>14502.75</td>\n",
       "      <td>0</td>\n",
       "    </tr>\n",
       "  </tbody>\n",
       "</table>\n",
       "</div>"
      ],
      "text/plain": [
       "   calls  minutes  messages   mb_used  is_ultra\n",
       "0   40.0   311.90      83.0  19915.42         0\n",
       "1   85.0   516.75      56.0  22696.96         0\n",
       "2   77.0   467.66      86.0  21060.45         0\n",
       "3  106.0   745.53      81.0   8437.39         1\n",
       "4   66.0   418.74       1.0  14502.75         0"
      ]
     },
     "execution_count": 2,
     "metadata": {},
     "output_type": "execute_result"
    }
   ],
   "source": [
    "df = pd.read_csv('datasets/users_behavior.csv')\n",
    "df.info()\n",
    "df.head()"
   ]
  },
  {
   "cell_type": "markdown",
   "metadata": {},
   "source": [
    "Количество звонков и количество смс-сообщений по смыслу должно быть int. Преобразуем тип."
   ]
  },
  {
   "cell_type": "code",
   "execution_count": 3,
   "metadata": {},
   "outputs": [
    {
     "name": "stdout",
     "output_type": "stream",
     "text": [
      "<class 'pandas.core.frame.DataFrame'>\n",
      "RangeIndex: 3214 entries, 0 to 3213\n",
      "Data columns (total 5 columns):\n",
      " #   Column    Non-Null Count  Dtype  \n",
      "---  ------    --------------  -----  \n",
      " 0   calls     3214 non-null   int64  \n",
      " 1   minutes   3214 non-null   float64\n",
      " 2   messages  3214 non-null   int64  \n",
      " 3   mb_used   3214 non-null   float64\n",
      " 4   is_ultra  3214 non-null   int64  \n",
      "dtypes: float64(2), int64(3)\n",
      "memory usage: 125.7 KB\n"
     ]
    }
   ],
   "source": [
    "df['calls'] = df['calls'].astype('int')\n",
    "df['messages'] = df['messages'].astype('int')\n",
    "df.info()"
   ]
  },
  {
   "cell_type": "markdown",
   "metadata": {},
   "source": [
    "Посмотрим, какой процент объектов в датасете относится к пользователям тарифа \"Ультра\", т.е. значение is_ultra = 1. Для этого количество \"единиц\" нужно разделить на количество объектов. В данном случае количество \"единиц\" - это сумма значений столбца is_ultra. Сумма значений, делённая на их количество - по определению среднее арифметическое. "
   ]
  },
  {
   "cell_type": "code",
   "execution_count": 4,
   "metadata": {},
   "outputs": [
    {
     "name": "stdout",
     "output_type": "stream",
     "text": [
      "Процент объектов \"Ультра\" в датасете: 30.65%\n"
     ]
    }
   ],
   "source": [
    "print('Процент объектов \"Ультра\" в датасете: {:.2%}'.format(df['is_ultra'].mean()))"
   ]
  },
  {
   "cell_type": "markdown",
   "metadata": {},
   "source": [
    "**Вывод**\n",
    "\n",
    "Загружен датасет с 3214 объектами, из которых к тарифу \"Ультра\" относятся 30.65%. Тип данных столбцов calls и messages преобразован в int."
   ]
  },
  {
   "cell_type": "markdown",
   "metadata": {},
   "source": [
    "## Разбейте данные на выборки"
   ]
  },
  {
   "cell_type": "markdown",
   "metadata": {},
   "source": [
    "Разделим данные на обучающую, валидационную и тестовую выборки в соотношении 3:1:1. Функция train_test_split делит датасет только на две части, поэтому воспользуемся ей дважды: на первом шаге выделим 60% на обучающую часть, а на втором - разделим оставшиеся 40% пополам: на валидационную и тестовую выборки."
   ]
  },
  {
   "cell_type": "code",
   "execution_count": 5,
   "metadata": {},
   "outputs": [
    {
     "name": "stdout",
     "output_type": "stream",
     "text": [
      "Рамер обучающей выборки: (1928, 4) (1928,)\n",
      "Рамер валидационной выборки: (643, 4) (643,)\n",
      "Рамер тестовой выборки: (643, 4) (643,)\n",
      "\n",
      "Процент объектов \"Ультра\" в обучающей выборке: 30.76%\n",
      "Процент объектов \"Ультра\" в валидационной выборке: 30.64%\n",
      "Процент объектов \"Ультра\" в тестовой выборке: 30.33%\n"
     ]
    }
   ],
   "source": [
    "features = df.drop('is_ultra', axis=1)\n",
    "target = df['is_ultra']\n",
    "\n",
    "features_train, features_test, target_train, target_test = train_test_split(\n",
    "    features, target, test_size=0.4, random_state=42\n",
    ")\n",
    "features_valid, features_test, target_valid, target_test = train_test_split(\n",
    "    features_test, target_test, test_size=0.5, random_state=42\n",
    ")\n",
    "print('Рамер обучающей выборки:', features_train.shape, target_train.shape)\n",
    "print('Рамер валидационной выборки:', features_valid.shape, target_valid.shape)\n",
    "print('Рамер тестовой выборки:', features_test.shape, target_test.shape)\n",
    "print()\n",
    "print('Процент объектов \"Ультра\" в обучающей выборке: {:.2%}'.format(target_train.mean()))\n",
    "print('Процент объектов \"Ультра\" в валидационной выборке: {:.2%}'.format(target_valid.mean()))\n",
    "print('Процент объектов \"Ультра\" в тестовой выборке: {:.2%}'.format(target_test.mean()))"
   ]
  },
  {
   "cell_type": "markdown",
   "metadata": {},
   "source": [
    "**Вывод**\n",
    "\n",
    "Данные разделены на обучающую, валидационную и тестовую выборки, доля объектов с тарифом \"Ультра\" в которых сопоставима с долей таких объектов во всём датасете."
   ]
  },
  {
   "cell_type": "markdown",
   "metadata": {},
   "source": [
    "## Исследуйте модели"
   ]
  },
  {
   "cell_type": "markdown",
   "metadata": {},
   "source": [
    "В качестве первой модели рассмотрим решающее дерево. Переберём варианты глубины дерева от 1 до 10 и найдём лучшую модель - ту, у которой доля правильных ответов на валидационной выборке больше."
   ]
  },
  {
   "cell_type": "code",
   "execution_count": 6,
   "metadata": {},
   "outputs": [
    {
     "name": "stdout",
     "output_type": "stream",
     "text": [
      "Доля правильных ответов на валидационной выборке при решающем дереве: 0.80\n",
      "Глубина дерева: 8\n"
     ]
    }
   ],
   "source": [
    "accuracy_tree = 0\n",
    "\n",
    "for depth in range(1, 11):\n",
    "    model = DecisionTreeClassifier(max_depth = depth, random_state=42)\n",
    "    model.fit(features_train, target_train)\n",
    "    accuracy = model.score(features_valid, target_valid)\n",
    "    if accuracy > accuracy_tree:\n",
    "        model_tree = model\n",
    "        accuracy_tree = accuracy\n",
    "        depth_tree = depth\n",
    "        \n",
    "print(\n",
    "    'Доля правильных ответов на валидационной выборке при решающем дереве: {:.2f}'\n",
    "    .format(accuracy_tree)\n",
    ")\n",
    "print('Глубина дерева:', depth_tree)"
   ]
  },
  {
   "cell_type": "markdown",
   "metadata": {},
   "source": [
    "У дерева решений с глубиной 8 accuracy на валидационной выборке 0.8, что больше 0.75. Это хорошая модель, которую можно использовать. Но попробуем найти лучшее решение - используем модель случайного леса. Переберём 10 вариантов леса с количеством деревьев от 3 до 30 с шагом 3. Для каждого леса переберём варианты максимальной глубины дерева от 1 до 10. Итого это 100 моделей. Найдём, какая из них даст большую долю правильных ответов на валидационной выборке."
   ]
  },
  {
   "cell_type": "code",
   "execution_count": 7,
   "metadata": {},
   "outputs": [
    {
     "name": "stdout",
     "output_type": "stream",
     "text": [
      "Доля правильных ответов на валидационной выборке при случайном лесе: 0.82\n",
      "Количество деревьев в модели: 24\n",
      "Максимальная глубина дерева: 9\n"
     ]
    }
   ],
   "source": [
    "accuracy_forest = 0\n",
    "\n",
    "for estimators in range(3, 31, 3):\n",
    "    for depth in range(1, 11):\n",
    "        model = RandomForestClassifier(n_estimators = estimators, max_depth = depth, random_state=42)\n",
    "        model.fit(features_train, target_train)\n",
    "        accuracy = model.score(features_valid, target_valid)\n",
    "        if accuracy > accuracy_forest:\n",
    "            model_forest = model\n",
    "            accuracy_forest = accuracy\n",
    "            estimators_forest = estimators\n",
    "            depth_forest = depth\n",
    "            \n",
    "print(\n",
    "    'Доля правильных ответов на валидационной выборке при случайном лесе: {:.2f}'\n",
    "    .format(accuracy_forest)\n",
    ")\n",
    "print('Количество деревьев в модели:', estimators_forest)\n",
    "print('Максимальная глубина дерева:', depth_forest)"
   ]
  },
  {
   "cell_type": "markdown",
   "metadata": {},
   "source": [
    "Модель случайного леса с 24 дереьями показала лучшие результаты, чем модель с деревом решений. Рассмотрим логистическую регрессию. Возможно, она будет давать результаты не хуже, но работать быстрее."
   ]
  },
  {
   "cell_type": "code",
   "execution_count": 8,
   "metadata": {},
   "outputs": [
    {
     "name": "stdout",
     "output_type": "stream",
     "text": [
      "Доля правильных ответов на валидационной выборке при логистической регрессии: 0.72\n"
     ]
    }
   ],
   "source": [
    "model_regression = LogisticRegression(random_state=42, solver='liblinear')\n",
    "model_regression.fit(features_train, target_train)\n",
    "accuracy_regression = model_regression.score(features_valid, target_valid)\n",
    "print(\n",
    "    'Доля правильных ответов на валидационной выборке при логистической регрессии: {:.2f}'\n",
    "    .format(accuracy_regression)\n",
    ")"
   ]
  },
  {
   "cell_type": "markdown",
   "metadata": {},
   "source": [
    "У модели логистической регрессии accuracy на валидационной выборке меньше 0.75 - такая модель нам не подходит.\n",
    "\n",
    "**Вывод**\n",
    "\n",
    "Рассмотрены 10 моделей решающего дерева, 100 моделей случайного леса и модель логистической регрессии. Лучшие результаты показала модель случайного леса с 24 деревьями и максимальной глубиной дерева 9. На валидационной выборке accuracy = 0.82. Наихудшие показатели дала модель логистической регрессии: значение accuracy на валидационной выборке не преодолело планку 0.75."
   ]
  },
  {
   "cell_type": "markdown",
   "metadata": {},
   "source": [
    "## Проверьте модель на тестовой выборке"
   ]
  },
  {
   "cell_type": "markdown",
   "metadata": {},
   "source": [
    "Проверим, даёт ли выбранная модель такие же хорошие результаты на тестовой выборке."
   ]
  },
  {
   "cell_type": "code",
   "execution_count": 9,
   "metadata": {},
   "outputs": [
    {
     "name": "stdout",
     "output_type": "stream",
     "text": [
      "Доля правильных ответов на тестовой выборке при случайном лесе: 0.82\n"
     ]
    }
   ],
   "source": [
    "print(\n",
    "    'Доля правильных ответов на тестовой выборке при случайном лесе: {:.2f}'\n",
    "    .format(model_forest.score(features_test, target_test))\n",
    ")"
   ]
  },
  {
   "cell_type": "markdown",
   "metadata": {},
   "source": [
    "**Вывод**\n",
    "\n",
    "Модель model_forest показала себя на тестовой выборке так же хорошо, как и на валидационной."
   ]
  },
  {
   "cell_type": "markdown",
   "metadata": {},
   "source": [
    "## (бонус) Проверьте модели на адекватность"
   ]
  },
  {
   "cell_type": "markdown",
   "metadata": {},
   "source": [
    "Сравним accuracy нашей модели с долей правильных ответов, которые получались бы, если бы модель выбирала ответ случайно, а не опираясь на features. Т.к. модель обучалась на обучающей выборке, будем считать вероятность получить значение 1 (\"Ультра\") по target_train. Для этого количество \"единиц\" нужно разделить на общее количество объектов в обучающей выборке. В данном случае это равносильно вычислению среднего значения. Создадим объект Series того же размера, что и target_valid, и заполним его значениями 1 с вычисленной вероятностью - это будет предполагаемый прогноз модели, которая опиралась бы на случайный выбор. Сравним такое предсказание с target_valid и вычислим accuracy. Такой прогноз может отклоняться ближе и дальше от target_valid, поэтому повторим эксперимент со случайным предсказанием 100 раз и найдём средние значения."
   ]
  },
  {
   "cell_type": "code",
   "execution_count": 10,
   "metadata": {},
   "outputs": [
    {
     "name": "stdout",
     "output_type": "stream",
     "text": [
      "Средний процент объектов \"Ультра\" в валидационной выборке при случайном выборе: 30.46%\n",
      "Средняя доля правильных ответов на валидационной выборке при случайном выборе: 0.57\n"
     ]
    }
   ],
   "source": [
    "ultra_objects = 0\n",
    "accuracy_mean = 0\n",
    "\n",
    "p = np.full(len(target_valid), target_train.mean()) #p - вектор одинаковых вероятностей\n",
    "\n",
    "for _ in range(100):\n",
    "    predictions = pd.Series(np.random.binomial(1, p), index = target_valid.index)\n",
    "    ultra_objects += predictions.mean()\n",
    "    accuracy_mean += accuracy_score(target_valid, predictions)\n",
    "    \n",
    "ultra_objects /= 100\n",
    "accuracy_mean /= 100\n",
    "\n",
    "print(\n",
    "    'Средний процент объектов \"Ультра\" в валидационной выборке при случайном выборе: {:.2%}'\n",
    "    .format(ultra_objects)\n",
    ")\n",
    "print(\n",
    "    'Средняя доля правильных ответов на валидационной выборке при случайном выборе: {:.2f}'\n",
    "    .format(accuracy_mean)\n",
    ")"
   ]
  },
  {
   "cell_type": "markdown",
   "metadata": {},
   "source": [
    "**Вывод**\n",
    "\n",
    "При случайном выборе среднее значение accuracy приблизительно 57%. Можно считать нашу модель адекватной - она работает значительно лучше, чем случайность."
   ]
  },
  {
   "cell_type": "markdown",
   "metadata": {},
   "source": [
    "## Вывод"
   ]
  },
  {
   "cell_type": "markdown",
   "metadata": {},
   "source": [
    "Датасет, содержащий информацию о поведении клиентов и о тарифах, которыми они пользуются, был разделён на обучающую, валидационную и тестовую выборки в соотношении 3:1:1. На обучающей выборке было обучено 10 моделей решающего дерева, 100 моделей случайного леса и модель логистической регрессии. Лучшее значение доли правильных ответов (0.82) на валидационной выборке показала модель случайного леса с 24 деревьями и максимальной глубиной дерева 9. На тестовой выборке эта модель дала ту же долю правильных ответов, что и на валидационной. Также модель прошла проверку на адекватность: она даёт значительно больше правильных ответов, чем при случайном выборе тарифа."
   ]
  },
  {
   "cell_type": "markdown",
   "metadata": {},
   "source": [
    "## Чек-лист готовности проекта"
   ]
  },
  {
   "cell_type": "markdown",
   "metadata": {},
   "source": [
    "Поставьте 'x' в выполненных пунктах. Далее нажмите Shift+Enter."
   ]
  },
  {
   "cell_type": "markdown",
   "metadata": {},
   "source": [
    "- [x] Jupyter Notebook открыт\n",
    "- [x] Весь код исполняется без ошибок\n",
    "- [x] Ячейки с кодом расположены в порядке исполнения\n",
    "- [x] Выполнено задание 1: данные загружены и изучены\n",
    "- [x] Выполнено задание 2: данные разбиты на три выборки\n",
    "- [x] Выполнено задание 3: проведено исследование моделей\n",
    "    - [x] Рассмотрено больше одной модели\n",
    "    - [x] Рассмотрено хотя бы 3 значения гипепараметров для какой-нибудь модели\n",
    "    - [x] Написаны выводы по результатам исследования\n",
    "- [x] Выполнено задание 3: Проведено тестирование\n",
    "- [x] Удалось достичь accuracy не меньше 0.75\n"
   ]
  },
  {
   "cell_type": "code",
   "execution_count": null,
   "metadata": {},
   "outputs": [],
   "source": []
  }
 ],
 "metadata": {
  "ExecuteTimeLog": [
   {
    "duration": 798,
    "start_time": "2021-06-15T10:29:07.223Z"
   },
   {
    "duration": 2812,
    "start_time": "2021-06-15T10:29:44.579Z"
   },
   {
    "duration": 38,
    "start_time": "2021-06-15T10:30:14.653Z"
   },
   {
    "duration": 5,
    "start_time": "2021-06-15T10:32:39.806Z"
   },
   {
    "duration": 601,
    "start_time": "2021-06-15T10:44:10.770Z"
   },
   {
    "duration": 3177,
    "start_time": "2021-06-15T10:51:58.915Z"
   },
   {
    "duration": 21,
    "start_time": "2021-06-15T11:30:59.883Z"
   },
   {
    "duration": 9373,
    "start_time": "2021-06-15T11:33:01.579Z"
   },
   {
    "duration": 7,
    "start_time": "2021-06-15T11:33:16.509Z"
   },
   {
    "duration": 6,
    "start_time": "2021-06-15T11:33:27.617Z"
   },
   {
    "duration": 6,
    "start_time": "2021-06-15T11:33:34.850Z"
   },
   {
    "duration": 39,
    "start_time": "2021-06-15T11:35:18.823Z"
   },
   {
    "duration": 7,
    "start_time": "2021-06-15T11:39:59.783Z"
   },
   {
    "duration": 18,
    "start_time": "2021-06-15T11:45:02.223Z"
   },
   {
    "duration": 16,
    "start_time": "2021-06-15T11:45:47.460Z"
   },
   {
    "duration": 16,
    "start_time": "2021-06-15T11:50:56.451Z"
   },
   {
    "duration": 416,
    "start_time": "2021-06-15T11:51:56.193Z"
   },
   {
    "duration": 20,
    "start_time": "2021-06-15T11:52:05.278Z"
   },
   {
    "duration": 370,
    "start_time": "2021-06-15T11:58:08.068Z"
   },
   {
    "duration": 81,
    "start_time": "2021-06-15T11:58:21.638Z"
   },
   {
    "duration": 103,
    "start_time": "2021-06-15T11:58:49.373Z"
   },
   {
    "duration": 50,
    "start_time": "2021-06-15T11:59:29.893Z"
   },
   {
    "duration": 14,
    "start_time": "2021-06-15T12:01:13.272Z"
   },
   {
    "duration": 41797,
    "start_time": "2021-06-15T12:10:18.757Z"
   },
   {
    "duration": 6,
    "start_time": "2021-06-15T12:11:24.295Z"
   },
   {
    "duration": 20571,
    "start_time": "2021-06-15T12:11:52.017Z"
   },
   {
    "duration": 5,
    "start_time": "2021-06-15T12:12:22.413Z"
   },
   {
    "duration": 3722,
    "start_time": "2021-06-15T12:19:45.849Z"
   },
   {
    "duration": 4,
    "start_time": "2021-06-15T12:19:57.551Z"
   },
   {
    "duration": 1556,
    "start_time": "2021-06-15T12:20:20.784Z"
   },
   {
    "duration": 5,
    "start_time": "2021-06-15T12:20:25.481Z"
   },
   {
    "duration": 88,
    "start_time": "2021-06-15T12:20:40.999Z"
   },
   {
    "duration": 3821,
    "start_time": "2021-06-15T12:20:49.062Z"
   },
   {
    "duration": 5,
    "start_time": "2021-06-15T12:20:56.342Z"
   },
   {
    "duration": 23141,
    "start_time": "2021-06-15T12:21:37.877Z"
   },
   {
    "duration": 4,
    "start_time": "2021-06-15T12:22:05.534Z"
   },
   {
    "duration": 78,
    "start_time": "2021-06-15T12:22:51.411Z"
   },
   {
    "duration": 76,
    "start_time": "2021-06-15T12:23:03.548Z"
   },
   {
    "duration": 77,
    "start_time": "2021-06-15T12:24:06.409Z"
   },
   {
    "duration": 6895,
    "start_time": "2021-06-15T12:25:01.408Z"
   },
   {
    "duration": 5,
    "start_time": "2021-06-15T12:25:11.638Z"
   },
   {
    "duration": 7301,
    "start_time": "2021-06-15T12:25:30.198Z"
   },
   {
    "duration": 16385,
    "start_time": "2021-06-15T12:26:04.832Z"
   },
   {
    "duration": 3387,
    "start_time": "2021-06-15T12:27:27.259Z"
   },
   {
    "duration": 2803,
    "start_time": "2021-06-15T12:28:26.142Z"
   },
   {
    "duration": 7759,
    "start_time": "2021-06-15T12:30:10.998Z"
   },
   {
    "duration": 7390,
    "start_time": "2021-06-15T12:30:42.126Z"
   },
   {
    "duration": 16,
    "start_time": "2021-06-15T12:31:53.675Z"
   },
   {
    "duration": 15,
    "start_time": "2021-06-15T12:33:06.496Z"
   },
   {
    "duration": 15,
    "start_time": "2021-06-15T12:35:23.284Z"
   },
   {
    "duration": 7,
    "start_time": "2021-06-15T12:35:47.124Z"
   },
   {
    "duration": 7,
    "start_time": "2021-06-15T12:36:04.627Z"
   },
   {
    "duration": 18,
    "start_time": "2021-06-15T12:36:13.139Z"
   },
   {
    "duration": 6,
    "start_time": "2021-06-15T12:37:08.722Z"
   },
   {
    "duration": 7,
    "start_time": "2021-06-15T12:37:33.496Z"
   },
   {
    "duration": 7,
    "start_time": "2021-06-15T12:45:24.563Z"
   },
   {
    "duration": 19,
    "start_time": "2021-06-15T12:51:35.331Z"
   },
   {
    "duration": 5,
    "start_time": "2021-06-15T13:33:44.028Z"
   },
   {
    "duration": 6,
    "start_time": "2021-06-15T13:34:35.507Z"
   },
   {
    "duration": 121,
    "start_time": "2021-06-15T13:34:36.739Z"
   },
   {
    "duration": 6,
    "start_time": "2021-06-15T13:34:40.396Z"
   },
   {
    "duration": 6,
    "start_time": "2021-06-15T13:34:42.060Z"
   },
   {
    "duration": 6,
    "start_time": "2021-06-15T13:34:43.876Z"
   },
   {
    "duration": 6,
    "start_time": "2021-06-15T13:34:45.763Z"
   },
   {
    "duration": 424,
    "start_time": "2021-06-15T13:35:13.267Z"
   },
   {
    "duration": 7,
    "start_time": "2021-06-15T13:35:50.425Z"
   },
   {
    "duration": 6,
    "start_time": "2021-06-15T13:36:02.745Z"
   },
   {
    "duration": 7,
    "start_time": "2021-06-15T13:36:08.224Z"
   },
   {
    "duration": 400,
    "start_time": "2021-06-15T13:36:29.657Z"
   },
   {
    "duration": 5,
    "start_time": "2021-06-15T13:36:37.712Z"
   },
   {
    "duration": 355,
    "start_time": "2021-06-15T13:39:24.645Z"
   },
   {
    "duration": 6,
    "start_time": "2021-06-15T13:39:52.346Z"
   },
   {
    "duration": 8,
    "start_time": "2021-06-15T13:40:48.827Z"
   },
   {
    "duration": 339,
    "start_time": "2021-06-15T13:41:07.304Z"
   },
   {
    "duration": 7,
    "start_time": "2021-06-15T13:41:18.839Z"
   },
   {
    "duration": 7,
    "start_time": "2021-06-15T13:41:30.511Z"
   },
   {
    "duration": 334,
    "start_time": "2021-06-15T13:41:44.959Z"
   },
   {
    "duration": 7,
    "start_time": "2021-06-15T13:41:58.727Z"
   },
   {
    "duration": 311,
    "start_time": "2021-06-15T13:46:37.211Z"
   },
   {
    "duration": 8,
    "start_time": "2021-06-15T13:46:53.878Z"
   },
   {
    "duration": 9,
    "start_time": "2021-06-15T13:47:25.533Z"
   },
   {
    "duration": 334,
    "start_time": "2021-06-15T13:49:21.098Z"
   },
   {
    "duration": 330,
    "start_time": "2021-06-15T13:49:33.593Z"
   },
   {
    "duration": 8,
    "start_time": "2021-06-15T13:49:39.280Z"
   },
   {
    "duration": 7,
    "start_time": "2021-06-15T13:49:51.442Z"
   },
   {
    "duration": 6,
    "start_time": "2021-06-15T13:50:09.039Z"
   },
   {
    "duration": 7,
    "start_time": "2021-06-15T13:53:07.122Z"
   },
   {
    "duration": 300,
    "start_time": "2021-06-15T13:53:25.922Z"
   },
   {
    "duration": 7,
    "start_time": "2021-06-15T13:53:37.201Z"
   },
   {
    "duration": 5,
    "start_time": "2021-06-15T13:55:44.770Z"
   },
   {
    "duration": 7,
    "start_time": "2021-06-15T13:56:12.317Z"
   },
   {
    "duration": 5,
    "start_time": "2021-06-15T13:56:14.997Z"
   },
   {
    "duration": 1451,
    "start_time": "2021-06-15T14:03:41.812Z"
   },
   {
    "duration": 39,
    "start_time": "2021-06-15T14:03:43.266Z"
   },
   {
    "duration": 6,
    "start_time": "2021-06-15T14:03:43.311Z"
   },
   {
    "duration": 51,
    "start_time": "2021-06-15T14:03:43.320Z"
   },
   {
    "duration": 97,
    "start_time": "2021-06-15T14:03:43.374Z"
   },
   {
    "duration": 6956,
    "start_time": "2021-06-15T14:03:43.473Z"
   },
   {
    "duration": 30,
    "start_time": "2021-06-15T14:03:50.432Z"
   },
   {
    "duration": 13,
    "start_time": "2021-06-15T14:03:50.465Z"
   },
   {
    "duration": 7,
    "start_time": "2021-06-15T14:03:50.480Z"
   },
   {
    "duration": 14,
    "start_time": "2021-06-15T14:03:50.489Z"
   },
   {
    "duration": 303,
    "start_time": "2021-06-16T04:48:21.252Z"
   },
   {
    "duration": 1425,
    "start_time": "2021-06-16T04:48:25.395Z"
   },
   {
    "duration": 45,
    "start_time": "2021-06-16T04:48:31.817Z"
   },
   {
    "duration": 12,
    "start_time": "2021-06-16T04:50:38.618Z"
   },
   {
    "duration": 5,
    "start_time": "2021-06-16T05:02:29.900Z"
   },
   {
    "duration": 18,
    "start_time": "2021-06-16T06:23:11.344Z"
   },
   {
    "duration": 82,
    "start_time": "2021-06-16T06:32:51.951Z"
   },
   {
    "duration": 8411,
    "start_time": "2021-06-16T06:42:41.192Z"
   },
   {
    "duration": 16,
    "start_time": "2021-06-16T07:00:16.332Z"
   },
   {
    "duration": 7,
    "start_time": "2021-06-16T07:12:44.953Z"
   },
   {
    "duration": 5,
    "start_time": "2021-06-16T07:13:35.274Z"
   },
   {
    "duration": 1382,
    "start_time": "2021-06-16T07:27:06.013Z"
   },
   {
    "duration": 46,
    "start_time": "2021-06-16T07:27:07.397Z"
   },
   {
    "duration": 19,
    "start_time": "2021-06-16T07:27:07.446Z"
   },
   {
    "duration": 8,
    "start_time": "2021-06-16T07:27:07.467Z"
   },
   {
    "duration": 20,
    "start_time": "2021-06-16T07:27:07.477Z"
   },
   {
    "duration": 123,
    "start_time": "2021-06-16T07:27:07.500Z"
   },
   {
    "duration": 5785,
    "start_time": "2021-06-16T07:27:07.625Z"
   },
   {
    "duration": 41,
    "start_time": "2021-06-16T07:27:13.415Z"
   },
   {
    "duration": 16,
    "start_time": "2021-06-16T07:27:13.459Z"
   },
   {
    "duration": 8,
    "start_time": "2021-06-16T07:27:13.478Z"
   },
   {
    "duration": 6,
    "start_time": "2021-06-16T07:27:13.488Z"
   },
   {
    "duration": 23,
    "start_time": "2021-06-16T08:18:50.685Z"
   },
   {
    "duration": 68,
    "start_time": "2021-06-16T08:19:23.439Z"
   },
   {
    "duration": 70,
    "start_time": "2021-06-16T08:20:05.431Z"
   },
   {
    "duration": 21,
    "start_time": "2021-06-16T08:20:17.963Z"
   },
   {
    "duration": 1418,
    "start_time": "2021-06-16T08:20:33.563Z"
   },
   {
    "duration": 50,
    "start_time": "2021-06-16T08:20:34.983Z"
   },
   {
    "duration": 28,
    "start_time": "2021-06-16T08:20:35.036Z"
   },
   {
    "duration": 7,
    "start_time": "2021-06-16T08:20:35.068Z"
   },
   {
    "duration": 23,
    "start_time": "2021-06-16T08:20:35.078Z"
   },
   {
    "duration": 128,
    "start_time": "2021-06-16T08:20:35.105Z"
   },
   {
    "duration": 5637,
    "start_time": "2021-06-16T08:20:35.236Z"
   },
   {
    "duration": 16,
    "start_time": "2021-06-16T08:20:40.878Z"
   },
   {
    "duration": 12,
    "start_time": "2021-06-16T08:20:40.897Z"
   },
   {
    "duration": 46,
    "start_time": "2021-06-16T08:20:40.911Z"
   },
   {
    "duration": 7,
    "start_time": "2021-06-16T08:20:40.960Z"
   },
   {
    "duration": 1375,
    "start_time": "2021-06-16T08:25:07.681Z"
   },
   {
    "duration": 47,
    "start_time": "2021-06-16T08:25:09.058Z"
   },
   {
    "duration": 12,
    "start_time": "2021-06-16T08:25:09.108Z"
   },
   {
    "duration": 5,
    "start_time": "2021-06-16T08:25:09.123Z"
   },
   {
    "duration": 40,
    "start_time": "2021-06-16T08:25:09.130Z"
   },
   {
    "duration": 152,
    "start_time": "2021-06-16T08:25:09.173Z"
   },
   {
    "duration": 9055,
    "start_time": "2021-06-16T08:25:09.328Z"
   },
   {
    "duration": 21,
    "start_time": "2021-06-16T08:25:18.386Z"
   },
   {
    "duration": 50,
    "start_time": "2021-06-16T08:25:18.413Z"
   },
   {
    "duration": 9,
    "start_time": "2021-06-16T08:25:18.466Z"
   },
   {
    "duration": 11,
    "start_time": "2021-06-16T08:25:18.478Z"
   }
  ],
  "kernelspec": {
   "display_name": "Python 3",
   "language": "python",
   "name": "python3"
  },
  "language_info": {
   "codemirror_mode": {
    "name": "ipython",
    "version": 3
   },
   "file_extension": ".py",
   "mimetype": "text/x-python",
   "name": "python",
   "nbconvert_exporter": "python",
   "pygments_lexer": "ipython3",
   "version": "3.8.8"
  },
  "toc": {
   "base_numbering": 1,
   "nav_menu": {},
   "number_sections": true,
   "sideBar": true,
   "skip_h1_title": true,
   "title_cell": "Table of Contents",
   "title_sidebar": "Contents",
   "toc_cell": false,
   "toc_position": {},
   "toc_section_display": true,
   "toc_window_display": false
  }
 },
 "nbformat": 4,
 "nbformat_minor": 2
}
